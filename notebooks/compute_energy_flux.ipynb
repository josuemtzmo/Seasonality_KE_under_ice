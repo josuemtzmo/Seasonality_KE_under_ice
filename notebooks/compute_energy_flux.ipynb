{
 "cells": [
  {
   "cell_type": "code",
   "execution_count": 1,
   "id": "9c656de7",
   "metadata": {},
   "outputs": [],
   "source": [
    "import xarray as xr\n",
    "import numpy as np\n",
    "import matplotlib.pyplot as plt\n",
    "import gsw\n",
    "import cmocean as cm\n",
    "# import xrftd\n",
    "import matplotlib.colors as colors"
   ]
  },
  {
   "cell_type": "code",
   "execution_count": 2,
   "id": "6b1c6b31",
   "metadata": {},
   "outputs": [],
   "source": [
    "import nc_time_axis"
   ]
  },
  {
   "cell_type": "code",
   "execution_count": 3,
   "id": "f9796a7e",
   "metadata": {},
   "outputs": [
    {
     "data": {
      "text/html": [
       "<div>\n",
       "    <div style=\"width: 24px; height: 24px; background-color: #e1e1e1; border: 3px solid #9D9D9D; border-radius: 5px; position: absolute;\"> </div>\n",
       "    <div style=\"margin-left: 48px;\">\n",
       "        <h3 style=\"margin-bottom: 0px;\">Client</h3>\n",
       "        <p style=\"color: #9D9D9D; margin-bottom: 0px;\">Client-07fec478-2b3d-11f0-81cf-0cc47a3f6dd1</p>\n",
       "        <table style=\"width: 100%; text-align: left;\">\n",
       "\n",
       "        <tr>\n",
       "        \n",
       "            <td style=\"text-align: left;\"><strong>Connection method:</strong> Cluster object</td>\n",
       "            <td style=\"text-align: left;\"><strong>Cluster type:</strong> distributed.LocalCluster</td>\n",
       "        \n",
       "        </tr>\n",
       "\n",
       "        \n",
       "            <tr>\n",
       "                <td style=\"text-align: left;\">\n",
       "                    <strong>Dashboard: </strong> <a href=\"http://127.0.0.1:8787/status\" target=\"_blank\">http://127.0.0.1:8787/status</a>\n",
       "                </td>\n",
       "                <td style=\"text-align: left;\"></td>\n",
       "            </tr>\n",
       "        \n",
       "\n",
       "        </table>\n",
       "\n",
       "        \n",
       "\n",
       "        \n",
       "            <details>\n",
       "            <summary style=\"margin-bottom: 20px;\"><h3 style=\"display: inline;\">Cluster Info</h3></summary>\n",
       "            <div class=\"jp-RenderedHTMLCommon jp-RenderedHTML jp-mod-trusted jp-OutputArea-output\">\n",
       "    <div style=\"width: 24px; height: 24px; background-color: #e1e1e1; border: 3px solid #9D9D9D; border-radius: 5px; position: absolute;\">\n",
       "    </div>\n",
       "    <div style=\"margin-left: 48px;\">\n",
       "        <h3 style=\"margin-bottom: 0px; margin-top: 0px;\">LocalCluster</h3>\n",
       "        <p style=\"color: #9D9D9D; margin-bottom: 0px;\">d7937e72</p>\n",
       "        <table style=\"width: 100%; text-align: left;\">\n",
       "            <tr>\n",
       "                <td style=\"text-align: left;\">\n",
       "                    <strong>Dashboard:</strong> <a href=\"http://127.0.0.1:8787/status\" target=\"_blank\">http://127.0.0.1:8787/status</a>\n",
       "                </td>\n",
       "                <td style=\"text-align: left;\">\n",
       "                    <strong>Workers:</strong> 8\n",
       "                </td>\n",
       "            </tr>\n",
       "            <tr>\n",
       "                <td style=\"text-align: left;\">\n",
       "                    <strong>Total threads:</strong> 8\n",
       "                </td>\n",
       "                <td style=\"text-align: left;\">\n",
       "                    <strong>Total memory:</strong> 32.00 GiB\n",
       "                </td>\n",
       "            </tr>\n",
       "            \n",
       "            <tr>\n",
       "    <td style=\"text-align: left;\"><strong>Status:</strong> running</td>\n",
       "    <td style=\"text-align: left;\"><strong>Using processes:</strong> True</td>\n",
       "</tr>\n",
       "\n",
       "            \n",
       "        </table>\n",
       "\n",
       "        <details>\n",
       "            <summary style=\"margin-bottom: 20px;\">\n",
       "                <h3 style=\"display: inline;\">Scheduler Info</h3>\n",
       "            </summary>\n",
       "\n",
       "            <div style=\"\">\n",
       "    <div>\n",
       "        <div style=\"width: 24px; height: 24px; background-color: #FFF7E5; border: 3px solid #FF6132; border-radius: 5px; position: absolute;\"> </div>\n",
       "        <div style=\"margin-left: 48px;\">\n",
       "            <h3 style=\"margin-bottom: 0px;\">Scheduler</h3>\n",
       "            <p style=\"color: #9D9D9D; margin-bottom: 0px;\">Scheduler-b3af820e-7ea2-4467-a6de-5a71267232f3</p>\n",
       "            <table style=\"width: 100%; text-align: left;\">\n",
       "                <tr>\n",
       "                    <td style=\"text-align: left;\">\n",
       "                        <strong>Comm:</strong> tcp://127.0.0.1:40937\n",
       "                    </td>\n",
       "                    <td style=\"text-align: left;\">\n",
       "                        <strong>Workers:</strong> 8\n",
       "                    </td>\n",
       "                </tr>\n",
       "                <tr>\n",
       "                    <td style=\"text-align: left;\">\n",
       "                        <strong>Dashboard:</strong> <a href=\"http://127.0.0.1:8787/status\" target=\"_blank\">http://127.0.0.1:8787/status</a>\n",
       "                    </td>\n",
       "                    <td style=\"text-align: left;\">\n",
       "                        <strong>Total threads:</strong> 8\n",
       "                    </td>\n",
       "                </tr>\n",
       "                <tr>\n",
       "                    <td style=\"text-align: left;\">\n",
       "                        <strong>Started:</strong> Just now\n",
       "                    </td>\n",
       "                    <td style=\"text-align: left;\">\n",
       "                        <strong>Total memory:</strong> 32.00 GiB\n",
       "                    </td>\n",
       "                </tr>\n",
       "            </table>\n",
       "        </div>\n",
       "    </div>\n",
       "\n",
       "    <details style=\"margin-left: 48px;\">\n",
       "        <summary style=\"margin-bottom: 20px;\">\n",
       "            <h3 style=\"display: inline;\">Workers</h3>\n",
       "        </summary>\n",
       "\n",
       "        \n",
       "        <div style=\"margin-bottom: 20px;\">\n",
       "            <div style=\"width: 24px; height: 24px; background-color: #DBF5FF; border: 3px solid #4CC9FF; border-radius: 5px; position: absolute;\"> </div>\n",
       "            <div style=\"margin-left: 48px;\">\n",
       "            <details>\n",
       "                <summary>\n",
       "                    <h4 style=\"margin-bottom: 0px; display: inline;\">Worker: 0</h4>\n",
       "                </summary>\n",
       "                <table style=\"width: 100%; text-align: left;\">\n",
       "                    <tr>\n",
       "                        <td style=\"text-align: left;\">\n",
       "                            <strong>Comm: </strong> tcp://127.0.0.1:45052\n",
       "                        </td>\n",
       "                        <td style=\"text-align: left;\">\n",
       "                            <strong>Total threads: </strong> 1\n",
       "                        </td>\n",
       "                    </tr>\n",
       "                    <tr>\n",
       "                        <td style=\"text-align: left;\">\n",
       "                            <strong>Dashboard: </strong> <a href=\"http://127.0.0.1:48136/status\" target=\"_blank\">http://127.0.0.1:48136/status</a>\n",
       "                        </td>\n",
       "                        <td style=\"text-align: left;\">\n",
       "                            <strong>Memory: </strong> 4.00 GiB\n",
       "                        </td>\n",
       "                    </tr>\n",
       "                    <tr>\n",
       "                        <td style=\"text-align: left;\">\n",
       "                            <strong>Nanny: </strong> tcp://127.0.0.1:36847\n",
       "                        </td>\n",
       "                        <td style=\"text-align: left;\"></td>\n",
       "                    </tr>\n",
       "                    <tr>\n",
       "                        <td colspan=\"2\" style=\"text-align: left;\">\n",
       "                            <strong>Local directory: </strong> /home1/scratch/jmartine/tmp/dask-scratch-space/worker-ljmg27vx\n",
       "                        </td>\n",
       "                    </tr>\n",
       "\n",
       "                    \n",
       "\n",
       "                    \n",
       "\n",
       "                </table>\n",
       "            </details>\n",
       "            </div>\n",
       "        </div>\n",
       "        \n",
       "        <div style=\"margin-bottom: 20px;\">\n",
       "            <div style=\"width: 24px; height: 24px; background-color: #DBF5FF; border: 3px solid #4CC9FF; border-radius: 5px; position: absolute;\"> </div>\n",
       "            <div style=\"margin-left: 48px;\">\n",
       "            <details>\n",
       "                <summary>\n",
       "                    <h4 style=\"margin-bottom: 0px; display: inline;\">Worker: 1</h4>\n",
       "                </summary>\n",
       "                <table style=\"width: 100%; text-align: left;\">\n",
       "                    <tr>\n",
       "                        <td style=\"text-align: left;\">\n",
       "                            <strong>Comm: </strong> tcp://127.0.0.1:52007\n",
       "                        </td>\n",
       "                        <td style=\"text-align: left;\">\n",
       "                            <strong>Total threads: </strong> 1\n",
       "                        </td>\n",
       "                    </tr>\n",
       "                    <tr>\n",
       "                        <td style=\"text-align: left;\">\n",
       "                            <strong>Dashboard: </strong> <a href=\"http://127.0.0.1:34952/status\" target=\"_blank\">http://127.0.0.1:34952/status</a>\n",
       "                        </td>\n",
       "                        <td style=\"text-align: left;\">\n",
       "                            <strong>Memory: </strong> 4.00 GiB\n",
       "                        </td>\n",
       "                    </tr>\n",
       "                    <tr>\n",
       "                        <td style=\"text-align: left;\">\n",
       "                            <strong>Nanny: </strong> tcp://127.0.0.1:55776\n",
       "                        </td>\n",
       "                        <td style=\"text-align: left;\"></td>\n",
       "                    </tr>\n",
       "                    <tr>\n",
       "                        <td colspan=\"2\" style=\"text-align: left;\">\n",
       "                            <strong>Local directory: </strong> /home1/scratch/jmartine/tmp/dask-scratch-space/worker-nxqhi34k\n",
       "                        </td>\n",
       "                    </tr>\n",
       "\n",
       "                    \n",
       "\n",
       "                    \n",
       "\n",
       "                </table>\n",
       "            </details>\n",
       "            </div>\n",
       "        </div>\n",
       "        \n",
       "        <div style=\"margin-bottom: 20px;\">\n",
       "            <div style=\"width: 24px; height: 24px; background-color: #DBF5FF; border: 3px solid #4CC9FF; border-radius: 5px; position: absolute;\"> </div>\n",
       "            <div style=\"margin-left: 48px;\">\n",
       "            <details>\n",
       "                <summary>\n",
       "                    <h4 style=\"margin-bottom: 0px; display: inline;\">Worker: 2</h4>\n",
       "                </summary>\n",
       "                <table style=\"width: 100%; text-align: left;\">\n",
       "                    <tr>\n",
       "                        <td style=\"text-align: left;\">\n",
       "                            <strong>Comm: </strong> tcp://127.0.0.1:59157\n",
       "                        </td>\n",
       "                        <td style=\"text-align: left;\">\n",
       "                            <strong>Total threads: </strong> 1\n",
       "                        </td>\n",
       "                    </tr>\n",
       "                    <tr>\n",
       "                        <td style=\"text-align: left;\">\n",
       "                            <strong>Dashboard: </strong> <a href=\"http://127.0.0.1:35105/status\" target=\"_blank\">http://127.0.0.1:35105/status</a>\n",
       "                        </td>\n",
       "                        <td style=\"text-align: left;\">\n",
       "                            <strong>Memory: </strong> 4.00 GiB\n",
       "                        </td>\n",
       "                    </tr>\n",
       "                    <tr>\n",
       "                        <td style=\"text-align: left;\">\n",
       "                            <strong>Nanny: </strong> tcp://127.0.0.1:36702\n",
       "                        </td>\n",
       "                        <td style=\"text-align: left;\"></td>\n",
       "                    </tr>\n",
       "                    <tr>\n",
       "                        <td colspan=\"2\" style=\"text-align: left;\">\n",
       "                            <strong>Local directory: </strong> /home1/scratch/jmartine/tmp/dask-scratch-space/worker-gxtj182k\n",
       "                        </td>\n",
       "                    </tr>\n",
       "\n",
       "                    \n",
       "\n",
       "                    \n",
       "\n",
       "                </table>\n",
       "            </details>\n",
       "            </div>\n",
       "        </div>\n",
       "        \n",
       "        <div style=\"margin-bottom: 20px;\">\n",
       "            <div style=\"width: 24px; height: 24px; background-color: #DBF5FF; border: 3px solid #4CC9FF; border-radius: 5px; position: absolute;\"> </div>\n",
       "            <div style=\"margin-left: 48px;\">\n",
       "            <details>\n",
       "                <summary>\n",
       "                    <h4 style=\"margin-bottom: 0px; display: inline;\">Worker: 3</h4>\n",
       "                </summary>\n",
       "                <table style=\"width: 100%; text-align: left;\">\n",
       "                    <tr>\n",
       "                        <td style=\"text-align: left;\">\n",
       "                            <strong>Comm: </strong> tcp://127.0.0.1:56385\n",
       "                        </td>\n",
       "                        <td style=\"text-align: left;\">\n",
       "                            <strong>Total threads: </strong> 1\n",
       "                        </td>\n",
       "                    </tr>\n",
       "                    <tr>\n",
       "                        <td style=\"text-align: left;\">\n",
       "                            <strong>Dashboard: </strong> <a href=\"http://127.0.0.1:58006/status\" target=\"_blank\">http://127.0.0.1:58006/status</a>\n",
       "                        </td>\n",
       "                        <td style=\"text-align: left;\">\n",
       "                            <strong>Memory: </strong> 4.00 GiB\n",
       "                        </td>\n",
       "                    </tr>\n",
       "                    <tr>\n",
       "                        <td style=\"text-align: left;\">\n",
       "                            <strong>Nanny: </strong> tcp://127.0.0.1:42976\n",
       "                        </td>\n",
       "                        <td style=\"text-align: left;\"></td>\n",
       "                    </tr>\n",
       "                    <tr>\n",
       "                        <td colspan=\"2\" style=\"text-align: left;\">\n",
       "                            <strong>Local directory: </strong> /home1/scratch/jmartine/tmp/dask-scratch-space/worker-w8u09hsw\n",
       "                        </td>\n",
       "                    </tr>\n",
       "\n",
       "                    \n",
       "\n",
       "                    \n",
       "\n",
       "                </table>\n",
       "            </details>\n",
       "            </div>\n",
       "        </div>\n",
       "        \n",
       "        <div style=\"margin-bottom: 20px;\">\n",
       "            <div style=\"width: 24px; height: 24px; background-color: #DBF5FF; border: 3px solid #4CC9FF; border-radius: 5px; position: absolute;\"> </div>\n",
       "            <div style=\"margin-left: 48px;\">\n",
       "            <details>\n",
       "                <summary>\n",
       "                    <h4 style=\"margin-bottom: 0px; display: inline;\">Worker: 4</h4>\n",
       "                </summary>\n",
       "                <table style=\"width: 100%; text-align: left;\">\n",
       "                    <tr>\n",
       "                        <td style=\"text-align: left;\">\n",
       "                            <strong>Comm: </strong> tcp://127.0.0.1:51980\n",
       "                        </td>\n",
       "                        <td style=\"text-align: left;\">\n",
       "                            <strong>Total threads: </strong> 1\n",
       "                        </td>\n",
       "                    </tr>\n",
       "                    <tr>\n",
       "                        <td style=\"text-align: left;\">\n",
       "                            <strong>Dashboard: </strong> <a href=\"http://127.0.0.1:57575/status\" target=\"_blank\">http://127.0.0.1:57575/status</a>\n",
       "                        </td>\n",
       "                        <td style=\"text-align: left;\">\n",
       "                            <strong>Memory: </strong> 4.00 GiB\n",
       "                        </td>\n",
       "                    </tr>\n",
       "                    <tr>\n",
       "                        <td style=\"text-align: left;\">\n",
       "                            <strong>Nanny: </strong> tcp://127.0.0.1:43781\n",
       "                        </td>\n",
       "                        <td style=\"text-align: left;\"></td>\n",
       "                    </tr>\n",
       "                    <tr>\n",
       "                        <td colspan=\"2\" style=\"text-align: left;\">\n",
       "                            <strong>Local directory: </strong> /home1/scratch/jmartine/tmp/dask-scratch-space/worker-6gx6s8wy\n",
       "                        </td>\n",
       "                    </tr>\n",
       "\n",
       "                    \n",
       "\n",
       "                    \n",
       "\n",
       "                </table>\n",
       "            </details>\n",
       "            </div>\n",
       "        </div>\n",
       "        \n",
       "        <div style=\"margin-bottom: 20px;\">\n",
       "            <div style=\"width: 24px; height: 24px; background-color: #DBF5FF; border: 3px solid #4CC9FF; border-radius: 5px; position: absolute;\"> </div>\n",
       "            <div style=\"margin-left: 48px;\">\n",
       "            <details>\n",
       "                <summary>\n",
       "                    <h4 style=\"margin-bottom: 0px; display: inline;\">Worker: 5</h4>\n",
       "                </summary>\n",
       "                <table style=\"width: 100%; text-align: left;\">\n",
       "                    <tr>\n",
       "                        <td style=\"text-align: left;\">\n",
       "                            <strong>Comm: </strong> tcp://127.0.0.1:58192\n",
       "                        </td>\n",
       "                        <td style=\"text-align: left;\">\n",
       "                            <strong>Total threads: </strong> 1\n",
       "                        </td>\n",
       "                    </tr>\n",
       "                    <tr>\n",
       "                        <td style=\"text-align: left;\">\n",
       "                            <strong>Dashboard: </strong> <a href=\"http://127.0.0.1:36309/status\" target=\"_blank\">http://127.0.0.1:36309/status</a>\n",
       "                        </td>\n",
       "                        <td style=\"text-align: left;\">\n",
       "                            <strong>Memory: </strong> 4.00 GiB\n",
       "                        </td>\n",
       "                    </tr>\n",
       "                    <tr>\n",
       "                        <td style=\"text-align: left;\">\n",
       "                            <strong>Nanny: </strong> tcp://127.0.0.1:58929\n",
       "                        </td>\n",
       "                        <td style=\"text-align: left;\"></td>\n",
       "                    </tr>\n",
       "                    <tr>\n",
       "                        <td colspan=\"2\" style=\"text-align: left;\">\n",
       "                            <strong>Local directory: </strong> /home1/scratch/jmartine/tmp/dask-scratch-space/worker-pklwa41o\n",
       "                        </td>\n",
       "                    </tr>\n",
       "\n",
       "                    \n",
       "\n",
       "                    \n",
       "\n",
       "                </table>\n",
       "            </details>\n",
       "            </div>\n",
       "        </div>\n",
       "        \n",
       "        <div style=\"margin-bottom: 20px;\">\n",
       "            <div style=\"width: 24px; height: 24px; background-color: #DBF5FF; border: 3px solid #4CC9FF; border-radius: 5px; position: absolute;\"> </div>\n",
       "            <div style=\"margin-left: 48px;\">\n",
       "            <details>\n",
       "                <summary>\n",
       "                    <h4 style=\"margin-bottom: 0px; display: inline;\">Worker: 6</h4>\n",
       "                </summary>\n",
       "                <table style=\"width: 100%; text-align: left;\">\n",
       "                    <tr>\n",
       "                        <td style=\"text-align: left;\">\n",
       "                            <strong>Comm: </strong> tcp://127.0.0.1:44648\n",
       "                        </td>\n",
       "                        <td style=\"text-align: left;\">\n",
       "                            <strong>Total threads: </strong> 1\n",
       "                        </td>\n",
       "                    </tr>\n",
       "                    <tr>\n",
       "                        <td style=\"text-align: left;\">\n",
       "                            <strong>Dashboard: </strong> <a href=\"http://127.0.0.1:39637/status\" target=\"_blank\">http://127.0.0.1:39637/status</a>\n",
       "                        </td>\n",
       "                        <td style=\"text-align: left;\">\n",
       "                            <strong>Memory: </strong> 4.00 GiB\n",
       "                        </td>\n",
       "                    </tr>\n",
       "                    <tr>\n",
       "                        <td style=\"text-align: left;\">\n",
       "                            <strong>Nanny: </strong> tcp://127.0.0.1:34562\n",
       "                        </td>\n",
       "                        <td style=\"text-align: left;\"></td>\n",
       "                    </tr>\n",
       "                    <tr>\n",
       "                        <td colspan=\"2\" style=\"text-align: left;\">\n",
       "                            <strong>Local directory: </strong> /home1/scratch/jmartine/tmp/dask-scratch-space/worker-e241bkv5\n",
       "                        </td>\n",
       "                    </tr>\n",
       "\n",
       "                    \n",
       "\n",
       "                    \n",
       "\n",
       "                </table>\n",
       "            </details>\n",
       "            </div>\n",
       "        </div>\n",
       "        \n",
       "        <div style=\"margin-bottom: 20px;\">\n",
       "            <div style=\"width: 24px; height: 24px; background-color: #DBF5FF; border: 3px solid #4CC9FF; border-radius: 5px; position: absolute;\"> </div>\n",
       "            <div style=\"margin-left: 48px;\">\n",
       "            <details>\n",
       "                <summary>\n",
       "                    <h4 style=\"margin-bottom: 0px; display: inline;\">Worker: 7</h4>\n",
       "                </summary>\n",
       "                <table style=\"width: 100%; text-align: left;\">\n",
       "                    <tr>\n",
       "                        <td style=\"text-align: left;\">\n",
       "                            <strong>Comm: </strong> tcp://127.0.0.1:39955\n",
       "                        </td>\n",
       "                        <td style=\"text-align: left;\">\n",
       "                            <strong>Total threads: </strong> 1\n",
       "                        </td>\n",
       "                    </tr>\n",
       "                    <tr>\n",
       "                        <td style=\"text-align: left;\">\n",
       "                            <strong>Dashboard: </strong> <a href=\"http://127.0.0.1:36557/status\" target=\"_blank\">http://127.0.0.1:36557/status</a>\n",
       "                        </td>\n",
       "                        <td style=\"text-align: left;\">\n",
       "                            <strong>Memory: </strong> 4.00 GiB\n",
       "                        </td>\n",
       "                    </tr>\n",
       "                    <tr>\n",
       "                        <td style=\"text-align: left;\">\n",
       "                            <strong>Nanny: </strong> tcp://127.0.0.1:45447\n",
       "                        </td>\n",
       "                        <td style=\"text-align: left;\"></td>\n",
       "                    </tr>\n",
       "                    <tr>\n",
       "                        <td colspan=\"2\" style=\"text-align: left;\">\n",
       "                            <strong>Local directory: </strong> /home1/scratch/jmartine/tmp/dask-scratch-space/worker-69xghltf\n",
       "                        </td>\n",
       "                    </tr>\n",
       "\n",
       "                    \n",
       "\n",
       "                    \n",
       "\n",
       "                </table>\n",
       "            </details>\n",
       "            </div>\n",
       "        </div>\n",
       "        \n",
       "\n",
       "    </details>\n",
       "</div>\n",
       "\n",
       "        </details>\n",
       "    </div>\n",
       "</div>\n",
       "            </details>\n",
       "        \n",
       "\n",
       "    </div>\n",
       "</div>"
      ],
      "text/plain": [
       "<Client: 'tcp://127.0.0.1:40937' processes=8 threads=8, memory=32.00 GiB>"
      ]
     },
     "execution_count": 3,
     "metadata": {},
     "output_type": "execute_result"
    }
   ],
   "source": [
    "from dask.distributed import Client\n",
    "import dask\n",
    "import os\n",
    "\n",
    "# os.environ[\"MALLOC_TRIM_THRESHOLD_\"] = str(dask.config.get(\"distributed.nanny.environ.MALLOC_TRIM_THRESHOLD_\"))\n",
    "client =Client(n_workers=8, threads_per_worker=1, memory_limit=\"4 GiB\",local_directory=\"/home1/scratch/jmartine/tmp\")\n",
    "client"
   ]
  },
  {
   "cell_type": "code",
   "execution_count": 4,
   "id": "4884b491",
   "metadata": {},
   "outputs": [],
   "source": [
    "from utils import Import_Expt_Front, date_fmt"
   ]
  },
  {
   "cell_type": "code",
   "execution_count": 5,
   "id": "0301a0e8",
   "metadata": {},
   "outputs": [],
   "source": [
    "grid = xr.open_dataset('/home/datawork-lops-drakkarcom/SIMULATION-OUTPUTS/ICE-CHANEL/ice_canal_HR_output/GRID/domain_zgr_800x1200x50xr.nc').squeeze()"
   ]
  },
  {
   "cell_type": "code",
   "execution_count": 6,
   "id": "bb913861",
   "metadata": {},
   "outputs": [],
   "source": [
    "folder = '/home/datawork-lops-drakkarcom/SIMULATION-OUTPUTS/ICE-CHANEL/ice_canal_HR_output/'\n",
    "EXF = Import_Expt_Front(folder)"
   ]
  },
  {
   "cell_type": "code",
   "execution_count": 7,
   "id": "5db3e809",
   "metadata": {},
   "outputs": [],
   "source": [
    "exp_filter = ['expt_001','expt_002','expt_003','expt_004','expt_005','expt_007','expt_008','expt_009','expt_010','expt_250m_test']"
   ]
  },
  {
   "cell_type": "code",
   "execution_count": 8,
   "id": "1b03cc69",
   "metadata": {},
   "outputs": [],
   "source": [
    "dataset_velu_1d_all = EXF.import_multipe_expt('grid_U',vars_of_interest=['uoce'],expt_filter=exp_filter,freq='1d',chunks={'time_counter':1}).sel(time_counter=\"0002\")"
   ]
  },
  {
   "cell_type": "code",
   "execution_count": 9,
   "id": "2772bff6",
   "metadata": {},
   "outputs": [],
   "source": [
    "dataset_velv_1d_all = EXF.import_multipe_expt('grid_V',vars_of_interest=['voce'],expt_filter=exp_filter,freq='1d',chunks={'time_counter':1}).sel(time_counter=\"0002\")"
   ]
  },
  {
   "cell_type": "code",
   "execution_count": 10,
   "id": "f755cb63",
   "metadata": {},
   "outputs": [],
   "source": [
    "dataset_velw_1d_all = EXF.import_multipe_expt('grid_W',vars_of_interest=['woce'],expt_filter=exp_filter,freq='1d',chunks={'time_counter':1}).sel(time_counter=\"0002\")"
   ]
  },
  {
   "cell_type": "code",
   "execution_count": 11,
   "id": "dd5c1ce1",
   "metadata": {},
   "outputs": [],
   "source": [
    "import numpy.fft as fft"
   ]
  },
  {
   "cell_type": "code",
   "execution_count": 12,
   "id": "ade30a0d",
   "metadata": {},
   "outputs": [],
   "source": [
    "grid = xr.open_dataset('/home/datawork-lops-drakkarcom/SIMULATION-OUTPUTS/ICE-CHANEL/ice_canal_HR_output/GRID/domain_zgr_800x1200x50xr.nc').squeeze()"
   ]
  },
  {
   "cell_type": "code",
   "execution_count": 13,
   "id": "764247e6",
   "metadata": {},
   "outputs": [],
   "source": [
    "x = grid.x_coord.isel(y=slice(200,1000))*1000\n",
    "y = grid.y_coord.isel(y=slice(200,1000))*1000"
   ]
  },
  {
   "cell_type": "code",
   "execution_count": 14,
   "id": "77cf9fa3",
   "metadata": {},
   "outputs": [],
   "source": [
    "u = dataset_velu_1d_all.uoce_006.isel(depthu=0,time_counter=0).isel(y=slice(200,1000))\n",
    "v = dataset_velv_1d_all.voce_006.isel(depthv=0,time_counter=0).isel(y=slice(200,1000))"
   ]
  },
  {
   "cell_type": "code",
   "execution_count": 15,
   "id": "26cce693",
   "metadata": {},
   "outputs": [],
   "source": [
    "## See https://github.com/adekunleoajayi/powerspec for more info\n",
    "\n",
    "def _wavenumber_vector(x,y,Ni,Nj):\n",
    "    ''' Compute a wavenumber vector  '''\n",
    "    # - obtain dx and dy\n",
    "    x1dreg,y1dreg = x[0,:],y[:,0]\n",
    "    dx=int(np.ceil(x1dreg[1]-x1dreg[0]))\n",
    "    dy=int(np.ceil(y1dreg[1]-y1dreg[0]))\n",
    "    \n",
    "    kx = np.fft.fftfreq(Ni,dx) # two sided\n",
    "    ky = np.fft.fftfreq(Nj,dy)\n",
    "    Kmax = max(kx.max(), ky.max())\n",
    "    \n",
    "    k, l = np.meshgrid(kx,ky)\n",
    "    wavnum2D = np.sqrt(k**2 + l**2)\n",
    "    \n",
    "    # radial wavenumber\n",
    "    ddk = 1./(dx*Ni)\n",
    "    ddl = 1./(dy*Nj)\n",
    "    \n",
    "    dK = max(ddk,ddl)\n",
    "    wavnum1D = dK*np.arange(1,int(Kmax/dK))\n",
    "    return wavnum1D,wavnum2D,kx,ky,dx,dy\n",
    "\n",
    "def _get_grad_uv_in_fourier_space(u,v,kx,ky,Ni,Nj):\n",
    "    ''' gradient of u and v in spectral space\n",
    "        return dudx,dudy,dvdx,dvdy\n",
    "        '''\n",
    "    dudx = np.real(np.fft.ifft2(np.fft.fft2(u)*(1j*kx*2*np.pi)[None, :]));\n",
    "    dudy = np.real(np.fft.ifft2(np.fft.fft2(u)*(1j*ky*2*np.pi)[:, None]));\n",
    "    dvdx = np.real(np.fft.ifft2(np.fft.fft2(v)*(1j*kx*2*np.pi)[None, :]));\n",
    "    dvdy = np.real(np.fft.ifft2(np.fft.fft2(v)*(1j*ky*2*np.pi)[:, None]));\n",
    "    return dudx,dudy,dvdx,dvdy\n",
    "\n",
    "def _get_transfer1D(wavnum2D,wavnum1D,spec_2D):\n",
    "    ''' Compute KE Transfer'''\n",
    "    transfer = np.zeros(len(wavnum1D))\n",
    "    for i in range(wavnum1D.size):\n",
    "        kfilt =  ((wavnum1D[i] - wavnum1D[0]) <= wavnum2D) & (wavnum2D <= wavnum1D[i])\n",
    "#         print(kfilt)\n",
    "        transfer[i] = (spec_2D[kfilt]).sum()\n",
    "    return transfer\n",
    "\n",
    "\n",
    "\n",
    "def spectra_flux(u,v,x,y):\n",
    "    '''This fuctions implement the computation of kinetic energy spectral flux.\n",
    "        flux = \\int^{ks}_{k} u ....\n",
    "        \n",
    "        Input\n",
    "            _u : Two dimensional zonal velocity dataset.\n",
    "            _v : Two dimensional meriodinal velocity dataset.\n",
    "            navlon : Longitude\n",
    "            navlat : Latitude\n",
    "            window : None , 'Hanning' or 'Tukey' : (tappered consine window with /apha = 0.5).\n",
    "            detrend :\n",
    "                \"both\" : detrend the 2D data along both axes.\n",
    "                \"zonal\" : detrend the data in the zonal direction only\n",
    "                \"RemoveMean\" : Remove only the mean of the data\n",
    "                \"RmeanDtrend\" : Remove the mean then detrend the data in both direction\n",
    "                None : use the raw data\n",
    "        Return\n",
    "            wavenumber : Horizontal wavenumber\n",
    "            flux : kinetic energy spectral flux\n",
    "        '''\n",
    "    Nj,Ni = u.shape                                             # Get data shape\n",
    "    wavenumber,wavenumber_2D,kx,ky,dx,dy = _wavenumber_vector(x,y,Ni,Nj)\n",
    "    dudx,dudy,dvdx,dvdy = _get_grad_uv_in_fourier_space(u,v,kx,ky,Ni,Nj) # Get gradient of u and v\n",
    "    # - compute terms\n",
    "    phi1 = u*dudx + v*dudy\n",
    "    phi2 = u*dvdx + v*dvdy\n",
    "    # - compute FFT\n",
    "    tm1 = (fft.fft2(u).conj())*fft.fft2(phi1)\n",
    "    tm2 = (fft.fft2(v).conj())*fft.fft2(phi2)\n",
    "    \n",
    "    transfer_2D = -1*np.real(tm1 + tm2)/np.square(Ni*Nj) # - KE transfer\n",
    "    transfer_1D = _get_transfer1D(wavenumber_2D,wavenumber,transfer_2D) # Get 1D transfer : assume isotropy\n",
    "    flux = np.cumsum(transfer_1D[::-1])[::-1] # - Get flux\n",
    "    return wavenumber,flux\n",
    "\n",
    "\n",
    "def grad_uv_dz(u,v):\n",
    "    dudz = u.diff('depthu')/u.depthu.diff('depthu')\n",
    "    dvdz = v.diff('depthu')/v.depthu.diff('depthu')\n",
    "    return dudz, dvdz\n",
    "\n",
    "def spectra_flux_1D(u3D,v3D,w3D,x,y,zloc=0):\n",
    "    '''This fuctions implement the computation of kinetic energy spectral flux.\n",
    "        flux = \\int^{ks}_{k} u ....\n",
    "        \n",
    "        Input\n",
    "            _u : Two dimensional zonal velocity dataset.\n",
    "            _v : Two dimensional meriodinal velocity dataset.\n",
    "            navlon : Longitude\n",
    "            navlat : Latitude\n",
    "            window : None , 'Hanning' or 'Tukey' : (tappered consine window with /apha = 0.5).\n",
    "            detrend :\n",
    "                \"both\" : detrend the 2D data along both axes.\n",
    "                \"zonal\" : detrend the data in the zonal direction only\n",
    "                \"RemoveMean\" : Remove only the mean of the data\n",
    "                \"RmeanDtrend\" : Remove the mean then detrend the data in both direction\n",
    "                None : use the raw data\n",
    "        Return\n",
    "            wavenumber : Horizontal wavenumber\n",
    "            flux : kinetic energy spectral flux\n",
    "        '''\n",
    "    u = u3D.isel(depthu=zloc)\n",
    "    v3D = v3D.rename({\"depthv\":\"depthu\"})\n",
    "    v = v3D.isel(depthu=zloc)\n",
    "    w3D_interp = w3D.interp(depthw=u3D.depthu)\n",
    "    w = w3D_interp.isel(depthu=zloc)\n",
    "    \n",
    "    Nj,Ni = u.shape                                             # Get data shape\n",
    "    wavenumber,wavenumber_2D,kx,ky,dx,dy = _wavenumber_vector(x,y,Ni,Nj)\n",
    "    dudx,dudy,dvdx,dvdy = _get_grad_uv_in_fourier_space(u,v,kx,ky,Ni,Nj) # Get gradient of u and v\n",
    "    dudz,dvdz = grad_uv_dz(u3D,v3D)\n",
    "    # - compute terms\n",
    "    phi1 = u*dudx + v*dudy #+ w*dudz.isel(depthu=zloc)\n",
    "    phi2 = u*dvdx + v*dvdy #+ w*dvdz.isel(depthu=zloc)\n",
    "    # - compute FFT\n",
    "    tm1 = (fft.fft(u,axis=1).conj())*fft.fft(phi1,axis=1)\n",
    "    tm2 = (fft.fft(v,axis=1).conj())*fft.fft(phi2,axis=1)\n",
    "    \n",
    "    transfer_2D = -1*np.real(tm1 + tm2)/np.square(Ni) # - KE transfer\n",
    "    transfer_1D = transfer_2D[:,:len(wavenumber)]\n",
    "    flux = np.cumsum(transfer_1D[:, ::-1],axis=1)[:, ::-1] # - Get flux\n",
    "    return wavenumber,flux"
   ]
  },
  {
   "cell_type": "code",
   "execution_count": 16,
   "id": "0b2c8214",
   "metadata": {},
   "outputs": [],
   "source": [
    "u = dataset_velu_1d_all.uoce_006.isel(time_counter=0).isel(y=slice(200,1000))\n",
    "v = dataset_velv_1d_all.voce_006.isel(time_counter=0).isel(y=slice(200,1000))\n",
    "w = dataset_velw_1d_all.woce_006.isel(time_counter=0).isel(y=slice(200,1000))"
   ]
  },
  {
   "cell_type": "code",
   "execution_count": 17,
   "id": "cd409ff5",
   "metadata": {},
   "outputs": [
    {
     "name": "stderr",
     "output_type": "stream",
     "text": [
      "/home1/datahome/jmartine/datawork/conda-env/jupyter-lab/lib/python3.10/site-packages/distributed/client.py:3141: UserWarning: Sending large graph of size 9.78 MiB.\n",
      "This may cause some slowdown.\n",
      "Consider scattering data ahead of time and using futures.\n",
      "  warnings.warn(\n",
      "/home1/datahome/jmartine/datawork/conda-env/jupyter-lab/lib/python3.10/site-packages/distributed/client.py:3141: UserWarning: Sending large graph of size 9.78 MiB.\n",
      "This may cause some slowdown.\n",
      "Consider scattering data ahead of time and using futures.\n",
      "  warnings.warn(\n"
     ]
    }
   ],
   "source": [
    "wavenumber, flux_1d = spectra_flux_1D(u,v,w,x,y,zloc=0)\n",
    "u = dataset_velu_1d_all.uoce_006.isel(depthu=0,time_counter=0).isel(y=slice(200,1000))\n",
    "v = dataset_velv_1d_all.voce_006.isel(depthv=0,time_counter=0).isel(y=slice(200,1000))\n",
    "wavenumber, flux_2d = spectra_flux(u,v,x,y)"
   ]
  },
  {
   "cell_type": "code",
   "execution_count": 18,
   "id": "1af1ab1a",
   "metadata": {},
   "outputs": [],
   "source": [
    "m_flux =np.mean(flux_1d,axis=0)"
   ]
  },
  {
   "cell_type": "code",
   "execution_count": 19,
   "id": "131eb77a",
   "metadata": {},
   "outputs": [
    {
     "data": {
      "image/png": "[encoded data removed]",
      "text/plain": [
       "<Figure size 640x480 with 2 Axes>"
      ]
     },
     "metadata": {},
     "output_type": "display_data"
    }
   ],
   "source": [
    "fig,ax=plt.subplots(1,2)\n",
    "ax[0].plot(wavenumber, m_flux)\n",
    "ax[1].plot(wavenumber, flux_2d)\n",
    "ax[0].grid()\n",
    "ax[1].grid()"
   ]
  },
  {
   "cell_type": "code",
   "execution_count": 20,
   "id": "d931e3ea",
   "metadata": {},
   "outputs": [
    {
     "name": "stderr",
     "output_type": "stream",
     "text": [
      "/home1/datahome/jmartine/datawork/conda-env/jupyter-lab/lib/python3.10/site-packages/distributed/client.py:3141: UserWarning: Sending large graph of size 9.78 MiB.\n",
      "This may cause some slowdown.\n",
      "Consider scattering data ahead of time and using futures.\n",
      "  warnings.warn(\n"
     ]
    }
   ],
   "source": [
    "wavenumber, flux = spectra_flux(u,v,x,y)\n"
   ]
  },
  {
   "cell_type": "code",
   "execution_count": 21,
   "id": "e9aa8cf1",
   "metadata": {},
   "outputs": [
    {
     "data": {
      "text/plain": [
       "<matplotlib.legend.Legend at 0x2aabb5567c10>"
      ]
     },
     "execution_count": 21,
     "metadata": {},
     "output_type": "execute_result"
    },
    {
     "data": {
      "image/png": "[encoded data removed]",
      "text/plain": [
       "<Figure size 640x480 with 1 Axes>"
      ]
     },
     "metadata": {},
     "output_type": "display_data"
    }
   ],
   "source": [
    "plt.plot(wavenumber*1000,flux,label=\"15-Dec\")\n",
    "\n",
    "plt.legend()"
   ]
  },
  {
   "cell_type": "code",
   "execution_count": 22,
   "id": "b0a4255c",
   "metadata": {},
   "outputs": [
    {
     "name": "stderr",
     "output_type": "stream",
     "text": [
      "/home1/datahome/jmartine/datawork/conda-env/jupyter-lab/lib/python3.10/site-packages/distributed/client.py:3141: UserWarning: Sending large graph of size 9.78 MiB.\n",
      "This may cause some slowdown.\n",
      "Consider scattering data ahead of time and using futures.\n",
      "  warnings.warn(\n"
     ]
    }
   ],
   "source": [
    "u = dataset_velu_1d_all.uoce_006.isel(time_counter=0).isel(y=slice(200,1000))\n",
    "v = dataset_velv_1d_all.voce_006.isel(time_counter=0).isel(y=slice(200,1000))\n",
    "w = dataset_velw_1d_all.woce_006.isel(time_counter=0).isel(y=slice(200,1000))\n",
    "\n",
    "wavenumber, flux = spectra_flux_1D(u,v,w,x,y,zloc=0)\n",
    "m_flux =np.mean(flux_1d,axis=0)\n",
    "std_flux =np.std(flux_1d,axis=0)"
   ]
  },
  {
   "cell_type": "code",
   "execution_count": 23,
   "id": "3387d8ed",
   "metadata": {},
   "outputs": [
    {
     "data": {
      "text/plain": [
       "(800, 398)"
      ]
     },
     "execution_count": 23,
     "metadata": {},
     "output_type": "execute_result"
    }
   ],
   "source": [
    "flux.shape"
   ]
  },
  {
   "cell_type": "code",
   "execution_count": 24,
   "id": "fc1e827a",
   "metadata": {},
   "outputs": [
    {
     "data": {
      "text/plain": [
       "<matplotlib.legend.Legend at 0x2aabb5ae6650>"
      ]
     },
     "execution_count": 24,
     "metadata": {},
     "output_type": "execute_result"
    },
    {
     "data": {
      "image/png": "[encoded data removed]",
      "text/plain": [
       "<Figure size 640x480 with 1 Axes>"
      ]
     },
     "metadata": {},
     "output_type": "display_data"
    }
   ],
   "source": [
    "plt.plot(wavenumber*1000,m_flux,label=\"15-Dec\")\n",
    "plt.plot(wavenumber*1000,m_flux+std_flux,label=\"15-Dec\")\n",
    "plt.plot(wavenumber*1000,m_flux-std_flux,label=\"15-Dec\")\n",
    "\n",
    "plt.legend()"
   ]
  },
  {
   "cell_type": "code",
   "execution_count": 25,
   "id": "81e8f165",
   "metadata": {},
   "outputs": [
    {
     "data": {
      "text/plain": [
       "<matplotlib.legend.Legend at 0x2aabb6138b50>"
      ]
     },
     "execution_count": 25,
     "metadata": {},
     "output_type": "execute_result"
    },
    {
     "data": {
      "image/png": "[encoded data removed]",
      "text/plain": [
       "<Figure size 640x480 with 1 Axes>"
      ]
     },
     "metadata": {},
     "output_type": "display_data"
    }
   ],
   "source": [
    "plt.plot(wavenumber*1000,m_flux,label=\"15-Dec\")\n",
    "plt.plot(wavenumber*1000,m_flux+std_flux,label=\"15-Dec\")\n",
    "plt.plot(wavenumber*1000,m_flux-std_flux,label=\"15-Dec\")\n",
    "\n",
    "plt.legend()"
   ]
  },
  {
   "cell_type": "code",
   "execution_count": 34,
   "id": "6ca1f009",
   "metadata": {
    "collapsed": true,
    "jupyter": {
     "outputs_hidden": true
    },
    "tags": []
   },
   "outputs": [
    {
     "name": "stdout",
     "output_type": "stream",
     "text": [
      "0\n"
     ]
    },
    {
     "name": "stderr",
     "output_type": "stream",
     "text": [
      "/home1/datahome/jmartine/datawork/conda-env/jupyter-lab/lib/python3.10/site-packages/distributed/client.py:3141: UserWarning: Sending large graph of size 12.23 MiB.\n",
      "This may cause some slowdown.\n",
      "Consider scattering data ahead of time and using futures.\n",
      "  warnings.warn(\n"
     ]
    },
    {
     "name": "stdout",
     "output_type": "stream",
     "text": [
      "1\n"
     ]
    },
    {
     "name": "stderr",
     "output_type": "stream",
     "text": [
      "/home1/datahome/jmartine/datawork/conda-env/jupyter-lab/lib/python3.10/site-packages/distributed/client.py:3141: UserWarning: Sending large graph of size 12.23 MiB.\n",
      "This may cause some slowdown.\n",
      "Consider scattering data ahead of time and using futures.\n",
      "  warnings.warn(\n"
     ]
    },
    {
     "name": "stdout",
     "output_type": "stream",
     "text": [
      "2\n"
     ]
    },
    {
     "name": "stderr",
     "output_type": "stream",
     "text": [
      "/home1/datahome/jmartine/datawork/conda-env/jupyter-lab/lib/python3.10/site-packages/distributed/client.py:3141: UserWarning: Sending large graph of size 12.23 MiB.\n",
      "This may cause some slowdown.\n",
      "Consider scattering data ahead of time and using futures.\n",
      "  warnings.warn(\n"
     ]
    },
    {
     "name": "stdout",
     "output_type": "stream",
     "text": [
      "3\n"
     ]
    },
    {
     "name": "stderr",
     "output_type": "stream",
     "text": [
      "/home1/datahome/jmartine/datawork/conda-env/jupyter-lab/lib/python3.10/site-packages/distributed/client.py:3141: UserWarning: Sending large graph of size 12.23 MiB.\n",
      "This may cause some slowdown.\n",
      "Consider scattering data ahead of time and using futures.\n",
      "  warnings.warn(\n"
     ]
    },
    {
     "name": "stdout",
     "output_type": "stream",
     "text": [
      "4\n"
     ]
    },
    {
     "name": "stderr",
     "output_type": "stream",
     "text": [
      "/home1/datahome/jmartine/datawork/conda-env/jupyter-lab/lib/python3.10/site-packages/distributed/client.py:3141: UserWarning: Sending large graph of size 12.23 MiB.\n",
      "This may cause some slowdown.\n",
      "Consider scattering data ahead of time and using futures.\n",
      "  warnings.warn(\n"
     ]
    },
    {
     "name": "stdout",
     "output_type": "stream",
     "text": [
      "5\n"
     ]
    },
    {
     "name": "stderr",
     "output_type": "stream",
     "text": [
      "/home1/datahome/jmartine/datawork/conda-env/jupyter-lab/lib/python3.10/site-packages/distributed/client.py:3141: UserWarning: Sending large graph of size 12.23 MiB.\n",
      "This may cause some slowdown.\n",
      "Consider scattering data ahead of time and using futures.\n",
      "  warnings.warn(\n"
     ]
    },
    {
     "name": "stdout",
     "output_type": "stream",
     "text": [
      "6\n"
     ]
    },
    {
     "name": "stderr",
     "output_type": "stream",
     "text": [
      "/home1/datahome/jmartine/datawork/conda-env/jupyter-lab/lib/python3.10/site-packages/distributed/client.py:3141: UserWarning: Sending large graph of size 12.23 MiB.\n",
      "This may cause some slowdown.\n",
      "Consider scattering data ahead of time and using futures.\n",
      "  warnings.warn(\n"
     ]
    },
    {
     "name": "stdout",
     "output_type": "stream",
     "text": [
      "7\n"
     ]
    },
    {
     "name": "stderr",
     "output_type": "stream",
     "text": [
      "/home1/datahome/jmartine/datawork/conda-env/jupyter-lab/lib/python3.10/site-packages/distributed/client.py:3141: UserWarning: Sending large graph of size 12.23 MiB.\n",
      "This may cause some slowdown.\n",
      "Consider scattering data ahead of time and using futures.\n",
      "  warnings.warn(\n"
     ]
    },
    {
     "name": "stdout",
     "output_type": "stream",
     "text": [
      "8\n"
     ]
    },
    {
     "name": "stderr",
     "output_type": "stream",
     "text": [
      "/home1/datahome/jmartine/datawork/conda-env/jupyter-lab/lib/python3.10/site-packages/distributed/client.py:3141: UserWarning: Sending large graph of size 12.23 MiB.\n",
      "This may cause some slowdown.\n",
      "Consider scattering data ahead of time and using futures.\n",
      "  warnings.warn(\n"
     ]
    },
    {
     "name": "stdout",
     "output_type": "stream",
     "text": [
      "9\n"
     ]
    },
    {
     "name": "stderr",
     "output_type": "stream",
     "text": [
      "/home1/datahome/jmartine/datawork/conda-env/jupyter-lab/lib/python3.10/site-packages/distributed/client.py:3141: UserWarning: Sending large graph of size 12.23 MiB.\n",
      "This may cause some slowdown.\n",
      "Consider scattering data ahead of time and using futures.\n",
      "  warnings.warn(\n"
     ]
    },
    {
     "name": "stdout",
     "output_type": "stream",
     "text": [
      "10\n"
     ]
    },
    {
     "name": "stderr",
     "output_type": "stream",
     "text": [
      "/home1/datahome/jmartine/datawork/conda-env/jupyter-lab/lib/python3.10/site-packages/distributed/client.py:3141: UserWarning: Sending large graph of size 12.23 MiB.\n",
      "This may cause some slowdown.\n",
      "Consider scattering data ahead of time and using futures.\n",
      "  warnings.warn(\n"
     ]
    },
    {
     "name": "stdout",
     "output_type": "stream",
     "text": [
      "11\n"
     ]
    },
    {
     "name": "stderr",
     "output_type": "stream",
     "text": [
      "/home1/datahome/jmartine/datawork/conda-env/jupyter-lab/lib/python3.10/site-packages/distributed/client.py:3141: UserWarning: Sending large graph of size 12.23 MiB.\n",
      "This may cause some slowdown.\n",
      "Consider scattering data ahead of time and using futures.\n",
      "  warnings.warn(\n"
     ]
    },
    {
     "name": "stdout",
     "output_type": "stream",
     "text": [
      "12\n"
     ]
    },
    {
     "name": "stderr",
     "output_type": "stream",
     "text": [
      "/home1/datahome/jmartine/datawork/conda-env/jupyter-lab/lib/python3.10/site-packages/distributed/client.py:3141: UserWarning: Sending large graph of size 12.23 MiB.\n",
      "This may cause some slowdown.\n",
      "Consider scattering data ahead of time and using futures.\n",
      "  warnings.warn(\n"
     ]
    },
    {
     "name": "stdout",
     "output_type": "stream",
     "text": [
      "13\n"
     ]
    },
    {
     "name": "stderr",
     "output_type": "stream",
     "text": [
      "/home1/datahome/jmartine/datawork/conda-env/jupyter-lab/lib/python3.10/site-packages/distributed/client.py:3141: UserWarning: Sending large graph of size 12.23 MiB.\n",
      "This may cause some slowdown.\n",
      "Consider scattering data ahead of time and using futures.\n",
      "  warnings.warn(\n"
     ]
    },
    {
     "name": "stdout",
     "output_type": "stream",
     "text": [
      "14\n"
     ]
    },
    {
     "name": "stderr",
     "output_type": "stream",
     "text": [
      "/home1/datahome/jmartine/datawork/conda-env/jupyter-lab/lib/python3.10/site-packages/distributed/client.py:3141: UserWarning: Sending large graph of size 12.23 MiB.\n",
      "This may cause some slowdown.\n",
      "Consider scattering data ahead of time and using futures.\n",
      "  warnings.warn(\n"
     ]
    },
    {
     "name": "stdout",
     "output_type": "stream",
     "text": [
      "15\n"
     ]
    },
    {
     "name": "stderr",
     "output_type": "stream",
     "text": [
      "/home1/datahome/jmartine/datawork/conda-env/jupyter-lab/lib/python3.10/site-packages/distributed/client.py:3141: UserWarning: Sending large graph of size 12.23 MiB.\n",
      "This may cause some slowdown.\n",
      "Consider scattering data ahead of time and using futures.\n",
      "  warnings.warn(\n"
     ]
    },
    {
     "name": "stdout",
     "output_type": "stream",
     "text": [
      "16\n"
     ]
    },
    {
     "name": "stderr",
     "output_type": "stream",
     "text": [
      "/home1/datahome/jmartine/datawork/conda-env/jupyter-lab/lib/python3.10/site-packages/distributed/client.py:3141: UserWarning: Sending large graph of size 12.23 MiB.\n",
      "This may cause some slowdown.\n",
      "Consider scattering data ahead of time and using futures.\n",
      "  warnings.warn(\n"
     ]
    },
    {
     "name": "stdout",
     "output_type": "stream",
     "text": [
      "17\n"
     ]
    },
    {
     "name": "stderr",
     "output_type": "stream",
     "text": [
      "/home1/datahome/jmartine/datawork/conda-env/jupyter-lab/lib/python3.10/site-packages/distributed/client.py:3141: UserWarning: Sending large graph of size 12.23 MiB.\n",
      "This may cause some slowdown.\n",
      "Consider scattering data ahead of time and using futures.\n",
      "  warnings.warn(\n"
     ]
    },
    {
     "name": "stdout",
     "output_type": "stream",
     "text": [
      "18\n"
     ]
    },
    {
     "name": "stderr",
     "output_type": "stream",
     "text": [
      "/home1/datahome/jmartine/datawork/conda-env/jupyter-lab/lib/python3.10/site-packages/distributed/client.py:3141: UserWarning: Sending large graph of size 12.23 MiB.\n",
      "This may cause some slowdown.\n",
      "Consider scattering data ahead of time and using futures.\n",
      "  warnings.warn(\n"
     ]
    },
    {
     "name": "stdout",
     "output_type": "stream",
     "text": [
      "19\n"
     ]
    },
    {
     "name": "stderr",
     "output_type": "stream",
     "text": [
      "/home1/datahome/jmartine/datawork/conda-env/jupyter-lab/lib/python3.10/site-packages/distributed/client.py:3141: UserWarning: Sending large graph of size 12.23 MiB.\n",
      "This may cause some slowdown.\n",
      "Consider scattering data ahead of time and using futures.\n",
      "  warnings.warn(\n"
     ]
    },
    {
     "name": "stdout",
     "output_type": "stream",
     "text": [
      "20\n"
     ]
    },
    {
     "name": "stderr",
     "output_type": "stream",
     "text": [
      "/home1/datahome/jmartine/datawork/conda-env/jupyter-lab/lib/python3.10/site-packages/distributed/client.py:3141: UserWarning: Sending large graph of size 12.23 MiB.\n",
      "This may cause some slowdown.\n",
      "Consider scattering data ahead of time and using futures.\n",
      "  warnings.warn(\n"
     ]
    },
    {
     "name": "stdout",
     "output_type": "stream",
     "text": [
      "21\n"
     ]
    },
    {
     "name": "stderr",
     "output_type": "stream",
     "text": [
      "/home1/datahome/jmartine/datawork/conda-env/jupyter-lab/lib/python3.10/site-packages/distributed/client.py:3141: UserWarning: Sending large graph of size 12.23 MiB.\n",
      "This may cause some slowdown.\n",
      "Consider scattering data ahead of time and using futures.\n",
      "  warnings.warn(\n"
     ]
    },
    {
     "name": "stdout",
     "output_type": "stream",
     "text": [
      "22\n"
     ]
    },
    {
     "name": "stderr",
     "output_type": "stream",
     "text": [
      "/home1/datahome/jmartine/datawork/conda-env/jupyter-lab/lib/python3.10/site-packages/distributed/client.py:3141: UserWarning: Sending large graph of size 12.23 MiB.\n",
      "This may cause some slowdown.\n",
      "Consider scattering data ahead of time and using futures.\n",
      "  warnings.warn(\n"
     ]
    },
    {
     "name": "stdout",
     "output_type": "stream",
     "text": [
      "23\n"
     ]
    },
    {
     "name": "stderr",
     "output_type": "stream",
     "text": [
      "/home1/datahome/jmartine/datawork/conda-env/jupyter-lab/lib/python3.10/site-packages/distributed/client.py:3141: UserWarning: Sending large graph of size 12.23 MiB.\n",
      "This may cause some slowdown.\n",
      "Consider scattering data ahead of time and using futures.\n",
      "  warnings.warn(\n"
     ]
    },
    {
     "name": "stdout",
     "output_type": "stream",
     "text": [
      "24\n"
     ]
    },
    {
     "name": "stderr",
     "output_type": "stream",
     "text": [
      "/home1/datahome/jmartine/datawork/conda-env/jupyter-lab/lib/python3.10/site-packages/distributed/client.py:3141: UserWarning: Sending large graph of size 12.23 MiB.\n",
      "This may cause some slowdown.\n",
      "Consider scattering data ahead of time and using futures.\n",
      "  warnings.warn(\n"
     ]
    },
    {
     "name": "stdout",
     "output_type": "stream",
     "text": [
      "25\n"
     ]
    },
    {
     "name": "stderr",
     "output_type": "stream",
     "text": [
      "/home1/datahome/jmartine/datawork/conda-env/jupyter-lab/lib/python3.10/site-packages/distributed/client.py:3141: UserWarning: Sending large graph of size 12.23 MiB.\n",
      "This may cause some slowdown.\n",
      "Consider scattering data ahead of time and using futures.\n",
      "  warnings.warn(\n"
     ]
    },
    {
     "name": "stdout",
     "output_type": "stream",
     "text": [
      "26\n"
     ]
    },
    {
     "name": "stderr",
     "output_type": "stream",
     "text": [
      "/home1/datahome/jmartine/datawork/conda-env/jupyter-lab/lib/python3.10/site-packages/distributed/client.py:3141: UserWarning: Sending large graph of size 12.23 MiB.\n",
      "This may cause some slowdown.\n",
      "Consider scattering data ahead of time and using futures.\n",
      "  warnings.warn(\n"
     ]
    },
    {
     "name": "stdout",
     "output_type": "stream",
     "text": [
      "27\n"
     ]
    },
    {
     "name": "stderr",
     "output_type": "stream",
     "text": [
      "/home1/datahome/jmartine/datawork/conda-env/jupyter-lab/lib/python3.10/site-packages/distributed/client.py:3141: UserWarning: Sending large graph of size 12.23 MiB.\n",
      "This may cause some slowdown.\n",
      "Consider scattering data ahead of time and using futures.\n",
      "  warnings.warn(\n"
     ]
    },
    {
     "name": "stdout",
     "output_type": "stream",
     "text": [
      "28\n"
     ]
    },
    {
     "name": "stderr",
     "output_type": "stream",
     "text": [
      "/home1/datahome/jmartine/datawork/conda-env/jupyter-lab/lib/python3.10/site-packages/distributed/client.py:3141: UserWarning: Sending large graph of size 12.23 MiB.\n",
      "This may cause some slowdown.\n",
      "Consider scattering data ahead of time and using futures.\n",
      "  warnings.warn(\n"
     ]
    },
    {
     "name": "stdout",
     "output_type": "stream",
     "text": [
      "29\n"
     ]
    },
    {
     "name": "stderr",
     "output_type": "stream",
     "text": [
      "/home1/datahome/jmartine/datawork/conda-env/jupyter-lab/lib/python3.10/site-packages/distributed/client.py:3141: UserWarning: Sending large graph of size 12.23 MiB.\n",
      "This may cause some slowdown.\n",
      "Consider scattering data ahead of time and using futures.\n",
      "  warnings.warn(\n"
     ]
    },
    {
     "name": "stdout",
     "output_type": "stream",
     "text": [
      "30\n"
     ]
    },
    {
     "name": "stderr",
     "output_type": "stream",
     "text": [
      "/home1/datahome/jmartine/datawork/conda-env/jupyter-lab/lib/python3.10/site-packages/distributed/client.py:3141: UserWarning: Sending large graph of size 12.23 MiB.\n",
      "This may cause some slowdown.\n",
      "Consider scattering data ahead of time and using futures.\n",
      "  warnings.warn(\n"
     ]
    },
    {
     "name": "stdout",
     "output_type": "stream",
     "text": [
      "31\n"
     ]
    },
    {
     "name": "stderr",
     "output_type": "stream",
     "text": [
      "/home1/datahome/jmartine/datawork/conda-env/jupyter-lab/lib/python3.10/site-packages/distributed/client.py:3141: UserWarning: Sending large graph of size 12.23 MiB.\n",
      "This may cause some slowdown.\n",
      "Consider scattering data ahead of time and using futures.\n",
      "  warnings.warn(\n"
     ]
    },
    {
     "name": "stdout",
     "output_type": "stream",
     "text": [
      "32\n"
     ]
    },
    {
     "name": "stderr",
     "output_type": "stream",
     "text": [
      "/home1/datahome/jmartine/datawork/conda-env/jupyter-lab/lib/python3.10/site-packages/distributed/client.py:3141: UserWarning: Sending large graph of size 12.23 MiB.\n",
      "This may cause some slowdown.\n",
      "Consider scattering data ahead of time and using futures.\n",
      "  warnings.warn(\n"
     ]
    },
    {
     "name": "stdout",
     "output_type": "stream",
     "text": [
      "33\n"
     ]
    },
    {
     "name": "stderr",
     "output_type": "stream",
     "text": [
      "/home1/datahome/jmartine/datawork/conda-env/jupyter-lab/lib/python3.10/site-packages/distributed/client.py:3141: UserWarning: Sending large graph of size 12.23 MiB.\n",
      "This may cause some slowdown.\n",
      "Consider scattering data ahead of time and using futures.\n",
      "  warnings.warn(\n"
     ]
    },
    {
     "name": "stdout",
     "output_type": "stream",
     "text": [
      "34\n"
     ]
    },
    {
     "name": "stderr",
     "output_type": "stream",
     "text": [
      "/home1/datahome/jmartine/datawork/conda-env/jupyter-lab/lib/python3.10/site-packages/distributed/client.py:3141: UserWarning: Sending large graph of size 12.23 MiB.\n",
      "This may cause some slowdown.\n",
      "Consider scattering data ahead of time and using futures.\n",
      "  warnings.warn(\n"
     ]
    },
    {
     "name": "stdout",
     "output_type": "stream",
     "text": [
      "35\n"
     ]
    },
    {
     "name": "stderr",
     "output_type": "stream",
     "text": [
      "/home1/datahome/jmartine/datawork/conda-env/jupyter-lab/lib/python3.10/site-packages/distributed/client.py:3141: UserWarning: Sending large graph of size 12.23 MiB.\n",
      "This may cause some slowdown.\n",
      "Consider scattering data ahead of time and using futures.\n",
      "  warnings.warn(\n"
     ]
    },
    {
     "name": "stdout",
     "output_type": "stream",
     "text": [
      "36\n"
     ]
    },
    {
     "name": "stderr",
     "output_type": "stream",
     "text": [
      "/home1/datahome/jmartine/datawork/conda-env/jupyter-lab/lib/python3.10/site-packages/distributed/client.py:3141: UserWarning: Sending large graph of size 12.23 MiB.\n",
      "This may cause some slowdown.\n",
      "Consider scattering data ahead of time and using futures.\n",
      "  warnings.warn(\n"
     ]
    },
    {
     "name": "stdout",
     "output_type": "stream",
     "text": [
      "37\n"
     ]
    },
    {
     "name": "stderr",
     "output_type": "stream",
     "text": [
      "/home1/datahome/jmartine/datawork/conda-env/jupyter-lab/lib/python3.10/site-packages/distributed/client.py:3141: UserWarning: Sending large graph of size 12.23 MiB.\n",
      "This may cause some slowdown.\n",
      "Consider scattering data ahead of time and using futures.\n",
      "  warnings.warn(\n"
     ]
    },
    {
     "name": "stdout",
     "output_type": "stream",
     "text": [
      "38\n"
     ]
    },
    {
     "name": "stderr",
     "output_type": "stream",
     "text": [
      "/home1/datahome/jmartine/datawork/conda-env/jupyter-lab/lib/python3.10/site-packages/distributed/client.py:3141: UserWarning: Sending large graph of size 12.23 MiB.\n",
      "This may cause some slowdown.\n",
      "Consider scattering data ahead of time and using futures.\n",
      "  warnings.warn(\n"
     ]
    },
    {
     "name": "stdout",
     "output_type": "stream",
     "text": [
      "39\n"
     ]
    },
    {
     "name": "stderr",
     "output_type": "stream",
     "text": [
      "/home1/datahome/jmartine/datawork/conda-env/jupyter-lab/lib/python3.10/site-packages/distributed/client.py:3141: UserWarning: Sending large graph of size 12.23 MiB.\n",
      "This may cause some slowdown.\n",
      "Consider scattering data ahead of time and using futures.\n",
      "  warnings.warn(\n"
     ]
    },
    {
     "name": "stdout",
     "output_type": "stream",
     "text": [
      "40\n"
     ]
    },
    {
     "name": "stderr",
     "output_type": "stream",
     "text": [
      "/home1/datahome/jmartine/datawork/conda-env/jupyter-lab/lib/python3.10/site-packages/distributed/client.py:3141: UserWarning: Sending large graph of size 12.23 MiB.\n",
      "This may cause some slowdown.\n",
      "Consider scattering data ahead of time and using futures.\n",
      "  warnings.warn(\n"
     ]
    },
    {
     "name": "stdout",
     "output_type": "stream",
     "text": [
      "41\n"
     ]
    },
    {
     "name": "stderr",
     "output_type": "stream",
     "text": [
      "/home1/datahome/jmartine/datawork/conda-env/jupyter-lab/lib/python3.10/site-packages/distributed/client.py:3141: UserWarning: Sending large graph of size 12.23 MiB.\n",
      "This may cause some slowdown.\n",
      "Consider scattering data ahead of time and using futures.\n",
      "  warnings.warn(\n"
     ]
    },
    {
     "name": "stdout",
     "output_type": "stream",
     "text": [
      "42\n"
     ]
    },
    {
     "name": "stderr",
     "output_type": "stream",
     "text": [
      "/home1/datahome/jmartine/datawork/conda-env/jupyter-lab/lib/python3.10/site-packages/distributed/client.py:3141: UserWarning: Sending large graph of size 12.23 MiB.\n",
      "This may cause some slowdown.\n",
      "Consider scattering data ahead of time and using futures.\n",
      "  warnings.warn(\n"
     ]
    },
    {
     "name": "stdout",
     "output_type": "stream",
     "text": [
      "43\n"
     ]
    },
    {
     "name": "stderr",
     "output_type": "stream",
     "text": [
      "/home1/datahome/jmartine/datawork/conda-env/jupyter-lab/lib/python3.10/site-packages/distributed/client.py:3141: UserWarning: Sending large graph of size 12.23 MiB.\n",
      "This may cause some slowdown.\n",
      "Consider scattering data ahead of time and using futures.\n",
      "  warnings.warn(\n"
     ]
    },
    {
     "name": "stdout",
     "output_type": "stream",
     "text": [
      "44\n"
     ]
    },
    {
     "name": "stderr",
     "output_type": "stream",
     "text": [
      "/home1/datahome/jmartine/datawork/conda-env/jupyter-lab/lib/python3.10/site-packages/distributed/client.py:3141: UserWarning: Sending large graph of size 12.23 MiB.\n",
      "This may cause some slowdown.\n",
      "Consider scattering data ahead of time and using futures.\n",
      "  warnings.warn(\n"
     ]
    },
    {
     "name": "stdout",
     "output_type": "stream",
     "text": [
      "45\n"
     ]
    },
    {
     "name": "stderr",
     "output_type": "stream",
     "text": [
      "/home1/datahome/jmartine/datawork/conda-env/jupyter-lab/lib/python3.10/site-packages/distributed/client.py:3141: UserWarning: Sending large graph of size 12.23 MiB.\n",
      "This may cause some slowdown.\n",
      "Consider scattering data ahead of time and using futures.\n",
      "  warnings.warn(\n"
     ]
    },
    {
     "name": "stdout",
     "output_type": "stream",
     "text": [
      "46\n"
     ]
    },
    {
     "name": "stderr",
     "output_type": "stream",
     "text": [
      "/home1/datahome/jmartine/datawork/conda-env/jupyter-lab/lib/python3.10/site-packages/distributed/client.py:3141: UserWarning: Sending large graph of size 12.23 MiB.\n",
      "This may cause some slowdown.\n",
      "Consider scattering data ahead of time and using futures.\n",
      "  warnings.warn(\n"
     ]
    },
    {
     "name": "stdout",
     "output_type": "stream",
     "text": [
      "47\n"
     ]
    },
    {
     "name": "stderr",
     "output_type": "stream",
     "text": [
      "/home1/datahome/jmartine/datawork/conda-env/jupyter-lab/lib/python3.10/site-packages/distributed/client.py:3141: UserWarning: Sending large graph of size 12.23 MiB.\n",
      "This may cause some slowdown.\n",
      "Consider scattering data ahead of time and using futures.\n",
      "  warnings.warn(\n"
     ]
    },
    {
     "name": "stdout",
     "output_type": "stream",
     "text": [
      "48\n"
     ]
    },
    {
     "name": "stderr",
     "output_type": "stream",
     "text": [
      "/home1/datahome/jmartine/datawork/conda-env/jupyter-lab/lib/python3.10/site-packages/distributed/client.py:3141: UserWarning: Sending large graph of size 12.23 MiB.\n",
      "This may cause some slowdown.\n",
      "Consider scattering data ahead of time and using futures.\n",
      "  warnings.warn(\n"
     ]
    },
    {
     "name": "stdout",
     "output_type": "stream",
     "text": [
      "49\n"
     ]
    },
    {
     "name": "stderr",
     "output_type": "stream",
     "text": [
      "/home1/datahome/jmartine/datawork/conda-env/jupyter-lab/lib/python3.10/site-packages/distributed/client.py:3141: UserWarning: Sending large graph of size 12.23 MiB.\n",
      "This may cause some slowdown.\n",
      "Consider scattering data ahead of time and using futures.\n",
      "  warnings.warn(\n"
     ]
    },
    {
     "name": "stdout",
     "output_type": "stream",
     "text": [
      "50\n"
     ]
    },
    {
     "name": "stderr",
     "output_type": "stream",
     "text": [
      "/home1/datahome/jmartine/datawork/conda-env/jupyter-lab/lib/python3.10/site-packages/distributed/client.py:3141: UserWarning: Sending large graph of size 12.23 MiB.\n",
      "This may cause some slowdown.\n",
      "Consider scattering data ahead of time and using futures.\n",
      "  warnings.warn(\n"
     ]
    },
    {
     "name": "stdout",
     "output_type": "stream",
     "text": [
      "51\n"
     ]
    },
    {
     "name": "stderr",
     "output_type": "stream",
     "text": [
      "/home1/datahome/jmartine/datawork/conda-env/jupyter-lab/lib/python3.10/site-packages/distributed/client.py:3141: UserWarning: Sending large graph of size 12.23 MiB.\n",
      "This may cause some slowdown.\n",
      "Consider scattering data ahead of time and using futures.\n",
      "  warnings.warn(\n"
     ]
    },
    {
     "name": "stdout",
     "output_type": "stream",
     "text": [
      "52\n"
     ]
    },
    {
     "name": "stderr",
     "output_type": "stream",
     "text": [
      "/home1/datahome/jmartine/datawork/conda-env/jupyter-lab/lib/python3.10/site-packages/distributed/client.py:3141: UserWarning: Sending large graph of size 12.23 MiB.\n",
      "This may cause some slowdown.\n",
      "Consider scattering data ahead of time and using futures.\n",
      "  warnings.warn(\n"
     ]
    },
    {
     "name": "stdout",
     "output_type": "stream",
     "text": [
      "53\n"
     ]
    },
    {
     "name": "stderr",
     "output_type": "stream",
     "text": [
      "/home1/datahome/jmartine/datawork/conda-env/jupyter-lab/lib/python3.10/site-packages/distributed/client.py:3141: UserWarning: Sending large graph of size 12.23 MiB.\n",
      "This may cause some slowdown.\n",
      "Consider scattering data ahead of time and using futures.\n",
      "  warnings.warn(\n"
     ]
    },
    {
     "name": "stdout",
     "output_type": "stream",
     "text": [
      "54\n"
     ]
    },
    {
     "name": "stderr",
     "output_type": "stream",
     "text": [
      "/home1/datahome/jmartine/datawork/conda-env/jupyter-lab/lib/python3.10/site-packages/distributed/client.py:3141: UserWarning: Sending large graph of size 12.23 MiB.\n",
      "This may cause some slowdown.\n",
      "Consider scattering data ahead of time and using futures.\n",
      "  warnings.warn(\n"
     ]
    },
    {
     "name": "stdout",
     "output_type": "stream",
     "text": [
      "55\n"
     ]
    },
    {
     "name": "stderr",
     "output_type": "stream",
     "text": [
      "/home1/datahome/jmartine/datawork/conda-env/jupyter-lab/lib/python3.10/site-packages/distributed/client.py:3141: UserWarning: Sending large graph of size 12.23 MiB.\n",
      "This may cause some slowdown.\n",
      "Consider scattering data ahead of time and using futures.\n",
      "  warnings.warn(\n"
     ]
    },
    {
     "name": "stdout",
     "output_type": "stream",
     "text": [
      "56\n"
     ]
    },
    {
     "name": "stderr",
     "output_type": "stream",
     "text": [
      "/home1/datahome/jmartine/datawork/conda-env/jupyter-lab/lib/python3.10/site-packages/distributed/client.py:3141: UserWarning: Sending large graph of size 12.23 MiB.\n",
      "This may cause some slowdown.\n",
      "Consider scattering data ahead of time and using futures.\n",
      "  warnings.warn(\n"
     ]
    },
    {
     "name": "stdout",
     "output_type": "stream",
     "text": [
      "57\n"
     ]
    },
    {
     "name": "stderr",
     "output_type": "stream",
     "text": [
      "/home1/datahome/jmartine/datawork/conda-env/jupyter-lab/lib/python3.10/site-packages/distributed/client.py:3141: UserWarning: Sending large graph of size 12.23 MiB.\n",
      "This may cause some slowdown.\n",
      "Consider scattering data ahead of time and using futures.\n",
      "  warnings.warn(\n"
     ]
    },
    {
     "name": "stdout",
     "output_type": "stream",
     "text": [
      "58\n"
     ]
    },
    {
     "name": "stderr",
     "output_type": "stream",
     "text": [
      "/home1/datahome/jmartine/datawork/conda-env/jupyter-lab/lib/python3.10/site-packages/distributed/client.py:3141: UserWarning: Sending large graph of size 12.23 MiB.\n",
      "This may cause some slowdown.\n",
      "Consider scattering data ahead of time and using futures.\n",
      "  warnings.warn(\n"
     ]
    },
    {
     "name": "stdout",
     "output_type": "stream",
     "text": [
      "59\n"
     ]
    },
    {
     "name": "stderr",
     "output_type": "stream",
     "text": [
      "/home1/datahome/jmartine/datawork/conda-env/jupyter-lab/lib/python3.10/site-packages/distributed/client.py:3141: UserWarning: Sending large graph of size 12.23 MiB.\n",
      "This may cause some slowdown.\n",
      "Consider scattering data ahead of time and using futures.\n",
      "  warnings.warn(\n"
     ]
    },
    {
     "name": "stdout",
     "output_type": "stream",
     "text": [
      "60\n"
     ]
    },
    {
     "name": "stderr",
     "output_type": "stream",
     "text": [
      "/home1/datahome/jmartine/datawork/conda-env/jupyter-lab/lib/python3.10/site-packages/distributed/client.py:3141: UserWarning: Sending large graph of size 12.23 MiB.\n",
      "This may cause some slowdown.\n",
      "Consider scattering data ahead of time and using futures.\n",
      "  warnings.warn(\n"
     ]
    },
    {
     "name": "stdout",
     "output_type": "stream",
     "text": [
      "61\n"
     ]
    },
    {
     "name": "stderr",
     "output_type": "stream",
     "text": [
      "/home1/datahome/jmartine/datawork/conda-env/jupyter-lab/lib/python3.10/site-packages/distributed/client.py:3141: UserWarning: Sending large graph of size 12.23 MiB.\n",
      "This may cause some slowdown.\n",
      "Consider scattering data ahead of time and using futures.\n",
      "  warnings.warn(\n"
     ]
    },
    {
     "name": "stdout",
     "output_type": "stream",
     "text": [
      "62\n"
     ]
    },
    {
     "name": "stderr",
     "output_type": "stream",
     "text": [
      "/home1/datahome/jmartine/datawork/conda-env/jupyter-lab/lib/python3.10/site-packages/distributed/client.py:3141: UserWarning: Sending large graph of size 12.23 MiB.\n",
      "This may cause some slowdown.\n",
      "Consider scattering data ahead of time and using futures.\n",
      "  warnings.warn(\n"
     ]
    },
    {
     "name": "stdout",
     "output_type": "stream",
     "text": [
      "63\n"
     ]
    },
    {
     "name": "stderr",
     "output_type": "stream",
     "text": [
      "/home1/datahome/jmartine/datawork/conda-env/jupyter-lab/lib/python3.10/site-packages/distributed/client.py:3141: UserWarning: Sending large graph of size 12.23 MiB.\n",
      "This may cause some slowdown.\n",
      "Consider scattering data ahead of time and using futures.\n",
      "  warnings.warn(\n"
     ]
    },
    {
     "name": "stdout",
     "output_type": "stream",
     "text": [
      "64\n"
     ]
    },
    {
     "name": "stderr",
     "output_type": "stream",
     "text": [
      "/home1/datahome/jmartine/datawork/conda-env/jupyter-lab/lib/python3.10/site-packages/distributed/client.py:3141: UserWarning: Sending large graph of size 12.23 MiB.\n",
      "This may cause some slowdown.\n",
      "Consider scattering data ahead of time and using futures.\n",
      "  warnings.warn(\n"
     ]
    },
    {
     "name": "stdout",
     "output_type": "stream",
     "text": [
      "65\n"
     ]
    },
    {
     "name": "stderr",
     "output_type": "stream",
     "text": [
      "/home1/datahome/jmartine/datawork/conda-env/jupyter-lab/lib/python3.10/site-packages/distributed/client.py:3141: UserWarning: Sending large graph of size 12.23 MiB.\n",
      "This may cause some slowdown.\n",
      "Consider scattering data ahead of time and using futures.\n",
      "  warnings.warn(\n"
     ]
    },
    {
     "name": "stdout",
     "output_type": "stream",
     "text": [
      "66\n"
     ]
    },
    {
     "name": "stderr",
     "output_type": "stream",
     "text": [
      "/home1/datahome/jmartine/datawork/conda-env/jupyter-lab/lib/python3.10/site-packages/distributed/client.py:3141: UserWarning: Sending large graph of size 12.23 MiB.\n",
      "This may cause some slowdown.\n",
      "Consider scattering data ahead of time and using futures.\n",
      "  warnings.warn(\n"
     ]
    },
    {
     "name": "stdout",
     "output_type": "stream",
     "text": [
      "67\n"
     ]
    },
    {
     "name": "stderr",
     "output_type": "stream",
     "text": [
      "/home1/datahome/jmartine/datawork/conda-env/jupyter-lab/lib/python3.10/site-packages/distributed/client.py:3141: UserWarning: Sending large graph of size 12.23 MiB.\n",
      "This may cause some slowdown.\n",
      "Consider scattering data ahead of time and using futures.\n",
      "  warnings.warn(\n"
     ]
    },
    {
     "name": "stdout",
     "output_type": "stream",
     "text": [
      "68\n"
     ]
    },
    {
     "name": "stderr",
     "output_type": "stream",
     "text": [
      "/home1/datahome/jmartine/datawork/conda-env/jupyter-lab/lib/python3.10/site-packages/distributed/client.py:3141: UserWarning: Sending large graph of size 12.23 MiB.\n",
      "This may cause some slowdown.\n",
      "Consider scattering data ahead of time and using futures.\n",
      "  warnings.warn(\n"
     ]
    },
    {
     "name": "stdout",
     "output_type": "stream",
     "text": [
      "69\n"
     ]
    },
    {
     "name": "stderr",
     "output_type": "stream",
     "text": [
      "/home1/datahome/jmartine/datawork/conda-env/jupyter-lab/lib/python3.10/site-packages/distributed/client.py:3141: UserWarning: Sending large graph of size 12.23 MiB.\n",
      "This may cause some slowdown.\n",
      "Consider scattering data ahead of time and using futures.\n",
      "  warnings.warn(\n"
     ]
    },
    {
     "name": "stdout",
     "output_type": "stream",
     "text": [
      "70\n"
     ]
    },
    {
     "name": "stderr",
     "output_type": "stream",
     "text": [
      "/home1/datahome/jmartine/datawork/conda-env/jupyter-lab/lib/python3.10/site-packages/distributed/client.py:3141: UserWarning: Sending large graph of size 12.23 MiB.\n",
      "This may cause some slowdown.\n",
      "Consider scattering data ahead of time and using futures.\n",
      "  warnings.warn(\n"
     ]
    },
    {
     "name": "stdout",
     "output_type": "stream",
     "text": [
      "71\n"
     ]
    },
    {
     "name": "stderr",
     "output_type": "stream",
     "text": [
      "/home1/datahome/jmartine/datawork/conda-env/jupyter-lab/lib/python3.10/site-packages/distributed/client.py:3141: UserWarning: Sending large graph of size 12.23 MiB.\n",
      "This may cause some slowdown.\n",
      "Consider scattering data ahead of time and using futures.\n",
      "  warnings.warn(\n"
     ]
    },
    {
     "name": "stdout",
     "output_type": "stream",
     "text": [
      "72\n"
     ]
    },
    {
     "name": "stderr",
     "output_type": "stream",
     "text": [
      "/home1/datahome/jmartine/datawork/conda-env/jupyter-lab/lib/python3.10/site-packages/distributed/client.py:3141: UserWarning: Sending large graph of size 12.23 MiB.\n",
      "This may cause some slowdown.\n",
      "Consider scattering data ahead of time and using futures.\n",
      "  warnings.warn(\n"
     ]
    },
    {
     "name": "stdout",
     "output_type": "stream",
     "text": [
      "73\n"
     ]
    },
    {
     "name": "stderr",
     "output_type": "stream",
     "text": [
      "/home1/datahome/jmartine/datawork/conda-env/jupyter-lab/lib/python3.10/site-packages/distributed/client.py:3141: UserWarning: Sending large graph of size 12.23 MiB.\n",
      "This may cause some slowdown.\n",
      "Consider scattering data ahead of time and using futures.\n",
      "  warnings.warn(\n"
     ]
    },
    {
     "name": "stdout",
     "output_type": "stream",
     "text": [
      "74\n"
     ]
    },
    {
     "name": "stderr",
     "output_type": "stream",
     "text": [
      "/home1/datahome/jmartine/datawork/conda-env/jupyter-lab/lib/python3.10/site-packages/distributed/client.py:3141: UserWarning: Sending large graph of size 12.23 MiB.\n",
      "This may cause some slowdown.\n",
      "Consider scattering data ahead of time and using futures.\n",
      "  warnings.warn(\n"
     ]
    },
    {
     "name": "stdout",
     "output_type": "stream",
     "text": [
      "75\n"
     ]
    },
    {
     "name": "stderr",
     "output_type": "stream",
     "text": [
      "/home1/datahome/jmartine/datawork/conda-env/jupyter-lab/lib/python3.10/site-packages/distributed/client.py:3141: UserWarning: Sending large graph of size 12.23 MiB.\n",
      "This may cause some slowdown.\n",
      "Consider scattering data ahead of time and using futures.\n",
      "  warnings.warn(\n"
     ]
    },
    {
     "name": "stdout",
     "output_type": "stream",
     "text": [
      "76\n"
     ]
    },
    {
     "name": "stderr",
     "output_type": "stream",
     "text": [
      "/home1/datahome/jmartine/datawork/conda-env/jupyter-lab/lib/python3.10/site-packages/distributed/client.py:3141: UserWarning: Sending large graph of size 12.23 MiB.\n",
      "This may cause some slowdown.\n",
      "Consider scattering data ahead of time and using futures.\n",
      "  warnings.warn(\n"
     ]
    },
    {
     "name": "stdout",
     "output_type": "stream",
     "text": [
      "77\n"
     ]
    },
    {
     "name": "stderr",
     "output_type": "stream",
     "text": [
      "/home1/datahome/jmartine/datawork/conda-env/jupyter-lab/lib/python3.10/site-packages/distributed/client.py:3141: UserWarning: Sending large graph of size 12.23 MiB.\n",
      "This may cause some slowdown.\n",
      "Consider scattering data ahead of time and using futures.\n",
      "  warnings.warn(\n"
     ]
    },
    {
     "name": "stdout",
     "output_type": "stream",
     "text": [
      "78\n"
     ]
    },
    {
     "name": "stderr",
     "output_type": "stream",
     "text": [
      "/home1/datahome/jmartine/datawork/conda-env/jupyter-lab/lib/python3.10/site-packages/distributed/client.py:3141: UserWarning: Sending large graph of size 12.23 MiB.\n",
      "This may cause some slowdown.\n",
      "Consider scattering data ahead of time and using futures.\n",
      "  warnings.warn(\n"
     ]
    },
    {
     "name": "stdout",
     "output_type": "stream",
     "text": [
      "79\n"
     ]
    },
    {
     "name": "stderr",
     "output_type": "stream",
     "text": [
      "/home1/datahome/jmartine/datawork/conda-env/jupyter-lab/lib/python3.10/site-packages/distributed/client.py:3141: UserWarning: Sending large graph of size 12.23 MiB.\n",
      "This may cause some slowdown.\n",
      "Consider scattering data ahead of time and using futures.\n",
      "  warnings.warn(\n"
     ]
    },
    {
     "name": "stdout",
     "output_type": "stream",
     "text": [
      "80\n"
     ]
    },
    {
     "name": "stderr",
     "output_type": "stream",
     "text": [
      "/home1/datahome/jmartine/datawork/conda-env/jupyter-lab/lib/python3.10/site-packages/distributed/client.py:3141: UserWarning: Sending large graph of size 12.23 MiB.\n",
      "This may cause some slowdown.\n",
      "Consider scattering data ahead of time and using futures.\n",
      "  warnings.warn(\n"
     ]
    },
    {
     "name": "stdout",
     "output_type": "stream",
     "text": [
      "81\n"
     ]
    },
    {
     "name": "stderr",
     "output_type": "stream",
     "text": [
      "/home1/datahome/jmartine/datawork/conda-env/jupyter-lab/lib/python3.10/site-packages/distributed/client.py:3141: UserWarning: Sending large graph of size 12.23 MiB.\n",
      "This may cause some slowdown.\n",
      "Consider scattering data ahead of time and using futures.\n",
      "  warnings.warn(\n"
     ]
    },
    {
     "name": "stdout",
     "output_type": "stream",
     "text": [
      "82\n"
     ]
    },
    {
     "name": "stderr",
     "output_type": "stream",
     "text": [
      "/home1/datahome/jmartine/datawork/conda-env/jupyter-lab/lib/python3.10/site-packages/distributed/client.py:3141: UserWarning: Sending large graph of size 12.23 MiB.\n",
      "This may cause some slowdown.\n",
      "Consider scattering data ahead of time and using futures.\n",
      "  warnings.warn(\n"
     ]
    },
    {
     "name": "stdout",
     "output_type": "stream",
     "text": [
      "83\n"
     ]
    },
    {
     "name": "stderr",
     "output_type": "stream",
     "text": [
      "/home1/datahome/jmartine/datawork/conda-env/jupyter-lab/lib/python3.10/site-packages/distributed/client.py:3141: UserWarning: Sending large graph of size 12.23 MiB.\n",
      "This may cause some slowdown.\n",
      "Consider scattering data ahead of time and using futures.\n",
      "  warnings.warn(\n"
     ]
    },
    {
     "name": "stdout",
     "output_type": "stream",
     "text": [
      "84\n"
     ]
    },
    {
     "name": "stderr",
     "output_type": "stream",
     "text": [
      "/home1/datahome/jmartine/datawork/conda-env/jupyter-lab/lib/python3.10/site-packages/distributed/client.py:3141: UserWarning: Sending large graph of size 12.23 MiB.\n",
      "This may cause some slowdown.\n",
      "Consider scattering data ahead of time and using futures.\n",
      "  warnings.warn(\n"
     ]
    },
    {
     "name": "stdout",
     "output_type": "stream",
     "text": [
      "85\n"
     ]
    },
    {
     "name": "stderr",
     "output_type": "stream",
     "text": [
      "/home1/datahome/jmartine/datawork/conda-env/jupyter-lab/lib/python3.10/site-packages/distributed/client.py:3141: UserWarning: Sending large graph of size 12.23 MiB.\n",
      "This may cause some slowdown.\n",
      "Consider scattering data ahead of time and using futures.\n",
      "  warnings.warn(\n"
     ]
    },
    {
     "name": "stdout",
     "output_type": "stream",
     "text": [
      "86\n"
     ]
    },
    {
     "name": "stderr",
     "output_type": "stream",
     "text": [
      "/home1/datahome/jmartine/datawork/conda-env/jupyter-lab/lib/python3.10/site-packages/distributed/client.py:3141: UserWarning: Sending large graph of size 12.23 MiB.\n",
      "This may cause some slowdown.\n",
      "Consider scattering data ahead of time and using futures.\n",
      "  warnings.warn(\n"
     ]
    },
    {
     "name": "stdout",
     "output_type": "stream",
     "text": [
      "87\n"
     ]
    },
    {
     "name": "stderr",
     "output_type": "stream",
     "text": [
      "/home1/datahome/jmartine/datawork/conda-env/jupyter-lab/lib/python3.10/site-packages/distributed/client.py:3141: UserWarning: Sending large graph of size 12.23 MiB.\n",
      "This may cause some slowdown.\n",
      "Consider scattering data ahead of time and using futures.\n",
      "  warnings.warn(\n"
     ]
    },
    {
     "name": "stdout",
     "output_type": "stream",
     "text": [
      "88\n"
     ]
    },
    {
     "name": "stderr",
     "output_type": "stream",
     "text": [
      "/home1/datahome/jmartine/datawork/conda-env/jupyter-lab/lib/python3.10/site-packages/distributed/client.py:3141: UserWarning: Sending large graph of size 12.23 MiB.\n",
      "This may cause some slowdown.\n",
      "Consider scattering data ahead of time and using futures.\n",
      "  warnings.warn(\n"
     ]
    },
    {
     "name": "stdout",
     "output_type": "stream",
     "text": [
      "89\n"
     ]
    },
    {
     "name": "stderr",
     "output_type": "stream",
     "text": [
      "/home1/datahome/jmartine/datawork/conda-env/jupyter-lab/lib/python3.10/site-packages/distributed/client.py:3141: UserWarning: Sending large graph of size 12.23 MiB.\n",
      "This may cause some slowdown.\n",
      "Consider scattering data ahead of time and using futures.\n",
      "  warnings.warn(\n"
     ]
    },
    {
     "name": "stdout",
     "output_type": "stream",
     "text": [
      "90\n"
     ]
    },
    {
     "name": "stderr",
     "output_type": "stream",
     "text": [
      "/home1/datahome/jmartine/datawork/conda-env/jupyter-lab/lib/python3.10/site-packages/distributed/client.py:3141: UserWarning: Sending large graph of size 12.23 MiB.\n",
      "This may cause some slowdown.\n",
      "Consider scattering data ahead of time and using futures.\n",
      "  warnings.warn(\n"
     ]
    },
    {
     "name": "stdout",
     "output_type": "stream",
     "text": [
      "91\n"
     ]
    },
    {
     "name": "stderr",
     "output_type": "stream",
     "text": [
      "/home1/datahome/jmartine/datawork/conda-env/jupyter-lab/lib/python3.10/site-packages/distributed/client.py:3141: UserWarning: Sending large graph of size 12.23 MiB.\n",
      "This may cause some slowdown.\n",
      "Consider scattering data ahead of time and using futures.\n",
      "  warnings.warn(\n"
     ]
    },
    {
     "name": "stdout",
     "output_type": "stream",
     "text": [
      "92\n"
     ]
    },
    {
     "name": "stderr",
     "output_type": "stream",
     "text": [
      "/home1/datahome/jmartine/datawork/conda-env/jupyter-lab/lib/python3.10/site-packages/distributed/client.py:3141: UserWarning: Sending large graph of size 12.23 MiB.\n",
      "This may cause some slowdown.\n",
      "Consider scattering data ahead of time and using futures.\n",
      "  warnings.warn(\n"
     ]
    },
    {
     "name": "stdout",
     "output_type": "stream",
     "text": [
      "93\n"
     ]
    },
    {
     "name": "stderr",
     "output_type": "stream",
     "text": [
      "/home1/datahome/jmartine/datawork/conda-env/jupyter-lab/lib/python3.10/site-packages/distributed/client.py:3141: UserWarning: Sending large graph of size 12.23 MiB.\n",
      "This may cause some slowdown.\n",
      "Consider scattering data ahead of time and using futures.\n",
      "  warnings.warn(\n"
     ]
    },
    {
     "name": "stdout",
     "output_type": "stream",
     "text": [
      "94\n"
     ]
    },
    {
     "name": "stderr",
     "output_type": "stream",
     "text": [
      "/home1/datahome/jmartine/datawork/conda-env/jupyter-lab/lib/python3.10/site-packages/distributed/client.py:3141: UserWarning: Sending large graph of size 12.23 MiB.\n",
      "This may cause some slowdown.\n",
      "Consider scattering data ahead of time and using futures.\n",
      "  warnings.warn(\n"
     ]
    },
    {
     "name": "stdout",
     "output_type": "stream",
     "text": [
      "95\n"
     ]
    },
    {
     "name": "stderr",
     "output_type": "stream",
     "text": [
      "/home1/datahome/jmartine/datawork/conda-env/jupyter-lab/lib/python3.10/site-packages/distributed/client.py:3141: UserWarning: Sending large graph of size 12.23 MiB.\n",
      "This may cause some slowdown.\n",
      "Consider scattering data ahead of time and using futures.\n",
      "  warnings.warn(\n"
     ]
    },
    {
     "name": "stdout",
     "output_type": "stream",
     "text": [
      "96\n"
     ]
    },
    {
     "name": "stderr",
     "output_type": "stream",
     "text": [
      "/home1/datahome/jmartine/datawork/conda-env/jupyter-lab/lib/python3.10/site-packages/distributed/client.py:3141: UserWarning: Sending large graph of size 12.23 MiB.\n",
      "This may cause some slowdown.\n",
      "Consider scattering data ahead of time and using futures.\n",
      "  warnings.warn(\n"
     ]
    },
    {
     "name": "stdout",
     "output_type": "stream",
     "text": [
      "97\n"
     ]
    },
    {
     "name": "stderr",
     "output_type": "stream",
     "text": [
      "/home1/datahome/jmartine/datawork/conda-env/jupyter-lab/lib/python3.10/site-packages/distributed/client.py:3141: UserWarning: Sending large graph of size 12.23 MiB.\n",
      "This may cause some slowdown.\n",
      "Consider scattering data ahead of time and using futures.\n",
      "  warnings.warn(\n"
     ]
    },
    {
     "name": "stdout",
     "output_type": "stream",
     "text": [
      "98\n"
     ]
    },
    {
     "name": "stderr",
     "output_type": "stream",
     "text": [
      "/home1/datahome/jmartine/datawork/conda-env/jupyter-lab/lib/python3.10/site-packages/distributed/client.py:3141: UserWarning: Sending large graph of size 12.23 MiB.\n",
      "This may cause some slowdown.\n",
      "Consider scattering data ahead of time and using futures.\n",
      "  warnings.warn(\n"
     ]
    },
    {
     "name": "stdout",
     "output_type": "stream",
     "text": [
      "99\n"
     ]
    },
    {
     "name": "stderr",
     "output_type": "stream",
     "text": [
      "/home1/datahome/jmartine/datawork/conda-env/jupyter-lab/lib/python3.10/site-packages/distributed/client.py:3141: UserWarning: Sending large graph of size 12.23 MiB.\n",
      "This may cause some slowdown.\n",
      "Consider scattering data ahead of time and using futures.\n",
      "  warnings.warn(\n"
     ]
    },
    {
     "name": "stdout",
     "output_type": "stream",
     "text": [
      "100\n"
     ]
    },
    {
     "name": "stderr",
     "output_type": "stream",
     "text": [
      "/home1/datahome/jmartine/datawork/conda-env/jupyter-lab/lib/python3.10/site-packages/distributed/client.py:3141: UserWarning: Sending large graph of size 12.23 MiB.\n",
      "This may cause some slowdown.\n",
      "Consider scattering data ahead of time and using futures.\n",
      "  warnings.warn(\n"
     ]
    },
    {
     "name": "stdout",
     "output_type": "stream",
     "text": [
      "101\n"
     ]
    },
    {
     "name": "stderr",
     "output_type": "stream",
     "text": [
      "/home1/datahome/jmartine/datawork/conda-env/jupyter-lab/lib/python3.10/site-packages/distributed/client.py:3141: UserWarning: Sending large graph of size 12.23 MiB.\n",
      "This may cause some slowdown.\n",
      "Consider scattering data ahead of time and using futures.\n",
      "  warnings.warn(\n"
     ]
    },
    {
     "name": "stdout",
     "output_type": "stream",
     "text": [
      "102\n"
     ]
    },
    {
     "name": "stderr",
     "output_type": "stream",
     "text": [
      "/home1/datahome/jmartine/datawork/conda-env/jupyter-lab/lib/python3.10/site-packages/distributed/client.py:3141: UserWarning: Sending large graph of size 12.23 MiB.\n",
      "This may cause some slowdown.\n",
      "Consider scattering data ahead of time and using futures.\n",
      "  warnings.warn(\n"
     ]
    },
    {
     "name": "stdout",
     "output_type": "stream",
     "text": [
      "103\n"
     ]
    },
    {
     "name": "stderr",
     "output_type": "stream",
     "text": [
      "/home1/datahome/jmartine/datawork/conda-env/jupyter-lab/lib/python3.10/site-packages/distributed/client.py:3141: UserWarning: Sending large graph of size 12.23 MiB.\n",
      "This may cause some slowdown.\n",
      "Consider scattering data ahead of time and using futures.\n",
      "  warnings.warn(\n"
     ]
    },
    {
     "name": "stdout",
     "output_type": "stream",
     "text": [
      "104\n"
     ]
    },
    {
     "name": "stderr",
     "output_type": "stream",
     "text": [
      "/home1/datahome/jmartine/datawork/conda-env/jupyter-lab/lib/python3.10/site-packages/distributed/client.py:3141: UserWarning: Sending large graph of size 12.23 MiB.\n",
      "This may cause some slowdown.\n",
      "Consider scattering data ahead of time and using futures.\n",
      "  warnings.warn(\n"
     ]
    },
    {
     "name": "stdout",
     "output_type": "stream",
     "text": [
      "105\n"
     ]
    },
    {
     "name": "stderr",
     "output_type": "stream",
     "text": [
      "/home1/datahome/jmartine/datawork/conda-env/jupyter-lab/lib/python3.10/site-packages/distributed/client.py:3141: UserWarning: Sending large graph of size 12.23 MiB.\n",
      "This may cause some slowdown.\n",
      "Consider scattering data ahead of time and using futures.\n",
      "  warnings.warn(\n"
     ]
    },
    {
     "name": "stdout",
     "output_type": "stream",
     "text": [
      "106\n"
     ]
    },
    {
     "name": "stderr",
     "output_type": "stream",
     "text": [
      "/home1/datahome/jmartine/datawork/conda-env/jupyter-lab/lib/python3.10/site-packages/distributed/client.py:3141: UserWarning: Sending large graph of size 12.23 MiB.\n",
      "This may cause some slowdown.\n",
      "Consider scattering data ahead of time and using futures.\n",
      "  warnings.warn(\n"
     ]
    },
    {
     "name": "stdout",
     "output_type": "stream",
     "text": [
      "107\n"
     ]
    },
    {
     "name": "stderr",
     "output_type": "stream",
     "text": [
      "/home1/datahome/jmartine/datawork/conda-env/jupyter-lab/lib/python3.10/site-packages/distributed/client.py:3141: UserWarning: Sending large graph of size 12.23 MiB.\n",
      "This may cause some slowdown.\n",
      "Consider scattering data ahead of time and using futures.\n",
      "  warnings.warn(\n"
     ]
    },
    {
     "name": "stdout",
     "output_type": "stream",
     "text": [
      "108\n"
     ]
    },
    {
     "name": "stderr",
     "output_type": "stream",
     "text": [
      "/home1/datahome/jmartine/datawork/conda-env/jupyter-lab/lib/python3.10/site-packages/distributed/client.py:3141: UserWarning: Sending large graph of size 12.23 MiB.\n",
      "This may cause some slowdown.\n",
      "Consider scattering data ahead of time and using futures.\n",
      "  warnings.warn(\n"
     ]
    },
    {
     "name": "stdout",
     "output_type": "stream",
     "text": [
      "109\n"
     ]
    },
    {
     "name": "stderr",
     "output_type": "stream",
     "text": [
      "/home1/datahome/jmartine/datawork/conda-env/jupyter-lab/lib/python3.10/site-packages/distributed/client.py:3141: UserWarning: Sending large graph of size 12.23 MiB.\n",
      "This may cause some slowdown.\n",
      "Consider scattering data ahead of time and using futures.\n",
      "  warnings.warn(\n"
     ]
    },
    {
     "name": "stdout",
     "output_type": "stream",
     "text": [
      "110\n"
     ]
    },
    {
     "name": "stderr",
     "output_type": "stream",
     "text": [
      "/home1/datahome/jmartine/datawork/conda-env/jupyter-lab/lib/python3.10/site-packages/distributed/client.py:3141: UserWarning: Sending large graph of size 12.23 MiB.\n",
      "This may cause some slowdown.\n",
      "Consider scattering data ahead of time and using futures.\n",
      "  warnings.warn(\n"
     ]
    },
    {
     "name": "stdout",
     "output_type": "stream",
     "text": [
      "111\n"
     ]
    },
    {
     "name": "stderr",
     "output_type": "stream",
     "text": [
      "/home1/datahome/jmartine/datawork/conda-env/jupyter-lab/lib/python3.10/site-packages/distributed/client.py:3141: UserWarning: Sending large graph of size 12.23 MiB.\n",
      "This may cause some slowdown.\n",
      "Consider scattering data ahead of time and using futures.\n",
      "  warnings.warn(\n"
     ]
    },
    {
     "name": "stdout",
     "output_type": "stream",
     "text": [
      "112\n"
     ]
    },
    {
     "name": "stderr",
     "output_type": "stream",
     "text": [
      "/home1/datahome/jmartine/datawork/conda-env/jupyter-lab/lib/python3.10/site-packages/distributed/client.py:3141: UserWarning: Sending large graph of size 12.23 MiB.\n",
      "This may cause some slowdown.\n",
      "Consider scattering data ahead of time and using futures.\n",
      "  warnings.warn(\n"
     ]
    },
    {
     "name": "stdout",
     "output_type": "stream",
     "text": [
      "113\n"
     ]
    },
    {
     "name": "stderr",
     "output_type": "stream",
     "text": [
      "/home1/datahome/jmartine/datawork/conda-env/jupyter-lab/lib/python3.10/site-packages/distributed/client.py:3141: UserWarning: Sending large graph of size 12.23 MiB.\n",
      "This may cause some slowdown.\n",
      "Consider scattering data ahead of time and using futures.\n",
      "  warnings.warn(\n"
     ]
    },
    {
     "name": "stdout",
     "output_type": "stream",
     "text": [
      "114\n"
     ]
    },
    {
     "name": "stderr",
     "output_type": "stream",
     "text": [
      "/home1/datahome/jmartine/datawork/conda-env/jupyter-lab/lib/python3.10/site-packages/distributed/client.py:3141: UserWarning: Sending large graph of size 12.23 MiB.\n",
      "This may cause some slowdown.\n",
      "Consider scattering data ahead of time and using futures.\n",
      "  warnings.warn(\n"
     ]
    },
    {
     "name": "stdout",
     "output_type": "stream",
     "text": [
      "115\n"
     ]
    },
    {
     "name": "stderr",
     "output_type": "stream",
     "text": [
      "/home1/datahome/jmartine/datawork/conda-env/jupyter-lab/lib/python3.10/site-packages/distributed/client.py:3141: UserWarning: Sending large graph of size 12.23 MiB.\n",
      "This may cause some slowdown.\n",
      "Consider scattering data ahead of time and using futures.\n",
      "  warnings.warn(\n"
     ]
    },
    {
     "name": "stdout",
     "output_type": "stream",
     "text": [
      "116\n"
     ]
    },
    {
     "name": "stderr",
     "output_type": "stream",
     "text": [
      "/home1/datahome/jmartine/datawork/conda-env/jupyter-lab/lib/python3.10/site-packages/distributed/client.py:3141: UserWarning: Sending large graph of size 12.23 MiB.\n",
      "This may cause some slowdown.\n",
      "Consider scattering data ahead of time and using futures.\n",
      "  warnings.warn(\n"
     ]
    },
    {
     "name": "stdout",
     "output_type": "stream",
     "text": [
      "117\n"
     ]
    },
    {
     "name": "stderr",
     "output_type": "stream",
     "text": [
      "/home1/datahome/jmartine/datawork/conda-env/jupyter-lab/lib/python3.10/site-packages/distributed/client.py:3141: UserWarning: Sending large graph of size 12.23 MiB.\n",
      "This may cause some slowdown.\n",
      "Consider scattering data ahead of time and using futures.\n",
      "  warnings.warn(\n"
     ]
    },
    {
     "name": "stdout",
     "output_type": "stream",
     "text": [
      "118\n"
     ]
    },
    {
     "name": "stderr",
     "output_type": "stream",
     "text": [
      "/home1/datahome/jmartine/datawork/conda-env/jupyter-lab/lib/python3.10/site-packages/distributed/client.py:3141: UserWarning: Sending large graph of size 12.23 MiB.\n",
      "This may cause some slowdown.\n",
      "Consider scattering data ahead of time and using futures.\n",
      "  warnings.warn(\n"
     ]
    },
    {
     "name": "stdout",
     "output_type": "stream",
     "text": [
      "119\n"
     ]
    },
    {
     "name": "stderr",
     "output_type": "stream",
     "text": [
      "/home1/datahome/jmartine/datawork/conda-env/jupyter-lab/lib/python3.10/site-packages/distributed/client.py:3141: UserWarning: Sending large graph of size 12.23 MiB.\n",
      "This may cause some slowdown.\n",
      "Consider scattering data ahead of time and using futures.\n",
      "  warnings.warn(\n"
     ]
    },
    {
     "name": "stdout",
     "output_type": "stream",
     "text": [
      "120\n"
     ]
    },
    {
     "name": "stderr",
     "output_type": "stream",
     "text": [
      "/home1/datahome/jmartine/datawork/conda-env/jupyter-lab/lib/python3.10/site-packages/distributed/client.py:3141: UserWarning: Sending large graph of size 12.23 MiB.\n",
      "This may cause some slowdown.\n",
      "Consider scattering data ahead of time and using futures.\n",
      "  warnings.warn(\n"
     ]
    },
    {
     "name": "stdout",
     "output_type": "stream",
     "text": [
      "121\n"
     ]
    },
    {
     "name": "stderr",
     "output_type": "stream",
     "text": [
      "/home1/datahome/jmartine/datawork/conda-env/jupyter-lab/lib/python3.10/site-packages/distributed/client.py:3141: UserWarning: Sending large graph of size 12.23 MiB.\n",
      "This may cause some slowdown.\n",
      "Consider scattering data ahead of time and using futures.\n",
      "  warnings.warn(\n"
     ]
    },
    {
     "name": "stdout",
     "output_type": "stream",
     "text": [
      "122\n"
     ]
    },
    {
     "name": "stderr",
     "output_type": "stream",
     "text": [
      "/home1/datahome/jmartine/datawork/conda-env/jupyter-lab/lib/python3.10/site-packages/distributed/client.py:3141: UserWarning: Sending large graph of size 12.23 MiB.\n",
      "This may cause some slowdown.\n",
      "Consider scattering data ahead of time and using futures.\n",
      "  warnings.warn(\n"
     ]
    },
    {
     "name": "stdout",
     "output_type": "stream",
     "text": [
      "123\n"
     ]
    },
    {
     "name": "stderr",
     "output_type": "stream",
     "text": [
      "/home1/datahome/jmartine/datawork/conda-env/jupyter-lab/lib/python3.10/site-packages/distributed/client.py:3141: UserWarning: Sending large graph of size 12.23 MiB.\n",
      "This may cause some slowdown.\n",
      "Consider scattering data ahead of time and using futures.\n",
      "  warnings.warn(\n"
     ]
    },
    {
     "name": "stdout",
     "output_type": "stream",
     "text": [
      "124\n"
     ]
    },
    {
     "name": "stderr",
     "output_type": "stream",
     "text": [
      "/home1/datahome/jmartine/datawork/conda-env/jupyter-lab/lib/python3.10/site-packages/distributed/client.py:3141: UserWarning: Sending large graph of size 12.23 MiB.\n",
      "This may cause some slowdown.\n",
      "Consider scattering data ahead of time and using futures.\n",
      "  warnings.warn(\n"
     ]
    },
    {
     "name": "stdout",
     "output_type": "stream",
     "text": [
      "125\n"
     ]
    },
    {
     "name": "stderr",
     "output_type": "stream",
     "text": [
      "/home1/datahome/jmartine/datawork/conda-env/jupyter-lab/lib/python3.10/site-packages/distributed/client.py:3141: UserWarning: Sending large graph of size 12.23 MiB.\n",
      "This may cause some slowdown.\n",
      "Consider scattering data ahead of time and using futures.\n",
      "  warnings.warn(\n"
     ]
    },
    {
     "name": "stdout",
     "output_type": "stream",
     "text": [
      "126\n"
     ]
    },
    {
     "name": "stderr",
     "output_type": "stream",
     "text": [
      "/home1/datahome/jmartine/datawork/conda-env/jupyter-lab/lib/python3.10/site-packages/distributed/client.py:3141: UserWarning: Sending large graph of size 12.23 MiB.\n",
      "This may cause some slowdown.\n",
      "Consider scattering data ahead of time and using futures.\n",
      "  warnings.warn(\n"
     ]
    },
    {
     "name": "stdout",
     "output_type": "stream",
     "text": [
      "127\n"
     ]
    },
    {
     "name": "stderr",
     "output_type": "stream",
     "text": [
      "/home1/datahome/jmartine/datawork/conda-env/jupyter-lab/lib/python3.10/site-packages/distributed/client.py:3141: UserWarning: Sending large graph of size 12.23 MiB.\n",
      "This may cause some slowdown.\n",
      "Consider scattering data ahead of time and using futures.\n",
      "  warnings.warn(\n"
     ]
    },
    {
     "name": "stdout",
     "output_type": "stream",
     "text": [
      "128\n"
     ]
    },
    {
     "name": "stderr",
     "output_type": "stream",
     "text": [
      "/home1/datahome/jmartine/datawork/conda-env/jupyter-lab/lib/python3.10/site-packages/distributed/client.py:3141: UserWarning: Sending large graph of size 12.23 MiB.\n",
      "This may cause some slowdown.\n",
      "Consider scattering data ahead of time and using futures.\n",
      "  warnings.warn(\n"
     ]
    },
    {
     "name": "stdout",
     "output_type": "stream",
     "text": [
      "129\n"
     ]
    },
    {
     "name": "stderr",
     "output_type": "stream",
     "text": [
      "/home1/datahome/jmartine/datawork/conda-env/jupyter-lab/lib/python3.10/site-packages/distributed/client.py:3141: UserWarning: Sending large graph of size 12.23 MiB.\n",
      "This may cause some slowdown.\n",
      "Consider scattering data ahead of time and using futures.\n",
      "  warnings.warn(\n"
     ]
    },
    {
     "name": "stdout",
     "output_type": "stream",
     "text": [
      "130\n"
     ]
    },
    {
     "name": "stderr",
     "output_type": "stream",
     "text": [
      "/home1/datahome/jmartine/datawork/conda-env/jupyter-lab/lib/python3.10/site-packages/distributed/client.py:3141: UserWarning: Sending large graph of size 12.23 MiB.\n",
      "This may cause some slowdown.\n",
      "Consider scattering data ahead of time and using futures.\n",
      "  warnings.warn(\n"
     ]
    },
    {
     "name": "stdout",
     "output_type": "stream",
     "text": [
      "131\n"
     ]
    },
    {
     "name": "stderr",
     "output_type": "stream",
     "text": [
      "/home1/datahome/jmartine/datawork/conda-env/jupyter-lab/lib/python3.10/site-packages/distributed/client.py:3141: UserWarning: Sending large graph of size 12.23 MiB.\n",
      "This may cause some slowdown.\n",
      "Consider scattering data ahead of time and using futures.\n",
      "  warnings.warn(\n"
     ]
    },
    {
     "name": "stdout",
     "output_type": "stream",
     "text": [
      "132\n"
     ]
    },
    {
     "name": "stderr",
     "output_type": "stream",
     "text": [
      "/home1/datahome/jmartine/datawork/conda-env/jupyter-lab/lib/python3.10/site-packages/distributed/client.py:3141: UserWarning: Sending large graph of size 12.23 MiB.\n",
      "This may cause some slowdown.\n",
      "Consider scattering data ahead of time and using futures.\n",
      "  warnings.warn(\n"
     ]
    },
    {
     "name": "stdout",
     "output_type": "stream",
     "text": [
      "133\n"
     ]
    },
    {
     "name": "stderr",
     "output_type": "stream",
     "text": [
      "/home1/datahome/jmartine/datawork/conda-env/jupyter-lab/lib/python3.10/site-packages/distributed/client.py:3141: UserWarning: Sending large graph of size 12.23 MiB.\n",
      "This may cause some slowdown.\n",
      "Consider scattering data ahead of time and using futures.\n",
      "  warnings.warn(\n"
     ]
    },
    {
     "name": "stdout",
     "output_type": "stream",
     "text": [
      "134\n"
     ]
    },
    {
     "name": "stderr",
     "output_type": "stream",
     "text": [
      "/home1/datahome/jmartine/datawork/conda-env/jupyter-lab/lib/python3.10/site-packages/distributed/client.py:3141: UserWarning: Sending large graph of size 12.23 MiB.\n",
      "This may cause some slowdown.\n",
      "Consider scattering data ahead of time and using futures.\n",
      "  warnings.warn(\n"
     ]
    },
    {
     "name": "stdout",
     "output_type": "stream",
     "text": [
      "135\n"
     ]
    },
    {
     "name": "stderr",
     "output_type": "stream",
     "text": [
      "/home1/datahome/jmartine/datawork/conda-env/jupyter-lab/lib/python3.10/site-packages/distributed/client.py:3141: UserWarning: Sending large graph of size 12.23 MiB.\n",
      "This may cause some slowdown.\n",
      "Consider scattering data ahead of time and using futures.\n",
      "  warnings.warn(\n"
     ]
    },
    {
     "name": "stdout",
     "output_type": "stream",
     "text": [
      "136\n"
     ]
    },
    {
     "name": "stderr",
     "output_type": "stream",
     "text": [
      "/home1/datahome/jmartine/datawork/conda-env/jupyter-lab/lib/python3.10/site-packages/distributed/client.py:3141: UserWarning: Sending large graph of size 12.23 MiB.\n",
      "This may cause some slowdown.\n",
      "Consider scattering data ahead of time and using futures.\n",
      "  warnings.warn(\n"
     ]
    },
    {
     "name": "stdout",
     "output_type": "stream",
     "text": [
      "137\n"
     ]
    },
    {
     "name": "stderr",
     "output_type": "stream",
     "text": [
      "/home1/datahome/jmartine/datawork/conda-env/jupyter-lab/lib/python3.10/site-packages/distributed/client.py:3141: UserWarning: Sending large graph of size 12.23 MiB.\n",
      "This may cause some slowdown.\n",
      "Consider scattering data ahead of time and using futures.\n",
      "  warnings.warn(\n"
     ]
    },
    {
     "name": "stdout",
     "output_type": "stream",
     "text": [
      "138\n"
     ]
    },
    {
     "name": "stderr",
     "output_type": "stream",
     "text": [
      "/home1/datahome/jmartine/datawork/conda-env/jupyter-lab/lib/python3.10/site-packages/distributed/client.py:3141: UserWarning: Sending large graph of size 12.23 MiB.\n",
      "This may cause some slowdown.\n",
      "Consider scattering data ahead of time and using futures.\n",
      "  warnings.warn(\n"
     ]
    },
    {
     "name": "stdout",
     "output_type": "stream",
     "text": [
      "139\n"
     ]
    },
    {
     "name": "stderr",
     "output_type": "stream",
     "text": [
      "/home1/datahome/jmartine/datawork/conda-env/jupyter-lab/lib/python3.10/site-packages/distributed/client.py:3141: UserWarning: Sending large graph of size 12.23 MiB.\n",
      "This may cause some slowdown.\n",
      "Consider scattering data ahead of time and using futures.\n",
      "  warnings.warn(\n"
     ]
    },
    {
     "name": "stdout",
     "output_type": "stream",
     "text": [
      "140\n"
     ]
    },
    {
     "name": "stderr",
     "output_type": "stream",
     "text": [
      "/home1/datahome/jmartine/datawork/conda-env/jupyter-lab/lib/python3.10/site-packages/distributed/client.py:3141: UserWarning: Sending large graph of size 12.23 MiB.\n",
      "This may cause some slowdown.\n",
      "Consider scattering data ahead of time and using futures.\n",
      "  warnings.warn(\n"
     ]
    },
    {
     "name": "stdout",
     "output_type": "stream",
     "text": [
      "141\n"
     ]
    },
    {
     "name": "stderr",
     "output_type": "stream",
     "text": [
      "/home1/datahome/jmartine/datawork/conda-env/jupyter-lab/lib/python3.10/site-packages/distributed/client.py:3141: UserWarning: Sending large graph of size 12.23 MiB.\n",
      "This may cause some slowdown.\n",
      "Consider scattering data ahead of time and using futures.\n",
      "  warnings.warn(\n"
     ]
    },
    {
     "name": "stdout",
     "output_type": "stream",
     "text": [
      "142\n"
     ]
    },
    {
     "name": "stderr",
     "output_type": "stream",
     "text": [
      "/home1/datahome/jmartine/datawork/conda-env/jupyter-lab/lib/python3.10/site-packages/distributed/client.py:3141: UserWarning: Sending large graph of size 12.23 MiB.\n",
      "This may cause some slowdown.\n",
      "Consider scattering data ahead of time and using futures.\n",
      "  warnings.warn(\n"
     ]
    },
    {
     "name": "stdout",
     "output_type": "stream",
     "text": [
      "143\n"
     ]
    },
    {
     "name": "stderr",
     "output_type": "stream",
     "text": [
      "/home1/datahome/jmartine/datawork/conda-env/jupyter-lab/lib/python3.10/site-packages/distributed/client.py:3141: UserWarning: Sending large graph of size 12.23 MiB.\n",
      "This may cause some slowdown.\n",
      "Consider scattering data ahead of time and using futures.\n",
      "  warnings.warn(\n"
     ]
    },
    {
     "name": "stdout",
     "output_type": "stream",
     "text": [
      "144\n"
     ]
    },
    {
     "name": "stderr",
     "output_type": "stream",
     "text": [
      "/home1/datahome/jmartine/datawork/conda-env/jupyter-lab/lib/python3.10/site-packages/distributed/client.py:3141: UserWarning: Sending large graph of size 12.23 MiB.\n",
      "This may cause some slowdown.\n",
      "Consider scattering data ahead of time and using futures.\n",
      "  warnings.warn(\n"
     ]
    },
    {
     "name": "stdout",
     "output_type": "stream",
     "text": [
      "145\n"
     ]
    },
    {
     "name": "stderr",
     "output_type": "stream",
     "text": [
      "/home1/datahome/jmartine/datawork/conda-env/jupyter-lab/lib/python3.10/site-packages/distributed/client.py:3141: UserWarning: Sending large graph of size 12.23 MiB.\n",
      "This may cause some slowdown.\n",
      "Consider scattering data ahead of time and using futures.\n",
      "  warnings.warn(\n"
     ]
    },
    {
     "name": "stdout",
     "output_type": "stream",
     "text": [
      "146\n"
     ]
    },
    {
     "name": "stderr",
     "output_type": "stream",
     "text": [
      "/home1/datahome/jmartine/datawork/conda-env/jupyter-lab/lib/python3.10/site-packages/distributed/client.py:3141: UserWarning: Sending large graph of size 12.23 MiB.\n",
      "This may cause some slowdown.\n",
      "Consider scattering data ahead of time and using futures.\n",
      "  warnings.warn(\n"
     ]
    },
    {
     "name": "stdout",
     "output_type": "stream",
     "text": [
      "147\n"
     ]
    },
    {
     "name": "stderr",
     "output_type": "stream",
     "text": [
      "/home1/datahome/jmartine/datawork/conda-env/jupyter-lab/lib/python3.10/site-packages/distributed/client.py:3141: UserWarning: Sending large graph of size 12.23 MiB.\n",
      "This may cause some slowdown.\n",
      "Consider scattering data ahead of time and using futures.\n",
      "  warnings.warn(\n"
     ]
    },
    {
     "name": "stdout",
     "output_type": "stream",
     "text": [
      "148\n"
     ]
    },
    {
     "name": "stderr",
     "output_type": "stream",
     "text": [
      "/home1/datahome/jmartine/datawork/conda-env/jupyter-lab/lib/python3.10/site-packages/distributed/client.py:3141: UserWarning: Sending large graph of size 12.23 MiB.\n",
      "This may cause some slowdown.\n",
      "Consider scattering data ahead of time and using futures.\n",
      "  warnings.warn(\n"
     ]
    },
    {
     "name": "stdout",
     "output_type": "stream",
     "text": [
      "149\n"
     ]
    },
    {
     "name": "stderr",
     "output_type": "stream",
     "text": [
      "/home1/datahome/jmartine/datawork/conda-env/jupyter-lab/lib/python3.10/site-packages/distributed/client.py:3141: UserWarning: Sending large graph of size 12.23 MiB.\n",
      "This may cause some slowdown.\n",
      "Consider scattering data ahead of time and using futures.\n",
      "  warnings.warn(\n"
     ]
    },
    {
     "name": "stdout",
     "output_type": "stream",
     "text": [
      "150\n"
     ]
    },
    {
     "name": "stderr",
     "output_type": "stream",
     "text": [
      "/home1/datahome/jmartine/datawork/conda-env/jupyter-lab/lib/python3.10/site-packages/distributed/client.py:3141: UserWarning: Sending large graph of size 12.23 MiB.\n",
      "This may cause some slowdown.\n",
      "Consider scattering data ahead of time and using futures.\n",
      "  warnings.warn(\n"
     ]
    },
    {
     "name": "stdout",
     "output_type": "stream",
     "text": [
      "151\n"
     ]
    },
    {
     "name": "stderr",
     "output_type": "stream",
     "text": [
      "/home1/datahome/jmartine/datawork/conda-env/jupyter-lab/lib/python3.10/site-packages/distributed/client.py:3141: UserWarning: Sending large graph of size 12.23 MiB.\n",
      "This may cause some slowdown.\n",
      "Consider scattering data ahead of time and using futures.\n",
      "  warnings.warn(\n"
     ]
    },
    {
     "name": "stdout",
     "output_type": "stream",
     "text": [
      "152\n"
     ]
    },
    {
     "name": "stderr",
     "output_type": "stream",
     "text": [
      "/home1/datahome/jmartine/datawork/conda-env/jupyter-lab/lib/python3.10/site-packages/distributed/client.py:3141: UserWarning: Sending large graph of size 12.23 MiB.\n",
      "This may cause some slowdown.\n",
      "Consider scattering data ahead of time and using futures.\n",
      "  warnings.warn(\n"
     ]
    },
    {
     "name": "stdout",
     "output_type": "stream",
     "text": [
      "153\n"
     ]
    },
    {
     "name": "stderr",
     "output_type": "stream",
     "text": [
      "/home1/datahome/jmartine/datawork/conda-env/jupyter-lab/lib/python3.10/site-packages/distributed/client.py:3141: UserWarning: Sending large graph of size 12.23 MiB.\n",
      "This may cause some slowdown.\n",
      "Consider scattering data ahead of time and using futures.\n",
      "  warnings.warn(\n"
     ]
    },
    {
     "name": "stdout",
     "output_type": "stream",
     "text": [
      "154\n"
     ]
    },
    {
     "name": "stderr",
     "output_type": "stream",
     "text": [
      "/home1/datahome/jmartine/datawork/conda-env/jupyter-lab/lib/python3.10/site-packages/distributed/client.py:3141: UserWarning: Sending large graph of size 12.23 MiB.\n",
      "This may cause some slowdown.\n",
      "Consider scattering data ahead of time and using futures.\n",
      "  warnings.warn(\n"
     ]
    },
    {
     "name": "stdout",
     "output_type": "stream",
     "text": [
      "155\n"
     ]
    },
    {
     "name": "stderr",
     "output_type": "stream",
     "text": [
      "/home1/datahome/jmartine/datawork/conda-env/jupyter-lab/lib/python3.10/site-packages/distributed/client.py:3141: UserWarning: Sending large graph of size 12.23 MiB.\n",
      "This may cause some slowdown.\n",
      "Consider scattering data ahead of time and using futures.\n",
      "  warnings.warn(\n"
     ]
    },
    {
     "name": "stdout",
     "output_type": "stream",
     "text": [
      "156\n"
     ]
    },
    {
     "name": "stderr",
     "output_type": "stream",
     "text": [
      "/home1/datahome/jmartine/datawork/conda-env/jupyter-lab/lib/python3.10/site-packages/distributed/client.py:3141: UserWarning: Sending large graph of size 12.23 MiB.\n",
      "This may cause some slowdown.\n",
      "Consider scattering data ahead of time and using futures.\n",
      "  warnings.warn(\n"
     ]
    },
    {
     "name": "stdout",
     "output_type": "stream",
     "text": [
      "157\n"
     ]
    },
    {
     "name": "stderr",
     "output_type": "stream",
     "text": [
      "/home1/datahome/jmartine/datawork/conda-env/jupyter-lab/lib/python3.10/site-packages/distributed/client.py:3141: UserWarning: Sending large graph of size 12.23 MiB.\n",
      "This may cause some slowdown.\n",
      "Consider scattering data ahead of time and using futures.\n",
      "  warnings.warn(\n"
     ]
    },
    {
     "name": "stdout",
     "output_type": "stream",
     "text": [
      "158\n"
     ]
    },
    {
     "name": "stderr",
     "output_type": "stream",
     "text": [
      "/home1/datahome/jmartine/datawork/conda-env/jupyter-lab/lib/python3.10/site-packages/distributed/client.py:3141: UserWarning: Sending large graph of size 12.23 MiB.\n",
      "This may cause some slowdown.\n",
      "Consider scattering data ahead of time and using futures.\n",
      "  warnings.warn(\n"
     ]
    },
    {
     "name": "stdout",
     "output_type": "stream",
     "text": [
      "159\n"
     ]
    },
    {
     "name": "stderr",
     "output_type": "stream",
     "text": [
      "/home1/datahome/jmartine/datawork/conda-env/jupyter-lab/lib/python3.10/site-packages/distributed/client.py:3141: UserWarning: Sending large graph of size 12.23 MiB.\n",
      "This may cause some slowdown.\n",
      "Consider scattering data ahead of time and using futures.\n",
      "  warnings.warn(\n"
     ]
    },
    {
     "name": "stdout",
     "output_type": "stream",
     "text": [
      "160\n"
     ]
    },
    {
     "name": "stderr",
     "output_type": "stream",
     "text": [
      "/home1/datahome/jmartine/datawork/conda-env/jupyter-lab/lib/python3.10/site-packages/distributed/client.py:3141: UserWarning: Sending large graph of size 12.23 MiB.\n",
      "This may cause some slowdown.\n",
      "Consider scattering data ahead of time and using futures.\n",
      "  warnings.warn(\n"
     ]
    },
    {
     "name": "stdout",
     "output_type": "stream",
     "text": [
      "161\n"
     ]
    },
    {
     "name": "stderr",
     "output_type": "stream",
     "text": [
      "/home1/datahome/jmartine/datawork/conda-env/jupyter-lab/lib/python3.10/site-packages/distributed/client.py:3141: UserWarning: Sending large graph of size 12.23 MiB.\n",
      "This may cause some slowdown.\n",
      "Consider scattering data ahead of time and using futures.\n",
      "  warnings.warn(\n"
     ]
    },
    {
     "name": "stdout",
     "output_type": "stream",
     "text": [
      "162\n"
     ]
    },
    {
     "name": "stderr",
     "output_type": "stream",
     "text": [
      "/home1/datahome/jmartine/datawork/conda-env/jupyter-lab/lib/python3.10/site-packages/distributed/client.py:3141: UserWarning: Sending large graph of size 12.23 MiB.\n",
      "This may cause some slowdown.\n",
      "Consider scattering data ahead of time and using futures.\n",
      "  warnings.warn(\n"
     ]
    },
    {
     "name": "stdout",
     "output_type": "stream",
     "text": [
      "163\n"
     ]
    },
    {
     "name": "stderr",
     "output_type": "stream",
     "text": [
      "/home1/datahome/jmartine/datawork/conda-env/jupyter-lab/lib/python3.10/site-packages/distributed/client.py:3141: UserWarning: Sending large graph of size 12.23 MiB.\n",
      "This may cause some slowdown.\n",
      "Consider scattering data ahead of time and using futures.\n",
      "  warnings.warn(\n"
     ]
    },
    {
     "name": "stdout",
     "output_type": "stream",
     "text": [
      "164\n"
     ]
    },
    {
     "name": "stderr",
     "output_type": "stream",
     "text": [
      "/home1/datahome/jmartine/datawork/conda-env/jupyter-lab/lib/python3.10/site-packages/distributed/client.py:3141: UserWarning: Sending large graph of size 12.23 MiB.\n",
      "This may cause some slowdown.\n",
      "Consider scattering data ahead of time and using futures.\n",
      "  warnings.warn(\n"
     ]
    },
    {
     "name": "stdout",
     "output_type": "stream",
     "text": [
      "165\n"
     ]
    },
    {
     "name": "stderr",
     "output_type": "stream",
     "text": [
      "/home1/datahome/jmartine/datawork/conda-env/jupyter-lab/lib/python3.10/site-packages/distributed/client.py:3141: UserWarning: Sending large graph of size 12.23 MiB.\n",
      "This may cause some slowdown.\n",
      "Consider scattering data ahead of time and using futures.\n",
      "  warnings.warn(\n"
     ]
    },
    {
     "name": "stdout",
     "output_type": "stream",
     "text": [
      "166\n"
     ]
    },
    {
     "name": "stderr",
     "output_type": "stream",
     "text": [
      "/home1/datahome/jmartine/datawork/conda-env/jupyter-lab/lib/python3.10/site-packages/distributed/client.py:3141: UserWarning: Sending large graph of size 12.23 MiB.\n",
      "This may cause some slowdown.\n",
      "Consider scattering data ahead of time and using futures.\n",
      "  warnings.warn(\n"
     ]
    },
    {
     "name": "stdout",
     "output_type": "stream",
     "text": [
      "167\n"
     ]
    },
    {
     "name": "stderr",
     "output_type": "stream",
     "text": [
      "/home1/datahome/jmartine/datawork/conda-env/jupyter-lab/lib/python3.10/site-packages/distributed/client.py:3141: UserWarning: Sending large graph of size 12.23 MiB.\n",
      "This may cause some slowdown.\n",
      "Consider scattering data ahead of time and using futures.\n",
      "  warnings.warn(\n"
     ]
    },
    {
     "name": "stdout",
     "output_type": "stream",
     "text": [
      "168\n"
     ]
    },
    {
     "name": "stderr",
     "output_type": "stream",
     "text": [
      "/home1/datahome/jmartine/datawork/conda-env/jupyter-lab/lib/python3.10/site-packages/distributed/client.py:3141: UserWarning: Sending large graph of size 12.23 MiB.\n",
      "This may cause some slowdown.\n",
      "Consider scattering data ahead of time and using futures.\n",
      "  warnings.warn(\n"
     ]
    },
    {
     "name": "stdout",
     "output_type": "stream",
     "text": [
      "169\n"
     ]
    },
    {
     "name": "stderr",
     "output_type": "stream",
     "text": [
      "/home1/datahome/jmartine/datawork/conda-env/jupyter-lab/lib/python3.10/site-packages/distributed/client.py:3141: UserWarning: Sending large graph of size 12.23 MiB.\n",
      "This may cause some slowdown.\n",
      "Consider scattering data ahead of time and using futures.\n",
      "  warnings.warn(\n"
     ]
    },
    {
     "name": "stdout",
     "output_type": "stream",
     "text": [
      "170\n"
     ]
    },
    {
     "name": "stderr",
     "output_type": "stream",
     "text": [
      "/home1/datahome/jmartine/datawork/conda-env/jupyter-lab/lib/python3.10/site-packages/distributed/client.py:3141: UserWarning: Sending large graph of size 12.23 MiB.\n",
      "This may cause some slowdown.\n",
      "Consider scattering data ahead of time and using futures.\n",
      "  warnings.warn(\n"
     ]
    },
    {
     "name": "stdout",
     "output_type": "stream",
     "text": [
      "171\n"
     ]
    },
    {
     "name": "stderr",
     "output_type": "stream",
     "text": [
      "/home1/datahome/jmartine/datawork/conda-env/jupyter-lab/lib/python3.10/site-packages/distributed/client.py:3141: UserWarning: Sending large graph of size 12.23 MiB.\n",
      "This may cause some slowdown.\n",
      "Consider scattering data ahead of time and using futures.\n",
      "  warnings.warn(\n"
     ]
    },
    {
     "name": "stdout",
     "output_type": "stream",
     "text": [
      "172\n"
     ]
    },
    {
     "name": "stderr",
     "output_type": "stream",
     "text": [
      "/home1/datahome/jmartine/datawork/conda-env/jupyter-lab/lib/python3.10/site-packages/distributed/client.py:3141: UserWarning: Sending large graph of size 12.23 MiB.\n",
      "This may cause some slowdown.\n",
      "Consider scattering data ahead of time and using futures.\n",
      "  warnings.warn(\n"
     ]
    },
    {
     "name": "stdout",
     "output_type": "stream",
     "text": [
      "173\n"
     ]
    },
    {
     "name": "stderr",
     "output_type": "stream",
     "text": [
      "/home1/datahome/jmartine/datawork/conda-env/jupyter-lab/lib/python3.10/site-packages/distributed/client.py:3141: UserWarning: Sending large graph of size 12.23 MiB.\n",
      "This may cause some slowdown.\n",
      "Consider scattering data ahead of time and using futures.\n",
      "  warnings.warn(\n"
     ]
    },
    {
     "name": "stdout",
     "output_type": "stream",
     "text": [
      "174\n"
     ]
    },
    {
     "name": "stderr",
     "output_type": "stream",
     "text": [
      "/home1/datahome/jmartine/datawork/conda-env/jupyter-lab/lib/python3.10/site-packages/distributed/client.py:3141: UserWarning: Sending large graph of size 12.23 MiB.\n",
      "This may cause some slowdown.\n",
      "Consider scattering data ahead of time and using futures.\n",
      "  warnings.warn(\n"
     ]
    },
    {
     "name": "stdout",
     "output_type": "stream",
     "text": [
      "175\n"
     ]
    },
    {
     "name": "stderr",
     "output_type": "stream",
     "text": [
      "/home1/datahome/jmartine/datawork/conda-env/jupyter-lab/lib/python3.10/site-packages/distributed/client.py:3141: UserWarning: Sending large graph of size 12.23 MiB.\n",
      "This may cause some slowdown.\n",
      "Consider scattering data ahead of time and using futures.\n",
      "  warnings.warn(\n"
     ]
    },
    {
     "name": "stdout",
     "output_type": "stream",
     "text": [
      "176\n"
     ]
    },
    {
     "name": "stderr",
     "output_type": "stream",
     "text": [
      "/home1/datahome/jmartine/datawork/conda-env/jupyter-lab/lib/python3.10/site-packages/distributed/client.py:3141: UserWarning: Sending large graph of size 12.23 MiB.\n",
      "This may cause some slowdown.\n",
      "Consider scattering data ahead of time and using futures.\n",
      "  warnings.warn(\n"
     ]
    },
    {
     "name": "stdout",
     "output_type": "stream",
     "text": [
      "177\n"
     ]
    },
    {
     "name": "stderr",
     "output_type": "stream",
     "text": [
      "/home1/datahome/jmartine/datawork/conda-env/jupyter-lab/lib/python3.10/site-packages/distributed/client.py:3141: UserWarning: Sending large graph of size 12.23 MiB.\n",
      "This may cause some slowdown.\n",
      "Consider scattering data ahead of time and using futures.\n",
      "  warnings.warn(\n"
     ]
    },
    {
     "name": "stdout",
     "output_type": "stream",
     "text": [
      "178\n"
     ]
    },
    {
     "name": "stderr",
     "output_type": "stream",
     "text": [
      "/home1/datahome/jmartine/datawork/conda-env/jupyter-lab/lib/python3.10/site-packages/distributed/client.py:3141: UserWarning: Sending large graph of size 12.23 MiB.\n",
      "This may cause some slowdown.\n",
      "Consider scattering data ahead of time and using futures.\n",
      "  warnings.warn(\n"
     ]
    },
    {
     "name": "stdout",
     "output_type": "stream",
     "text": [
      "179\n"
     ]
    },
    {
     "name": "stderr",
     "output_type": "stream",
     "text": [
      "/home1/datahome/jmartine/datawork/conda-env/jupyter-lab/lib/python3.10/site-packages/distributed/client.py:3141: UserWarning: Sending large graph of size 12.23 MiB.\n",
      "This may cause some slowdown.\n",
      "Consider scattering data ahead of time and using futures.\n",
      "  warnings.warn(\n"
     ]
    },
    {
     "name": "stdout",
     "output_type": "stream",
     "text": [
      "180\n"
     ]
    },
    {
     "name": "stderr",
     "output_type": "stream",
     "text": [
      "/home1/datahome/jmartine/datawork/conda-env/jupyter-lab/lib/python3.10/site-packages/distributed/client.py:3141: UserWarning: Sending large graph of size 12.23 MiB.\n",
      "This may cause some slowdown.\n",
      "Consider scattering data ahead of time and using futures.\n",
      "  warnings.warn(\n"
     ]
    },
    {
     "name": "stdout",
     "output_type": "stream",
     "text": [
      "181\n"
     ]
    },
    {
     "name": "stderr",
     "output_type": "stream",
     "text": [
      "/home1/datahome/jmartine/datawork/conda-env/jupyter-lab/lib/python3.10/site-packages/distributed/client.py:3141: UserWarning: Sending large graph of size 12.23 MiB.\n",
      "This may cause some slowdown.\n",
      "Consider scattering data ahead of time and using futures.\n",
      "  warnings.warn(\n"
     ]
    },
    {
     "name": "stdout",
     "output_type": "stream",
     "text": [
      "182\n"
     ]
    },
    {
     "name": "stderr",
     "output_type": "stream",
     "text": [
      "/home1/datahome/jmartine/datawork/conda-env/jupyter-lab/lib/python3.10/site-packages/distributed/client.py:3141: UserWarning: Sending large graph of size 12.23 MiB.\n",
      "This may cause some slowdown.\n",
      "Consider scattering data ahead of time and using futures.\n",
      "  warnings.warn(\n"
     ]
    },
    {
     "name": "stdout",
     "output_type": "stream",
     "text": [
      "183\n"
     ]
    },
    {
     "name": "stderr",
     "output_type": "stream",
     "text": [
      "/home1/datahome/jmartine/datawork/conda-env/jupyter-lab/lib/python3.10/site-packages/distributed/client.py:3141: UserWarning: Sending large graph of size 12.23 MiB.\n",
      "This may cause some slowdown.\n",
      "Consider scattering data ahead of time and using futures.\n",
      "  warnings.warn(\n"
     ]
    },
    {
     "name": "stdout",
     "output_type": "stream",
     "text": [
      "184\n"
     ]
    },
    {
     "name": "stderr",
     "output_type": "stream",
     "text": [
      "/home1/datahome/jmartine/datawork/conda-env/jupyter-lab/lib/python3.10/site-packages/distributed/client.py:3141: UserWarning: Sending large graph of size 12.23 MiB.\n",
      "This may cause some slowdown.\n",
      "Consider scattering data ahead of time and using futures.\n",
      "  warnings.warn(\n"
     ]
    },
    {
     "name": "stdout",
     "output_type": "stream",
     "text": [
      "185\n"
     ]
    },
    {
     "name": "stderr",
     "output_type": "stream",
     "text": [
      "/home1/datahome/jmartine/datawork/conda-env/jupyter-lab/lib/python3.10/site-packages/distributed/client.py:3141: UserWarning: Sending large graph of size 12.23 MiB.\n",
      "This may cause some slowdown.\n",
      "Consider scattering data ahead of time and using futures.\n",
      "  warnings.warn(\n"
     ]
    },
    {
     "name": "stdout",
     "output_type": "stream",
     "text": [
      "186\n"
     ]
    },
    {
     "name": "stderr",
     "output_type": "stream",
     "text": [
      "/home1/datahome/jmartine/datawork/conda-env/jupyter-lab/lib/python3.10/site-packages/distributed/client.py:3141: UserWarning: Sending large graph of size 12.23 MiB.\n",
      "This may cause some slowdown.\n",
      "Consider scattering data ahead of time and using futures.\n",
      "  warnings.warn(\n"
     ]
    },
    {
     "name": "stdout",
     "output_type": "stream",
     "text": [
      "187\n"
     ]
    },
    {
     "name": "stderr",
     "output_type": "stream",
     "text": [
      "/home1/datahome/jmartine/datawork/conda-env/jupyter-lab/lib/python3.10/site-packages/distributed/client.py:3141: UserWarning: Sending large graph of size 12.23 MiB.\n",
      "This may cause some slowdown.\n",
      "Consider scattering data ahead of time and using futures.\n",
      "  warnings.warn(\n"
     ]
    },
    {
     "name": "stdout",
     "output_type": "stream",
     "text": [
      "188\n"
     ]
    },
    {
     "name": "stderr",
     "output_type": "stream",
     "text": [
      "/home1/datahome/jmartine/datawork/conda-env/jupyter-lab/lib/python3.10/site-packages/distributed/client.py:3141: UserWarning: Sending large graph of size 12.23 MiB.\n",
      "This may cause some slowdown.\n",
      "Consider scattering data ahead of time and using futures.\n",
      "  warnings.warn(\n"
     ]
    },
    {
     "name": "stdout",
     "output_type": "stream",
     "text": [
      "189\n"
     ]
    },
    {
     "name": "stderr",
     "output_type": "stream",
     "text": [
      "/home1/datahome/jmartine/datawork/conda-env/jupyter-lab/lib/python3.10/site-packages/distributed/client.py:3141: UserWarning: Sending large graph of size 12.23 MiB.\n",
      "This may cause some slowdown.\n",
      "Consider scattering data ahead of time and using futures.\n",
      "  warnings.warn(\n"
     ]
    },
    {
     "name": "stdout",
     "output_type": "stream",
     "text": [
      "190\n"
     ]
    },
    {
     "name": "stderr",
     "output_type": "stream",
     "text": [
      "/home1/datahome/jmartine/datawork/conda-env/jupyter-lab/lib/python3.10/site-packages/distributed/client.py:3141: UserWarning: Sending large graph of size 12.23 MiB.\n",
      "This may cause some slowdown.\n",
      "Consider scattering data ahead of time and using futures.\n",
      "  warnings.warn(\n"
     ]
    },
    {
     "name": "stdout",
     "output_type": "stream",
     "text": [
      "191\n"
     ]
    },
    {
     "name": "stderr",
     "output_type": "stream",
     "text": [
      "/home1/datahome/jmartine/datawork/conda-env/jupyter-lab/lib/python3.10/site-packages/distributed/client.py:3141: UserWarning: Sending large graph of size 12.23 MiB.\n",
      "This may cause some slowdown.\n",
      "Consider scattering data ahead of time and using futures.\n",
      "  warnings.warn(\n"
     ]
    },
    {
     "name": "stdout",
     "output_type": "stream",
     "text": [
      "192\n"
     ]
    },
    {
     "name": "stderr",
     "output_type": "stream",
     "text": [
      "/home1/datahome/jmartine/datawork/conda-env/jupyter-lab/lib/python3.10/site-packages/distributed/client.py:3141: UserWarning: Sending large graph of size 12.23 MiB.\n",
      "This may cause some slowdown.\n",
      "Consider scattering data ahead of time and using futures.\n",
      "  warnings.warn(\n"
     ]
    },
    {
     "name": "stdout",
     "output_type": "stream",
     "text": [
      "193\n"
     ]
    },
    {
     "name": "stderr",
     "output_type": "stream",
     "text": [
      "/home1/datahome/jmartine/datawork/conda-env/jupyter-lab/lib/python3.10/site-packages/distributed/client.py:3141: UserWarning: Sending large graph of size 12.23 MiB.\n",
      "This may cause some slowdown.\n",
      "Consider scattering data ahead of time and using futures.\n",
      "  warnings.warn(\n"
     ]
    },
    {
     "name": "stdout",
     "output_type": "stream",
     "text": [
      "194\n"
     ]
    },
    {
     "name": "stderr",
     "output_type": "stream",
     "text": [
      "/home1/datahome/jmartine/datawork/conda-env/jupyter-lab/lib/python3.10/site-packages/distributed/client.py:3141: UserWarning: Sending large graph of size 12.23 MiB.\n",
      "This may cause some slowdown.\n",
      "Consider scattering data ahead of time and using futures.\n",
      "  warnings.warn(\n"
     ]
    },
    {
     "name": "stdout",
     "output_type": "stream",
     "text": [
      "195\n"
     ]
    },
    {
     "name": "stderr",
     "output_type": "stream",
     "text": [
      "/home1/datahome/jmartine/datawork/conda-env/jupyter-lab/lib/python3.10/site-packages/distributed/client.py:3141: UserWarning: Sending large graph of size 12.23 MiB.\n",
      "This may cause some slowdown.\n",
      "Consider scattering data ahead of time and using futures.\n",
      "  warnings.warn(\n"
     ]
    },
    {
     "name": "stdout",
     "output_type": "stream",
     "text": [
      "196\n"
     ]
    },
    {
     "name": "stderr",
     "output_type": "stream",
     "text": [
      "/home1/datahome/jmartine/datawork/conda-env/jupyter-lab/lib/python3.10/site-packages/distributed/client.py:3141: UserWarning: Sending large graph of size 12.23 MiB.\n",
      "This may cause some slowdown.\n",
      "Consider scattering data ahead of time and using futures.\n",
      "  warnings.warn(\n"
     ]
    },
    {
     "name": "stdout",
     "output_type": "stream",
     "text": [
      "197\n"
     ]
    },
    {
     "name": "stderr",
     "output_type": "stream",
     "text": [
      "/home1/datahome/jmartine/datawork/conda-env/jupyter-lab/lib/python3.10/site-packages/distributed/client.py:3141: UserWarning: Sending large graph of size 12.23 MiB.\n",
      "This may cause some slowdown.\n",
      "Consider scattering data ahead of time and using futures.\n",
      "  warnings.warn(\n"
     ]
    },
    {
     "name": "stdout",
     "output_type": "stream",
     "text": [
      "198\n"
     ]
    },
    {
     "name": "stderr",
     "output_type": "stream",
     "text": [
      "/home1/datahome/jmartine/datawork/conda-env/jupyter-lab/lib/python3.10/site-packages/distributed/client.py:3141: UserWarning: Sending large graph of size 12.23 MiB.\n",
      "This may cause some slowdown.\n",
      "Consider scattering data ahead of time and using futures.\n",
      "  warnings.warn(\n"
     ]
    },
    {
     "name": "stdout",
     "output_type": "stream",
     "text": [
      "199\n"
     ]
    },
    {
     "name": "stderr",
     "output_type": "stream",
     "text": [
      "/home1/datahome/jmartine/datawork/conda-env/jupyter-lab/lib/python3.10/site-packages/distributed/client.py:3141: UserWarning: Sending large graph of size 12.23 MiB.\n",
      "This may cause some slowdown.\n",
      "Consider scattering data ahead of time and using futures.\n",
      "  warnings.warn(\n"
     ]
    },
    {
     "name": "stdout",
     "output_type": "stream",
     "text": [
      "200\n"
     ]
    },
    {
     "name": "stderr",
     "output_type": "stream",
     "text": [
      "/home1/datahome/jmartine/datawork/conda-env/jupyter-lab/lib/python3.10/site-packages/distributed/client.py:3141: UserWarning: Sending large graph of size 12.23 MiB.\n",
      "This may cause some slowdown.\n",
      "Consider scattering data ahead of time and using futures.\n",
      "  warnings.warn(\n"
     ]
    },
    {
     "name": "stdout",
     "output_type": "stream",
     "text": [
      "201\n"
     ]
    },
    {
     "name": "stderr",
     "output_type": "stream",
     "text": [
      "/home1/datahome/jmartine/datawork/conda-env/jupyter-lab/lib/python3.10/site-packages/distributed/client.py:3141: UserWarning: Sending large graph of size 12.23 MiB.\n",
      "This may cause some slowdown.\n",
      "Consider scattering data ahead of time and using futures.\n",
      "  warnings.warn(\n"
     ]
    },
    {
     "name": "stdout",
     "output_type": "stream",
     "text": [
      "202\n"
     ]
    },
    {
     "name": "stderr",
     "output_type": "stream",
     "text": [
      "/home1/datahome/jmartine/datawork/conda-env/jupyter-lab/lib/python3.10/site-packages/distributed/client.py:3141: UserWarning: Sending large graph of size 12.23 MiB.\n",
      "This may cause some slowdown.\n",
      "Consider scattering data ahead of time and using futures.\n",
      "  warnings.warn(\n"
     ]
    },
    {
     "name": "stdout",
     "output_type": "stream",
     "text": [
      "203\n"
     ]
    },
    {
     "name": "stderr",
     "output_type": "stream",
     "text": [
      "/home1/datahome/jmartine/datawork/conda-env/jupyter-lab/lib/python3.10/site-packages/distributed/client.py:3141: UserWarning: Sending large graph of size 12.23 MiB.\n",
      "This may cause some slowdown.\n",
      "Consider scattering data ahead of time and using futures.\n",
      "  warnings.warn(\n"
     ]
    },
    {
     "name": "stdout",
     "output_type": "stream",
     "text": [
      "204\n"
     ]
    },
    {
     "name": "stderr",
     "output_type": "stream",
     "text": [
      "/home1/datahome/jmartine/datawork/conda-env/jupyter-lab/lib/python3.10/site-packages/distributed/client.py:3141: UserWarning: Sending large graph of size 12.23 MiB.\n",
      "This may cause some slowdown.\n",
      "Consider scattering data ahead of time and using futures.\n",
      "  warnings.warn(\n"
     ]
    },
    {
     "name": "stdout",
     "output_type": "stream",
     "text": [
      "205\n"
     ]
    },
    {
     "name": "stderr",
     "output_type": "stream",
     "text": [
      "/home1/datahome/jmartine/datawork/conda-env/jupyter-lab/lib/python3.10/site-packages/distributed/client.py:3141: UserWarning: Sending large graph of size 12.23 MiB.\n",
      "This may cause some slowdown.\n",
      "Consider scattering data ahead of time and using futures.\n",
      "  warnings.warn(\n"
     ]
    },
    {
     "name": "stdout",
     "output_type": "stream",
     "text": [
      "206\n"
     ]
    },
    {
     "name": "stderr",
     "output_type": "stream",
     "text": [
      "/home1/datahome/jmartine/datawork/conda-env/jupyter-lab/lib/python3.10/site-packages/distributed/client.py:3141: UserWarning: Sending large graph of size 12.23 MiB.\n",
      "This may cause some slowdown.\n",
      "Consider scattering data ahead of time and using futures.\n",
      "  warnings.warn(\n"
     ]
    },
    {
     "name": "stdout",
     "output_type": "stream",
     "text": [
      "207\n"
     ]
    },
    {
     "name": "stderr",
     "output_type": "stream",
     "text": [
      "/home1/datahome/jmartine/datawork/conda-env/jupyter-lab/lib/python3.10/site-packages/distributed/client.py:3141: UserWarning: Sending large graph of size 12.23 MiB.\n",
      "This may cause some slowdown.\n",
      "Consider scattering data ahead of time and using futures.\n",
      "  warnings.warn(\n"
     ]
    },
    {
     "name": "stdout",
     "output_type": "stream",
     "text": [
      "208\n"
     ]
    },
    {
     "name": "stderr",
     "output_type": "stream",
     "text": [
      "/home1/datahome/jmartine/datawork/conda-env/jupyter-lab/lib/python3.10/site-packages/distributed/client.py:3141: UserWarning: Sending large graph of size 12.23 MiB.\n",
      "This may cause some slowdown.\n",
      "Consider scattering data ahead of time and using futures.\n",
      "  warnings.warn(\n"
     ]
    },
    {
     "name": "stdout",
     "output_type": "stream",
     "text": [
      "209\n"
     ]
    },
    {
     "name": "stderr",
     "output_type": "stream",
     "text": [
      "/home1/datahome/jmartine/datawork/conda-env/jupyter-lab/lib/python3.10/site-packages/distributed/client.py:3141: UserWarning: Sending large graph of size 12.23 MiB.\n",
      "This may cause some slowdown.\n",
      "Consider scattering data ahead of time and using futures.\n",
      "  warnings.warn(\n"
     ]
    },
    {
     "name": "stdout",
     "output_type": "stream",
     "text": [
      "210\n"
     ]
    },
    {
     "name": "stderr",
     "output_type": "stream",
     "text": [
      "/home1/datahome/jmartine/datawork/conda-env/jupyter-lab/lib/python3.10/site-packages/distributed/client.py:3141: UserWarning: Sending large graph of size 12.23 MiB.\n",
      "This may cause some slowdown.\n",
      "Consider scattering data ahead of time and using futures.\n",
      "  warnings.warn(\n"
     ]
    },
    {
     "name": "stdout",
     "output_type": "stream",
     "text": [
      "211\n"
     ]
    },
    {
     "name": "stderr",
     "output_type": "stream",
     "text": [
      "/home1/datahome/jmartine/datawork/conda-env/jupyter-lab/lib/python3.10/site-packages/distributed/client.py:3141: UserWarning: Sending large graph of size 12.23 MiB.\n",
      "This may cause some slowdown.\n",
      "Consider scattering data ahead of time and using futures.\n",
      "  warnings.warn(\n"
     ]
    },
    {
     "name": "stdout",
     "output_type": "stream",
     "text": [
      "212\n"
     ]
    },
    {
     "name": "stderr",
     "output_type": "stream",
     "text": [
      "/home1/datahome/jmartine/datawork/conda-env/jupyter-lab/lib/python3.10/site-packages/distributed/client.py:3141: UserWarning: Sending large graph of size 12.23 MiB.\n",
      "This may cause some slowdown.\n",
      "Consider scattering data ahead of time and using futures.\n",
      "  warnings.warn(\n"
     ]
    },
    {
     "name": "stdout",
     "output_type": "stream",
     "text": [
      "213\n"
     ]
    },
    {
     "name": "stderr",
     "output_type": "stream",
     "text": [
      "/home1/datahome/jmartine/datawork/conda-env/jupyter-lab/lib/python3.10/site-packages/distributed/client.py:3141: UserWarning: Sending large graph of size 12.23 MiB.\n",
      "This may cause some slowdown.\n",
      "Consider scattering data ahead of time and using futures.\n",
      "  warnings.warn(\n"
     ]
    },
    {
     "name": "stdout",
     "output_type": "stream",
     "text": [
      "214\n"
     ]
    },
    {
     "name": "stderr",
     "output_type": "stream",
     "text": [
      "/home1/datahome/jmartine/datawork/conda-env/jupyter-lab/lib/python3.10/site-packages/distributed/client.py:3141: UserWarning: Sending large graph of size 12.23 MiB.\n",
      "This may cause some slowdown.\n",
      "Consider scattering data ahead of time and using futures.\n",
      "  warnings.warn(\n"
     ]
    },
    {
     "name": "stdout",
     "output_type": "stream",
     "text": [
      "215\n"
     ]
    },
    {
     "name": "stderr",
     "output_type": "stream",
     "text": [
      "/home1/datahome/jmartine/datawork/conda-env/jupyter-lab/lib/python3.10/site-packages/distributed/client.py:3141: UserWarning: Sending large graph of size 12.23 MiB.\n",
      "This may cause some slowdown.\n",
      "Consider scattering data ahead of time and using futures.\n",
      "  warnings.warn(\n"
     ]
    },
    {
     "name": "stdout",
     "output_type": "stream",
     "text": [
      "216\n"
     ]
    },
    {
     "name": "stderr",
     "output_type": "stream",
     "text": [
      "/home1/datahome/jmartine/datawork/conda-env/jupyter-lab/lib/python3.10/site-packages/distributed/client.py:3141: UserWarning: Sending large graph of size 12.23 MiB.\n",
      "This may cause some slowdown.\n",
      "Consider scattering data ahead of time and using futures.\n",
      "  warnings.warn(\n"
     ]
    },
    {
     "name": "stdout",
     "output_type": "stream",
     "text": [
      "217\n"
     ]
    },
    {
     "name": "stderr",
     "output_type": "stream",
     "text": [
      "/home1/datahome/jmartine/datawork/conda-env/jupyter-lab/lib/python3.10/site-packages/distributed/client.py:3141: UserWarning: Sending large graph of size 12.23 MiB.\n",
      "This may cause some slowdown.\n",
      "Consider scattering data ahead of time and using futures.\n",
      "  warnings.warn(\n"
     ]
    },
    {
     "name": "stdout",
     "output_type": "stream",
     "text": [
      "218\n"
     ]
    },
    {
     "name": "stderr",
     "output_type": "stream",
     "text": [
      "/home1/datahome/jmartine/datawork/conda-env/jupyter-lab/lib/python3.10/site-packages/distributed/client.py:3141: UserWarning: Sending large graph of size 12.23 MiB.\n",
      "This may cause some slowdown.\n",
      "Consider scattering data ahead of time and using futures.\n",
      "  warnings.warn(\n"
     ]
    },
    {
     "name": "stdout",
     "output_type": "stream",
     "text": [
      "219\n"
     ]
    },
    {
     "name": "stderr",
     "output_type": "stream",
     "text": [
      "/home1/datahome/jmartine/datawork/conda-env/jupyter-lab/lib/python3.10/site-packages/distributed/client.py:3141: UserWarning: Sending large graph of size 12.23 MiB.\n",
      "This may cause some slowdown.\n",
      "Consider scattering data ahead of time and using futures.\n",
      "  warnings.warn(\n"
     ]
    },
    {
     "name": "stdout",
     "output_type": "stream",
     "text": [
      "220\n"
     ]
    },
    {
     "name": "stderr",
     "output_type": "stream",
     "text": [
      "/home1/datahome/jmartine/datawork/conda-env/jupyter-lab/lib/python3.10/site-packages/distributed/client.py:3141: UserWarning: Sending large graph of size 12.23 MiB.\n",
      "This may cause some slowdown.\n",
      "Consider scattering data ahead of time and using futures.\n",
      "  warnings.warn(\n"
     ]
    },
    {
     "name": "stdout",
     "output_type": "stream",
     "text": [
      "221\n"
     ]
    },
    {
     "name": "stderr",
     "output_type": "stream",
     "text": [
      "/home1/datahome/jmartine/datawork/conda-env/jupyter-lab/lib/python3.10/site-packages/distributed/client.py:3141: UserWarning: Sending large graph of size 12.23 MiB.\n",
      "This may cause some slowdown.\n",
      "Consider scattering data ahead of time and using futures.\n",
      "  warnings.warn(\n"
     ]
    },
    {
     "name": "stdout",
     "output_type": "stream",
     "text": [
      "222\n"
     ]
    },
    {
     "name": "stderr",
     "output_type": "stream",
     "text": [
      "/home1/datahome/jmartine/datawork/conda-env/jupyter-lab/lib/python3.10/site-packages/distributed/client.py:3141: UserWarning: Sending large graph of size 12.23 MiB.\n",
      "This may cause some slowdown.\n",
      "Consider scattering data ahead of time and using futures.\n",
      "  warnings.warn(\n"
     ]
    },
    {
     "name": "stdout",
     "output_type": "stream",
     "text": [
      "223\n"
     ]
    },
    {
     "name": "stderr",
     "output_type": "stream",
     "text": [
      "/home1/datahome/jmartine/datawork/conda-env/jupyter-lab/lib/python3.10/site-packages/distributed/client.py:3141: UserWarning: Sending large graph of size 12.23 MiB.\n",
      "This may cause some slowdown.\n",
      "Consider scattering data ahead of time and using futures.\n",
      "  warnings.warn(\n"
     ]
    },
    {
     "name": "stdout",
     "output_type": "stream",
     "text": [
      "224\n"
     ]
    },
    {
     "name": "stderr",
     "output_type": "stream",
     "text": [
      "/home1/datahome/jmartine/datawork/conda-env/jupyter-lab/lib/python3.10/site-packages/distributed/client.py:3141: UserWarning: Sending large graph of size 12.23 MiB.\n",
      "This may cause some slowdown.\n",
      "Consider scattering data ahead of time and using futures.\n",
      "  warnings.warn(\n"
     ]
    },
    {
     "name": "stdout",
     "output_type": "stream",
     "text": [
      "225\n"
     ]
    },
    {
     "name": "stderr",
     "output_type": "stream",
     "text": [
      "/home1/datahome/jmartine/datawork/conda-env/jupyter-lab/lib/python3.10/site-packages/distributed/client.py:3141: UserWarning: Sending large graph of size 12.23 MiB.\n",
      "This may cause some slowdown.\n",
      "Consider scattering data ahead of time and using futures.\n",
      "  warnings.warn(\n"
     ]
    },
    {
     "name": "stdout",
     "output_type": "stream",
     "text": [
      "226\n"
     ]
    },
    {
     "name": "stderr",
     "output_type": "stream",
     "text": [
      "/home1/datahome/jmartine/datawork/conda-env/jupyter-lab/lib/python3.10/site-packages/distributed/client.py:3141: UserWarning: Sending large graph of size 12.23 MiB.\n",
      "This may cause some slowdown.\n",
      "Consider scattering data ahead of time and using futures.\n",
      "  warnings.warn(\n"
     ]
    },
    {
     "name": "stdout",
     "output_type": "stream",
     "text": [
      "227\n"
     ]
    },
    {
     "name": "stderr",
     "output_type": "stream",
     "text": [
      "/home1/datahome/jmartine/datawork/conda-env/jupyter-lab/lib/python3.10/site-packages/distributed/client.py:3141: UserWarning: Sending large graph of size 12.23 MiB.\n",
      "This may cause some slowdown.\n",
      "Consider scattering data ahead of time and using futures.\n",
      "  warnings.warn(\n"
     ]
    },
    {
     "name": "stdout",
     "output_type": "stream",
     "text": [
      "228\n"
     ]
    },
    {
     "name": "stderr",
     "output_type": "stream",
     "text": [
      "/home1/datahome/jmartine/datawork/conda-env/jupyter-lab/lib/python3.10/site-packages/distributed/client.py:3141: UserWarning: Sending large graph of size 12.23 MiB.\n",
      "This may cause some slowdown.\n",
      "Consider scattering data ahead of time and using futures.\n",
      "  warnings.warn(\n"
     ]
    },
    {
     "name": "stdout",
     "output_type": "stream",
     "text": [
      "229\n"
     ]
    },
    {
     "name": "stderr",
     "output_type": "stream",
     "text": [
      "/home1/datahome/jmartine/datawork/conda-env/jupyter-lab/lib/python3.10/site-packages/distributed/client.py:3141: UserWarning: Sending large graph of size 12.23 MiB.\n",
      "This may cause some slowdown.\n",
      "Consider scattering data ahead of time and using futures.\n",
      "  warnings.warn(\n"
     ]
    },
    {
     "name": "stdout",
     "output_type": "stream",
     "text": [
      "230\n"
     ]
    },
    {
     "name": "stderr",
     "output_type": "stream",
     "text": [
      "/home1/datahome/jmartine/datawork/conda-env/jupyter-lab/lib/python3.10/site-packages/distributed/client.py:3141: UserWarning: Sending large graph of size 12.23 MiB.\n",
      "This may cause some slowdown.\n",
      "Consider scattering data ahead of time and using futures.\n",
      "  warnings.warn(\n"
     ]
    },
    {
     "name": "stdout",
     "output_type": "stream",
     "text": [
      "231\n"
     ]
    },
    {
     "name": "stderr",
     "output_type": "stream",
     "text": [
      "/home1/datahome/jmartine/datawork/conda-env/jupyter-lab/lib/python3.10/site-packages/distributed/client.py:3141: UserWarning: Sending large graph of size 12.23 MiB.\n",
      "This may cause some slowdown.\n",
      "Consider scattering data ahead of time and using futures.\n",
      "  warnings.warn(\n"
     ]
    },
    {
     "name": "stdout",
     "output_type": "stream",
     "text": [
      "232\n"
     ]
    },
    {
     "name": "stderr",
     "output_type": "stream",
     "text": [
      "/home1/datahome/jmartine/datawork/conda-env/jupyter-lab/lib/python3.10/site-packages/distributed/client.py:3141: UserWarning: Sending large graph of size 12.23 MiB.\n",
      "This may cause some slowdown.\n",
      "Consider scattering data ahead of time and using futures.\n",
      "  warnings.warn(\n"
     ]
    },
    {
     "name": "stdout",
     "output_type": "stream",
     "text": [
      "233\n"
     ]
    },
    {
     "name": "stderr",
     "output_type": "stream",
     "text": [
      "/home1/datahome/jmartine/datawork/conda-env/jupyter-lab/lib/python3.10/site-packages/distributed/client.py:3141: UserWarning: Sending large graph of size 12.23 MiB.\n",
      "This may cause some slowdown.\n",
      "Consider scattering data ahead of time and using futures.\n",
      "  warnings.warn(\n"
     ]
    },
    {
     "name": "stdout",
     "output_type": "stream",
     "text": [
      "234\n"
     ]
    },
    {
     "name": "stderr",
     "output_type": "stream",
     "text": [
      "/home1/datahome/jmartine/datawork/conda-env/jupyter-lab/lib/python3.10/site-packages/distributed/client.py:3141: UserWarning: Sending large graph of size 12.23 MiB.\n",
      "This may cause some slowdown.\n",
      "Consider scattering data ahead of time and using futures.\n",
      "  warnings.warn(\n"
     ]
    },
    {
     "name": "stdout",
     "output_type": "stream",
     "text": [
      "235\n"
     ]
    },
    {
     "name": "stderr",
     "output_type": "stream",
     "text": [
      "/home1/datahome/jmartine/datawork/conda-env/jupyter-lab/lib/python3.10/site-packages/distributed/client.py:3141: UserWarning: Sending large graph of size 12.23 MiB.\n",
      "This may cause some slowdown.\n",
      "Consider scattering data ahead of time and using futures.\n",
      "  warnings.warn(\n"
     ]
    },
    {
     "name": "stdout",
     "output_type": "stream",
     "text": [
      "236\n"
     ]
    },
    {
     "name": "stderr",
     "output_type": "stream",
     "text": [
      "/home1/datahome/jmartine/datawork/conda-env/jupyter-lab/lib/python3.10/site-packages/distributed/client.py:3141: UserWarning: Sending large graph of size 12.23 MiB.\n",
      "This may cause some slowdown.\n",
      "Consider scattering data ahead of time and using futures.\n",
      "  warnings.warn(\n"
     ]
    },
    {
     "name": "stdout",
     "output_type": "stream",
     "text": [
      "237\n"
     ]
    },
    {
     "name": "stderr",
     "output_type": "stream",
     "text": [
      "/home1/datahome/jmartine/datawork/conda-env/jupyter-lab/lib/python3.10/site-packages/distributed/client.py:3141: UserWarning: Sending large graph of size 12.23 MiB.\n",
      "This may cause some slowdown.\n",
      "Consider scattering data ahead of time and using futures.\n",
      "  warnings.warn(\n"
     ]
    },
    {
     "name": "stdout",
     "output_type": "stream",
     "text": [
      "238\n"
     ]
    },
    {
     "name": "stderr",
     "output_type": "stream",
     "text": [
      "/home1/datahome/jmartine/datawork/conda-env/jupyter-lab/lib/python3.10/site-packages/distributed/client.py:3141: UserWarning: Sending large graph of size 12.23 MiB.\n",
      "This may cause some slowdown.\n",
      "Consider scattering data ahead of time and using futures.\n",
      "  warnings.warn(\n"
     ]
    },
    {
     "name": "stdout",
     "output_type": "stream",
     "text": [
      "239\n"
     ]
    },
    {
     "name": "stderr",
     "output_type": "stream",
     "text": [
      "/home1/datahome/jmartine/datawork/conda-env/jupyter-lab/lib/python3.10/site-packages/distributed/client.py:3141: UserWarning: Sending large graph of size 12.23 MiB.\n",
      "This may cause some slowdown.\n",
      "Consider scattering data ahead of time and using futures.\n",
      "  warnings.warn(\n"
     ]
    },
    {
     "name": "stdout",
     "output_type": "stream",
     "text": [
      "240\n"
     ]
    },
    {
     "name": "stderr",
     "output_type": "stream",
     "text": [
      "/home1/datahome/jmartine/datawork/conda-env/jupyter-lab/lib/python3.10/site-packages/distributed/client.py:3141: UserWarning: Sending large graph of size 12.23 MiB.\n",
      "This may cause some slowdown.\n",
      "Consider scattering data ahead of time and using futures.\n",
      "  warnings.warn(\n"
     ]
    },
    {
     "name": "stdout",
     "output_type": "stream",
     "text": [
      "241\n"
     ]
    },
    {
     "name": "stderr",
     "output_type": "stream",
     "text": [
      "/home1/datahome/jmartine/datawork/conda-env/jupyter-lab/lib/python3.10/site-packages/distributed/client.py:3141: UserWarning: Sending large graph of size 12.23 MiB.\n",
      "This may cause some slowdown.\n",
      "Consider scattering data ahead of time and using futures.\n",
      "  warnings.warn(\n"
     ]
    },
    {
     "name": "stdout",
     "output_type": "stream",
     "text": [
      "242\n"
     ]
    },
    {
     "name": "stderr",
     "output_type": "stream",
     "text": [
      "/home1/datahome/jmartine/datawork/conda-env/jupyter-lab/lib/python3.10/site-packages/distributed/client.py:3141: UserWarning: Sending large graph of size 12.23 MiB.\n",
      "This may cause some slowdown.\n",
      "Consider scattering data ahead of time and using futures.\n",
      "  warnings.warn(\n"
     ]
    },
    {
     "name": "stdout",
     "output_type": "stream",
     "text": [
      "243\n"
     ]
    },
    {
     "name": "stderr",
     "output_type": "stream",
     "text": [
      "/home1/datahome/jmartine/datawork/conda-env/jupyter-lab/lib/python3.10/site-packages/distributed/client.py:3141: UserWarning: Sending large graph of size 12.23 MiB.\n",
      "This may cause some slowdown.\n",
      "Consider scattering data ahead of time and using futures.\n",
      "  warnings.warn(\n"
     ]
    },
    {
     "name": "stdout",
     "output_type": "stream",
     "text": [
      "244\n"
     ]
    },
    {
     "name": "stderr",
     "output_type": "stream",
     "text": [
      "/home1/datahome/jmartine/datawork/conda-env/jupyter-lab/lib/python3.10/site-packages/distributed/client.py:3141: UserWarning: Sending large graph of size 12.23 MiB.\n",
      "This may cause some slowdown.\n",
      "Consider scattering data ahead of time and using futures.\n",
      "  warnings.warn(\n"
     ]
    },
    {
     "name": "stdout",
     "output_type": "stream",
     "text": [
      "245\n"
     ]
    },
    {
     "name": "stderr",
     "output_type": "stream",
     "text": [
      "/home1/datahome/jmartine/datawork/conda-env/jupyter-lab/lib/python3.10/site-packages/distributed/client.py:3141: UserWarning: Sending large graph of size 12.23 MiB.\n",
      "This may cause some slowdown.\n",
      "Consider scattering data ahead of time and using futures.\n",
      "  warnings.warn(\n"
     ]
    },
    {
     "name": "stdout",
     "output_type": "stream",
     "text": [
      "246\n"
     ]
    },
    {
     "name": "stderr",
     "output_type": "stream",
     "text": [
      "/home1/datahome/jmartine/datawork/conda-env/jupyter-lab/lib/python3.10/site-packages/distributed/client.py:3141: UserWarning: Sending large graph of size 12.23 MiB.\n",
      "This may cause some slowdown.\n",
      "Consider scattering data ahead of time and using futures.\n",
      "  warnings.warn(\n"
     ]
    },
    {
     "name": "stdout",
     "output_type": "stream",
     "text": [
      "247\n"
     ]
    },
    {
     "name": "stderr",
     "output_type": "stream",
     "text": [
      "/home1/datahome/jmartine/datawork/conda-env/jupyter-lab/lib/python3.10/site-packages/distributed/client.py:3141: UserWarning: Sending large graph of size 12.23 MiB.\n",
      "This may cause some slowdown.\n",
      "Consider scattering data ahead of time and using futures.\n",
      "  warnings.warn(\n"
     ]
    },
    {
     "name": "stdout",
     "output_type": "stream",
     "text": [
      "248\n"
     ]
    },
    {
     "name": "stderr",
     "output_type": "stream",
     "text": [
      "/home1/datahome/jmartine/datawork/conda-env/jupyter-lab/lib/python3.10/site-packages/distributed/client.py:3141: UserWarning: Sending large graph of size 12.23 MiB.\n",
      "This may cause some slowdown.\n",
      "Consider scattering data ahead of time and using futures.\n",
      "  warnings.warn(\n"
     ]
    },
    {
     "name": "stdout",
     "output_type": "stream",
     "text": [
      "249\n"
     ]
    },
    {
     "name": "stderr",
     "output_type": "stream",
     "text": [
      "/home1/datahome/jmartine/datawork/conda-env/jupyter-lab/lib/python3.10/site-packages/distributed/client.py:3141: UserWarning: Sending large graph of size 12.23 MiB.\n",
      "This may cause some slowdown.\n",
      "Consider scattering data ahead of time and using futures.\n",
      "  warnings.warn(\n"
     ]
    },
    {
     "name": "stdout",
     "output_type": "stream",
     "text": [
      "250\n"
     ]
    },
    {
     "name": "stderr",
     "output_type": "stream",
     "text": [
      "/home1/datahome/jmartine/datawork/conda-env/jupyter-lab/lib/python3.10/site-packages/distributed/client.py:3141: UserWarning: Sending large graph of size 12.23 MiB.\n",
      "This may cause some slowdown.\n",
      "Consider scattering data ahead of time and using futures.\n",
      "  warnings.warn(\n"
     ]
    },
    {
     "name": "stdout",
     "output_type": "stream",
     "text": [
      "251\n"
     ]
    },
    {
     "name": "stderr",
     "output_type": "stream",
     "text": [
      "/home1/datahome/jmartine/datawork/conda-env/jupyter-lab/lib/python3.10/site-packages/distributed/client.py:3141: UserWarning: Sending large graph of size 12.23 MiB.\n",
      "This may cause some slowdown.\n",
      "Consider scattering data ahead of time and using futures.\n",
      "  warnings.warn(\n"
     ]
    },
    {
     "name": "stdout",
     "output_type": "stream",
     "text": [
      "252\n"
     ]
    },
    {
     "name": "stderr",
     "output_type": "stream",
     "text": [
      "/home1/datahome/jmartine/datawork/conda-env/jupyter-lab/lib/python3.10/site-packages/distributed/client.py:3141: UserWarning: Sending large graph of size 12.23 MiB.\n",
      "This may cause some slowdown.\n",
      "Consider scattering data ahead of time and using futures.\n",
      "  warnings.warn(\n"
     ]
    },
    {
     "name": "stdout",
     "output_type": "stream",
     "text": [
      "253\n"
     ]
    },
    {
     "name": "stderr",
     "output_type": "stream",
     "text": [
      "/home1/datahome/jmartine/datawork/conda-env/jupyter-lab/lib/python3.10/site-packages/distributed/client.py:3141: UserWarning: Sending large graph of size 12.23 MiB.\n",
      "This may cause some slowdown.\n",
      "Consider scattering data ahead of time and using futures.\n",
      "  warnings.warn(\n"
     ]
    },
    {
     "name": "stdout",
     "output_type": "stream",
     "text": [
      "254\n"
     ]
    },
    {
     "name": "stderr",
     "output_type": "stream",
     "text": [
      "/home1/datahome/jmartine/datawork/conda-env/jupyter-lab/lib/python3.10/site-packages/distributed/client.py:3141: UserWarning: Sending large graph of size 12.23 MiB.\n",
      "This may cause some slowdown.\n",
      "Consider scattering data ahead of time and using futures.\n",
      "  warnings.warn(\n"
     ]
    },
    {
     "name": "stdout",
     "output_type": "stream",
     "text": [
      "255\n"
     ]
    },
    {
     "name": "stderr",
     "output_type": "stream",
     "text": [
      "/home1/datahome/jmartine/datawork/conda-env/jupyter-lab/lib/python3.10/site-packages/distributed/client.py:3141: UserWarning: Sending large graph of size 12.23 MiB.\n",
      "This may cause some slowdown.\n",
      "Consider scattering data ahead of time and using futures.\n",
      "  warnings.warn(\n"
     ]
    },
    {
     "name": "stdout",
     "output_type": "stream",
     "text": [
      "256\n"
     ]
    },
    {
     "name": "stderr",
     "output_type": "stream",
     "text": [
      "/home1/datahome/jmartine/datawork/conda-env/jupyter-lab/lib/python3.10/site-packages/distributed/client.py:3141: UserWarning: Sending large graph of size 12.23 MiB.\n",
      "This may cause some slowdown.\n",
      "Consider scattering data ahead of time and using futures.\n",
      "  warnings.warn(\n"
     ]
    },
    {
     "name": "stdout",
     "output_type": "stream",
     "text": [
      "257\n"
     ]
    },
    {
     "name": "stderr",
     "output_type": "stream",
     "text": [
      "/home1/datahome/jmartine/datawork/conda-env/jupyter-lab/lib/python3.10/site-packages/distributed/client.py:3141: UserWarning: Sending large graph of size 12.23 MiB.\n",
      "This may cause some slowdown.\n",
      "Consider scattering data ahead of time and using futures.\n",
      "  warnings.warn(\n"
     ]
    },
    {
     "name": "stdout",
     "output_type": "stream",
     "text": [
      "258\n"
     ]
    },
    {
     "name": "stderr",
     "output_type": "stream",
     "text": [
      "/home1/datahome/jmartine/datawork/conda-env/jupyter-lab/lib/python3.10/site-packages/distributed/client.py:3141: UserWarning: Sending large graph of size 12.23 MiB.\n",
      "This may cause some slowdown.\n",
      "Consider scattering data ahead of time and using futures.\n",
      "  warnings.warn(\n"
     ]
    },
    {
     "name": "stdout",
     "output_type": "stream",
     "text": [
      "259\n"
     ]
    },
    {
     "name": "stderr",
     "output_type": "stream",
     "text": [
      "/home1/datahome/jmartine/datawork/conda-env/jupyter-lab/lib/python3.10/site-packages/distributed/client.py:3141: UserWarning: Sending large graph of size 12.23 MiB.\n",
      "This may cause some slowdown.\n",
      "Consider scattering data ahead of time and using futures.\n",
      "  warnings.warn(\n"
     ]
    },
    {
     "name": "stdout",
     "output_type": "stream",
     "text": [
      "260\n"
     ]
    },
    {
     "name": "stderr",
     "output_type": "stream",
     "text": [
      "/home1/datahome/jmartine/datawork/conda-env/jupyter-lab/lib/python3.10/site-packages/distributed/client.py:3141: UserWarning: Sending large graph of size 12.23 MiB.\n",
      "This may cause some slowdown.\n",
      "Consider scattering data ahead of time and using futures.\n",
      "  warnings.warn(\n"
     ]
    },
    {
     "name": "stdout",
     "output_type": "stream",
     "text": [
      "261\n"
     ]
    },
    {
     "name": "stderr",
     "output_type": "stream",
     "text": [
      "/home1/datahome/jmartine/datawork/conda-env/jupyter-lab/lib/python3.10/site-packages/distributed/client.py:3141: UserWarning: Sending large graph of size 12.23 MiB.\n",
      "This may cause some slowdown.\n",
      "Consider scattering data ahead of time and using futures.\n",
      "  warnings.warn(\n"
     ]
    },
    {
     "name": "stdout",
     "output_type": "stream",
     "text": [
      "262\n"
     ]
    },
    {
     "name": "stderr",
     "output_type": "stream",
     "text": [
      "/home1/datahome/jmartine/datawork/conda-env/jupyter-lab/lib/python3.10/site-packages/distributed/client.py:3141: UserWarning: Sending large graph of size 12.23 MiB.\n",
      "This may cause some slowdown.\n",
      "Consider scattering data ahead of time and using futures.\n",
      "  warnings.warn(\n"
     ]
    },
    {
     "name": "stdout",
     "output_type": "stream",
     "text": [
      "263\n"
     ]
    },
    {
     "name": "stderr",
     "output_type": "stream",
     "text": [
      "/home1/datahome/jmartine/datawork/conda-env/jupyter-lab/lib/python3.10/site-packages/distributed/client.py:3141: UserWarning: Sending large graph of size 12.23 MiB.\n",
      "This may cause some slowdown.\n",
      "Consider scattering data ahead of time and using futures.\n",
      "  warnings.warn(\n"
     ]
    },
    {
     "name": "stdout",
     "output_type": "stream",
     "text": [
      "264\n"
     ]
    },
    {
     "name": "stderr",
     "output_type": "stream",
     "text": [
      "/home1/datahome/jmartine/datawork/conda-env/jupyter-lab/lib/python3.10/site-packages/distributed/client.py:3141: UserWarning: Sending large graph of size 12.23 MiB.\n",
      "This may cause some slowdown.\n",
      "Consider scattering data ahead of time and using futures.\n",
      "  warnings.warn(\n"
     ]
    },
    {
     "name": "stdout",
     "output_type": "stream",
     "text": [
      "265\n"
     ]
    },
    {
     "name": "stderr",
     "output_type": "stream",
     "text": [
      "/home1/datahome/jmartine/datawork/conda-env/jupyter-lab/lib/python3.10/site-packages/distributed/client.py:3141: UserWarning: Sending large graph of size 12.23 MiB.\n",
      "This may cause some slowdown.\n",
      "Consider scattering data ahead of time and using futures.\n",
      "  warnings.warn(\n"
     ]
    },
    {
     "name": "stdout",
     "output_type": "stream",
     "text": [
      "266\n"
     ]
    },
    {
     "name": "stderr",
     "output_type": "stream",
     "text": [
      "/home1/datahome/jmartine/datawork/conda-env/jupyter-lab/lib/python3.10/site-packages/distributed/client.py:3141: UserWarning: Sending large graph of size 12.23 MiB.\n",
      "This may cause some slowdown.\n",
      "Consider scattering data ahead of time and using futures.\n",
      "  warnings.warn(\n"
     ]
    },
    {
     "name": "stdout",
     "output_type": "stream",
     "text": [
      "267\n"
     ]
    },
    {
     "name": "stderr",
     "output_type": "stream",
     "text": [
      "/home1/datahome/jmartine/datawork/conda-env/jupyter-lab/lib/python3.10/site-packages/distributed/client.py:3141: UserWarning: Sending large graph of size 12.23 MiB.\n",
      "This may cause some slowdown.\n",
      "Consider scattering data ahead of time and using futures.\n",
      "  warnings.warn(\n"
     ]
    },
    {
     "name": "stdout",
     "output_type": "stream",
     "text": [
      "268\n"
     ]
    },
    {
     "name": "stderr",
     "output_type": "stream",
     "text": [
      "/home1/datahome/jmartine/datawork/conda-env/jupyter-lab/lib/python3.10/site-packages/distributed/client.py:3141: UserWarning: Sending large graph of size 12.23 MiB.\n",
      "This may cause some slowdown.\n",
      "Consider scattering data ahead of time and using futures.\n",
      "  warnings.warn(\n"
     ]
    },
    {
     "name": "stdout",
     "output_type": "stream",
     "text": [
      "269\n"
     ]
    },
    {
     "name": "stderr",
     "output_type": "stream",
     "text": [
      "/home1/datahome/jmartine/datawork/conda-env/jupyter-lab/lib/python3.10/site-packages/distributed/client.py:3141: UserWarning: Sending large graph of size 12.23 MiB.\n",
      "This may cause some slowdown.\n",
      "Consider scattering data ahead of time and using futures.\n",
      "  warnings.warn(\n"
     ]
    },
    {
     "name": "stdout",
     "output_type": "stream",
     "text": [
      "270\n"
     ]
    },
    {
     "name": "stderr",
     "output_type": "stream",
     "text": [
      "/home1/datahome/jmartine/datawork/conda-env/jupyter-lab/lib/python3.10/site-packages/distributed/client.py:3141: UserWarning: Sending large graph of size 12.23 MiB.\n",
      "This may cause some slowdown.\n",
      "Consider scattering data ahead of time and using futures.\n",
      "  warnings.warn(\n"
     ]
    },
    {
     "name": "stdout",
     "output_type": "stream",
     "text": [
      "271\n"
     ]
    },
    {
     "name": "stderr",
     "output_type": "stream",
     "text": [
      "/home1/datahome/jmartine/datawork/conda-env/jupyter-lab/lib/python3.10/site-packages/distributed/client.py:3141: UserWarning: Sending large graph of size 12.23 MiB.\n",
      "This may cause some slowdown.\n",
      "Consider scattering data ahead of time and using futures.\n",
      "  warnings.warn(\n"
     ]
    },
    {
     "name": "stdout",
     "output_type": "stream",
     "text": [
      "272\n"
     ]
    },
    {
     "name": "stderr",
     "output_type": "stream",
     "text": [
      "/home1/datahome/jmartine/datawork/conda-env/jupyter-lab/lib/python3.10/site-packages/distributed/client.py:3141: UserWarning: Sending large graph of size 12.23 MiB.\n",
      "This may cause some slowdown.\n",
      "Consider scattering data ahead of time and using futures.\n",
      "  warnings.warn(\n"
     ]
    },
    {
     "name": "stdout",
     "output_type": "stream",
     "text": [
      "273\n"
     ]
    },
    {
     "name": "stderr",
     "output_type": "stream",
     "text": [
      "/home1/datahome/jmartine/datawork/conda-env/jupyter-lab/lib/python3.10/site-packages/distributed/client.py:3141: UserWarning: Sending large graph of size 12.23 MiB.\n",
      "This may cause some slowdown.\n",
      "Consider scattering data ahead of time and using futures.\n",
      "  warnings.warn(\n"
     ]
    },
    {
     "name": "stdout",
     "output_type": "stream",
     "text": [
      "274\n"
     ]
    },
    {
     "name": "stderr",
     "output_type": "stream",
     "text": [
      "/home1/datahome/jmartine/datawork/conda-env/jupyter-lab/lib/python3.10/site-packages/distributed/client.py:3141: UserWarning: Sending large graph of size 12.23 MiB.\n",
      "This may cause some slowdown.\n",
      "Consider scattering data ahead of time and using futures.\n",
      "  warnings.warn(\n"
     ]
    },
    {
     "name": "stdout",
     "output_type": "stream",
     "text": [
      "275\n"
     ]
    },
    {
     "name": "stderr",
     "output_type": "stream",
     "text": [
      "/home1/datahome/jmartine/datawork/conda-env/jupyter-lab/lib/python3.10/site-packages/distributed/client.py:3141: UserWarning: Sending large graph of size 12.23 MiB.\n",
      "This may cause some slowdown.\n",
      "Consider scattering data ahead of time and using futures.\n",
      "  warnings.warn(\n"
     ]
    },
    {
     "name": "stdout",
     "output_type": "stream",
     "text": [
      "276\n"
     ]
    },
    {
     "name": "stderr",
     "output_type": "stream",
     "text": [
      "/home1/datahome/jmartine/datawork/conda-env/jupyter-lab/lib/python3.10/site-packages/distributed/client.py:3141: UserWarning: Sending large graph of size 12.23 MiB.\n",
      "This may cause some slowdown.\n",
      "Consider scattering data ahead of time and using futures.\n",
      "  warnings.warn(\n"
     ]
    },
    {
     "name": "stdout",
     "output_type": "stream",
     "text": [
      "277\n"
     ]
    },
    {
     "name": "stderr",
     "output_type": "stream",
     "text": [
      "/home1/datahome/jmartine/datawork/conda-env/jupyter-lab/lib/python3.10/site-packages/distributed/client.py:3141: UserWarning: Sending large graph of size 12.23 MiB.\n",
      "This may cause some slowdown.\n",
      "Consider scattering data ahead of time and using futures.\n",
      "  warnings.warn(\n"
     ]
    },
    {
     "name": "stdout",
     "output_type": "stream",
     "text": [
      "278\n"
     ]
    },
    {
     "name": "stderr",
     "output_type": "stream",
     "text": [
      "/home1/datahome/jmartine/datawork/conda-env/jupyter-lab/lib/python3.10/site-packages/distributed/client.py:3141: UserWarning: Sending large graph of size 12.23 MiB.\n",
      "This may cause some slowdown.\n",
      "Consider scattering data ahead of time and using futures.\n",
      "  warnings.warn(\n"
     ]
    },
    {
     "name": "stdout",
     "output_type": "stream",
     "text": [
      "279\n"
     ]
    },
    {
     "name": "stderr",
     "output_type": "stream",
     "text": [
      "/home1/datahome/jmartine/datawork/conda-env/jupyter-lab/lib/python3.10/site-packages/distributed/client.py:3141: UserWarning: Sending large graph of size 12.23 MiB.\n",
      "This may cause some slowdown.\n",
      "Consider scattering data ahead of time and using futures.\n",
      "  warnings.warn(\n"
     ]
    },
    {
     "name": "stdout",
     "output_type": "stream",
     "text": [
      "280\n"
     ]
    },
    {
     "name": "stderr",
     "output_type": "stream",
     "text": [
      "/home1/datahome/jmartine/datawork/conda-env/jupyter-lab/lib/python3.10/site-packages/distributed/client.py:3141: UserWarning: Sending large graph of size 12.23 MiB.\n",
      "This may cause some slowdown.\n",
      "Consider scattering data ahead of time and using futures.\n",
      "  warnings.warn(\n"
     ]
    },
    {
     "name": "stdout",
     "output_type": "stream",
     "text": [
      "281\n"
     ]
    },
    {
     "name": "stderr",
     "output_type": "stream",
     "text": [
      "/home1/datahome/jmartine/datawork/conda-env/jupyter-lab/lib/python3.10/site-packages/distributed/client.py:3141: UserWarning: Sending large graph of size 12.23 MiB.\n",
      "This may cause some slowdown.\n",
      "Consider scattering data ahead of time and using futures.\n",
      "  warnings.warn(\n"
     ]
    },
    {
     "name": "stdout",
     "output_type": "stream",
     "text": [
      "282\n"
     ]
    },
    {
     "name": "stderr",
     "output_type": "stream",
     "text": [
      "/home1/datahome/jmartine/datawork/conda-env/jupyter-lab/lib/python3.10/site-packages/distributed/client.py:3141: UserWarning: Sending large graph of size 12.23 MiB.\n",
      "This may cause some slowdown.\n",
      "Consider scattering data ahead of time and using futures.\n",
      "  warnings.warn(\n"
     ]
    },
    {
     "name": "stdout",
     "output_type": "stream",
     "text": [
      "283\n"
     ]
    },
    {
     "name": "stderr",
     "output_type": "stream",
     "text": [
      "/home1/datahome/jmartine/datawork/conda-env/jupyter-lab/lib/python3.10/site-packages/distributed/client.py:3141: UserWarning: Sending large graph of size 12.23 MiB.\n",
      "This may cause some slowdown.\n",
      "Consider scattering data ahead of time and using futures.\n",
      "  warnings.warn(\n"
     ]
    },
    {
     "name": "stdout",
     "output_type": "stream",
     "text": [
      "284\n"
     ]
    },
    {
     "name": "stderr",
     "output_type": "stream",
     "text": [
      "/home1/datahome/jmartine/datawork/conda-env/jupyter-lab/lib/python3.10/site-packages/distributed/client.py:3141: UserWarning: Sending large graph of size 12.23 MiB.\n",
      "This may cause some slowdown.\n",
      "Consider scattering data ahead of time and using futures.\n",
      "  warnings.warn(\n"
     ]
    },
    {
     "name": "stdout",
     "output_type": "stream",
     "text": [
      "285\n"
     ]
    },
    {
     "name": "stderr",
     "output_type": "stream",
     "text": [
      "/home1/datahome/jmartine/datawork/conda-env/jupyter-lab/lib/python3.10/site-packages/distributed/client.py:3141: UserWarning: Sending large graph of size 12.23 MiB.\n",
      "This may cause some slowdown.\n",
      "Consider scattering data ahead of time and using futures.\n",
      "  warnings.warn(\n"
     ]
    },
    {
     "name": "stdout",
     "output_type": "stream",
     "text": [
      "286\n"
     ]
    },
    {
     "name": "stderr",
     "output_type": "stream",
     "text": [
      "/home1/datahome/jmartine/datawork/conda-env/jupyter-lab/lib/python3.10/site-packages/distributed/client.py:3141: UserWarning: Sending large graph of size 12.23 MiB.\n",
      "This may cause some slowdown.\n",
      "Consider scattering data ahead of time and using futures.\n",
      "  warnings.warn(\n"
     ]
    },
    {
     "name": "stdout",
     "output_type": "stream",
     "text": [
      "287\n"
     ]
    },
    {
     "name": "stderr",
     "output_type": "stream",
     "text": [
      "/home1/datahome/jmartine/datawork/conda-env/jupyter-lab/lib/python3.10/site-packages/distributed/client.py:3141: UserWarning: Sending large graph of size 12.23 MiB.\n",
      "This may cause some slowdown.\n",
      "Consider scattering data ahead of time and using futures.\n",
      "  warnings.warn(\n"
     ]
    },
    {
     "name": "stdout",
     "output_type": "stream",
     "text": [
      "288\n"
     ]
    },
    {
     "name": "stderr",
     "output_type": "stream",
     "text": [
      "/home1/datahome/jmartine/datawork/conda-env/jupyter-lab/lib/python3.10/site-packages/distributed/client.py:3141: UserWarning: Sending large graph of size 12.23 MiB.\n",
      "This may cause some slowdown.\n",
      "Consider scattering data ahead of time and using futures.\n",
      "  warnings.warn(\n"
     ]
    },
    {
     "name": "stdout",
     "output_type": "stream",
     "text": [
      "289\n"
     ]
    },
    {
     "name": "stderr",
     "output_type": "stream",
     "text": [
      "/home1/datahome/jmartine/datawork/conda-env/jupyter-lab/lib/python3.10/site-packages/distributed/client.py:3141: UserWarning: Sending large graph of size 12.23 MiB.\n",
      "This may cause some slowdown.\n",
      "Consider scattering data ahead of time and using futures.\n",
      "  warnings.warn(\n"
     ]
    },
    {
     "name": "stdout",
     "output_type": "stream",
     "text": [
      "290\n"
     ]
    },
    {
     "name": "stderr",
     "output_type": "stream",
     "text": [
      "/home1/datahome/jmartine/datawork/conda-env/jupyter-lab/lib/python3.10/site-packages/distributed/client.py:3141: UserWarning: Sending large graph of size 12.23 MiB.\n",
      "This may cause some slowdown.\n",
      "Consider scattering data ahead of time and using futures.\n",
      "  warnings.warn(\n"
     ]
    },
    {
     "name": "stdout",
     "output_type": "stream",
     "text": [
      "291\n"
     ]
    },
    {
     "name": "stderr",
     "output_type": "stream",
     "text": [
      "/home1/datahome/jmartine/datawork/conda-env/jupyter-lab/lib/python3.10/site-packages/distributed/client.py:3141: UserWarning: Sending large graph of size 12.23 MiB.\n",
      "This may cause some slowdown.\n",
      "Consider scattering data ahead of time and using futures.\n",
      "  warnings.warn(\n"
     ]
    },
    {
     "name": "stdout",
     "output_type": "stream",
     "text": [
      "292\n"
     ]
    },
    {
     "name": "stderr",
     "output_type": "stream",
     "text": [
      "/home1/datahome/jmartine/datawork/conda-env/jupyter-lab/lib/python3.10/site-packages/distributed/client.py:3141: UserWarning: Sending large graph of size 12.23 MiB.\n",
      "This may cause some slowdown.\n",
      "Consider scattering data ahead of time and using futures.\n",
      "  warnings.warn(\n"
     ]
    },
    {
     "name": "stdout",
     "output_type": "stream",
     "text": [
      "293\n"
     ]
    },
    {
     "name": "stderr",
     "output_type": "stream",
     "text": [
      "/home1/datahome/jmartine/datawork/conda-env/jupyter-lab/lib/python3.10/site-packages/distributed/client.py:3141: UserWarning: Sending large graph of size 12.23 MiB.\n",
      "This may cause some slowdown.\n",
      "Consider scattering data ahead of time and using futures.\n",
      "  warnings.warn(\n"
     ]
    },
    {
     "name": "stdout",
     "output_type": "stream",
     "text": [
      "294\n"
     ]
    },
    {
     "name": "stderr",
     "output_type": "stream",
     "text": [
      "/home1/datahome/jmartine/datawork/conda-env/jupyter-lab/lib/python3.10/site-packages/distributed/client.py:3141: UserWarning: Sending large graph of size 12.23 MiB.\n",
      "This may cause some slowdown.\n",
      "Consider scattering data ahead of time and using futures.\n",
      "  warnings.warn(\n"
     ]
    },
    {
     "name": "stdout",
     "output_type": "stream",
     "text": [
      "295\n"
     ]
    },
    {
     "name": "stderr",
     "output_type": "stream",
     "text": [
      "/home1/datahome/jmartine/datawork/conda-env/jupyter-lab/lib/python3.10/site-packages/distributed/client.py:3141: UserWarning: Sending large graph of size 12.23 MiB.\n",
      "This may cause some slowdown.\n",
      "Consider scattering data ahead of time and using futures.\n",
      "  warnings.warn(\n"
     ]
    },
    {
     "name": "stdout",
     "output_type": "stream",
     "text": [
      "296\n"
     ]
    },
    {
     "name": "stderr",
     "output_type": "stream",
     "text": [
      "/home1/datahome/jmartine/datawork/conda-env/jupyter-lab/lib/python3.10/site-packages/distributed/client.py:3141: UserWarning: Sending large graph of size 12.23 MiB.\n",
      "This may cause some slowdown.\n",
      "Consider scattering data ahead of time and using futures.\n",
      "  warnings.warn(\n"
     ]
    },
    {
     "name": "stdout",
     "output_type": "stream",
     "text": [
      "297\n"
     ]
    },
    {
     "name": "stderr",
     "output_type": "stream",
     "text": [
      "/home1/datahome/jmartine/datawork/conda-env/jupyter-lab/lib/python3.10/site-packages/distributed/client.py:3141: UserWarning: Sending large graph of size 12.23 MiB.\n",
      "This may cause some slowdown.\n",
      "Consider scattering data ahead of time and using futures.\n",
      "  warnings.warn(\n"
     ]
    },
    {
     "name": "stdout",
     "output_type": "stream",
     "text": [
      "298\n"
     ]
    },
    {
     "name": "stderr",
     "output_type": "stream",
     "text": [
      "/home1/datahome/jmartine/datawork/conda-env/jupyter-lab/lib/python3.10/site-packages/distributed/client.py:3141: UserWarning: Sending large graph of size 12.23 MiB.\n",
      "This may cause some slowdown.\n",
      "Consider scattering data ahead of time and using futures.\n",
      "  warnings.warn(\n"
     ]
    },
    {
     "name": "stdout",
     "output_type": "stream",
     "text": [
      "299\n"
     ]
    },
    {
     "name": "stderr",
     "output_type": "stream",
     "text": [
      "/home1/datahome/jmartine/datawork/conda-env/jupyter-lab/lib/python3.10/site-packages/distributed/client.py:3141: UserWarning: Sending large graph of size 12.23 MiB.\n",
      "This may cause some slowdown.\n",
      "Consider scattering data ahead of time and using futures.\n",
      "  warnings.warn(\n"
     ]
    },
    {
     "name": "stdout",
     "output_type": "stream",
     "text": [
      "300\n"
     ]
    },
    {
     "name": "stderr",
     "output_type": "stream",
     "text": [
      "/home1/datahome/jmartine/datawork/conda-env/jupyter-lab/lib/python3.10/site-packages/distributed/client.py:3141: UserWarning: Sending large graph of size 12.23 MiB.\n",
      "This may cause some slowdown.\n",
      "Consider scattering data ahead of time and using futures.\n",
      "  warnings.warn(\n"
     ]
    },
    {
     "name": "stdout",
     "output_type": "stream",
     "text": [
      "301\n"
     ]
    },
    {
     "name": "stderr",
     "output_type": "stream",
     "text": [
      "/home1/datahome/jmartine/datawork/conda-env/jupyter-lab/lib/python3.10/site-packages/distributed/client.py:3141: UserWarning: Sending large graph of size 12.23 MiB.\n",
      "This may cause some slowdown.\n",
      "Consider scattering data ahead of time and using futures.\n",
      "  warnings.warn(\n"
     ]
    },
    {
     "name": "stdout",
     "output_type": "stream",
     "text": [
      "302\n"
     ]
    },
    {
     "name": "stderr",
     "output_type": "stream",
     "text": [
      "/home1/datahome/jmartine/datawork/conda-env/jupyter-lab/lib/python3.10/site-packages/distributed/client.py:3141: UserWarning: Sending large graph of size 12.23 MiB.\n",
      "This may cause some slowdown.\n",
      "Consider scattering data ahead of time and using futures.\n",
      "  warnings.warn(\n"
     ]
    },
    {
     "name": "stdout",
     "output_type": "stream",
     "text": [
      "303\n"
     ]
    },
    {
     "name": "stderr",
     "output_type": "stream",
     "text": [
      "/home1/datahome/jmartine/datawork/conda-env/jupyter-lab/lib/python3.10/site-packages/distributed/client.py:3141: UserWarning: Sending large graph of size 12.23 MiB.\n",
      "This may cause some slowdown.\n",
      "Consider scattering data ahead of time and using futures.\n",
      "  warnings.warn(\n"
     ]
    },
    {
     "name": "stdout",
     "output_type": "stream",
     "text": [
      "304\n"
     ]
    },
    {
     "name": "stderr",
     "output_type": "stream",
     "text": [
      "/home1/datahome/jmartine/datawork/conda-env/jupyter-lab/lib/python3.10/site-packages/distributed/client.py:3141: UserWarning: Sending large graph of size 12.23 MiB.\n",
      "This may cause some slowdown.\n",
      "Consider scattering data ahead of time and using futures.\n",
      "  warnings.warn(\n"
     ]
    },
    {
     "name": "stdout",
     "output_type": "stream",
     "text": [
      "305\n"
     ]
    },
    {
     "name": "stderr",
     "output_type": "stream",
     "text": [
      "/home1/datahome/jmartine/datawork/conda-env/jupyter-lab/lib/python3.10/site-packages/distributed/client.py:3141: UserWarning: Sending large graph of size 12.23 MiB.\n",
      "This may cause some slowdown.\n",
      "Consider scattering data ahead of time and using futures.\n",
      "  warnings.warn(\n"
     ]
    },
    {
     "name": "stdout",
     "output_type": "stream",
     "text": [
      "306\n"
     ]
    },
    {
     "name": "stderr",
     "output_type": "stream",
     "text": [
      "/home1/datahome/jmartine/datawork/conda-env/jupyter-lab/lib/python3.10/site-packages/distributed/client.py:3141: UserWarning: Sending large graph of size 12.23 MiB.\n",
      "This may cause some slowdown.\n",
      "Consider scattering data ahead of time and using futures.\n",
      "  warnings.warn(\n"
     ]
    },
    {
     "name": "stdout",
     "output_type": "stream",
     "text": [
      "307\n"
     ]
    },
    {
     "name": "stderr",
     "output_type": "stream",
     "text": [
      "/home1/datahome/jmartine/datawork/conda-env/jupyter-lab/lib/python3.10/site-packages/distributed/client.py:3141: UserWarning: Sending large graph of size 12.23 MiB.\n",
      "This may cause some slowdown.\n",
      "Consider scattering data ahead of time and using futures.\n",
      "  warnings.warn(\n"
     ]
    },
    {
     "name": "stdout",
     "output_type": "stream",
     "text": [
      "308\n"
     ]
    },
    {
     "name": "stderr",
     "output_type": "stream",
     "text": [
      "/home1/datahome/jmartine/datawork/conda-env/jupyter-lab/lib/python3.10/site-packages/distributed/client.py:3141: UserWarning: Sending large graph of size 12.23 MiB.\n",
      "This may cause some slowdown.\n",
      "Consider scattering data ahead of time and using futures.\n",
      "  warnings.warn(\n"
     ]
    },
    {
     "name": "stdout",
     "output_type": "stream",
     "text": [
      "309\n"
     ]
    },
    {
     "name": "stderr",
     "output_type": "stream",
     "text": [
      "/home1/datahome/jmartine/datawork/conda-env/jupyter-lab/lib/python3.10/site-packages/distributed/client.py:3141: UserWarning: Sending large graph of size 12.23 MiB.\n",
      "This may cause some slowdown.\n",
      "Consider scattering data ahead of time and using futures.\n",
      "  warnings.warn(\n"
     ]
    },
    {
     "name": "stdout",
     "output_type": "stream",
     "text": [
      "310\n"
     ]
    },
    {
     "name": "stderr",
     "output_type": "stream",
     "text": [
      "/home1/datahome/jmartine/datawork/conda-env/jupyter-lab/lib/python3.10/site-packages/distributed/client.py:3141: UserWarning: Sending large graph of size 12.23 MiB.\n",
      "This may cause some slowdown.\n",
      "Consider scattering data ahead of time and using futures.\n",
      "  warnings.warn(\n"
     ]
    },
    {
     "name": "stdout",
     "output_type": "stream",
     "text": [
      "311\n"
     ]
    },
    {
     "name": "stderr",
     "output_type": "stream",
     "text": [
      "/home1/datahome/jmartine/datawork/conda-env/jupyter-lab/lib/python3.10/site-packages/distributed/client.py:3141: UserWarning: Sending large graph of size 12.23 MiB.\n",
      "This may cause some slowdown.\n",
      "Consider scattering data ahead of time and using futures.\n",
      "  warnings.warn(\n"
     ]
    },
    {
     "name": "stdout",
     "output_type": "stream",
     "text": [
      "312\n"
     ]
    },
    {
     "name": "stderr",
     "output_type": "stream",
     "text": [
      "/home1/datahome/jmartine/datawork/conda-env/jupyter-lab/lib/python3.10/site-packages/distributed/client.py:3141: UserWarning: Sending large graph of size 12.23 MiB.\n",
      "This may cause some slowdown.\n",
      "Consider scattering data ahead of time and using futures.\n",
      "  warnings.warn(\n"
     ]
    },
    {
     "name": "stdout",
     "output_type": "stream",
     "text": [
      "313\n"
     ]
    },
    {
     "name": "stderr",
     "output_type": "stream",
     "text": [
      "/home1/datahome/jmartine/datawork/conda-env/jupyter-lab/lib/python3.10/site-packages/distributed/client.py:3141: UserWarning: Sending large graph of size 12.23 MiB.\n",
      "This may cause some slowdown.\n",
      "Consider scattering data ahead of time and using futures.\n",
      "  warnings.warn(\n"
     ]
    },
    {
     "name": "stdout",
     "output_type": "stream",
     "text": [
      "314\n"
     ]
    },
    {
     "name": "stderr",
     "output_type": "stream",
     "text": [
      "/home1/datahome/jmartine/datawork/conda-env/jupyter-lab/lib/python3.10/site-packages/distributed/client.py:3141: UserWarning: Sending large graph of size 12.23 MiB.\n",
      "This may cause some slowdown.\n",
      "Consider scattering data ahead of time and using futures.\n",
      "  warnings.warn(\n"
     ]
    },
    {
     "name": "stdout",
     "output_type": "stream",
     "text": [
      "315\n"
     ]
    },
    {
     "name": "stderr",
     "output_type": "stream",
     "text": [
      "/home1/datahome/jmartine/datawork/conda-env/jupyter-lab/lib/python3.10/site-packages/distributed/client.py:3141: UserWarning: Sending large graph of size 12.23 MiB.\n",
      "This may cause some slowdown.\n",
      "Consider scattering data ahead of time and using futures.\n",
      "  warnings.warn(\n"
     ]
    },
    {
     "name": "stdout",
     "output_type": "stream",
     "text": [
      "316\n"
     ]
    },
    {
     "name": "stderr",
     "output_type": "stream",
     "text": [
      "/home1/datahome/jmartine/datawork/conda-env/jupyter-lab/lib/python3.10/site-packages/distributed/client.py:3141: UserWarning: Sending large graph of size 12.23 MiB.\n",
      "This may cause some slowdown.\n",
      "Consider scattering data ahead of time and using futures.\n",
      "  warnings.warn(\n"
     ]
    },
    {
     "name": "stdout",
     "output_type": "stream",
     "text": [
      "317\n"
     ]
    },
    {
     "name": "stderr",
     "output_type": "stream",
     "text": [
      "/home1/datahome/jmartine/datawork/conda-env/jupyter-lab/lib/python3.10/site-packages/distributed/client.py:3141: UserWarning: Sending large graph of size 12.23 MiB.\n",
      "This may cause some slowdown.\n",
      "Consider scattering data ahead of time and using futures.\n",
      "  warnings.warn(\n"
     ]
    },
    {
     "name": "stdout",
     "output_type": "stream",
     "text": [
      "318\n"
     ]
    },
    {
     "name": "stderr",
     "output_type": "stream",
     "text": [
      "/home1/datahome/jmartine/datawork/conda-env/jupyter-lab/lib/python3.10/site-packages/distributed/client.py:3141: UserWarning: Sending large graph of size 12.23 MiB.\n",
      "This may cause some slowdown.\n",
      "Consider scattering data ahead of time and using futures.\n",
      "  warnings.warn(\n"
     ]
    },
    {
     "name": "stdout",
     "output_type": "stream",
     "text": [
      "319\n"
     ]
    },
    {
     "name": "stderr",
     "output_type": "stream",
     "text": [
      "/home1/datahome/jmartine/datawork/conda-env/jupyter-lab/lib/python3.10/site-packages/distributed/client.py:3141: UserWarning: Sending large graph of size 12.23 MiB.\n",
      "This may cause some slowdown.\n",
      "Consider scattering data ahead of time and using futures.\n",
      "  warnings.warn(\n"
     ]
    },
    {
     "name": "stdout",
     "output_type": "stream",
     "text": [
      "320\n"
     ]
    },
    {
     "name": "stderr",
     "output_type": "stream",
     "text": [
      "/home1/datahome/jmartine/datawork/conda-env/jupyter-lab/lib/python3.10/site-packages/distributed/client.py:3141: UserWarning: Sending large graph of size 12.23 MiB.\n",
      "This may cause some slowdown.\n",
      "Consider scattering data ahead of time and using futures.\n",
      "  warnings.warn(\n"
     ]
    },
    {
     "name": "stdout",
     "output_type": "stream",
     "text": [
      "321\n"
     ]
    },
    {
     "name": "stderr",
     "output_type": "stream",
     "text": [
      "/home1/datahome/jmartine/datawork/conda-env/jupyter-lab/lib/python3.10/site-packages/distributed/client.py:3141: UserWarning: Sending large graph of size 12.23 MiB.\n",
      "This may cause some slowdown.\n",
      "Consider scattering data ahead of time and using futures.\n",
      "  warnings.warn(\n"
     ]
    },
    {
     "name": "stdout",
     "output_type": "stream",
     "text": [
      "322\n"
     ]
    },
    {
     "name": "stderr",
     "output_type": "stream",
     "text": [
      "/home1/datahome/jmartine/datawork/conda-env/jupyter-lab/lib/python3.10/site-packages/distributed/client.py:3141: UserWarning: Sending large graph of size 12.23 MiB.\n",
      "This may cause some slowdown.\n",
      "Consider scattering data ahead of time and using futures.\n",
      "  warnings.warn(\n"
     ]
    },
    {
     "name": "stdout",
     "output_type": "stream",
     "text": [
      "323\n"
     ]
    },
    {
     "name": "stderr",
     "output_type": "stream",
     "text": [
      "/home1/datahome/jmartine/datawork/conda-env/jupyter-lab/lib/python3.10/site-packages/distributed/client.py:3141: UserWarning: Sending large graph of size 12.23 MiB.\n",
      "This may cause some slowdown.\n",
      "Consider scattering data ahead of time and using futures.\n",
      "  warnings.warn(\n"
     ]
    },
    {
     "name": "stdout",
     "output_type": "stream",
     "text": [
      "324\n"
     ]
    },
    {
     "name": "stderr",
     "output_type": "stream",
     "text": [
      "/home1/datahome/jmartine/datawork/conda-env/jupyter-lab/lib/python3.10/site-packages/distributed/client.py:3141: UserWarning: Sending large graph of size 12.23 MiB.\n",
      "This may cause some slowdown.\n",
      "Consider scattering data ahead of time and using futures.\n",
      "  warnings.warn(\n"
     ]
    },
    {
     "name": "stdout",
     "output_type": "stream",
     "text": [
      "325\n"
     ]
    },
    {
     "name": "stderr",
     "output_type": "stream",
     "text": [
      "/home1/datahome/jmartine/datawork/conda-env/jupyter-lab/lib/python3.10/site-packages/distributed/client.py:3141: UserWarning: Sending large graph of size 12.23 MiB.\n",
      "This may cause some slowdown.\n",
      "Consider scattering data ahead of time and using futures.\n",
      "  warnings.warn(\n"
     ]
    },
    {
     "name": "stdout",
     "output_type": "stream",
     "text": [
      "326\n"
     ]
    },
    {
     "name": "stderr",
     "output_type": "stream",
     "text": [
      "/home1/datahome/jmartine/datawork/conda-env/jupyter-lab/lib/python3.10/site-packages/distributed/client.py:3141: UserWarning: Sending large graph of size 12.23 MiB.\n",
      "This may cause some slowdown.\n",
      "Consider scattering data ahead of time and using futures.\n",
      "  warnings.warn(\n"
     ]
    },
    {
     "name": "stdout",
     "output_type": "stream",
     "text": [
      "327\n"
     ]
    },
    {
     "name": "stderr",
     "output_type": "stream",
     "text": [
      "/home1/datahome/jmartine/datawork/conda-env/jupyter-lab/lib/python3.10/site-packages/distributed/client.py:3141: UserWarning: Sending large graph of size 12.23 MiB.\n",
      "This may cause some slowdown.\n",
      "Consider scattering data ahead of time and using futures.\n",
      "  warnings.warn(\n"
     ]
    },
    {
     "name": "stdout",
     "output_type": "stream",
     "text": [
      "328\n"
     ]
    },
    {
     "name": "stderr",
     "output_type": "stream",
     "text": [
      "/home1/datahome/jmartine/datawork/conda-env/jupyter-lab/lib/python3.10/site-packages/distributed/client.py:3141: UserWarning: Sending large graph of size 12.23 MiB.\n",
      "This may cause some slowdown.\n",
      "Consider scattering data ahead of time and using futures.\n",
      "  warnings.warn(\n"
     ]
    },
    {
     "name": "stdout",
     "output_type": "stream",
     "text": [
      "329\n"
     ]
    },
    {
     "name": "stderr",
     "output_type": "stream",
     "text": [
      "/home1/datahome/jmartine/datawork/conda-env/jupyter-lab/lib/python3.10/site-packages/distributed/client.py:3141: UserWarning: Sending large graph of size 12.23 MiB.\n",
      "This may cause some slowdown.\n",
      "Consider scattering data ahead of time and using futures.\n",
      "  warnings.warn(\n"
     ]
    },
    {
     "name": "stdout",
     "output_type": "stream",
     "text": [
      "330\n"
     ]
    },
    {
     "name": "stderr",
     "output_type": "stream",
     "text": [
      "/home1/datahome/jmartine/datawork/conda-env/jupyter-lab/lib/python3.10/site-packages/distributed/client.py:3141: UserWarning: Sending large graph of size 12.23 MiB.\n",
      "This may cause some slowdown.\n",
      "Consider scattering data ahead of time and using futures.\n",
      "  warnings.warn(\n"
     ]
    },
    {
     "name": "stdout",
     "output_type": "stream",
     "text": [
      "331\n"
     ]
    },
    {
     "name": "stderr",
     "output_type": "stream",
     "text": [
      "/home1/datahome/jmartine/datawork/conda-env/jupyter-lab/lib/python3.10/site-packages/distributed/client.py:3141: UserWarning: Sending large graph of size 12.23 MiB.\n",
      "This may cause some slowdown.\n",
      "Consider scattering data ahead of time and using futures.\n",
      "  warnings.warn(\n"
     ]
    },
    {
     "name": "stdout",
     "output_type": "stream",
     "text": [
      "332\n"
     ]
    },
    {
     "name": "stderr",
     "output_type": "stream",
     "text": [
      "/home1/datahome/jmartine/datawork/conda-env/jupyter-lab/lib/python3.10/site-packages/distributed/client.py:3141: UserWarning: Sending large graph of size 12.23 MiB.\n",
      "This may cause some slowdown.\n",
      "Consider scattering data ahead of time and using futures.\n",
      "  warnings.warn(\n"
     ]
    },
    {
     "name": "stdout",
     "output_type": "stream",
     "text": [
      "333\n"
     ]
    },
    {
     "name": "stderr",
     "output_type": "stream",
     "text": [
      "/home1/datahome/jmartine/datawork/conda-env/jupyter-lab/lib/python3.10/site-packages/distributed/client.py:3141: UserWarning: Sending large graph of size 12.23 MiB.\n",
      "This may cause some slowdown.\n",
      "Consider scattering data ahead of time and using futures.\n",
      "  warnings.warn(\n"
     ]
    },
    {
     "name": "stdout",
     "output_type": "stream",
     "text": [
      "334\n"
     ]
    },
    {
     "name": "stderr",
     "output_type": "stream",
     "text": [
      "/home1/datahome/jmartine/datawork/conda-env/jupyter-lab/lib/python3.10/site-packages/distributed/client.py:3141: UserWarning: Sending large graph of size 12.23 MiB.\n",
      "This may cause some slowdown.\n",
      "Consider scattering data ahead of time and using futures.\n",
      "  warnings.warn(\n"
     ]
    },
    {
     "name": "stdout",
     "output_type": "stream",
     "text": [
      "335\n"
     ]
    },
    {
     "name": "stderr",
     "output_type": "stream",
     "text": [
      "/home1/datahome/jmartine/datawork/conda-env/jupyter-lab/lib/python3.10/site-packages/distributed/client.py:3141: UserWarning: Sending large graph of size 12.23 MiB.\n",
      "This may cause some slowdown.\n",
      "Consider scattering data ahead of time and using futures.\n",
      "  warnings.warn(\n"
     ]
    },
    {
     "name": "stdout",
     "output_type": "stream",
     "text": [
      "336\n"
     ]
    },
    {
     "name": "stderr",
     "output_type": "stream",
     "text": [
      "/home1/datahome/jmartine/datawork/conda-env/jupyter-lab/lib/python3.10/site-packages/distributed/client.py:3141: UserWarning: Sending large graph of size 12.23 MiB.\n",
      "This may cause some slowdown.\n",
      "Consider scattering data ahead of time and using futures.\n",
      "  warnings.warn(\n"
     ]
    },
    {
     "name": "stdout",
     "output_type": "stream",
     "text": [
      "337\n"
     ]
    },
    {
     "name": "stderr",
     "output_type": "stream",
     "text": [
      "/home1/datahome/jmartine/datawork/conda-env/jupyter-lab/lib/python3.10/site-packages/distributed/client.py:3141: UserWarning: Sending large graph of size 12.23 MiB.\n",
      "This may cause some slowdown.\n",
      "Consider scattering data ahead of time and using futures.\n",
      "  warnings.warn(\n"
     ]
    },
    {
     "name": "stdout",
     "output_type": "stream",
     "text": [
      "338\n"
     ]
    },
    {
     "name": "stderr",
     "output_type": "stream",
     "text": [
      "/home1/datahome/jmartine/datawork/conda-env/jupyter-lab/lib/python3.10/site-packages/distributed/client.py:3141: UserWarning: Sending large graph of size 12.23 MiB.\n",
      "This may cause some slowdown.\n",
      "Consider scattering data ahead of time and using futures.\n",
      "  warnings.warn(\n"
     ]
    },
    {
     "name": "stdout",
     "output_type": "stream",
     "text": [
      "339\n"
     ]
    },
    {
     "name": "stderr",
     "output_type": "stream",
     "text": [
      "/home1/datahome/jmartine/datawork/conda-env/jupyter-lab/lib/python3.10/site-packages/distributed/client.py:3141: UserWarning: Sending large graph of size 12.23 MiB.\n",
      "This may cause some slowdown.\n",
      "Consider scattering data ahead of time and using futures.\n",
      "  warnings.warn(\n"
     ]
    },
    {
     "name": "stdout",
     "output_type": "stream",
     "text": [
      "340\n"
     ]
    },
    {
     "name": "stderr",
     "output_type": "stream",
     "text": [
      "/home1/datahome/jmartine/datawork/conda-env/jupyter-lab/lib/python3.10/site-packages/distributed/client.py:3141: UserWarning: Sending large graph of size 12.23 MiB.\n",
      "This may cause some slowdown.\n",
      "Consider scattering data ahead of time and using futures.\n",
      "  warnings.warn(\n"
     ]
    },
    {
     "name": "stdout",
     "output_type": "stream",
     "text": [
      "341\n"
     ]
    },
    {
     "name": "stderr",
     "output_type": "stream",
     "text": [
      "/home1/datahome/jmartine/datawork/conda-env/jupyter-lab/lib/python3.10/site-packages/distributed/client.py:3141: UserWarning: Sending large graph of size 12.23 MiB.\n",
      "This may cause some slowdown.\n",
      "Consider scattering data ahead of time and using futures.\n",
      "  warnings.warn(\n"
     ]
    },
    {
     "name": "stdout",
     "output_type": "stream",
     "text": [
      "342\n"
     ]
    },
    {
     "name": "stderr",
     "output_type": "stream",
     "text": [
      "/home1/datahome/jmartine/datawork/conda-env/jupyter-lab/lib/python3.10/site-packages/distributed/client.py:3141: UserWarning: Sending large graph of size 12.23 MiB.\n",
      "This may cause some slowdown.\n",
      "Consider scattering data ahead of time and using futures.\n",
      "  warnings.warn(\n"
     ]
    },
    {
     "name": "stdout",
     "output_type": "stream",
     "text": [
      "343\n"
     ]
    },
    {
     "name": "stderr",
     "output_type": "stream",
     "text": [
      "/home1/datahome/jmartine/datawork/conda-env/jupyter-lab/lib/python3.10/site-packages/distributed/client.py:3141: UserWarning: Sending large graph of size 12.23 MiB.\n",
      "This may cause some slowdown.\n",
      "Consider scattering data ahead of time and using futures.\n",
      "  warnings.warn(\n"
     ]
    },
    {
     "name": "stdout",
     "output_type": "stream",
     "text": [
      "344\n"
     ]
    },
    {
     "name": "stderr",
     "output_type": "stream",
     "text": [
      "/home1/datahome/jmartine/datawork/conda-env/jupyter-lab/lib/python3.10/site-packages/distributed/client.py:3141: UserWarning: Sending large graph of size 12.23 MiB.\n",
      "This may cause some slowdown.\n",
      "Consider scattering data ahead of time and using futures.\n",
      "  warnings.warn(\n"
     ]
    },
    {
     "name": "stdout",
     "output_type": "stream",
     "text": [
      "345\n"
     ]
    },
    {
     "name": "stderr",
     "output_type": "stream",
     "text": [
      "/home1/datahome/jmartine/datawork/conda-env/jupyter-lab/lib/python3.10/site-packages/distributed/client.py:3141: UserWarning: Sending large graph of size 12.23 MiB.\n",
      "This may cause some slowdown.\n",
      "Consider scattering data ahead of time and using futures.\n",
      "  warnings.warn(\n"
     ]
    },
    {
     "name": "stdout",
     "output_type": "stream",
     "text": [
      "346\n"
     ]
    },
    {
     "name": "stderr",
     "output_type": "stream",
     "text": [
      "/home1/datahome/jmartine/datawork/conda-env/jupyter-lab/lib/python3.10/site-packages/distributed/client.py:3141: UserWarning: Sending large graph of size 12.23 MiB.\n",
      "This may cause some slowdown.\n",
      "Consider scattering data ahead of time and using futures.\n",
      "  warnings.warn(\n"
     ]
    },
    {
     "name": "stdout",
     "output_type": "stream",
     "text": [
      "347\n"
     ]
    },
    {
     "name": "stderr",
     "output_type": "stream",
     "text": [
      "/home1/datahome/jmartine/datawork/conda-env/jupyter-lab/lib/python3.10/site-packages/distributed/client.py:3141: UserWarning: Sending large graph of size 12.23 MiB.\n",
      "This may cause some slowdown.\n",
      "Consider scattering data ahead of time and using futures.\n",
      "  warnings.warn(\n"
     ]
    },
    {
     "name": "stdout",
     "output_type": "stream",
     "text": [
      "348\n"
     ]
    },
    {
     "name": "stderr",
     "output_type": "stream",
     "text": [
      "/home1/datahome/jmartine/datawork/conda-env/jupyter-lab/lib/python3.10/site-packages/distributed/client.py:3141: UserWarning: Sending large graph of size 12.23 MiB.\n",
      "This may cause some slowdown.\n",
      "Consider scattering data ahead of time and using futures.\n",
      "  warnings.warn(\n"
     ]
    },
    {
     "name": "stdout",
     "output_type": "stream",
     "text": [
      "349\n"
     ]
    },
    {
     "name": "stderr",
     "output_type": "stream",
     "text": [
      "/home1/datahome/jmartine/datawork/conda-env/jupyter-lab/lib/python3.10/site-packages/distributed/client.py:3141: UserWarning: Sending large graph of size 12.23 MiB.\n",
      "This may cause some slowdown.\n",
      "Consider scattering data ahead of time and using futures.\n",
      "  warnings.warn(\n"
     ]
    },
    {
     "name": "stdout",
     "output_type": "stream",
     "text": [
      "350\n"
     ]
    },
    {
     "name": "stderr",
     "output_type": "stream",
     "text": [
      "/home1/datahome/jmartine/datawork/conda-env/jupyter-lab/lib/python3.10/site-packages/distributed/client.py:3141: UserWarning: Sending large graph of size 12.23 MiB.\n",
      "This may cause some slowdown.\n",
      "Consider scattering data ahead of time and using futures.\n",
      "  warnings.warn(\n"
     ]
    },
    {
     "name": "stdout",
     "output_type": "stream",
     "text": [
      "351\n"
     ]
    },
    {
     "name": "stderr",
     "output_type": "stream",
     "text": [
      "/home1/datahome/jmartine/datawork/conda-env/jupyter-lab/lib/python3.10/site-packages/distributed/client.py:3141: UserWarning: Sending large graph of size 12.23 MiB.\n",
      "This may cause some slowdown.\n",
      "Consider scattering data ahead of time and using futures.\n",
      "  warnings.warn(\n"
     ]
    },
    {
     "name": "stdout",
     "output_type": "stream",
     "text": [
      "352\n"
     ]
    },
    {
     "name": "stderr",
     "output_type": "stream",
     "text": [
      "/home1/datahome/jmartine/datawork/conda-env/jupyter-lab/lib/python3.10/site-packages/distributed/client.py:3141: UserWarning: Sending large graph of size 12.23 MiB.\n",
      "This may cause some slowdown.\n",
      "Consider scattering data ahead of time and using futures.\n",
      "  warnings.warn(\n"
     ]
    },
    {
     "name": "stdout",
     "output_type": "stream",
     "text": [
      "353\n"
     ]
    },
    {
     "name": "stderr",
     "output_type": "stream",
     "text": [
      "/home1/datahome/jmartine/datawork/conda-env/jupyter-lab/lib/python3.10/site-packages/distributed/client.py:3141: UserWarning: Sending large graph of size 12.23 MiB.\n",
      "This may cause some slowdown.\n",
      "Consider scattering data ahead of time and using futures.\n",
      "  warnings.warn(\n"
     ]
    },
    {
     "name": "stdout",
     "output_type": "stream",
     "text": [
      "354\n"
     ]
    },
    {
     "name": "stderr",
     "output_type": "stream",
     "text": [
      "/home1/datahome/jmartine/datawork/conda-env/jupyter-lab/lib/python3.10/site-packages/distributed/client.py:3141: UserWarning: Sending large graph of size 12.23 MiB.\n",
      "This may cause some slowdown.\n",
      "Consider scattering data ahead of time and using futures.\n",
      "  warnings.warn(\n"
     ]
    },
    {
     "name": "stdout",
     "output_type": "stream",
     "text": [
      "355\n"
     ]
    },
    {
     "name": "stderr",
     "output_type": "stream",
     "text": [
      "/home1/datahome/jmartine/datawork/conda-env/jupyter-lab/lib/python3.10/site-packages/distributed/client.py:3141: UserWarning: Sending large graph of size 12.23 MiB.\n",
      "This may cause some slowdown.\n",
      "Consider scattering data ahead of time and using futures.\n",
      "  warnings.warn(\n"
     ]
    },
    {
     "name": "stdout",
     "output_type": "stream",
     "text": [
      "356\n"
     ]
    },
    {
     "name": "stderr",
     "output_type": "stream",
     "text": [
      "/home1/datahome/jmartine/datawork/conda-env/jupyter-lab/lib/python3.10/site-packages/distributed/client.py:3141: UserWarning: Sending large graph of size 12.23 MiB.\n",
      "This may cause some slowdown.\n",
      "Consider scattering data ahead of time and using futures.\n",
      "  warnings.warn(\n"
     ]
    },
    {
     "name": "stdout",
     "output_type": "stream",
     "text": [
      "357\n"
     ]
    },
    {
     "name": "stderr",
     "output_type": "stream",
     "text": [
      "/home1/datahome/jmartine/datawork/conda-env/jupyter-lab/lib/python3.10/site-packages/distributed/client.py:3141: UserWarning: Sending large graph of size 12.23 MiB.\n",
      "This may cause some slowdown.\n",
      "Consider scattering data ahead of time and using futures.\n",
      "  warnings.warn(\n"
     ]
    },
    {
     "name": "stdout",
     "output_type": "stream",
     "text": [
      "358\n"
     ]
    },
    {
     "name": "stderr",
     "output_type": "stream",
     "text": [
      "/home1/datahome/jmartine/datawork/conda-env/jupyter-lab/lib/python3.10/site-packages/distributed/client.py:3141: UserWarning: Sending large graph of size 12.23 MiB.\n",
      "This may cause some slowdown.\n",
      "Consider scattering data ahead of time and using futures.\n",
      "  warnings.warn(\n"
     ]
    },
    {
     "name": "stdout",
     "output_type": "stream",
     "text": [
      "359\n"
     ]
    },
    {
     "name": "stderr",
     "output_type": "stream",
     "text": [
      "/home1/datahome/jmartine/datawork/conda-env/jupyter-lab/lib/python3.10/site-packages/distributed/client.py:3141: UserWarning: Sending large graph of size 12.23 MiB.\n",
      "This may cause some slowdown.\n",
      "Consider scattering data ahead of time and using futures.\n",
      "  warnings.warn(\n"
     ]
    },
    {
     "name": "stdout",
     "output_type": "stream",
     "text": [
      "360\n"
     ]
    },
    {
     "name": "stderr",
     "output_type": "stream",
     "text": [
      "/home1/datahome/jmartine/datawork/conda-env/jupyter-lab/lib/python3.10/site-packages/distributed/client.py:3141: UserWarning: Sending large graph of size 12.23 MiB.\n",
      "This may cause some slowdown.\n",
      "Consider scattering data ahead of time and using futures.\n",
      "  warnings.warn(\n"
     ]
    },
    {
     "name": "stdout",
     "output_type": "stream",
     "text": [
      "361\n"
     ]
    },
    {
     "name": "stderr",
     "output_type": "stream",
     "text": [
      "/home1/datahome/jmartine/datawork/conda-env/jupyter-lab/lib/python3.10/site-packages/distributed/client.py:3141: UserWarning: Sending large graph of size 12.23 MiB.\n",
      "This may cause some slowdown.\n",
      "Consider scattering data ahead of time and using futures.\n",
      "  warnings.warn(\n"
     ]
    },
    {
     "name": "stdout",
     "output_type": "stream",
     "text": [
      "362\n"
     ]
    },
    {
     "name": "stderr",
     "output_type": "stream",
     "text": [
      "/home1/datahome/jmartine/datawork/conda-env/jupyter-lab/lib/python3.10/site-packages/distributed/client.py:3141: UserWarning: Sending large graph of size 12.23 MiB.\n",
      "This may cause some slowdown.\n",
      "Consider scattering data ahead of time and using futures.\n",
      "  warnings.warn(\n"
     ]
    },
    {
     "name": "stdout",
     "output_type": "stream",
     "text": [
      "363\n"
     ]
    },
    {
     "name": "stderr",
     "output_type": "stream",
     "text": [
      "/home1/datahome/jmartine/datawork/conda-env/jupyter-lab/lib/python3.10/site-packages/distributed/client.py:3141: UserWarning: Sending large graph of size 12.23 MiB.\n",
      "This may cause some slowdown.\n",
      "Consider scattering data ahead of time and using futures.\n",
      "  warnings.warn(\n"
     ]
    },
    {
     "name": "stdout",
     "output_type": "stream",
     "text": [
      "364\n"
     ]
    },
    {
     "name": "stderr",
     "output_type": "stream",
     "text": [
      "/home1/datahome/jmartine/datawork/conda-env/jupyter-lab/lib/python3.10/site-packages/distributed/client.py:3141: UserWarning: Sending large graph of size 12.23 MiB.\n",
      "This may cause some slowdown.\n",
      "Consider scattering data ahead of time and using futures.\n",
      "  warnings.warn(\n"
     ]
    }
   ],
   "source": [
    "wavenumber = np.zeros((len(dataset_velu_1d_all.time_counter),399))\n",
    "flux = np.zeros((len(dataset_velu_1d_all.time_counter),1000,399))\n",
    "# flux_std = np.zeros((len(dataset_velu_1d_all.time_counter),800,399))\n",
    "\n",
    "counter=0\n",
    "for time in dataset_velu_1d_all.time_counter:\n",
    "    print(counter)\n",
    "    u = dataset_velu_1d_all.uoce_006.sel(time_counter=time).isel(y=slice(100,1100))\n",
    "    v = dataset_velv_1d_all.voce_006.sel(time_counter=time).isel(y=slice(100,1100))\n",
    "    w = dataset_velw_1d_all.woce_006.sel(time_counter=time).isel(y=slice(100,1100))\n",
    "    \n",
    "    wavenumber_, flux_ = spectra_flux_1D(u,v,w,x,y,zloc=27)\n",
    "    \n",
    "#     m_flux =np.mean(flux_,axis=0)\n",
    "#     std_flux =np.std(flux_,axis=0)\n",
    "    \n",
    "    wavenumber[counter,:] = wavenumber_\n",
    "    flux[counter,:,:] = flux_\n",
    "#     flux_std[counter,:] = std_flux\n",
    "    \n",
    "    counter+=1"
   ]
  },
  {
   "cell_type": "code",
   "execution_count": 35,
   "id": "fd435d75",
   "metadata": {
    "tags": []
   },
   "outputs": [],
   "source": [
    "# wavenumber = np.zeros((len(dataset_velu_1d_all.time_counter),399))\n",
    "# flux = np.zeros((len(dataset_velu_1d_all.time_counter),399))\n",
    "# flux_std = np.zeros((len(dataset_velu_1d_all.time_counter),399))\n",
    "\n",
    "# counter=0\n",
    "# for time in dataset_velu_1d_all.time_counter:\n",
    "#     print(counter)\n",
    "#     u = dataset_velu_1d_all.uoce_006.sel(depthu=150,method=\"nearest\").sel(time_counter=time).isel(y=slice(100,1100))\n",
    "#     v = dataset_velv_1d_all.voce_006.sel(depthv=150,method=\"nearest\").sel(time_counter=time).isel(y=slice(100,1100))\n",
    "    \n",
    "#     wavenumber[counter,:], flux[counter,:], flux_std[counter,:] = spectra_flux(u,v,x,y)\n",
    "    \n",
    "#     counter+=1"
   ]
  },
  {
   "cell_type": "code",
   "execution_count": 36,
   "id": "fc358ee3",
   "metadata": {
    "tags": []
   },
   "outputs": [],
   "source": [
    "ds = xr.Dataset(\n",
    "    data_vars=dict(\n",
    "        KEflux=([\"time_counter\", \"y\", \"wavenumber\"], flux),\n",
    "#         KEflux_std=([\"time_counter\", \"wavenumber\"], flux_std)\n",
    "    ),\n",
    "    coords=dict(\n",
    "        y = (\"y\",u.y.data),\n",
    "        wavenumber=(\"wavenumber\", wavenumber[0] ),\n",
    "        time_counter=dataset_velu_1d_all.time_counter\n",
    "    ),\n",
    "    attrs=dict(description=\"KE energy flux.\"),\n",
    ")"
   ]
  },
  {
   "cell_type": "code",
   "execution_count": 37,
   "id": "dd6f9675",
   "metadata": {},
   "outputs": [],
   "source": [
    "ds.to_netcdf(\"./storage/KE_energy_flux_at_150m_between_125km_from_center_fix_dx_1D.nc\")"
   ]
  },
  {
   "cell_type": "markdown",
   "id": "e6b3b94d",
   "metadata": {},
   "source": [
    "# Compare between 1 d snapshots"
   ]
  },
  {
   "cell_type": "code",
   "execution_count": 103,
   "id": "20c90223",
   "metadata": {},
   "outputs": [
    {
     "name": "stderr",
     "output_type": "stream",
     "text": [
      "/home1/datahome/jmartine/datawork/conda-env/jupyter-lab/lib/python3.10/site-packages/distributed/client.py:3141: UserWarning: Sending large graph of size 12.23 MiB.\n",
      "This may cause some slowdown.\n",
      "Consider scattering data ahead of time and using futures.\n",
      "  warnings.warn(\n"
     ]
    }
   ],
   "source": [
    "u = dataset_velu_1d_all.uoce_006.isel(time_counter=0).isel(y=slice(100,1100))\n",
    "v = dataset_velv_1d_all.voce_006.isel(time_counter=0).isel(y=slice(100,1100))\n",
    "w = dataset_velw_1d_all.woce_006.isel(time_counter=0).isel(y=slice(100,1100))\n",
    "\n",
    "wavenumber, flux_ = spectra_flux_1D(u,v,w,x,y,zloc=2)\n",
    "\n",
    "flux_[flux_ == 0]= np.nan\n",
    "\n",
    "m_flux =np.nanmean(flux_,axis=0)\n",
    "std_flux =np.nanstd(flux_,axis=0)"
   ]
  },
  {
   "cell_type": "code",
   "execution_count": 104,
   "id": "264ef85c",
   "metadata": {},
   "outputs": [
    {
     "data": {
      "text/plain": [
       "Text(0.5, 0, 'Wavenumber [1/km]')"
      ]
     },
     "execution_count": 104,
     "metadata": {},
     "output_type": "execute_result"
    },
    {
     "data": {
      "image/png": "[encoded data removed]",
      "text/plain": [
       "<Figure size 640x480 with 2 Axes>"
      ]
     },
     "metadata": {},
     "output_type": "display_data"
    }
   ],
   "source": [
    "import matplotlib\n",
    "plt.pcolormesh(wavenumber*1000,range(flux_.shape[0]),flux_,norm=colors.SymLogNorm(linthresh=1e-20,\n",
    "                                              vmin=-1e-5, vmax=1e-5, base=10),cmap=cm.cm.delta)\n",
    "plt.colorbar(extend=\"both\")\n",
    "plt.xlabel(\"Wavenumber [1/km]\")"
   ]
  },
  {
   "cell_type": "code",
   "execution_count": 91,
   "id": "b1fcd7a7",
   "metadata": {},
   "outputs": [
    {
     "name": "stderr",
     "output_type": "stream",
     "text": [
      "/home1/datahome/jmartine/datawork/conda-env/jupyter-lab/lib/python3.10/site-packages/distributed/client.py:3141: UserWarning: Sending large graph of size 12.23 MiB.\n",
      "This may cause some slowdown.\n",
      "Consider scattering data ahead of time and using futures.\n",
      "  warnings.warn(\n"
     ]
    }
   ],
   "source": [
    "u = dataset_velu_1d_all.uoce_006.isel(time_counter=0).isel(y=slice(100,1100))\n",
    "v = dataset_velv_1d_all.voce_006.isel(time_counter=0).isel(y=slice(100,1100))\n",
    "w = dataset_velw_1d_all.woce_006.isel(time_counter=0).isel(y=slice(100,1100))\n",
    "\n",
    "wavenumber, flux_ = spectra_flux_1D(u,v,w,x,y,zloc=27)\n",
    "\n",
    "flux_[flux_ == 0]= np.nan\n",
    "\n",
    "m_flux =np.nanmean(flux_,axis=0)\n",
    "std_flux =np.nanstd(flux_,axis=0)"
   ]
  },
  {
   "cell_type": "code",
   "execution_count": 92,
   "id": "17f681e7",
   "metadata": {},
   "outputs": [
    {
     "data": {
      "text/plain": [
       "<matplotlib.colorbar.Colorbar at 0x2aabf1a95b10>"
      ]
     },
     "execution_count": 92,
     "metadata": {},
     "output_type": "execute_result"
    },
    {
     "data": {
      "image/png": "[encoded data removed]",
      "text/plain": [
       "<Figure size 640x480 with 2 Axes>"
      ]
     },
     "metadata": {},
     "output_type": "display_data"
    }
   ],
   "source": [
    "import matplotlib\n",
    "plt.pcolormesh(wavenumber,range(flux_.shape[0]),flux_,norm=colors.SymLogNorm(linthresh=1e-20,\n",
    "                                              vmin=-1e-5, vmax=1e-5, base=10),cmap=cm.cm.delta)\n",
    "plt.colorbar(extend=\"both\")"
   ]
  },
  {
   "cell_type": "markdown",
   "id": "5bcfbf01",
   "metadata": {},
   "source": [
    "# Check stored data"
   ]
  },
  {
   "cell_type": "code",
   "execution_count": 25,
   "id": "3ed5c0ee",
   "metadata": {},
   "outputs": [],
   "source": [
    "ds = xr.open_dataset(\"./storage/KE_energy_flux_at_5m_between_125km_from_center_fix_dx.nc\")\n",
    "ds_150 = xr.open_dataset(\"./storage/KE_energy_flux_at_150m_between_125km_from_center_fix_dx.nc\")"
   ]
  },
  {
   "cell_type": "code",
   "execution_count": 26,
   "id": "71b02ddd",
   "metadata": {},
   "outputs": [],
   "source": [
    "KEFlux_season = ds.KEflux.groupby(\"time_counter.season\").mean()\n",
    "KEFlux_season_150 = ds_150.KEflux.groupby(\"time_counter.season\").mean()"
   ]
  },
  {
   "cell_type": "code",
   "execution_count": 27,
   "id": "218cfcbe",
   "metadata": {},
   "outputs": [],
   "source": [
    "KEFlux_season['wavenumber'] = KEFlux_season.wavenumber*1000\n",
    "KEFlux_season_150['wavenumber'] = KEFlux_season_150.wavenumber*1000"
   ]
  },
  {
   "cell_type": "code",
   "execution_count": 28,
   "id": "74db30ea",
   "metadata": {},
   "outputs": [],
   "source": [
    "Ls = 8\n",
    "Rd = 1/Ls\n",
    "Rd_2 = 1/(2*np.pi*Ls)"
   ]
  },
  {
   "cell_type": "code",
   "execution_count": 29,
   "id": "f5af2f3c",
   "metadata": {},
   "outputs": [
    {
     "name": "stderr",
     "output_type": "stream",
     "text": [
      "/dev/shm/pbs.2882175.datarmor0/ipykernel_26870/3477734289.py:47: UserWarning: set_ticklabels() should only be used with a fixed number of ticks, i.e. after set_ticks() or using a FixedLocator.\n",
      "  ax2.set_xticklabels(new_label)\n"
     ]
    },
    {
     "data": {
      "image/png": "[encoded data removed]",
      "text/plain": [
       "<Figure size 1800x1500 with 2 Axes>"
      ]
     },
     "metadata": {},
     "output_type": "display_data"
    }
   ],
   "source": [
    "fig, ax = plt.subplots(1,1,figsize=(6,5),dpi=300)\n",
    "\n",
    "(KEFlux_season).sel(season=\"DJF\").plot(ax=ax,label=\"DJF\",color=\"blue\")\n",
    "(KEFlux_season).sel(season=\"MAM\").plot(ax=ax,label=\"MAM\",color=\"green\")\n",
    "(KEFlux_season).sel(season=\"JJA\").plot(ax=ax,label=\"JJA\",color=\"red\")\n",
    "(KEFlux_season).sel(season=\"SON\").plot(ax=ax,label=\"SON\",color=\"orange\")\n",
    "\n",
    "(KEFlux_season_150).sel(season=\"DJF\").plot(ax=ax,color=\"blue\",linestyle=\"--\")\n",
    "(KEFlux_season_150).sel(season=\"MAM\").plot(ax=ax,color=\"green\",linestyle=\"--\")\n",
    "(KEFlux_season_150).sel(season=\"JJA\").plot(ax=ax,color=\"red\",linestyle=\"--\")\n",
    "(KEFlux_season_150).sel(season=\"SON\").plot(ax=ax,color=\"orange\",linestyle=\"--\")\n",
    "\n",
    "ax.plot(0,0,linestyle='--',color='k',label='100m depth')\n",
    "\n",
    "ax.set_ylabel(\"Spectral Kinetic Energy flux ($m^2/s^3$)\")\n",
    "ax.set_xlabel(\"Wavenumber (cpkm)\")\n",
    "ax.grid()\n",
    "\n",
    "ax.plot([Rd,Rd],[-7.5e-10,1.5e-10],linestyle='--',color='k')\n",
    "ax.plot([Rd_2,Rd_2],[-7.5e-10,1.5e-10],linestyle='--',color='k')\n",
    "\n",
    "# ax.set_xlim(0,2)\n",
    "ax.set_xscale('log')\n",
    "# ax.set_ylim(-7.5e-8,2e-8)\n",
    "\n",
    "ax2 = ax.twiny()\n",
    "\n",
    "ax2.xaxis.set_ticks_position('bottom') # set the position of the second x-axis to bottom\n",
    "ax2.xaxis.set_label_position('bottom') # set the position of the second x-axis to bottom\n",
    "ax2.spines['bottom'].set_position(('outward', 36))\n",
    "ax2.set_xlim(ax.get_xlim())\n",
    "ax2.set_xlabel(\"Wavelength (km)\")\n",
    "\n",
    "labels = ax.get_xticklabels()\n",
    "\n",
    "labels = ax.get_xticklabels()\n",
    "new_label=list(np.zeros(len(labels)))\n",
    "count=0\n",
    "for label in labels:\n",
    "    nl = np.round(1 / label.get_position()[0], 1)\n",
    "    if nl==np.inf:\n",
    "        new_label[count] = \"Inf\"\n",
    "    else:\n",
    "        new_label[count] = \"{0}\".format(nl)\n",
    "    count+=1\n",
    "    \n",
    "ax2.set_xticklabels(new_label)\n",
    "\n",
    "ax.set_title(\"\")\n",
    "\n",
    "plt.savefig('./figures/Energy_flux.pdf', dpi=300, bbox_inches='tight')"
   ]
  },
  {
   "cell_type": "code",
   "execution_count": 325,
   "id": "e2ed34c1",
   "metadata": {},
   "outputs": [
    {
     "data": {
      "text/plain": [
       "array([-10.        ,          inf,  10.        ,   5.        ,\n",
       "         3.33333333,   2.5       ,   2.        ,   1.66666667])"
      ]
     },
     "execution_count": 325,
     "metadata": {},
     "output_type": "execute_result"
    }
   ],
   "source": [
    "new_label"
   ]
  },
  {
   "cell_type": "code",
   "execution_count": null,
   "id": "a724c41d",
   "metadata": {},
   "outputs": [],
   "source": []
  }
 ],
 "metadata": {
  "kernelspec": {
   "display_name": "jupyter-lab",
   "language": "python",
   "name": "jupyter-lab"
  },
  "language_info": {
   "codemirror_mode": {
    "name": "ipython",
    "version": 3
   },
   "file_extension": ".py",
   "mimetype": "text/x-python",
   "name": "python",
   "nbconvert_exporter": "python",
   "pygments_lexer": "ipython3",
   "version": "3.10.12"
  }
 },
 "nbformat": 4,
 "nbformat_minor": 5
}
