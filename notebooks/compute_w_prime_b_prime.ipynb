{
 "cells": [
  {
   "cell_type": "code",
   "execution_count": 1,
   "id": "081435e3",
   "metadata": {},
   "outputs": [],
   "source": [
    "import xarray as xr\n",
    "import numpy as np\n",
    "import matplotlib.pyplot as plt\n",
    "import gsw\n",
    "import cmocean as cm\n",
    "# import xrftd\n",
    "import matplotlib.colors as colors"
   ]
  },
  {
   "cell_type": "code",
   "execution_count": 2,
   "id": "4f08ccd7",
   "metadata": {},
   "outputs": [],
   "source": [
    "import nc_time_axis"
   ]
  },
  {
   "cell_type": "code",
   "execution_count": 3,
   "id": "b1d547b6",
   "metadata": {},
   "outputs": [
    {
     "data": {
      "text/html": [
       "<div>\n",
       "    <div style=\"width: 24px; height: 24px; background-color: #e1e1e1; border: 3px solid #9D9D9D; border-radius: 5px; position: absolute;\"> </div>\n",
       "    <div style=\"margin-left: 48px;\">\n",
       "        <h3 style=\"margin-bottom: 0px;\">Client</h3>\n",
       "        <p style=\"color: #9D9D9D; margin-bottom: 0px;\">Client-2617c391-2066-11f0-b90c-0cc47a3f766d</p>\n",
       "        <table style=\"width: 100%; text-align: left;\">\n",
       "\n",
       "        <tr>\n",
       "        \n",
       "            <td style=\"text-align: left;\"><strong>Connection method:</strong> Cluster object</td>\n",
       "            <td style=\"text-align: left;\"><strong>Cluster type:</strong> distributed.LocalCluster</td>\n",
       "        \n",
       "        </tr>\n",
       "\n",
       "        \n",
       "            <tr>\n",
       "                <td style=\"text-align: left;\">\n",
       "                    <strong>Dashboard: </strong> <a href=\"http://127.0.0.1:8787/status\" target=\"_blank\">http://127.0.0.1:8787/status</a>\n",
       "                </td>\n",
       "                <td style=\"text-align: left;\"></td>\n",
       "            </tr>\n",
       "        \n",
       "\n",
       "        </table>\n",
       "\n",
       "        \n",
       "\n",
       "        \n",
       "            <details>\n",
       "            <summary style=\"margin-bottom: 20px;\"><h3 style=\"display: inline;\">Cluster Info</h3></summary>\n",
       "            <div class=\"jp-RenderedHTMLCommon jp-RenderedHTML jp-mod-trusted jp-OutputArea-output\">\n",
       "    <div style=\"width: 24px; height: 24px; background-color: #e1e1e1; border: 3px solid #9D9D9D; border-radius: 5px; position: absolute;\">\n",
       "    </div>\n",
       "    <div style=\"margin-left: 48px;\">\n",
       "        <h3 style=\"margin-bottom: 0px; margin-top: 0px;\">LocalCluster</h3>\n",
       "        <p style=\"color: #9D9D9D; margin-bottom: 0px;\">c4d58a54</p>\n",
       "        <table style=\"width: 100%; text-align: left;\">\n",
       "            <tr>\n",
       "                <td style=\"text-align: left;\">\n",
       "                    <strong>Dashboard:</strong> <a href=\"http://127.0.0.1:8787/status\" target=\"_blank\">http://127.0.0.1:8787/status</a>\n",
       "                </td>\n",
       "                <td style=\"text-align: left;\">\n",
       "                    <strong>Workers:</strong> 8\n",
       "                </td>\n",
       "            </tr>\n",
       "            <tr>\n",
       "                <td style=\"text-align: left;\">\n",
       "                    <strong>Total threads:</strong> 8\n",
       "                </td>\n",
       "                <td style=\"text-align: left;\">\n",
       "                    <strong>Total memory:</strong> 32.00 GiB\n",
       "                </td>\n",
       "            </tr>\n",
       "            \n",
       "            <tr>\n",
       "    <td style=\"text-align: left;\"><strong>Status:</strong> running</td>\n",
       "    <td style=\"text-align: left;\"><strong>Using processes:</strong> True</td>\n",
       "</tr>\n",
       "\n",
       "            \n",
       "        </table>\n",
       "\n",
       "        <details>\n",
       "            <summary style=\"margin-bottom: 20px;\">\n",
       "                <h3 style=\"display: inline;\">Scheduler Info</h3>\n",
       "            </summary>\n",
       "\n",
       "            <div style=\"\">\n",
       "    <div>\n",
       "        <div style=\"width: 24px; height: 24px; background-color: #FFF7E5; border: 3px solid #FF6132; border-radius: 5px; position: absolute;\"> </div>\n",
       "        <div style=\"margin-left: 48px;\">\n",
       "            <h3 style=\"margin-bottom: 0px;\">Scheduler</h3>\n",
       "            <p style=\"color: #9D9D9D; margin-bottom: 0px;\">Scheduler-9a878e63-ce12-4ff3-9940-30af24568b62</p>\n",
       "            <table style=\"width: 100%; text-align: left;\">\n",
       "                <tr>\n",
       "                    <td style=\"text-align: left;\">\n",
       "                        <strong>Comm:</strong> tcp://127.0.0.1:33865\n",
       "                    </td>\n",
       "                    <td style=\"text-align: left;\">\n",
       "                        <strong>Workers:</strong> 8\n",
       "                    </td>\n",
       "                </tr>\n",
       "                <tr>\n",
       "                    <td style=\"text-align: left;\">\n",
       "                        <strong>Dashboard:</strong> <a href=\"http://127.0.0.1:8787/status\" target=\"_blank\">http://127.0.0.1:8787/status</a>\n",
       "                    </td>\n",
       "                    <td style=\"text-align: left;\">\n",
       "                        <strong>Total threads:</strong> 8\n",
       "                    </td>\n",
       "                </tr>\n",
       "                <tr>\n",
       "                    <td style=\"text-align: left;\">\n",
       "                        <strong>Started:</strong> Just now\n",
       "                    </td>\n",
       "                    <td style=\"text-align: left;\">\n",
       "                        <strong>Total memory:</strong> 32.00 GiB\n",
       "                    </td>\n",
       "                </tr>\n",
       "            </table>\n",
       "        </div>\n",
       "    </div>\n",
       "\n",
       "    <details style=\"margin-left: 48px;\">\n",
       "        <summary style=\"margin-bottom: 20px;\">\n",
       "            <h3 style=\"display: inline;\">Workers</h3>\n",
       "        </summary>\n",
       "\n",
       "        \n",
       "        <div style=\"margin-bottom: 20px;\">\n",
       "            <div style=\"width: 24px; height: 24px; background-color: #DBF5FF; border: 3px solid #4CC9FF; border-radius: 5px; position: absolute;\"> </div>\n",
       "            <div style=\"margin-left: 48px;\">\n",
       "            <details>\n",
       "                <summary>\n",
       "                    <h4 style=\"margin-bottom: 0px; display: inline;\">Worker: 0</h4>\n",
       "                </summary>\n",
       "                <table style=\"width: 100%; text-align: left;\">\n",
       "                    <tr>\n",
       "                        <td style=\"text-align: left;\">\n",
       "                            <strong>Comm: </strong> tcp://127.0.0.1:55913\n",
       "                        </td>\n",
       "                        <td style=\"text-align: left;\">\n",
       "                            <strong>Total threads: </strong> 1\n",
       "                        </td>\n",
       "                    </tr>\n",
       "                    <tr>\n",
       "                        <td style=\"text-align: left;\">\n",
       "                            <strong>Dashboard: </strong> <a href=\"http://127.0.0.1:43202/status\" target=\"_blank\">http://127.0.0.1:43202/status</a>\n",
       "                        </td>\n",
       "                        <td style=\"text-align: left;\">\n",
       "                            <strong>Memory: </strong> 4.00 GiB\n",
       "                        </td>\n",
       "                    </tr>\n",
       "                    <tr>\n",
       "                        <td style=\"text-align: left;\">\n",
       "                            <strong>Nanny: </strong> tcp://127.0.0.1:47358\n",
       "                        </td>\n",
       "                        <td style=\"text-align: left;\"></td>\n",
       "                    </tr>\n",
       "                    <tr>\n",
       "                        <td colspan=\"2\" style=\"text-align: left;\">\n",
       "                            <strong>Local directory: </strong> /home1/scratch/jmartine/tmp/dask-scratch-space/worker-ewwt0m4e\n",
       "                        </td>\n",
       "                    </tr>\n",
       "\n",
       "                    \n",
       "\n",
       "                    \n",
       "\n",
       "                </table>\n",
       "            </details>\n",
       "            </div>\n",
       "        </div>\n",
       "        \n",
       "        <div style=\"margin-bottom: 20px;\">\n",
       "            <div style=\"width: 24px; height: 24px; background-color: #DBF5FF; border: 3px solid #4CC9FF; border-radius: 5px; position: absolute;\"> </div>\n",
       "            <div style=\"margin-left: 48px;\">\n",
       "            <details>\n",
       "                <summary>\n",
       "                    <h4 style=\"margin-bottom: 0px; display: inline;\">Worker: 1</h4>\n",
       "                </summary>\n",
       "                <table style=\"width: 100%; text-align: left;\">\n",
       "                    <tr>\n",
       "                        <td style=\"text-align: left;\">\n",
       "                            <strong>Comm: </strong> tcp://127.0.0.1:39250\n",
       "                        </td>\n",
       "                        <td style=\"text-align: left;\">\n",
       "                            <strong>Total threads: </strong> 1\n",
       "                        </td>\n",
       "                    </tr>\n",
       "                    <tr>\n",
       "                        <td style=\"text-align: left;\">\n",
       "                            <strong>Dashboard: </strong> <a href=\"http://127.0.0.1:57725/status\" target=\"_blank\">http://127.0.0.1:57725/status</a>\n",
       "                        </td>\n",
       "                        <td style=\"text-align: left;\">\n",
       "                            <strong>Memory: </strong> 4.00 GiB\n",
       "                        </td>\n",
       "                    </tr>\n",
       "                    <tr>\n",
       "                        <td style=\"text-align: left;\">\n",
       "                            <strong>Nanny: </strong> tcp://127.0.0.1:48102\n",
       "                        </td>\n",
       "                        <td style=\"text-align: left;\"></td>\n",
       "                    </tr>\n",
       "                    <tr>\n",
       "                        <td colspan=\"2\" style=\"text-align: left;\">\n",
       "                            <strong>Local directory: </strong> /home1/scratch/jmartine/tmp/dask-scratch-space/worker-z7hwsq9k\n",
       "                        </td>\n",
       "                    </tr>\n",
       "\n",
       "                    \n",
       "\n",
       "                    \n",
       "\n",
       "                </table>\n",
       "            </details>\n",
       "            </div>\n",
       "        </div>\n",
       "        \n",
       "        <div style=\"margin-bottom: 20px;\">\n",
       "            <div style=\"width: 24px; height: 24px; background-color: #DBF5FF; border: 3px solid #4CC9FF; border-radius: 5px; position: absolute;\"> </div>\n",
       "            <div style=\"margin-left: 48px;\">\n",
       "            <details>\n",
       "                <summary>\n",
       "                    <h4 style=\"margin-bottom: 0px; display: inline;\">Worker: 2</h4>\n",
       "                </summary>\n",
       "                <table style=\"width: 100%; text-align: left;\">\n",
       "                    <tr>\n",
       "                        <td style=\"text-align: left;\">\n",
       "                            <strong>Comm: </strong> tcp://127.0.0.1:35049\n",
       "                        </td>\n",
       "                        <td style=\"text-align: left;\">\n",
       "                            <strong>Total threads: </strong> 1\n",
       "                        </td>\n",
       "                    </tr>\n",
       "                    <tr>\n",
       "                        <td style=\"text-align: left;\">\n",
       "                            <strong>Dashboard: </strong> <a href=\"http://127.0.0.1:52058/status\" target=\"_blank\">http://127.0.0.1:52058/status</a>\n",
       "                        </td>\n",
       "                        <td style=\"text-align: left;\">\n",
       "                            <strong>Memory: </strong> 4.00 GiB\n",
       "                        </td>\n",
       "                    </tr>\n",
       "                    <tr>\n",
       "                        <td style=\"text-align: left;\">\n",
       "                            <strong>Nanny: </strong> tcp://127.0.0.1:47080\n",
       "                        </td>\n",
       "                        <td style=\"text-align: left;\"></td>\n",
       "                    </tr>\n",
       "                    <tr>\n",
       "                        <td colspan=\"2\" style=\"text-align: left;\">\n",
       "                            <strong>Local directory: </strong> /home1/scratch/jmartine/tmp/dask-scratch-space/worker-8_idhgfn\n",
       "                        </td>\n",
       "                    </tr>\n",
       "\n",
       "                    \n",
       "\n",
       "                    \n",
       "\n",
       "                </table>\n",
       "            </details>\n",
       "            </div>\n",
       "        </div>\n",
       "        \n",
       "        <div style=\"margin-bottom: 20px;\">\n",
       "            <div style=\"width: 24px; height: 24px; background-color: #DBF5FF; border: 3px solid #4CC9FF; border-radius: 5px; position: absolute;\"> </div>\n",
       "            <div style=\"margin-left: 48px;\">\n",
       "            <details>\n",
       "                <summary>\n",
       "                    <h4 style=\"margin-bottom: 0px; display: inline;\">Worker: 3</h4>\n",
       "                </summary>\n",
       "                <table style=\"width: 100%; text-align: left;\">\n",
       "                    <tr>\n",
       "                        <td style=\"text-align: left;\">\n",
       "                            <strong>Comm: </strong> tcp://127.0.0.1:50051\n",
       "                        </td>\n",
       "                        <td style=\"text-align: left;\">\n",
       "                            <strong>Total threads: </strong> 1\n",
       "                        </td>\n",
       "                    </tr>\n",
       "                    <tr>\n",
       "                        <td style=\"text-align: left;\">\n",
       "                            <strong>Dashboard: </strong> <a href=\"http://127.0.0.1:58550/status\" target=\"_blank\">http://127.0.0.1:58550/status</a>\n",
       "                        </td>\n",
       "                        <td style=\"text-align: left;\">\n",
       "                            <strong>Memory: </strong> 4.00 GiB\n",
       "                        </td>\n",
       "                    </tr>\n",
       "                    <tr>\n",
       "                        <td style=\"text-align: left;\">\n",
       "                            <strong>Nanny: </strong> tcp://127.0.0.1:47657\n",
       "                        </td>\n",
       "                        <td style=\"text-align: left;\"></td>\n",
       "                    </tr>\n",
       "                    <tr>\n",
       "                        <td colspan=\"2\" style=\"text-align: left;\">\n",
       "                            <strong>Local directory: </strong> /home1/scratch/jmartine/tmp/dask-scratch-space/worker-15q6reyp\n",
       "                        </td>\n",
       "                    </tr>\n",
       "\n",
       "                    \n",
       "\n",
       "                    \n",
       "\n",
       "                </table>\n",
       "            </details>\n",
       "            </div>\n",
       "        </div>\n",
       "        \n",
       "        <div style=\"margin-bottom: 20px;\">\n",
       "            <div style=\"width: 24px; height: 24px; background-color: #DBF5FF; border: 3px solid #4CC9FF; border-radius: 5px; position: absolute;\"> </div>\n",
       "            <div style=\"margin-left: 48px;\">\n",
       "            <details>\n",
       "                <summary>\n",
       "                    <h4 style=\"margin-bottom: 0px; display: inline;\">Worker: 4</h4>\n",
       "                </summary>\n",
       "                <table style=\"width: 100%; text-align: left;\">\n",
       "                    <tr>\n",
       "                        <td style=\"text-align: left;\">\n",
       "                            <strong>Comm: </strong> tcp://127.0.0.1:48662\n",
       "                        </td>\n",
       "                        <td style=\"text-align: left;\">\n",
       "                            <strong>Total threads: </strong> 1\n",
       "                        </td>\n",
       "                    </tr>\n",
       "                    <tr>\n",
       "                        <td style=\"text-align: left;\">\n",
       "                            <strong>Dashboard: </strong> <a href=\"http://127.0.0.1:47313/status\" target=\"_blank\">http://127.0.0.1:47313/status</a>\n",
       "                        </td>\n",
       "                        <td style=\"text-align: left;\">\n",
       "                            <strong>Memory: </strong> 4.00 GiB\n",
       "                        </td>\n",
       "                    </tr>\n",
       "                    <tr>\n",
       "                        <td style=\"text-align: left;\">\n",
       "                            <strong>Nanny: </strong> tcp://127.0.0.1:37855\n",
       "                        </td>\n",
       "                        <td style=\"text-align: left;\"></td>\n",
       "                    </tr>\n",
       "                    <tr>\n",
       "                        <td colspan=\"2\" style=\"text-align: left;\">\n",
       "                            <strong>Local directory: </strong> /home1/scratch/jmartine/tmp/dask-scratch-space/worker-zx5b9dz7\n",
       "                        </td>\n",
       "                    </tr>\n",
       "\n",
       "                    \n",
       "\n",
       "                    \n",
       "\n",
       "                </table>\n",
       "            </details>\n",
       "            </div>\n",
       "        </div>\n",
       "        \n",
       "        <div style=\"margin-bottom: 20px;\">\n",
       "            <div style=\"width: 24px; height: 24px; background-color: #DBF5FF; border: 3px solid #4CC9FF; border-radius: 5px; position: absolute;\"> </div>\n",
       "            <div style=\"margin-left: 48px;\">\n",
       "            <details>\n",
       "                <summary>\n",
       "                    <h4 style=\"margin-bottom: 0px; display: inline;\">Worker: 5</h4>\n",
       "                </summary>\n",
       "                <table style=\"width: 100%; text-align: left;\">\n",
       "                    <tr>\n",
       "                        <td style=\"text-align: left;\">\n",
       "                            <strong>Comm: </strong> tcp://127.0.0.1:58648\n",
       "                        </td>\n",
       "                        <td style=\"text-align: left;\">\n",
       "                            <strong>Total threads: </strong> 1\n",
       "                        </td>\n",
       "                    </tr>\n",
       "                    <tr>\n",
       "                        <td style=\"text-align: left;\">\n",
       "                            <strong>Dashboard: </strong> <a href=\"http://127.0.0.1:34986/status\" target=\"_blank\">http://127.0.0.1:34986/status</a>\n",
       "                        </td>\n",
       "                        <td style=\"text-align: left;\">\n",
       "                            <strong>Memory: </strong> 4.00 GiB\n",
       "                        </td>\n",
       "                    </tr>\n",
       "                    <tr>\n",
       "                        <td style=\"text-align: left;\">\n",
       "                            <strong>Nanny: </strong> tcp://127.0.0.1:45384\n",
       "                        </td>\n",
       "                        <td style=\"text-align: left;\"></td>\n",
       "                    </tr>\n",
       "                    <tr>\n",
       "                        <td colspan=\"2\" style=\"text-align: left;\">\n",
       "                            <strong>Local directory: </strong> /home1/scratch/jmartine/tmp/dask-scratch-space/worker-9kcs6edc\n",
       "                        </td>\n",
       "                    </tr>\n",
       "\n",
       "                    \n",
       "\n",
       "                    \n",
       "\n",
       "                </table>\n",
       "            </details>\n",
       "            </div>\n",
       "        </div>\n",
       "        \n",
       "        <div style=\"margin-bottom: 20px;\">\n",
       "            <div style=\"width: 24px; height: 24px; background-color: #DBF5FF; border: 3px solid #4CC9FF; border-radius: 5px; position: absolute;\"> </div>\n",
       "            <div style=\"margin-left: 48px;\">\n",
       "            <details>\n",
       "                <summary>\n",
       "                    <h4 style=\"margin-bottom: 0px; display: inline;\">Worker: 6</h4>\n",
       "                </summary>\n",
       "                <table style=\"width: 100%; text-align: left;\">\n",
       "                    <tr>\n",
       "                        <td style=\"text-align: left;\">\n",
       "                            <strong>Comm: </strong> tcp://127.0.0.1:56962\n",
       "                        </td>\n",
       "                        <td style=\"text-align: left;\">\n",
       "                            <strong>Total threads: </strong> 1\n",
       "                        </td>\n",
       "                    </tr>\n",
       "                    <tr>\n",
       "                        <td style=\"text-align: left;\">\n",
       "                            <strong>Dashboard: </strong> <a href=\"http://127.0.0.1:48827/status\" target=\"_blank\">http://127.0.0.1:48827/status</a>\n",
       "                        </td>\n",
       "                        <td style=\"text-align: left;\">\n",
       "                            <strong>Memory: </strong> 4.00 GiB\n",
       "                        </td>\n",
       "                    </tr>\n",
       "                    <tr>\n",
       "                        <td style=\"text-align: left;\">\n",
       "                            <strong>Nanny: </strong> tcp://127.0.0.1:48873\n",
       "                        </td>\n",
       "                        <td style=\"text-align: left;\"></td>\n",
       "                    </tr>\n",
       "                    <tr>\n",
       "                        <td colspan=\"2\" style=\"text-align: left;\">\n",
       "                            <strong>Local directory: </strong> /home1/scratch/jmartine/tmp/dask-scratch-space/worker-q_piic1a\n",
       "                        </td>\n",
       "                    </tr>\n",
       "\n",
       "                    \n",
       "\n",
       "                    \n",
       "\n",
       "                </table>\n",
       "            </details>\n",
       "            </div>\n",
       "        </div>\n",
       "        \n",
       "        <div style=\"margin-bottom: 20px;\">\n",
       "            <div style=\"width: 24px; height: 24px; background-color: #DBF5FF; border: 3px solid #4CC9FF; border-radius: 5px; position: absolute;\"> </div>\n",
       "            <div style=\"margin-left: 48px;\">\n",
       "            <details>\n",
       "                <summary>\n",
       "                    <h4 style=\"margin-bottom: 0px; display: inline;\">Worker: 7</h4>\n",
       "                </summary>\n",
       "                <table style=\"width: 100%; text-align: left;\">\n",
       "                    <tr>\n",
       "                        <td style=\"text-align: left;\">\n",
       "                            <strong>Comm: </strong> tcp://127.0.0.1:53479\n",
       "                        </td>\n",
       "                        <td style=\"text-align: left;\">\n",
       "                            <strong>Total threads: </strong> 1\n",
       "                        </td>\n",
       "                    </tr>\n",
       "                    <tr>\n",
       "                        <td style=\"text-align: left;\">\n",
       "                            <strong>Dashboard: </strong> <a href=\"http://127.0.0.1:38973/status\" target=\"_blank\">http://127.0.0.1:38973/status</a>\n",
       "                        </td>\n",
       "                        <td style=\"text-align: left;\">\n",
       "                            <strong>Memory: </strong> 4.00 GiB\n",
       "                        </td>\n",
       "                    </tr>\n",
       "                    <tr>\n",
       "                        <td style=\"text-align: left;\">\n",
       "                            <strong>Nanny: </strong> tcp://127.0.0.1:33213\n",
       "                        </td>\n",
       "                        <td style=\"text-align: left;\"></td>\n",
       "                    </tr>\n",
       "                    <tr>\n",
       "                        <td colspan=\"2\" style=\"text-align: left;\">\n",
       "                            <strong>Local directory: </strong> /home1/scratch/jmartine/tmp/dask-scratch-space/worker-x2p1bcnr\n",
       "                        </td>\n",
       "                    </tr>\n",
       "\n",
       "                    \n",
       "\n",
       "                    \n",
       "\n",
       "                </table>\n",
       "            </details>\n",
       "            </div>\n",
       "        </div>\n",
       "        \n",
       "\n",
       "    </details>\n",
       "</div>\n",
       "\n",
       "        </details>\n",
       "    </div>\n",
       "</div>\n",
       "            </details>\n",
       "        \n",
       "\n",
       "    </div>\n",
       "</div>"
      ],
      "text/plain": [
       "<Client: 'tcp://127.0.0.1:33865' processes=8 threads=8, memory=32.00 GiB>"
      ]
     },
     "execution_count": 3,
     "metadata": {},
     "output_type": "execute_result"
    }
   ],
   "source": [
    "from dask.distributed import Client\n",
    "import dask\n",
    "import os\n",
    "\n",
    "# os.environ[\"MALLOC_TRIM_THRESHOLD_\"] = str(dask.config.get(\"distributed.nanny.environ.MALLOC_TRIM_THRESHOLD_\"))\n",
    "client =Client(n_workers=8, threads_per_worker=1, memory_limit=\"4 GiB\",local_directory=\"/home1/scratch/jmartine/tmp\")\n",
    "client"
   ]
  },
  {
   "cell_type": "code",
   "execution_count": 4,
   "id": "729e711a",
   "metadata": {},
   "outputs": [],
   "source": [
    "from utils import Import_Expt_Front, date_fmt"
   ]
  },
  {
   "cell_type": "code",
   "execution_count": 5,
   "id": "fe82dfe9",
   "metadata": {},
   "outputs": [],
   "source": [
    "grid = xr.open_dataset('/home/datawork-lops-drakkarcom/SIMULATION-OUTPUTS/ICE-CHANEL/ice_canal_HR_output/GRID/domain_zgr_800x1200x50xr.nc')"
   ]
  },
  {
   "cell_type": "code",
   "execution_count": 6,
   "id": "1ecc4c41",
   "metadata": {},
   "outputs": [],
   "source": [
    "folder = '/home/datawork-lops-drakkarcom/SIMULATION-OUTPUTS/ICE-CHANEL/ice_canal_HR_output/'\n",
    "EXF = Import_Expt_Front(folder)"
   ]
  },
  {
   "cell_type": "code",
   "execution_count": 7,
   "id": "f84083a8",
   "metadata": {},
   "outputs": [],
   "source": [
    "exp_filter = ['expt_001','expt_002','expt_003','expt_004','expt_005','expt_007','expt_008','expt_009','expt_010','expt_250m_test']"
   ]
  },
  {
   "cell_type": "code",
   "execution_count": 14,
   "id": "be73f945",
   "metadata": {},
   "outputs": [],
   "source": [
    "# dataset_gridT_1d = EXF.import_multipe_expt('grid_T',vars_of_interest=['rhop'],expt_filter=exp_filter,freq='1d',chunks={'time_counter':5,'x':251,'y':251})"
   ]
  },
  {
   "cell_type": "code",
   "execution_count": 16,
   "id": "5a4e271d",
   "metadata": {},
   "outputs": [],
   "source": [
    "# dataset_gridW_1d = EXF.import_multipe_expt('grid_W',vars_of_interest=['woce'],expt_filter=exp_filter,freq='1d',chunks={'time_counter':5,'x':251,'y':251})"
   ]
  },
  {
   "cell_type": "code",
   "execution_count": 17,
   "id": "58ebdb84",
   "metadata": {},
   "outputs": [],
   "source": [
    "rau0 = 1026.0\n",
    "g = 9.81"
   ]
  },
  {
   "cell_type": "code",
   "execution_count": 18,
   "id": "d5a31d60",
   "metadata": {},
   "outputs": [],
   "source": [
    "r1_rau0     = 1.0 / rau0"
   ]
  },
  {
   "cell_type": "code",
   "execution_count": 19,
   "id": "5ccda77b",
   "metadata": {},
   "outputs": [],
   "source": [
    "buoyancy =  - g * (dataset_gridT_1d.rhop_006 * r1_rau0 - 1 )"
   ]
  },
  {
   "cell_type": "code",
   "execution_count": 20,
   "id": "fe171d52",
   "metadata": {},
   "outputs": [],
   "source": [
    "output_folder= \"/home/datawork-lops-drakkarcom/SIMULATION-OUTPUTS/ICE-CHANEL/ice_canal_HR_output/postprocessed/\""
   ]
  },
  {
   "cell_type": "code",
   "execution_count": 21,
   "id": "7811a376",
   "metadata": {},
   "outputs": [],
   "source": [
    "# b_prime_mean = xr.open_dataset(output_folder+'mean_b_prime.nc')"
   ]
  },
  {
   "cell_type": "code",
   "execution_count": 22,
   "id": "b6c331ce",
   "metadata": {},
   "outputs": [],
   "source": [
    "# b_mean = buoyancy.mean(\"time_counter\").compute()"
   ]
  },
  {
   "cell_type": "code",
   "execution_count": 23,
   "id": "ecfc2725",
   "metadata": {},
   "outputs": [],
   "source": [
    "# (b_prime_mean.rhop_006 - b_mean).isel(deptht=0,y=slice(2,-2)).plot()"
   ]
  },
  {
   "cell_type": "code",
   "execution_count": 24,
   "id": "b8076640",
   "metadata": {},
   "outputs": [],
   "source": [
    "# (b_prime_mean.rhop_006 - b_mean).sum('deptht').isel(y=slice(2,-2)).plot()"
   ]
  },
  {
   "cell_type": "markdown",
   "id": "c8262534",
   "metadata": {},
   "source": [
    "$b = -g(\\rho-\\rho_0 ) /\\rho_0 $\n",
    "\n",
    "CDFtools:\n",
    "\n",
    "-g (  rho * r1_rau0 - 1._wp  )"
   ]
  },
  {
   "cell_type": "code",
   "execution_count": 25,
   "id": "bec15143",
   "metadata": {},
   "outputs": [],
   "source": [
    "mean_buoyancy = buoyancy.mean(\"x\")"
   ]
  },
  {
   "cell_type": "code",
   "execution_count": 26,
   "id": "4c5636cc",
   "metadata": {},
   "outputs": [],
   "source": [
    "# seasonal_mean_buoyancy = mean_buoyancy.groupby(\"time_counter.season\").mean().compute()"
   ]
  },
  {
   "cell_type": "code",
   "execution_count": 27,
   "id": "9e475323",
   "metadata": {},
   "outputs": [],
   "source": [
    "# fig,ax = plt.subplots(1,4,figsize=(10,5),dpi=300)\n",
    "\n",
    "# seasonal_mean_buoyancy.sel(season=\"DJF\").plot(ax=ax[0],vmin=-2e-3,vmax=2e-3,cmap=cm.cm.balance)\n",
    "# seasonal_mean_buoyancy.sel(season=\"MAM\").plot(ax=ax[1],vmin=-2e-3,vmax=2e-3,cmap=cm.cm.balance)\n",
    "# seasonal_mean_buoyancy.sel(season=\"JJA\").plot(ax=ax[2],vmin=-2e-3,vmax=2e-3,cmap=cm.cm.balance)\n",
    "# seasonal_mean_buoyancy.sel(season=\"SON\").plot(ax=ax[3],vmin=-2e-3,vmax=2e-3,cmap=cm.cm.balance)\n",
    "\n",
    "# ax[0].set_ylim(0,200)\n",
    "# ax[1].set_ylim(0,200)\n",
    "# ax[2].set_ylim(0,200)\n",
    "# ax[3].set_ylim(0,200)"
   ]
  },
  {
   "cell_type": "code",
   "execution_count": 28,
   "id": "61fe9445",
   "metadata": {},
   "outputs": [],
   "source": [
    "b_prime = buoyancy - mean_buoyancy"
   ]
  },
  {
   "cell_type": "code",
   "execution_count": 29,
   "id": "413fc6c6",
   "metadata": {},
   "outputs": [],
   "source": [
    "b_prime_mean = b_prime.mean(\"time_counter\")"
   ]
  },
  {
   "cell_type": "code",
   "execution_count": 30,
   "id": "9950780d",
   "metadata": {},
   "outputs": [],
   "source": [
    "output_folder= \"/home/datawork-lops-drakkarcom/SIMULATION-OUTPUTS/ICE-CHANEL/ice_canal_HR_output/postprocessed/\""
   ]
  },
  {
   "cell_type": "code",
   "execution_count": 31,
   "id": "be053c0a",
   "metadata": {},
   "outputs": [],
   "source": [
    "# b_prime_mean.to_netcdf(output_folder+'mean_b_prime_corrected.nc')"
   ]
  },
  {
   "cell_type": "code",
   "execution_count": 32,
   "id": "6ef505fb",
   "metadata": {},
   "outputs": [],
   "source": [
    "w = dataset_gridW_1d.woce_006"
   ]
  },
  {
   "cell_type": "code",
   "execution_count": 33,
   "id": "ab7952ca",
   "metadata": {},
   "outputs": [],
   "source": [
    "mean_w = w.mean(\"x\")"
   ]
  },
  {
   "cell_type": "code",
   "execution_count": 34,
   "id": "49686919",
   "metadata": {},
   "outputs": [
    {
     "data": {
      "text/plain": [
       "(0.0, 200.0)"
      ]
     },
     "execution_count": 34,
     "metadata": {},
     "output_type": "execute_result"
    },
    {
     "data": {
      "image/png": "[encoded data removed]",
      "text/plain": [
       "<Figure size 3000x1500 with 4 Axes>"
      ]
     },
     "metadata": {},
     "output_type": "display_data"
    }
   ],
   "source": [
    "fig,ax = plt.subplots(1,2,figsize=(10,5),dpi=300)\n",
    "mean_w.isel(time_counter=0).plot(ax=ax[0])\n",
    "mean_w.isel(time_counter=200).plot(ax=ax[1])\n",
    "\n",
    "ax[0].set_ylim(0,200)\n",
    "ax[1].set_ylim(0,200)"
   ]
  },
  {
   "cell_type": "code",
   "execution_count": 35,
   "id": "cd96aad9",
   "metadata": {},
   "outputs": [],
   "source": [
    "w_prime = w - mean_w"
   ]
  },
  {
   "cell_type": "code",
   "execution_count": 36,
   "id": "23d8fd47",
   "metadata": {},
   "outputs": [],
   "source": [
    "# w_prime_mean = w_prime.mean(\"time_counter\")"
   ]
  },
  {
   "cell_type": "code",
   "execution_count": 37,
   "id": "deb38a65",
   "metadata": {},
   "outputs": [],
   "source": [
    "# w_prime_mean.to_netcdf(output_folder+'mean_w_prime.nc')"
   ]
  },
  {
   "cell_type": "markdown",
   "id": "917dfb10",
   "metadata": {},
   "source": [
    "# Interpolate w"
   ]
  },
  {
   "cell_type": "code",
   "execution_count": 38,
   "id": "67759bb2",
   "metadata": {},
   "outputs": [],
   "source": [
    "def interp_field(x):\n",
    "    x_centered = (x + x.roll(depthw=1))/2\n",
    "    return x_centered"
   ]
  },
  {
   "cell_type": "code",
   "execution_count": 39,
   "id": "0a7d7fed",
   "metadata": {},
   "outputs": [],
   "source": [
    "b_prime_wgrid = b_prime.isel(deptht=slice(0,50))"
   ]
  },
  {
   "cell_type": "code",
   "execution_count": 40,
   "id": "328886ef",
   "metadata": {},
   "outputs": [],
   "source": [
    "w_prime_interp = interp_field(w_prime).isel(depthw=slice(0,50)).rename({\"depthw\":\"deptht\"})"
   ]
  },
  {
   "cell_type": "code",
   "execution_count": 41,
   "id": "1e9ff3e6",
   "metadata": {},
   "outputs": [],
   "source": [
    "w_prime_interp[\"deptht\"] = b_prime_wgrid.deptht"
   ]
  },
  {
   "cell_type": "markdown",
   "id": "a52c1999",
   "metadata": {},
   "source": [
    "# Compute w'b'"
   ]
  },
  {
   "cell_type": "code",
   "execution_count": 42,
   "id": "36eafe8e",
   "metadata": {},
   "outputs": [],
   "source": [
    "wpbp = (w_prime_interp*b_prime_wgrid).rename('wpbp')"
   ]
  },
  {
   "cell_type": "code",
   "execution_count": 43,
   "id": "8162d7cb",
   "metadata": {},
   "outputs": [],
   "source": [
    "wpbp_folder = \"/home/datawork-lops-drakkarcom/SIMULATION-OUTPUTS/ICE-CHANEL/ice_canal_HR_output/postprocessed/wpbp/\""
   ]
  },
  {
   "cell_type": "code",
   "execution_count": null,
   "id": "619d99ac",
   "metadata": {
    "collapsed": true,
    "jupyter": {
     "outputs_hidden": true
    },
    "tags": []
   },
   "outputs": [
    {
     "name": "stdout",
     "output_type": "stream",
     "text": [
      "0 0001-12-15\n"
     ]
    },
    {
     "name": "stderr",
     "output_type": "stream",
     "text": [
      "/dev/shm/pbs.2915978.datarmor0/ipykernel_14604/2749567160.py:5: DeprecationWarning: dropping variables using `drop` is deprecated; use drop_vars.\n",
      "  snap_wpbp = wpbp.sel(time_counter=time).drop((\"time_centered\",\"nav_lon\",\"nav_lat\"))\n"
     ]
    },
    {
     "name": "stdout",
     "output_type": "stream",
     "text": [
      "Stored\n",
      "1 0001-12-16\n"
     ]
    },
    {
     "name": "stderr",
     "output_type": "stream",
     "text": [
      "/dev/shm/pbs.2915978.datarmor0/ipykernel_14604/2749567160.py:5: DeprecationWarning: dropping variables using `drop` is deprecated; use drop_vars.\n",
      "  snap_wpbp = wpbp.sel(time_counter=time).drop((\"time_centered\",\"nav_lon\",\"nav_lat\"))\n"
     ]
    },
    {
     "name": "stdout",
     "output_type": "stream",
     "text": [
      "Stored\n",
      "2 0001-12-17\n"
     ]
    },
    {
     "name": "stderr",
     "output_type": "stream",
     "text": [
      "/dev/shm/pbs.2915978.datarmor0/ipykernel_14604/2749567160.py:5: DeprecationWarning: dropping variables using `drop` is deprecated; use drop_vars.\n",
      "  snap_wpbp = wpbp.sel(time_counter=time).drop((\"time_centered\",\"nav_lon\",\"nav_lat\"))\n"
     ]
    },
    {
     "name": "stdout",
     "output_type": "stream",
     "text": [
      "Stored\n",
      "3 0001-12-18\n"
     ]
    },
    {
     "name": "stderr",
     "output_type": "stream",
     "text": [
      "/dev/shm/pbs.2915978.datarmor0/ipykernel_14604/2749567160.py:5: DeprecationWarning: dropping variables using `drop` is deprecated; use drop_vars.\n",
      "  snap_wpbp = wpbp.sel(time_counter=time).drop((\"time_centered\",\"nav_lon\",\"nav_lat\"))\n"
     ]
    },
    {
     "name": "stdout",
     "output_type": "stream",
     "text": [
      "Stored\n",
      "4 0001-12-19\n"
     ]
    },
    {
     "name": "stderr",
     "output_type": "stream",
     "text": [
      "/dev/shm/pbs.2915978.datarmor0/ipykernel_14604/2749567160.py:5: DeprecationWarning: dropping variables using `drop` is deprecated; use drop_vars.\n",
      "  snap_wpbp = wpbp.sel(time_counter=time).drop((\"time_centered\",\"nav_lon\",\"nav_lat\"))\n"
     ]
    },
    {
     "name": "stdout",
     "output_type": "stream",
     "text": [
      "Stored\n",
      "5 0001-12-20\n"
     ]
    },
    {
     "name": "stderr",
     "output_type": "stream",
     "text": [
      "/dev/shm/pbs.2915978.datarmor0/ipykernel_14604/2749567160.py:5: DeprecationWarning: dropping variables using `drop` is deprecated; use drop_vars.\n",
      "  snap_wpbp = wpbp.sel(time_counter=time).drop((\"time_centered\",\"nav_lon\",\"nav_lat\"))\n"
     ]
    },
    {
     "name": "stdout",
     "output_type": "stream",
     "text": [
      "Stored\n",
      "6 0001-12-21\n"
     ]
    },
    {
     "name": "stderr",
     "output_type": "stream",
     "text": [
      "/dev/shm/pbs.2915978.datarmor0/ipykernel_14604/2749567160.py:5: DeprecationWarning: dropping variables using `drop` is deprecated; use drop_vars.\n",
      "  snap_wpbp = wpbp.sel(time_counter=time).drop((\"time_centered\",\"nav_lon\",\"nav_lat\"))\n"
     ]
    },
    {
     "name": "stdout",
     "output_type": "stream",
     "text": [
      "Stored\n",
      "7 0001-12-22\n"
     ]
    },
    {
     "name": "stderr",
     "output_type": "stream",
     "text": [
      "/dev/shm/pbs.2915978.datarmor0/ipykernel_14604/2749567160.py:5: DeprecationWarning: dropping variables using `drop` is deprecated; use drop_vars.\n",
      "  snap_wpbp = wpbp.sel(time_counter=time).drop((\"time_centered\",\"nav_lon\",\"nav_lat\"))\n"
     ]
    },
    {
     "name": "stdout",
     "output_type": "stream",
     "text": [
      "Stored\n",
      "8 0001-12-23\n"
     ]
    },
    {
     "name": "stderr",
     "output_type": "stream",
     "text": [
      "/dev/shm/pbs.2915978.datarmor0/ipykernel_14604/2749567160.py:5: DeprecationWarning: dropping variables using `drop` is deprecated; use drop_vars.\n",
      "  snap_wpbp = wpbp.sel(time_counter=time).drop((\"time_centered\",\"nav_lon\",\"nav_lat\"))\n"
     ]
    },
    {
     "name": "stdout",
     "output_type": "stream",
     "text": [
      "Stored\n",
      "9 0001-12-24\n"
     ]
    },
    {
     "name": "stderr",
     "output_type": "stream",
     "text": [
      "/dev/shm/pbs.2915978.datarmor0/ipykernel_14604/2749567160.py:5: DeprecationWarning: dropping variables using `drop` is deprecated; use drop_vars.\n",
      "  snap_wpbp = wpbp.sel(time_counter=time).drop((\"time_centered\",\"nav_lon\",\"nav_lat\"))\n"
     ]
    },
    {
     "name": "stdout",
     "output_type": "stream",
     "text": [
      "Stored\n",
      "10 0001-12-25\n"
     ]
    },
    {
     "name": "stderr",
     "output_type": "stream",
     "text": [
      "/dev/shm/pbs.2915978.datarmor0/ipykernel_14604/2749567160.py:5: DeprecationWarning: dropping variables using `drop` is deprecated; use drop_vars.\n",
      "  snap_wpbp = wpbp.sel(time_counter=time).drop((\"time_centered\",\"nav_lon\",\"nav_lat\"))\n"
     ]
    },
    {
     "name": "stdout",
     "output_type": "stream",
     "text": [
      "Stored\n",
      "11 0001-12-26\n"
     ]
    },
    {
     "name": "stderr",
     "output_type": "stream",
     "text": [
      "/dev/shm/pbs.2915978.datarmor0/ipykernel_14604/2749567160.py:5: DeprecationWarning: dropping variables using `drop` is deprecated; use drop_vars.\n",
      "  snap_wpbp = wpbp.sel(time_counter=time).drop((\"time_centered\",\"nav_lon\",\"nav_lat\"))\n"
     ]
    },
    {
     "name": "stdout",
     "output_type": "stream",
     "text": [
      "Stored\n",
      "12 0001-12-27\n"
     ]
    },
    {
     "name": "stderr",
     "output_type": "stream",
     "text": [
      "/dev/shm/pbs.2915978.datarmor0/ipykernel_14604/2749567160.py:5: DeprecationWarning: dropping variables using `drop` is deprecated; use drop_vars.\n",
      "  snap_wpbp = wpbp.sel(time_counter=time).drop((\"time_centered\",\"nav_lon\",\"nav_lat\"))\n"
     ]
    },
    {
     "name": "stdout",
     "output_type": "stream",
     "text": [
      "Stored\n",
      "13 0001-12-28\n"
     ]
    },
    {
     "name": "stderr",
     "output_type": "stream",
     "text": [
      "/dev/shm/pbs.2915978.datarmor0/ipykernel_14604/2749567160.py:5: DeprecationWarning: dropping variables using `drop` is deprecated; use drop_vars.\n",
      "  snap_wpbp = wpbp.sel(time_counter=time).drop((\"time_centered\",\"nav_lon\",\"nav_lat\"))\n"
     ]
    },
    {
     "name": "stdout",
     "output_type": "stream",
     "text": [
      "Stored\n",
      "14 0001-12-29\n"
     ]
    },
    {
     "name": "stderr",
     "output_type": "stream",
     "text": [
      "/dev/shm/pbs.2915978.datarmor0/ipykernel_14604/2749567160.py:5: DeprecationWarning: dropping variables using `drop` is deprecated; use drop_vars.\n",
      "  snap_wpbp = wpbp.sel(time_counter=time).drop((\"time_centered\",\"nav_lon\",\"nav_lat\"))\n"
     ]
    },
    {
     "name": "stdout",
     "output_type": "stream",
     "text": [
      "Stored\n",
      "15 0001-12-30\n"
     ]
    },
    {
     "name": "stderr",
     "output_type": "stream",
     "text": [
      "/dev/shm/pbs.2915978.datarmor0/ipykernel_14604/2749567160.py:5: DeprecationWarning: dropping variables using `drop` is deprecated; use drop_vars.\n",
      "  snap_wpbp = wpbp.sel(time_counter=time).drop((\"time_centered\",\"nav_lon\",\"nav_lat\"))\n"
     ]
    },
    {
     "name": "stdout",
     "output_type": "stream",
     "text": [
      "Stored\n",
      "16 0001-12-31\n"
     ]
    },
    {
     "name": "stderr",
     "output_type": "stream",
     "text": [
      "/dev/shm/pbs.2915978.datarmor0/ipykernel_14604/2749567160.py:5: DeprecationWarning: dropping variables using `drop` is deprecated; use drop_vars.\n",
      "  snap_wpbp = wpbp.sel(time_counter=time).drop((\"time_centered\",\"nav_lon\",\"nav_lat\"))\n"
     ]
    },
    {
     "name": "stdout",
     "output_type": "stream",
     "text": [
      "Stored\n",
      "17 0002-01-01\n"
     ]
    },
    {
     "name": "stderr",
     "output_type": "stream",
     "text": [
      "/dev/shm/pbs.2915978.datarmor0/ipykernel_14604/2749567160.py:5: DeprecationWarning: dropping variables using `drop` is deprecated; use drop_vars.\n",
      "  snap_wpbp = wpbp.sel(time_counter=time).drop((\"time_centered\",\"nav_lon\",\"nav_lat\"))\n"
     ]
    },
    {
     "name": "stdout",
     "output_type": "stream",
     "text": [
      "Stored\n",
      "18 0002-01-02\n"
     ]
    },
    {
     "name": "stderr",
     "output_type": "stream",
     "text": [
      "/dev/shm/pbs.2915978.datarmor0/ipykernel_14604/2749567160.py:5: DeprecationWarning: dropping variables using `drop` is deprecated; use drop_vars.\n",
      "  snap_wpbp = wpbp.sel(time_counter=time).drop((\"time_centered\",\"nav_lon\",\"nav_lat\"))\n"
     ]
    },
    {
     "name": "stdout",
     "output_type": "stream",
     "text": [
      "Stored\n",
      "19 0002-01-03\n"
     ]
    },
    {
     "name": "stderr",
     "output_type": "stream",
     "text": [
      "/dev/shm/pbs.2915978.datarmor0/ipykernel_14604/2749567160.py:5: DeprecationWarning: dropping variables using `drop` is deprecated; use drop_vars.\n",
      "  snap_wpbp = wpbp.sel(time_counter=time).drop((\"time_centered\",\"nav_lon\",\"nav_lat\"))\n"
     ]
    },
    {
     "name": "stdout",
     "output_type": "stream",
     "text": [
      "Stored\n",
      "20 0002-01-04\n"
     ]
    },
    {
     "name": "stderr",
     "output_type": "stream",
     "text": [
      "/dev/shm/pbs.2915978.datarmor0/ipykernel_14604/2749567160.py:5: DeprecationWarning: dropping variables using `drop` is deprecated; use drop_vars.\n",
      "  snap_wpbp = wpbp.sel(time_counter=time).drop((\"time_centered\",\"nav_lon\",\"nav_lat\"))\n"
     ]
    },
    {
     "name": "stdout",
     "output_type": "stream",
     "text": [
      "Stored\n",
      "21 0002-01-05\n"
     ]
    },
    {
     "name": "stderr",
     "output_type": "stream",
     "text": [
      "/dev/shm/pbs.2915978.datarmor0/ipykernel_14604/2749567160.py:5: DeprecationWarning: dropping variables using `drop` is deprecated; use drop_vars.\n",
      "  snap_wpbp = wpbp.sel(time_counter=time).drop((\"time_centered\",\"nav_lon\",\"nav_lat\"))\n"
     ]
    },
    {
     "name": "stdout",
     "output_type": "stream",
     "text": [
      "Stored\n",
      "22 0002-01-06\n"
     ]
    },
    {
     "name": "stderr",
     "output_type": "stream",
     "text": [
      "/dev/shm/pbs.2915978.datarmor0/ipykernel_14604/2749567160.py:5: DeprecationWarning: dropping variables using `drop` is deprecated; use drop_vars.\n",
      "  snap_wpbp = wpbp.sel(time_counter=time).drop((\"time_centered\",\"nav_lon\",\"nav_lat\"))\n"
     ]
    },
    {
     "name": "stdout",
     "output_type": "stream",
     "text": [
      "Stored\n",
      "23 0002-01-07\n"
     ]
    },
    {
     "name": "stderr",
     "output_type": "stream",
     "text": [
      "/dev/shm/pbs.2915978.datarmor0/ipykernel_14604/2749567160.py:5: DeprecationWarning: dropping variables using `drop` is deprecated; use drop_vars.\n",
      "  snap_wpbp = wpbp.sel(time_counter=time).drop((\"time_centered\",\"nav_lon\",\"nav_lat\"))\n"
     ]
    },
    {
     "name": "stdout",
     "output_type": "stream",
     "text": [
      "Stored\n",
      "24 0002-01-08\n"
     ]
    },
    {
     "name": "stderr",
     "output_type": "stream",
     "text": [
      "/dev/shm/pbs.2915978.datarmor0/ipykernel_14604/2749567160.py:5: DeprecationWarning: dropping variables using `drop` is deprecated; use drop_vars.\n",
      "  snap_wpbp = wpbp.sel(time_counter=time).drop((\"time_centered\",\"nav_lon\",\"nav_lat\"))\n"
     ]
    },
    {
     "name": "stdout",
     "output_type": "stream",
     "text": [
      "Stored\n",
      "25 0002-01-09\n"
     ]
    },
    {
     "name": "stderr",
     "output_type": "stream",
     "text": [
      "/dev/shm/pbs.2915978.datarmor0/ipykernel_14604/2749567160.py:5: DeprecationWarning: dropping variables using `drop` is deprecated; use drop_vars.\n",
      "  snap_wpbp = wpbp.sel(time_counter=time).drop((\"time_centered\",\"nav_lon\",\"nav_lat\"))\n"
     ]
    },
    {
     "name": "stdout",
     "output_type": "stream",
     "text": [
      "Stored\n",
      "26 0002-01-10\n"
     ]
    },
    {
     "name": "stderr",
     "output_type": "stream",
     "text": [
      "/dev/shm/pbs.2915978.datarmor0/ipykernel_14604/2749567160.py:5: DeprecationWarning: dropping variables using `drop` is deprecated; use drop_vars.\n",
      "  snap_wpbp = wpbp.sel(time_counter=time).drop((\"time_centered\",\"nav_lon\",\"nav_lat\"))\n"
     ]
    },
    {
     "name": "stdout",
     "output_type": "stream",
     "text": [
      "Stored\n",
      "27 0002-01-11\n"
     ]
    },
    {
     "name": "stderr",
     "output_type": "stream",
     "text": [
      "/dev/shm/pbs.2915978.datarmor0/ipykernel_14604/2749567160.py:5: DeprecationWarning: dropping variables using `drop` is deprecated; use drop_vars.\n",
      "  snap_wpbp = wpbp.sel(time_counter=time).drop((\"time_centered\",\"nav_lon\",\"nav_lat\"))\n"
     ]
    },
    {
     "name": "stdout",
     "output_type": "stream",
     "text": [
      "Stored\n",
      "28 0002-01-12\n"
     ]
    },
    {
     "name": "stderr",
     "output_type": "stream",
     "text": [
      "/dev/shm/pbs.2915978.datarmor0/ipykernel_14604/2749567160.py:5: DeprecationWarning: dropping variables using `drop` is deprecated; use drop_vars.\n",
      "  snap_wpbp = wpbp.sel(time_counter=time).drop((\"time_centered\",\"nav_lon\",\"nav_lat\"))\n"
     ]
    },
    {
     "name": "stdout",
     "output_type": "stream",
     "text": [
      "Stored\n",
      "29 0002-01-13\n"
     ]
    },
    {
     "name": "stderr",
     "output_type": "stream",
     "text": [
      "/dev/shm/pbs.2915978.datarmor0/ipykernel_14604/2749567160.py:5: DeprecationWarning: dropping variables using `drop` is deprecated; use drop_vars.\n",
      "  snap_wpbp = wpbp.sel(time_counter=time).drop((\"time_centered\",\"nav_lon\",\"nav_lat\"))\n"
     ]
    },
    {
     "name": "stdout",
     "output_type": "stream",
     "text": [
      "Stored\n",
      "30 0002-01-14\n"
     ]
    },
    {
     "name": "stderr",
     "output_type": "stream",
     "text": [
      "/dev/shm/pbs.2915978.datarmor0/ipykernel_14604/2749567160.py:5: DeprecationWarning: dropping variables using `drop` is deprecated; use drop_vars.\n",
      "  snap_wpbp = wpbp.sel(time_counter=time).drop((\"time_centered\",\"nav_lon\",\"nav_lat\"))\n"
     ]
    },
    {
     "name": "stdout",
     "output_type": "stream",
     "text": [
      "Stored\n",
      "31 0002-01-15\n"
     ]
    },
    {
     "name": "stderr",
     "output_type": "stream",
     "text": [
      "/dev/shm/pbs.2915978.datarmor0/ipykernel_14604/2749567160.py:5: DeprecationWarning: dropping variables using `drop` is deprecated; use drop_vars.\n",
      "  snap_wpbp = wpbp.sel(time_counter=time).drop((\"time_centered\",\"nav_lon\",\"nav_lat\"))\n"
     ]
    },
    {
     "name": "stdout",
     "output_type": "stream",
     "text": [
      "Stored\n",
      "32 0002-01-16\n"
     ]
    },
    {
     "name": "stderr",
     "output_type": "stream",
     "text": [
      "/dev/shm/pbs.2915978.datarmor0/ipykernel_14604/2749567160.py:5: DeprecationWarning: dropping variables using `drop` is deprecated; use drop_vars.\n",
      "  snap_wpbp = wpbp.sel(time_counter=time).drop((\"time_centered\",\"nav_lon\",\"nav_lat\"))\n"
     ]
    },
    {
     "name": "stdout",
     "output_type": "stream",
     "text": [
      "Stored\n",
      "33 0002-01-17\n"
     ]
    },
    {
     "name": "stderr",
     "output_type": "stream",
     "text": [
      "/dev/shm/pbs.2915978.datarmor0/ipykernel_14604/2749567160.py:5: DeprecationWarning: dropping variables using `drop` is deprecated; use drop_vars.\n",
      "  snap_wpbp = wpbp.sel(time_counter=time).drop((\"time_centered\",\"nav_lon\",\"nav_lat\"))\n"
     ]
    },
    {
     "name": "stdout",
     "output_type": "stream",
     "text": [
      "Stored\n",
      "34 0002-01-18\n"
     ]
    },
    {
     "name": "stderr",
     "output_type": "stream",
     "text": [
      "/dev/shm/pbs.2915978.datarmor0/ipykernel_14604/2749567160.py:5: DeprecationWarning: dropping variables using `drop` is deprecated; use drop_vars.\n",
      "  snap_wpbp = wpbp.sel(time_counter=time).drop((\"time_centered\",\"nav_lon\",\"nav_lat\"))\n"
     ]
    },
    {
     "name": "stdout",
     "output_type": "stream",
     "text": [
      "Stored\n",
      "35 0002-01-19\n"
     ]
    },
    {
     "name": "stderr",
     "output_type": "stream",
     "text": [
      "/dev/shm/pbs.2915978.datarmor0/ipykernel_14604/2749567160.py:5: DeprecationWarning: dropping variables using `drop` is deprecated; use drop_vars.\n",
      "  snap_wpbp = wpbp.sel(time_counter=time).drop((\"time_centered\",\"nav_lon\",\"nav_lat\"))\n"
     ]
    },
    {
     "name": "stdout",
     "output_type": "stream",
     "text": [
      "Stored\n",
      "36 0002-01-20\n"
     ]
    },
    {
     "name": "stderr",
     "output_type": "stream",
     "text": [
      "/dev/shm/pbs.2915978.datarmor0/ipykernel_14604/2749567160.py:5: DeprecationWarning: dropping variables using `drop` is deprecated; use drop_vars.\n",
      "  snap_wpbp = wpbp.sel(time_counter=time).drop((\"time_centered\",\"nav_lon\",\"nav_lat\"))\n"
     ]
    },
    {
     "name": "stdout",
     "output_type": "stream",
     "text": [
      "Stored\n",
      "37 0002-01-21\n"
     ]
    },
    {
     "name": "stderr",
     "output_type": "stream",
     "text": [
      "/dev/shm/pbs.2915978.datarmor0/ipykernel_14604/2749567160.py:5: DeprecationWarning: dropping variables using `drop` is deprecated; use drop_vars.\n",
      "  snap_wpbp = wpbp.sel(time_counter=time).drop((\"time_centered\",\"nav_lon\",\"nav_lat\"))\n"
     ]
    },
    {
     "name": "stdout",
     "output_type": "stream",
     "text": [
      "Stored\n",
      "38 0002-01-22\n"
     ]
    },
    {
     "name": "stderr",
     "output_type": "stream",
     "text": [
      "/dev/shm/pbs.2915978.datarmor0/ipykernel_14604/2749567160.py:5: DeprecationWarning: dropping variables using `drop` is deprecated; use drop_vars.\n",
      "  snap_wpbp = wpbp.sel(time_counter=time).drop((\"time_centered\",\"nav_lon\",\"nav_lat\"))\n"
     ]
    },
    {
     "name": "stdout",
     "output_type": "stream",
     "text": [
      "Stored\n",
      "39 0002-01-23\n"
     ]
    },
    {
     "name": "stderr",
     "output_type": "stream",
     "text": [
      "/dev/shm/pbs.2915978.datarmor0/ipykernel_14604/2749567160.py:5: DeprecationWarning: dropping variables using `drop` is deprecated; use drop_vars.\n",
      "  snap_wpbp = wpbp.sel(time_counter=time).drop((\"time_centered\",\"nav_lon\",\"nav_lat\"))\n"
     ]
    },
    {
     "name": "stdout",
     "output_type": "stream",
     "text": [
      "Stored\n",
      "40 0002-01-24\n"
     ]
    },
    {
     "name": "stderr",
     "output_type": "stream",
     "text": [
      "/dev/shm/pbs.2915978.datarmor0/ipykernel_14604/2749567160.py:5: DeprecationWarning: dropping variables using `drop` is deprecated; use drop_vars.\n",
      "  snap_wpbp = wpbp.sel(time_counter=time).drop((\"time_centered\",\"nav_lon\",\"nav_lat\"))\n"
     ]
    },
    {
     "name": "stdout",
     "output_type": "stream",
     "text": [
      "Stored\n",
      "41 0002-01-25\n"
     ]
    },
    {
     "name": "stderr",
     "output_type": "stream",
     "text": [
      "/dev/shm/pbs.2915978.datarmor0/ipykernel_14604/2749567160.py:5: DeprecationWarning: dropping variables using `drop` is deprecated; use drop_vars.\n",
      "  snap_wpbp = wpbp.sel(time_counter=time).drop((\"time_centered\",\"nav_lon\",\"nav_lat\"))\n"
     ]
    },
    {
     "name": "stdout",
     "output_type": "stream",
     "text": [
      "Stored\n",
      "42 0002-01-26\n"
     ]
    },
    {
     "name": "stderr",
     "output_type": "stream",
     "text": [
      "/dev/shm/pbs.2915978.datarmor0/ipykernel_14604/2749567160.py:5: DeprecationWarning: dropping variables using `drop` is deprecated; use drop_vars.\n",
      "  snap_wpbp = wpbp.sel(time_counter=time).drop((\"time_centered\",\"nav_lon\",\"nav_lat\"))\n"
     ]
    },
    {
     "name": "stdout",
     "output_type": "stream",
     "text": [
      "Stored\n",
      "43 0002-01-27\n"
     ]
    },
    {
     "name": "stderr",
     "output_type": "stream",
     "text": [
      "/dev/shm/pbs.2915978.datarmor0/ipykernel_14604/2749567160.py:5: DeprecationWarning: dropping variables using `drop` is deprecated; use drop_vars.\n",
      "  snap_wpbp = wpbp.sel(time_counter=time).drop((\"time_centered\",\"nav_lon\",\"nav_lat\"))\n"
     ]
    },
    {
     "name": "stdout",
     "output_type": "stream",
     "text": [
      "Stored\n",
      "44 0002-01-28\n"
     ]
    },
    {
     "name": "stderr",
     "output_type": "stream",
     "text": [
      "/dev/shm/pbs.2915978.datarmor0/ipykernel_14604/2749567160.py:5: DeprecationWarning: dropping variables using `drop` is deprecated; use drop_vars.\n",
      "  snap_wpbp = wpbp.sel(time_counter=time).drop((\"time_centered\",\"nav_lon\",\"nav_lat\"))\n"
     ]
    },
    {
     "name": "stdout",
     "output_type": "stream",
     "text": [
      "Stored\n",
      "45 0002-01-29\n"
     ]
    },
    {
     "name": "stderr",
     "output_type": "stream",
     "text": [
      "/dev/shm/pbs.2915978.datarmor0/ipykernel_14604/2749567160.py:5: DeprecationWarning: dropping variables using `drop` is deprecated; use drop_vars.\n",
      "  snap_wpbp = wpbp.sel(time_counter=time).drop((\"time_centered\",\"nav_lon\",\"nav_lat\"))\n"
     ]
    },
    {
     "name": "stdout",
     "output_type": "stream",
     "text": [
      "Stored\n",
      "46 0002-01-30\n"
     ]
    },
    {
     "name": "stderr",
     "output_type": "stream",
     "text": [
      "/dev/shm/pbs.2915978.datarmor0/ipykernel_14604/2749567160.py:5: DeprecationWarning: dropping variables using `drop` is deprecated; use drop_vars.\n",
      "  snap_wpbp = wpbp.sel(time_counter=time).drop((\"time_centered\",\"nav_lon\",\"nav_lat\"))\n"
     ]
    },
    {
     "name": "stdout",
     "output_type": "stream",
     "text": [
      "Stored\n",
      "47 0002-01-31\n"
     ]
    },
    {
     "name": "stderr",
     "output_type": "stream",
     "text": [
      "/dev/shm/pbs.2915978.datarmor0/ipykernel_14604/2749567160.py:5: DeprecationWarning: dropping variables using `drop` is deprecated; use drop_vars.\n",
      "  snap_wpbp = wpbp.sel(time_counter=time).drop((\"time_centered\",\"nav_lon\",\"nav_lat\"))\n"
     ]
    },
    {
     "name": "stdout",
     "output_type": "stream",
     "text": [
      "Stored\n",
      "48 0002-02-01\n"
     ]
    },
    {
     "name": "stderr",
     "output_type": "stream",
     "text": [
      "/dev/shm/pbs.2915978.datarmor0/ipykernel_14604/2749567160.py:5: DeprecationWarning: dropping variables using `drop` is deprecated; use drop_vars.\n",
      "  snap_wpbp = wpbp.sel(time_counter=time).drop((\"time_centered\",\"nav_lon\",\"nav_lat\"))\n"
     ]
    },
    {
     "name": "stdout",
     "output_type": "stream",
     "text": [
      "Stored\n",
      "49 0002-02-02\n"
     ]
    },
    {
     "name": "stderr",
     "output_type": "stream",
     "text": [
      "/dev/shm/pbs.2915978.datarmor0/ipykernel_14604/2749567160.py:5: DeprecationWarning: dropping variables using `drop` is deprecated; use drop_vars.\n",
      "  snap_wpbp = wpbp.sel(time_counter=time).drop((\"time_centered\",\"nav_lon\",\"nav_lat\"))\n"
     ]
    },
    {
     "name": "stdout",
     "output_type": "stream",
     "text": [
      "Stored\n",
      "50 0002-02-03\n"
     ]
    },
    {
     "name": "stderr",
     "output_type": "stream",
     "text": [
      "/dev/shm/pbs.2915978.datarmor0/ipykernel_14604/2749567160.py:5: DeprecationWarning: dropping variables using `drop` is deprecated; use drop_vars.\n",
      "  snap_wpbp = wpbp.sel(time_counter=time).drop((\"time_centered\",\"nav_lon\",\"nav_lat\"))\n"
     ]
    },
    {
     "name": "stdout",
     "output_type": "stream",
     "text": [
      "Stored\n",
      "51 0002-02-04\n"
     ]
    },
    {
     "name": "stderr",
     "output_type": "stream",
     "text": [
      "/dev/shm/pbs.2915978.datarmor0/ipykernel_14604/2749567160.py:5: DeprecationWarning: dropping variables using `drop` is deprecated; use drop_vars.\n",
      "  snap_wpbp = wpbp.sel(time_counter=time).drop((\"time_centered\",\"nav_lon\",\"nav_lat\"))\n"
     ]
    },
    {
     "name": "stdout",
     "output_type": "stream",
     "text": [
      "Stored\n",
      "52 0002-02-05\n"
     ]
    },
    {
     "name": "stderr",
     "output_type": "stream",
     "text": [
      "/dev/shm/pbs.2915978.datarmor0/ipykernel_14604/2749567160.py:5: DeprecationWarning: dropping variables using `drop` is deprecated; use drop_vars.\n",
      "  snap_wpbp = wpbp.sel(time_counter=time).drop((\"time_centered\",\"nav_lon\",\"nav_lat\"))\n"
     ]
    },
    {
     "name": "stdout",
     "output_type": "stream",
     "text": [
      "Stored\n",
      "53 0002-02-06\n"
     ]
    },
    {
     "name": "stderr",
     "output_type": "stream",
     "text": [
      "/dev/shm/pbs.2915978.datarmor0/ipykernel_14604/2749567160.py:5: DeprecationWarning: dropping variables using `drop` is deprecated; use drop_vars.\n",
      "  snap_wpbp = wpbp.sel(time_counter=time).drop((\"time_centered\",\"nav_lon\",\"nav_lat\"))\n"
     ]
    },
    {
     "name": "stdout",
     "output_type": "stream",
     "text": [
      "Stored\n",
      "54 0002-02-07\n"
     ]
    },
    {
     "name": "stderr",
     "output_type": "stream",
     "text": [
      "/dev/shm/pbs.2915978.datarmor0/ipykernel_14604/2749567160.py:5: DeprecationWarning: dropping variables using `drop` is deprecated; use drop_vars.\n",
      "  snap_wpbp = wpbp.sel(time_counter=time).drop((\"time_centered\",\"nav_lon\",\"nav_lat\"))\n"
     ]
    },
    {
     "name": "stdout",
     "output_type": "stream",
     "text": [
      "Stored\n",
      "55 0002-02-08\n"
     ]
    },
    {
     "name": "stderr",
     "output_type": "stream",
     "text": [
      "/dev/shm/pbs.2915978.datarmor0/ipykernel_14604/2749567160.py:5: DeprecationWarning: dropping variables using `drop` is deprecated; use drop_vars.\n",
      "  snap_wpbp = wpbp.sel(time_counter=time).drop((\"time_centered\",\"nav_lon\",\"nav_lat\"))\n"
     ]
    },
    {
     "name": "stdout",
     "output_type": "stream",
     "text": [
      "Stored\n",
      "56 0002-02-09\n"
     ]
    },
    {
     "name": "stderr",
     "output_type": "stream",
     "text": [
      "/dev/shm/pbs.2915978.datarmor0/ipykernel_14604/2749567160.py:5: DeprecationWarning: dropping variables using `drop` is deprecated; use drop_vars.\n",
      "  snap_wpbp = wpbp.sel(time_counter=time).drop((\"time_centered\",\"nav_lon\",\"nav_lat\"))\n"
     ]
    },
    {
     "name": "stdout",
     "output_type": "stream",
     "text": [
      "Stored\n",
      "57 0002-02-10\n"
     ]
    },
    {
     "name": "stderr",
     "output_type": "stream",
     "text": [
      "/dev/shm/pbs.2915978.datarmor0/ipykernel_14604/2749567160.py:5: DeprecationWarning: dropping variables using `drop` is deprecated; use drop_vars.\n",
      "  snap_wpbp = wpbp.sel(time_counter=time).drop((\"time_centered\",\"nav_lon\",\"nav_lat\"))\n"
     ]
    },
    {
     "name": "stdout",
     "output_type": "stream",
     "text": [
      "Stored\n",
      "58 0002-02-11\n"
     ]
    },
    {
     "name": "stderr",
     "output_type": "stream",
     "text": [
      "/dev/shm/pbs.2915978.datarmor0/ipykernel_14604/2749567160.py:5: DeprecationWarning: dropping variables using `drop` is deprecated; use drop_vars.\n",
      "  snap_wpbp = wpbp.sel(time_counter=time).drop((\"time_centered\",\"nav_lon\",\"nav_lat\"))\n"
     ]
    },
    {
     "name": "stdout",
     "output_type": "stream",
     "text": [
      "Stored\n",
      "59 0002-02-12\n"
     ]
    },
    {
     "name": "stderr",
     "output_type": "stream",
     "text": [
      "/dev/shm/pbs.2915978.datarmor0/ipykernel_14604/2749567160.py:5: DeprecationWarning: dropping variables using `drop` is deprecated; use drop_vars.\n",
      "  snap_wpbp = wpbp.sel(time_counter=time).drop((\"time_centered\",\"nav_lon\",\"nav_lat\"))\n"
     ]
    },
    {
     "name": "stdout",
     "output_type": "stream",
     "text": [
      "Stored\n",
      "60 0002-02-13\n"
     ]
    },
    {
     "name": "stderr",
     "output_type": "stream",
     "text": [
      "/dev/shm/pbs.2915978.datarmor0/ipykernel_14604/2749567160.py:5: DeprecationWarning: dropping variables using `drop` is deprecated; use drop_vars.\n",
      "  snap_wpbp = wpbp.sel(time_counter=time).drop((\"time_centered\",\"nav_lon\",\"nav_lat\"))\n"
     ]
    },
    {
     "name": "stdout",
     "output_type": "stream",
     "text": [
      "Stored\n",
      "61 0002-02-14\n"
     ]
    },
    {
     "name": "stderr",
     "output_type": "stream",
     "text": [
      "/dev/shm/pbs.2915978.datarmor0/ipykernel_14604/2749567160.py:5: DeprecationWarning: dropping variables using `drop` is deprecated; use drop_vars.\n",
      "  snap_wpbp = wpbp.sel(time_counter=time).drop((\"time_centered\",\"nav_lon\",\"nav_lat\"))\n"
     ]
    },
    {
     "name": "stdout",
     "output_type": "stream",
     "text": [
      "Stored\n",
      "62 0002-02-15\n"
     ]
    },
    {
     "name": "stderr",
     "output_type": "stream",
     "text": [
      "/dev/shm/pbs.2915978.datarmor0/ipykernel_14604/2749567160.py:5: DeprecationWarning: dropping variables using `drop` is deprecated; use drop_vars.\n",
      "  snap_wpbp = wpbp.sel(time_counter=time).drop((\"time_centered\",\"nav_lon\",\"nav_lat\"))\n"
     ]
    },
    {
     "name": "stdout",
     "output_type": "stream",
     "text": [
      "Stored\n",
      "63 0002-02-16\n"
     ]
    },
    {
     "name": "stderr",
     "output_type": "stream",
     "text": [
      "/dev/shm/pbs.2915978.datarmor0/ipykernel_14604/2749567160.py:5: DeprecationWarning: dropping variables using `drop` is deprecated; use drop_vars.\n",
      "  snap_wpbp = wpbp.sel(time_counter=time).drop((\"time_centered\",\"nav_lon\",\"nav_lat\"))\n"
     ]
    },
    {
     "name": "stdout",
     "output_type": "stream",
     "text": [
      "Stored\n",
      "64 0002-02-17\n"
     ]
    },
    {
     "name": "stderr",
     "output_type": "stream",
     "text": [
      "/dev/shm/pbs.2915978.datarmor0/ipykernel_14604/2749567160.py:5: DeprecationWarning: dropping variables using `drop` is deprecated; use drop_vars.\n",
      "  snap_wpbp = wpbp.sel(time_counter=time).drop((\"time_centered\",\"nav_lon\",\"nav_lat\"))\n"
     ]
    },
    {
     "name": "stdout",
     "output_type": "stream",
     "text": [
      "Stored\n",
      "65 0002-02-18\n"
     ]
    },
    {
     "name": "stderr",
     "output_type": "stream",
     "text": [
      "/dev/shm/pbs.2915978.datarmor0/ipykernel_14604/2749567160.py:5: DeprecationWarning: dropping variables using `drop` is deprecated; use drop_vars.\n",
      "  snap_wpbp = wpbp.sel(time_counter=time).drop((\"time_centered\",\"nav_lon\",\"nav_lat\"))\n"
     ]
    },
    {
     "name": "stdout",
     "output_type": "stream",
     "text": [
      "Stored\n",
      "66 0002-02-19\n"
     ]
    },
    {
     "name": "stderr",
     "output_type": "stream",
     "text": [
      "/dev/shm/pbs.2915978.datarmor0/ipykernel_14604/2749567160.py:5: DeprecationWarning: dropping variables using `drop` is deprecated; use drop_vars.\n",
      "  snap_wpbp = wpbp.sel(time_counter=time).drop((\"time_centered\",\"nav_lon\",\"nav_lat\"))\n"
     ]
    },
    {
     "name": "stdout",
     "output_type": "stream",
     "text": [
      "Stored\n",
      "67 0002-02-20\n"
     ]
    },
    {
     "name": "stderr",
     "output_type": "stream",
     "text": [
      "/dev/shm/pbs.2915978.datarmor0/ipykernel_14604/2749567160.py:5: DeprecationWarning: dropping variables using `drop` is deprecated; use drop_vars.\n",
      "  snap_wpbp = wpbp.sel(time_counter=time).drop((\"time_centered\",\"nav_lon\",\"nav_lat\"))\n"
     ]
    },
    {
     "name": "stdout",
     "output_type": "stream",
     "text": [
      "Stored\n",
      "68 0002-02-21\n"
     ]
    },
    {
     "name": "stderr",
     "output_type": "stream",
     "text": [
      "/dev/shm/pbs.2915978.datarmor0/ipykernel_14604/2749567160.py:5: DeprecationWarning: dropping variables using `drop` is deprecated; use drop_vars.\n",
      "  snap_wpbp = wpbp.sel(time_counter=time).drop((\"time_centered\",\"nav_lon\",\"nav_lat\"))\n"
     ]
    },
    {
     "name": "stdout",
     "output_type": "stream",
     "text": [
      "Stored\n",
      "69 0002-02-22\n"
     ]
    },
    {
     "name": "stderr",
     "output_type": "stream",
     "text": [
      "/dev/shm/pbs.2915978.datarmor0/ipykernel_14604/2749567160.py:5: DeprecationWarning: dropping variables using `drop` is deprecated; use drop_vars.\n",
      "  snap_wpbp = wpbp.sel(time_counter=time).drop((\"time_centered\",\"nav_lon\",\"nav_lat\"))\n"
     ]
    },
    {
     "name": "stdout",
     "output_type": "stream",
     "text": [
      "Stored\n",
      "70 0002-02-23\n"
     ]
    },
    {
     "name": "stderr",
     "output_type": "stream",
     "text": [
      "/dev/shm/pbs.2915978.datarmor0/ipykernel_14604/2749567160.py:5: DeprecationWarning: dropping variables using `drop` is deprecated; use drop_vars.\n",
      "  snap_wpbp = wpbp.sel(time_counter=time).drop((\"time_centered\",\"nav_lon\",\"nav_lat\"))\n"
     ]
    },
    {
     "name": "stdout",
     "output_type": "stream",
     "text": [
      "Stored\n",
      "71 0002-02-24\n"
     ]
    },
    {
     "name": "stderr",
     "output_type": "stream",
     "text": [
      "/dev/shm/pbs.2915978.datarmor0/ipykernel_14604/2749567160.py:5: DeprecationWarning: dropping variables using `drop` is deprecated; use drop_vars.\n",
      "  snap_wpbp = wpbp.sel(time_counter=time).drop((\"time_centered\",\"nav_lon\",\"nav_lat\"))\n"
     ]
    },
    {
     "name": "stdout",
     "output_type": "stream",
     "text": [
      "Stored\n",
      "72 0002-02-25\n"
     ]
    },
    {
     "name": "stderr",
     "output_type": "stream",
     "text": [
      "/dev/shm/pbs.2915978.datarmor0/ipykernel_14604/2749567160.py:5: DeprecationWarning: dropping variables using `drop` is deprecated; use drop_vars.\n",
      "  snap_wpbp = wpbp.sel(time_counter=time).drop((\"time_centered\",\"nav_lon\",\"nav_lat\"))\n"
     ]
    },
    {
     "name": "stdout",
     "output_type": "stream",
     "text": [
      "Stored\n",
      "73 0002-02-26\n"
     ]
    },
    {
     "name": "stderr",
     "output_type": "stream",
     "text": [
      "/dev/shm/pbs.2915978.datarmor0/ipykernel_14604/2749567160.py:5: DeprecationWarning: dropping variables using `drop` is deprecated; use drop_vars.\n",
      "  snap_wpbp = wpbp.sel(time_counter=time).drop((\"time_centered\",\"nav_lon\",\"nav_lat\"))\n"
     ]
    },
    {
     "name": "stdout",
     "output_type": "stream",
     "text": [
      "Stored\n",
      "74 0002-02-27\n"
     ]
    },
    {
     "name": "stderr",
     "output_type": "stream",
     "text": [
      "/dev/shm/pbs.2915978.datarmor0/ipykernel_14604/2749567160.py:5: DeprecationWarning: dropping variables using `drop` is deprecated; use drop_vars.\n",
      "  snap_wpbp = wpbp.sel(time_counter=time).drop((\"time_centered\",\"nav_lon\",\"nav_lat\"))\n"
     ]
    },
    {
     "name": "stdout",
     "output_type": "stream",
     "text": [
      "Stored\n",
      "75 0002-02-28\n"
     ]
    },
    {
     "name": "stderr",
     "output_type": "stream",
     "text": [
      "/dev/shm/pbs.2915978.datarmor0/ipykernel_14604/2749567160.py:5: DeprecationWarning: dropping variables using `drop` is deprecated; use drop_vars.\n",
      "  snap_wpbp = wpbp.sel(time_counter=time).drop((\"time_centered\",\"nav_lon\",\"nav_lat\"))\n"
     ]
    },
    {
     "name": "stdout",
     "output_type": "stream",
     "text": [
      "Stored\n",
      "76 0002-03-01\n"
     ]
    },
    {
     "name": "stderr",
     "output_type": "stream",
     "text": [
      "/dev/shm/pbs.2915978.datarmor0/ipykernel_14604/2749567160.py:5: DeprecationWarning: dropping variables using `drop` is deprecated; use drop_vars.\n",
      "  snap_wpbp = wpbp.sel(time_counter=time).drop((\"time_centered\",\"nav_lon\",\"nav_lat\"))\n"
     ]
    },
    {
     "name": "stdout",
     "output_type": "stream",
     "text": [
      "Stored\n",
      "77 0002-03-02\n"
     ]
    },
    {
     "name": "stderr",
     "output_type": "stream",
     "text": [
      "/dev/shm/pbs.2915978.datarmor0/ipykernel_14604/2749567160.py:5: DeprecationWarning: dropping variables using `drop` is deprecated; use drop_vars.\n",
      "  snap_wpbp = wpbp.sel(time_counter=time).drop((\"time_centered\",\"nav_lon\",\"nav_lat\"))\n"
     ]
    },
    {
     "name": "stdout",
     "output_type": "stream",
     "text": [
      "Stored\n",
      "78 0002-03-03\n"
     ]
    },
    {
     "name": "stderr",
     "output_type": "stream",
     "text": [
      "/dev/shm/pbs.2915978.datarmor0/ipykernel_14604/2749567160.py:5: DeprecationWarning: dropping variables using `drop` is deprecated; use drop_vars.\n",
      "  snap_wpbp = wpbp.sel(time_counter=time).drop((\"time_centered\",\"nav_lon\",\"nav_lat\"))\n"
     ]
    },
    {
     "name": "stdout",
     "output_type": "stream",
     "text": [
      "Stored\n",
      "79 0002-03-04\n"
     ]
    },
    {
     "name": "stderr",
     "output_type": "stream",
     "text": [
      "/dev/shm/pbs.2915978.datarmor0/ipykernel_14604/2749567160.py:5: DeprecationWarning: dropping variables using `drop` is deprecated; use drop_vars.\n",
      "  snap_wpbp = wpbp.sel(time_counter=time).drop((\"time_centered\",\"nav_lon\",\"nav_lat\"))\n"
     ]
    },
    {
     "name": "stdout",
     "output_type": "stream",
     "text": [
      "Stored\n",
      "80 0002-03-05\n"
     ]
    },
    {
     "name": "stderr",
     "output_type": "stream",
     "text": [
      "/dev/shm/pbs.2915978.datarmor0/ipykernel_14604/2749567160.py:5: DeprecationWarning: dropping variables using `drop` is deprecated; use drop_vars.\n",
      "  snap_wpbp = wpbp.sel(time_counter=time).drop((\"time_centered\",\"nav_lon\",\"nav_lat\"))\n"
     ]
    },
    {
     "name": "stdout",
     "output_type": "stream",
     "text": [
      "Stored\n",
      "81 0002-03-06\n"
     ]
    },
    {
     "name": "stderr",
     "output_type": "stream",
     "text": [
      "/dev/shm/pbs.2915978.datarmor0/ipykernel_14604/2749567160.py:5: DeprecationWarning: dropping variables using `drop` is deprecated; use drop_vars.\n",
      "  snap_wpbp = wpbp.sel(time_counter=time).drop((\"time_centered\",\"nav_lon\",\"nav_lat\"))\n"
     ]
    },
    {
     "name": "stdout",
     "output_type": "stream",
     "text": [
      "Stored\n",
      "82 0002-03-07\n"
     ]
    },
    {
     "name": "stderr",
     "output_type": "stream",
     "text": [
      "/dev/shm/pbs.2915978.datarmor0/ipykernel_14604/2749567160.py:5: DeprecationWarning: dropping variables using `drop` is deprecated; use drop_vars.\n",
      "  snap_wpbp = wpbp.sel(time_counter=time).drop((\"time_centered\",\"nav_lon\",\"nav_lat\"))\n"
     ]
    },
    {
     "name": "stdout",
     "output_type": "stream",
     "text": [
      "Stored\n",
      "83 0002-03-08\n"
     ]
    },
    {
     "name": "stderr",
     "output_type": "stream",
     "text": [
      "/dev/shm/pbs.2915978.datarmor0/ipykernel_14604/2749567160.py:5: DeprecationWarning: dropping variables using `drop` is deprecated; use drop_vars.\n",
      "  snap_wpbp = wpbp.sel(time_counter=time).drop((\"time_centered\",\"nav_lon\",\"nav_lat\"))\n"
     ]
    },
    {
     "name": "stdout",
     "output_type": "stream",
     "text": [
      "Stored\n",
      "84 0002-03-09\n"
     ]
    },
    {
     "name": "stderr",
     "output_type": "stream",
     "text": [
      "/dev/shm/pbs.2915978.datarmor0/ipykernel_14604/2749567160.py:5: DeprecationWarning: dropping variables using `drop` is deprecated; use drop_vars.\n",
      "  snap_wpbp = wpbp.sel(time_counter=time).drop((\"time_centered\",\"nav_lon\",\"nav_lat\"))\n"
     ]
    },
    {
     "name": "stdout",
     "output_type": "stream",
     "text": [
      "Stored\n",
      "85 0002-03-10\n"
     ]
    },
    {
     "name": "stderr",
     "output_type": "stream",
     "text": [
      "/dev/shm/pbs.2915978.datarmor0/ipykernel_14604/2749567160.py:5: DeprecationWarning: dropping variables using `drop` is deprecated; use drop_vars.\n",
      "  snap_wpbp = wpbp.sel(time_counter=time).drop((\"time_centered\",\"nav_lon\",\"nav_lat\"))\n"
     ]
    },
    {
     "name": "stdout",
     "output_type": "stream",
     "text": [
      "Stored\n",
      "86 0002-03-11\n"
     ]
    },
    {
     "name": "stderr",
     "output_type": "stream",
     "text": [
      "/dev/shm/pbs.2915978.datarmor0/ipykernel_14604/2749567160.py:5: DeprecationWarning: dropping variables using `drop` is deprecated; use drop_vars.\n",
      "  snap_wpbp = wpbp.sel(time_counter=time).drop((\"time_centered\",\"nav_lon\",\"nav_lat\"))\n"
     ]
    },
    {
     "name": "stdout",
     "output_type": "stream",
     "text": [
      "Stored\n",
      "87 0002-03-12\n"
     ]
    },
    {
     "name": "stderr",
     "output_type": "stream",
     "text": [
      "/dev/shm/pbs.2915978.datarmor0/ipykernel_14604/2749567160.py:5: DeprecationWarning: dropping variables using `drop` is deprecated; use drop_vars.\n",
      "  snap_wpbp = wpbp.sel(time_counter=time).drop((\"time_centered\",\"nav_lon\",\"nav_lat\"))\n"
     ]
    },
    {
     "name": "stdout",
     "output_type": "stream",
     "text": [
      "Stored\n",
      "88 0002-03-13\n"
     ]
    },
    {
     "name": "stderr",
     "output_type": "stream",
     "text": [
      "/dev/shm/pbs.2915978.datarmor0/ipykernel_14604/2749567160.py:5: DeprecationWarning: dropping variables using `drop` is deprecated; use drop_vars.\n",
      "  snap_wpbp = wpbp.sel(time_counter=time).drop((\"time_centered\",\"nav_lon\",\"nav_lat\"))\n"
     ]
    },
    {
     "name": "stdout",
     "output_type": "stream",
     "text": [
      "Stored\n",
      "89 0002-03-14\n"
     ]
    },
    {
     "name": "stderr",
     "output_type": "stream",
     "text": [
      "/dev/shm/pbs.2915978.datarmor0/ipykernel_14604/2749567160.py:5: DeprecationWarning: dropping variables using `drop` is deprecated; use drop_vars.\n",
      "  snap_wpbp = wpbp.sel(time_counter=time).drop((\"time_centered\",\"nav_lon\",\"nav_lat\"))\n"
     ]
    },
    {
     "name": "stdout",
     "output_type": "stream",
     "text": [
      "Stored\n",
      "90 0002-03-15\n"
     ]
    },
    {
     "name": "stderr",
     "output_type": "stream",
     "text": [
      "/dev/shm/pbs.2915978.datarmor0/ipykernel_14604/2749567160.py:5: DeprecationWarning: dropping variables using `drop` is deprecated; use drop_vars.\n",
      "  snap_wpbp = wpbp.sel(time_counter=time).drop((\"time_centered\",\"nav_lon\",\"nav_lat\"))\n"
     ]
    },
    {
     "name": "stdout",
     "output_type": "stream",
     "text": [
      "Stored\n",
      "91 0002-03-16\n"
     ]
    },
    {
     "name": "stderr",
     "output_type": "stream",
     "text": [
      "/dev/shm/pbs.2915978.datarmor0/ipykernel_14604/2749567160.py:5: DeprecationWarning: dropping variables using `drop` is deprecated; use drop_vars.\n",
      "  snap_wpbp = wpbp.sel(time_counter=time).drop((\"time_centered\",\"nav_lon\",\"nav_lat\"))\n"
     ]
    },
    {
     "name": "stdout",
     "output_type": "stream",
     "text": [
      "Stored\n",
      "92 0002-03-17\n"
     ]
    },
    {
     "name": "stderr",
     "output_type": "stream",
     "text": [
      "/dev/shm/pbs.2915978.datarmor0/ipykernel_14604/2749567160.py:5: DeprecationWarning: dropping variables using `drop` is deprecated; use drop_vars.\n",
      "  snap_wpbp = wpbp.sel(time_counter=time).drop((\"time_centered\",\"nav_lon\",\"nav_lat\"))\n"
     ]
    },
    {
     "name": "stdout",
     "output_type": "stream",
     "text": [
      "Stored\n",
      "93 0002-03-18\n"
     ]
    },
    {
     "name": "stderr",
     "output_type": "stream",
     "text": [
      "/dev/shm/pbs.2915978.datarmor0/ipykernel_14604/2749567160.py:5: DeprecationWarning: dropping variables using `drop` is deprecated; use drop_vars.\n",
      "  snap_wpbp = wpbp.sel(time_counter=time).drop((\"time_centered\",\"nav_lon\",\"nav_lat\"))\n"
     ]
    },
    {
     "name": "stdout",
     "output_type": "stream",
     "text": [
      "Stored\n",
      "94 0002-03-19\n"
     ]
    },
    {
     "name": "stderr",
     "output_type": "stream",
     "text": [
      "/dev/shm/pbs.2915978.datarmor0/ipykernel_14604/2749567160.py:5: DeprecationWarning: dropping variables using `drop` is deprecated; use drop_vars.\n",
      "  snap_wpbp = wpbp.sel(time_counter=time).drop((\"time_centered\",\"nav_lon\",\"nav_lat\"))\n"
     ]
    },
    {
     "name": "stdout",
     "output_type": "stream",
     "text": [
      "Stored\n",
      "95 0002-03-20\n"
     ]
    },
    {
     "name": "stderr",
     "output_type": "stream",
     "text": [
      "/dev/shm/pbs.2915978.datarmor0/ipykernel_14604/2749567160.py:5: DeprecationWarning: dropping variables using `drop` is deprecated; use drop_vars.\n",
      "  snap_wpbp = wpbp.sel(time_counter=time).drop((\"time_centered\",\"nav_lon\",\"nav_lat\"))\n"
     ]
    },
    {
     "name": "stdout",
     "output_type": "stream",
     "text": [
      "Stored\n",
      "96 0002-03-21\n"
     ]
    },
    {
     "name": "stderr",
     "output_type": "stream",
     "text": [
      "/dev/shm/pbs.2915978.datarmor0/ipykernel_14604/2749567160.py:5: DeprecationWarning: dropping variables using `drop` is deprecated; use drop_vars.\n",
      "  snap_wpbp = wpbp.sel(time_counter=time).drop((\"time_centered\",\"nav_lon\",\"nav_lat\"))\n"
     ]
    },
    {
     "name": "stdout",
     "output_type": "stream",
     "text": [
      "Stored\n",
      "97 0002-03-22\n"
     ]
    },
    {
     "name": "stderr",
     "output_type": "stream",
     "text": [
      "/dev/shm/pbs.2915978.datarmor0/ipykernel_14604/2749567160.py:5: DeprecationWarning: dropping variables using `drop` is deprecated; use drop_vars.\n",
      "  snap_wpbp = wpbp.sel(time_counter=time).drop((\"time_centered\",\"nav_lon\",\"nav_lat\"))\n"
     ]
    },
    {
     "name": "stdout",
     "output_type": "stream",
     "text": [
      "Stored\n",
      "98 0002-03-23\n"
     ]
    },
    {
     "name": "stderr",
     "output_type": "stream",
     "text": [
      "/dev/shm/pbs.2915978.datarmor0/ipykernel_14604/2749567160.py:5: DeprecationWarning: dropping variables using `drop` is deprecated; use drop_vars.\n",
      "  snap_wpbp = wpbp.sel(time_counter=time).drop((\"time_centered\",\"nav_lon\",\"nav_lat\"))\n"
     ]
    },
    {
     "name": "stdout",
     "output_type": "stream",
     "text": [
      "Stored\n",
      "99 0002-03-24\n"
     ]
    },
    {
     "name": "stderr",
     "output_type": "stream",
     "text": [
      "/dev/shm/pbs.2915978.datarmor0/ipykernel_14604/2749567160.py:5: DeprecationWarning: dropping variables using `drop` is deprecated; use drop_vars.\n",
      "  snap_wpbp = wpbp.sel(time_counter=time).drop((\"time_centered\",\"nav_lon\",\"nav_lat\"))\n"
     ]
    },
    {
     "name": "stdout",
     "output_type": "stream",
     "text": [
      "Stored\n",
      "100 0002-03-25\n"
     ]
    },
    {
     "name": "stderr",
     "output_type": "stream",
     "text": [
      "/dev/shm/pbs.2915978.datarmor0/ipykernel_14604/2749567160.py:5: DeprecationWarning: dropping variables using `drop` is deprecated; use drop_vars.\n",
      "  snap_wpbp = wpbp.sel(time_counter=time).drop((\"time_centered\",\"nav_lon\",\"nav_lat\"))\n"
     ]
    },
    {
     "name": "stdout",
     "output_type": "stream",
     "text": [
      "Stored\n",
      "101 0002-03-26\n"
     ]
    },
    {
     "name": "stderr",
     "output_type": "stream",
     "text": [
      "/dev/shm/pbs.2915978.datarmor0/ipykernel_14604/2749567160.py:5: DeprecationWarning: dropping variables using `drop` is deprecated; use drop_vars.\n",
      "  snap_wpbp = wpbp.sel(time_counter=time).drop((\"time_centered\",\"nav_lon\",\"nav_lat\"))\n"
     ]
    },
    {
     "name": "stdout",
     "output_type": "stream",
     "text": [
      "Stored\n",
      "102 0002-03-27\n"
     ]
    },
    {
     "name": "stderr",
     "output_type": "stream",
     "text": [
      "/dev/shm/pbs.2915978.datarmor0/ipykernel_14604/2749567160.py:5: DeprecationWarning: dropping variables using `drop` is deprecated; use drop_vars.\n",
      "  snap_wpbp = wpbp.sel(time_counter=time).drop((\"time_centered\",\"nav_lon\",\"nav_lat\"))\n"
     ]
    },
    {
     "name": "stdout",
     "output_type": "stream",
     "text": [
      "Stored\n",
      "103 0002-03-28\n"
     ]
    },
    {
     "name": "stderr",
     "output_type": "stream",
     "text": [
      "/dev/shm/pbs.2915978.datarmor0/ipykernel_14604/2749567160.py:5: DeprecationWarning: dropping variables using `drop` is deprecated; use drop_vars.\n",
      "  snap_wpbp = wpbp.sel(time_counter=time).drop((\"time_centered\",\"nav_lon\",\"nav_lat\"))\n"
     ]
    },
    {
     "name": "stdout",
     "output_type": "stream",
     "text": [
      "Stored\n",
      "104 0002-03-29\n"
     ]
    },
    {
     "name": "stderr",
     "output_type": "stream",
     "text": [
      "/dev/shm/pbs.2915978.datarmor0/ipykernel_14604/2749567160.py:5: DeprecationWarning: dropping variables using `drop` is deprecated; use drop_vars.\n",
      "  snap_wpbp = wpbp.sel(time_counter=time).drop((\"time_centered\",\"nav_lon\",\"nav_lat\"))\n"
     ]
    },
    {
     "name": "stdout",
     "output_type": "stream",
     "text": [
      "Stored\n",
      "105 0002-03-30\n"
     ]
    },
    {
     "name": "stderr",
     "output_type": "stream",
     "text": [
      "/dev/shm/pbs.2915978.datarmor0/ipykernel_14604/2749567160.py:5: DeprecationWarning: dropping variables using `drop` is deprecated; use drop_vars.\n",
      "  snap_wpbp = wpbp.sel(time_counter=time).drop((\"time_centered\",\"nav_lon\",\"nav_lat\"))\n"
     ]
    },
    {
     "name": "stdout",
     "output_type": "stream",
     "text": [
      "Stored\n",
      "106 0002-03-31\n"
     ]
    },
    {
     "name": "stderr",
     "output_type": "stream",
     "text": [
      "/dev/shm/pbs.2915978.datarmor0/ipykernel_14604/2749567160.py:5: DeprecationWarning: dropping variables using `drop` is deprecated; use drop_vars.\n",
      "  snap_wpbp = wpbp.sel(time_counter=time).drop((\"time_centered\",\"nav_lon\",\"nav_lat\"))\n"
     ]
    },
    {
     "name": "stdout",
     "output_type": "stream",
     "text": [
      "Stored\n",
      "121 0002-04-15\n"
     ]
    },
    {
     "name": "stderr",
     "output_type": "stream",
     "text": [
      "/dev/shm/pbs.2915978.datarmor0/ipykernel_14604/2749567160.py:5: DeprecationWarning: dropping variables using `drop` is deprecated; use drop_vars.\n",
      "  snap_wpbp = wpbp.sel(time_counter=time).drop((\"time_centered\",\"nav_lon\",\"nav_lat\"))\n"
     ]
    },
    {
     "name": "stdout",
     "output_type": "stream",
     "text": [
      "Stored\n",
      "122 0002-04-16\n"
     ]
    },
    {
     "name": "stderr",
     "output_type": "stream",
     "text": [
      "/dev/shm/pbs.2915978.datarmor0/ipykernel_14604/2749567160.py:5: DeprecationWarning: dropping variables using `drop` is deprecated; use drop_vars.\n",
      "  snap_wpbp = wpbp.sel(time_counter=time).drop((\"time_centered\",\"nav_lon\",\"nav_lat\"))\n"
     ]
    },
    {
     "name": "stdout",
     "output_type": "stream",
     "text": [
      "Stored\n",
      "123 0002-04-17\n"
     ]
    },
    {
     "name": "stderr",
     "output_type": "stream",
     "text": [
      "/dev/shm/pbs.2915978.datarmor0/ipykernel_14604/2749567160.py:5: DeprecationWarning: dropping variables using `drop` is deprecated; use drop_vars.\n",
      "  snap_wpbp = wpbp.sel(time_counter=time).drop((\"time_centered\",\"nav_lon\",\"nav_lat\"))\n"
     ]
    },
    {
     "name": "stdout",
     "output_type": "stream",
     "text": [
      "Stored\n",
      "124 0002-04-18\n"
     ]
    },
    {
     "name": "stderr",
     "output_type": "stream",
     "text": [
      "/dev/shm/pbs.2915978.datarmor0/ipykernel_14604/2749567160.py:5: DeprecationWarning: dropping variables using `drop` is deprecated; use drop_vars.\n",
      "  snap_wpbp = wpbp.sel(time_counter=time).drop((\"time_centered\",\"nav_lon\",\"nav_lat\"))\n"
     ]
    },
    {
     "name": "stdout",
     "output_type": "stream",
     "text": [
      "Stored\n",
      "125 0002-04-19\n"
     ]
    },
    {
     "name": "stderr",
     "output_type": "stream",
     "text": [
      "/dev/shm/pbs.2915978.datarmor0/ipykernel_14604/2749567160.py:5: DeprecationWarning: dropping variables using `drop` is deprecated; use drop_vars.\n",
      "  snap_wpbp = wpbp.sel(time_counter=time).drop((\"time_centered\",\"nav_lon\",\"nav_lat\"))\n"
     ]
    },
    {
     "name": "stdout",
     "output_type": "stream",
     "text": [
      "Stored\n",
      "126 0002-04-20\n"
     ]
    },
    {
     "name": "stderr",
     "output_type": "stream",
     "text": [
      "/dev/shm/pbs.2915978.datarmor0/ipykernel_14604/2749567160.py:5: DeprecationWarning: dropping variables using `drop` is deprecated; use drop_vars.\n",
      "  snap_wpbp = wpbp.sel(time_counter=time).drop((\"time_centered\",\"nav_lon\",\"nav_lat\"))\n"
     ]
    },
    {
     "name": "stdout",
     "output_type": "stream",
     "text": [
      "Stored\n",
      "127 0002-04-21\n"
     ]
    },
    {
     "name": "stderr",
     "output_type": "stream",
     "text": [
      "/dev/shm/pbs.2915978.datarmor0/ipykernel_14604/2749567160.py:5: DeprecationWarning: dropping variables using `drop` is deprecated; use drop_vars.\n",
      "  snap_wpbp = wpbp.sel(time_counter=time).drop((\"time_centered\",\"nav_lon\",\"nav_lat\"))\n"
     ]
    },
    {
     "name": "stdout",
     "output_type": "stream",
     "text": [
      "Stored\n",
      "128 0002-04-22\n"
     ]
    },
    {
     "name": "stderr",
     "output_type": "stream",
     "text": [
      "/dev/shm/pbs.2915978.datarmor0/ipykernel_14604/2749567160.py:5: DeprecationWarning: dropping variables using `drop` is deprecated; use drop_vars.\n",
      "  snap_wpbp = wpbp.sel(time_counter=time).drop((\"time_centered\",\"nav_lon\",\"nav_lat\"))\n"
     ]
    },
    {
     "name": "stdout",
     "output_type": "stream",
     "text": [
      "Stored\n",
      "129 0002-04-23\n"
     ]
    },
    {
     "name": "stderr",
     "output_type": "stream",
     "text": [
      "/dev/shm/pbs.2915978.datarmor0/ipykernel_14604/2749567160.py:5: DeprecationWarning: dropping variables using `drop` is deprecated; use drop_vars.\n",
      "  snap_wpbp = wpbp.sel(time_counter=time).drop((\"time_centered\",\"nav_lon\",\"nav_lat\"))\n"
     ]
    },
    {
     "name": "stdout",
     "output_type": "stream",
     "text": [
      "Stored\n",
      "130 0002-04-24\n"
     ]
    },
    {
     "name": "stderr",
     "output_type": "stream",
     "text": [
      "/dev/shm/pbs.2915978.datarmor0/ipykernel_14604/2749567160.py:5: DeprecationWarning: dropping variables using `drop` is deprecated; use drop_vars.\n",
      "  snap_wpbp = wpbp.sel(time_counter=time).drop((\"time_centered\",\"nav_lon\",\"nav_lat\"))\n"
     ]
    },
    {
     "name": "stdout",
     "output_type": "stream",
     "text": [
      "Stored\n",
      "131 0002-04-25\n"
     ]
    },
    {
     "name": "stderr",
     "output_type": "stream",
     "text": [
      "/dev/shm/pbs.2915978.datarmor0/ipykernel_14604/2749567160.py:5: DeprecationWarning: dropping variables using `drop` is deprecated; use drop_vars.\n",
      "  snap_wpbp = wpbp.sel(time_counter=time).drop((\"time_centered\",\"nav_lon\",\"nav_lat\"))\n"
     ]
    },
    {
     "name": "stdout",
     "output_type": "stream",
     "text": [
      "Stored\n",
      "132 0002-04-26\n"
     ]
    },
    {
     "name": "stderr",
     "output_type": "stream",
     "text": [
      "/dev/shm/pbs.2915978.datarmor0/ipykernel_14604/2749567160.py:5: DeprecationWarning: dropping variables using `drop` is deprecated; use drop_vars.\n",
      "  snap_wpbp = wpbp.sel(time_counter=time).drop((\"time_centered\",\"nav_lon\",\"nav_lat\"))\n"
     ]
    },
    {
     "name": "stdout",
     "output_type": "stream",
     "text": [
      "Stored\n",
      "133 0002-04-27\n"
     ]
    },
    {
     "name": "stderr",
     "output_type": "stream",
     "text": [
      "/dev/shm/pbs.2915978.datarmor0/ipykernel_14604/2749567160.py:5: DeprecationWarning: dropping variables using `drop` is deprecated; use drop_vars.\n",
      "  snap_wpbp = wpbp.sel(time_counter=time).drop((\"time_centered\",\"nav_lon\",\"nav_lat\"))\n"
     ]
    },
    {
     "name": "stdout",
     "output_type": "stream",
     "text": [
      "Stored\n",
      "134 0002-04-28\n"
     ]
    },
    {
     "name": "stderr",
     "output_type": "stream",
     "text": [
      "/dev/shm/pbs.2915978.datarmor0/ipykernel_14604/2749567160.py:5: DeprecationWarning: dropping variables using `drop` is deprecated; use drop_vars.\n",
      "  snap_wpbp = wpbp.sel(time_counter=time).drop((\"time_centered\",\"nav_lon\",\"nav_lat\"))\n"
     ]
    },
    {
     "name": "stdout",
     "output_type": "stream",
     "text": [
      "Stored\n",
      "135 0002-04-29\n"
     ]
    },
    {
     "name": "stderr",
     "output_type": "stream",
     "text": [
      "/dev/shm/pbs.2915978.datarmor0/ipykernel_14604/2749567160.py:5: DeprecationWarning: dropping variables using `drop` is deprecated; use drop_vars.\n",
      "  snap_wpbp = wpbp.sel(time_counter=time).drop((\"time_centered\",\"nav_lon\",\"nav_lat\"))\n"
     ]
    },
    {
     "name": "stdout",
     "output_type": "stream",
     "text": [
      "Stored\n",
      "136 0002-04-30\n"
     ]
    },
    {
     "name": "stderr",
     "output_type": "stream",
     "text": [
      "/dev/shm/pbs.2915978.datarmor0/ipykernel_14604/2749567160.py:5: DeprecationWarning: dropping variables using `drop` is deprecated; use drop_vars.\n",
      "  snap_wpbp = wpbp.sel(time_counter=time).drop((\"time_centered\",\"nav_lon\",\"nav_lat\"))\n"
     ]
    },
    {
     "name": "stdout",
     "output_type": "stream",
     "text": [
      "Stored\n",
      "137 0002-05-01\n"
     ]
    },
    {
     "name": "stderr",
     "output_type": "stream",
     "text": [
      "/dev/shm/pbs.2915978.datarmor0/ipykernel_14604/2749567160.py:5: DeprecationWarning: dropping variables using `drop` is deprecated; use drop_vars.\n",
      "  snap_wpbp = wpbp.sel(time_counter=time).drop((\"time_centered\",\"nav_lon\",\"nav_lat\"))\n"
     ]
    },
    {
     "name": "stdout",
     "output_type": "stream",
     "text": [
      "Stored\n",
      "138 0002-05-02\n"
     ]
    },
    {
     "name": "stderr",
     "output_type": "stream",
     "text": [
      "/dev/shm/pbs.2915978.datarmor0/ipykernel_14604/2749567160.py:5: DeprecationWarning: dropping variables using `drop` is deprecated; use drop_vars.\n",
      "  snap_wpbp = wpbp.sel(time_counter=time).drop((\"time_centered\",\"nav_lon\",\"nav_lat\"))\n"
     ]
    },
    {
     "name": "stdout",
     "output_type": "stream",
     "text": [
      "Stored\n",
      "139 0002-05-03\n"
     ]
    },
    {
     "name": "stderr",
     "output_type": "stream",
     "text": [
      "/dev/shm/pbs.2915978.datarmor0/ipykernel_14604/2749567160.py:5: DeprecationWarning: dropping variables using `drop` is deprecated; use drop_vars.\n",
      "  snap_wpbp = wpbp.sel(time_counter=time).drop((\"time_centered\",\"nav_lon\",\"nav_lat\"))\n"
     ]
    },
    {
     "name": "stdout",
     "output_type": "stream",
     "text": [
      "Stored\n",
      "140 0002-05-04\n"
     ]
    },
    {
     "name": "stderr",
     "output_type": "stream",
     "text": [
      "/dev/shm/pbs.2915978.datarmor0/ipykernel_14604/2749567160.py:5: DeprecationWarning: dropping variables using `drop` is deprecated; use drop_vars.\n",
      "  snap_wpbp = wpbp.sel(time_counter=time).drop((\"time_centered\",\"nav_lon\",\"nav_lat\"))\n"
     ]
    },
    {
     "name": "stdout",
     "output_type": "stream",
     "text": [
      "Stored\n",
      "141 0002-05-05\n"
     ]
    },
    {
     "name": "stderr",
     "output_type": "stream",
     "text": [
      "/dev/shm/pbs.2915978.datarmor0/ipykernel_14604/2749567160.py:5: DeprecationWarning: dropping variables using `drop` is deprecated; use drop_vars.\n",
      "  snap_wpbp = wpbp.sel(time_counter=time).drop((\"time_centered\",\"nav_lon\",\"nav_lat\"))\n"
     ]
    },
    {
     "name": "stdout",
     "output_type": "stream",
     "text": [
      "Stored\n",
      "142 0002-05-06\n"
     ]
    },
    {
     "name": "stderr",
     "output_type": "stream",
     "text": [
      "/dev/shm/pbs.2915978.datarmor0/ipykernel_14604/2749567160.py:5: DeprecationWarning: dropping variables using `drop` is deprecated; use drop_vars.\n",
      "  snap_wpbp = wpbp.sel(time_counter=time).drop((\"time_centered\",\"nav_lon\",\"nav_lat\"))\n"
     ]
    },
    {
     "name": "stdout",
     "output_type": "stream",
     "text": [
      "Stored\n",
      "143 0002-05-07\n"
     ]
    },
    {
     "name": "stderr",
     "output_type": "stream",
     "text": [
      "/dev/shm/pbs.2915978.datarmor0/ipykernel_14604/2749567160.py:5: DeprecationWarning: dropping variables using `drop` is deprecated; use drop_vars.\n",
      "  snap_wpbp = wpbp.sel(time_counter=time).drop((\"time_centered\",\"nav_lon\",\"nav_lat\"))\n"
     ]
    },
    {
     "name": "stdout",
     "output_type": "stream",
     "text": [
      "Stored\n",
      "144 0002-05-08\n"
     ]
    },
    {
     "name": "stderr",
     "output_type": "stream",
     "text": [
      "/dev/shm/pbs.2915978.datarmor0/ipykernel_14604/2749567160.py:5: DeprecationWarning: dropping variables using `drop` is deprecated; use drop_vars.\n",
      "  snap_wpbp = wpbp.sel(time_counter=time).drop((\"time_centered\",\"nav_lon\",\"nav_lat\"))\n"
     ]
    },
    {
     "name": "stdout",
     "output_type": "stream",
     "text": [
      "Stored\n",
      "145 0002-05-09\n"
     ]
    },
    {
     "name": "stderr",
     "output_type": "stream",
     "text": [
      "/dev/shm/pbs.2915978.datarmor0/ipykernel_14604/2749567160.py:5: DeprecationWarning: dropping variables using `drop` is deprecated; use drop_vars.\n",
      "  snap_wpbp = wpbp.sel(time_counter=time).drop((\"time_centered\",\"nav_lon\",\"nav_lat\"))\n"
     ]
    },
    {
     "name": "stdout",
     "output_type": "stream",
     "text": [
      "Stored\n",
      "146 0002-05-10\n"
     ]
    },
    {
     "name": "stderr",
     "output_type": "stream",
     "text": [
      "/dev/shm/pbs.2915978.datarmor0/ipykernel_14604/2749567160.py:5: DeprecationWarning: dropping variables using `drop` is deprecated; use drop_vars.\n",
      "  snap_wpbp = wpbp.sel(time_counter=time).drop((\"time_centered\",\"nav_lon\",\"nav_lat\"))\n"
     ]
    },
    {
     "name": "stdout",
     "output_type": "stream",
     "text": [
      "Stored\n",
      "147 0002-05-11\n"
     ]
    },
    {
     "name": "stderr",
     "output_type": "stream",
     "text": [
      "/dev/shm/pbs.2915978.datarmor0/ipykernel_14604/2749567160.py:5: DeprecationWarning: dropping variables using `drop` is deprecated; use drop_vars.\n",
      "  snap_wpbp = wpbp.sel(time_counter=time).drop((\"time_centered\",\"nav_lon\",\"nav_lat\"))\n"
     ]
    },
    {
     "name": "stdout",
     "output_type": "stream",
     "text": [
      "Stored\n",
      "148 0002-05-12\n"
     ]
    },
    {
     "name": "stderr",
     "output_type": "stream",
     "text": [
      "/dev/shm/pbs.2915978.datarmor0/ipykernel_14604/2749567160.py:5: DeprecationWarning: dropping variables using `drop` is deprecated; use drop_vars.\n",
      "  snap_wpbp = wpbp.sel(time_counter=time).drop((\"time_centered\",\"nav_lon\",\"nav_lat\"))\n"
     ]
    },
    {
     "name": "stdout",
     "output_type": "stream",
     "text": [
      "Stored\n",
      "149 0002-05-13\n"
     ]
    },
    {
     "name": "stderr",
     "output_type": "stream",
     "text": [
      "/dev/shm/pbs.2915978.datarmor0/ipykernel_14604/2749567160.py:5: DeprecationWarning: dropping variables using `drop` is deprecated; use drop_vars.\n",
      "  snap_wpbp = wpbp.sel(time_counter=time).drop((\"time_centered\",\"nav_lon\",\"nav_lat\"))\n"
     ]
    },
    {
     "name": "stdout",
     "output_type": "stream",
     "text": [
      "Stored\n",
      "150 0002-05-14\n"
     ]
    },
    {
     "name": "stderr",
     "output_type": "stream",
     "text": [
      "/dev/shm/pbs.2915978.datarmor0/ipykernel_14604/2749567160.py:5: DeprecationWarning: dropping variables using `drop` is deprecated; use drop_vars.\n",
      "  snap_wpbp = wpbp.sel(time_counter=time).drop((\"time_centered\",\"nav_lon\",\"nav_lat\"))\n"
     ]
    },
    {
     "name": "stdout",
     "output_type": "stream",
     "text": [
      "Stored\n",
      "151 0002-05-15\n"
     ]
    },
    {
     "name": "stderr",
     "output_type": "stream",
     "text": [
      "/dev/shm/pbs.2915978.datarmor0/ipykernel_14604/2749567160.py:5: DeprecationWarning: dropping variables using `drop` is deprecated; use drop_vars.\n",
      "  snap_wpbp = wpbp.sel(time_counter=time).drop((\"time_centered\",\"nav_lon\",\"nav_lat\"))\n"
     ]
    },
    {
     "name": "stdout",
     "output_type": "stream",
     "text": [
      "Stored\n",
      "152 0002-05-16\n"
     ]
    },
    {
     "name": "stderr",
     "output_type": "stream",
     "text": [
      "/dev/shm/pbs.2915978.datarmor0/ipykernel_14604/2749567160.py:5: DeprecationWarning: dropping variables using `drop` is deprecated; use drop_vars.\n",
      "  snap_wpbp = wpbp.sel(time_counter=time).drop((\"time_centered\",\"nav_lon\",\"nav_lat\"))\n"
     ]
    },
    {
     "name": "stdout",
     "output_type": "stream",
     "text": [
      "Stored\n",
      "153 0002-05-17\n"
     ]
    },
    {
     "name": "stderr",
     "output_type": "stream",
     "text": [
      "/dev/shm/pbs.2915978.datarmor0/ipykernel_14604/2749567160.py:5: DeprecationWarning: dropping variables using `drop` is deprecated; use drop_vars.\n",
      "  snap_wpbp = wpbp.sel(time_counter=time).drop((\"time_centered\",\"nav_lon\",\"nav_lat\"))\n"
     ]
    },
    {
     "name": "stdout",
     "output_type": "stream",
     "text": [
      "Stored\n",
      "154 0002-05-18\n"
     ]
    },
    {
     "name": "stderr",
     "output_type": "stream",
     "text": [
      "/dev/shm/pbs.2915978.datarmor0/ipykernel_14604/2749567160.py:5: DeprecationWarning: dropping variables using `drop` is deprecated; use drop_vars.\n",
      "  snap_wpbp = wpbp.sel(time_counter=time).drop((\"time_centered\",\"nav_lon\",\"nav_lat\"))\n"
     ]
    },
    {
     "name": "stdout",
     "output_type": "stream",
     "text": [
      "Stored\n",
      "155 0002-05-19\n"
     ]
    },
    {
     "name": "stderr",
     "output_type": "stream",
     "text": [
      "/dev/shm/pbs.2915978.datarmor0/ipykernel_14604/2749567160.py:5: DeprecationWarning: dropping variables using `drop` is deprecated; use drop_vars.\n",
      "  snap_wpbp = wpbp.sel(time_counter=time).drop((\"time_centered\",\"nav_lon\",\"nav_lat\"))\n"
     ]
    },
    {
     "name": "stdout",
     "output_type": "stream",
     "text": [
      "Stored\n",
      "156 0002-05-20\n"
     ]
    },
    {
     "name": "stderr",
     "output_type": "stream",
     "text": [
      "/dev/shm/pbs.2915978.datarmor0/ipykernel_14604/2749567160.py:5: DeprecationWarning: dropping variables using `drop` is deprecated; use drop_vars.\n",
      "  snap_wpbp = wpbp.sel(time_counter=time).drop((\"time_centered\",\"nav_lon\",\"nav_lat\"))\n"
     ]
    },
    {
     "name": "stdout",
     "output_type": "stream",
     "text": [
      "Stored\n",
      "157 0002-05-21\n"
     ]
    },
    {
     "name": "stderr",
     "output_type": "stream",
     "text": [
      "/dev/shm/pbs.2915978.datarmor0/ipykernel_14604/2749567160.py:5: DeprecationWarning: dropping variables using `drop` is deprecated; use drop_vars.\n",
      "  snap_wpbp = wpbp.sel(time_counter=time).drop((\"time_centered\",\"nav_lon\",\"nav_lat\"))\n"
     ]
    },
    {
     "name": "stdout",
     "output_type": "stream",
     "text": [
      "Stored\n",
      "158 0002-05-22\n"
     ]
    },
    {
     "name": "stderr",
     "output_type": "stream",
     "text": [
      "/dev/shm/pbs.2915978.datarmor0/ipykernel_14604/2749567160.py:5: DeprecationWarning: dropping variables using `drop` is deprecated; use drop_vars.\n",
      "  snap_wpbp = wpbp.sel(time_counter=time).drop((\"time_centered\",\"nav_lon\",\"nav_lat\"))\n"
     ]
    },
    {
     "name": "stdout",
     "output_type": "stream",
     "text": [
      "Stored\n",
      "159 0002-05-23\n"
     ]
    },
    {
     "name": "stderr",
     "output_type": "stream",
     "text": [
      "/dev/shm/pbs.2915978.datarmor0/ipykernel_14604/2749567160.py:5: DeprecationWarning: dropping variables using `drop` is deprecated; use drop_vars.\n",
      "  snap_wpbp = wpbp.sel(time_counter=time).drop((\"time_centered\",\"nav_lon\",\"nav_lat\"))\n"
     ]
    },
    {
     "name": "stdout",
     "output_type": "stream",
     "text": [
      "Stored\n",
      "160 0002-05-24\n"
     ]
    },
    {
     "name": "stderr",
     "output_type": "stream",
     "text": [
      "/dev/shm/pbs.2915978.datarmor0/ipykernel_14604/2749567160.py:5: DeprecationWarning: dropping variables using `drop` is deprecated; use drop_vars.\n",
      "  snap_wpbp = wpbp.sel(time_counter=time).drop((\"time_centered\",\"nav_lon\",\"nav_lat\"))\n"
     ]
    },
    {
     "name": "stdout",
     "output_type": "stream",
     "text": [
      "Stored\n",
      "161 0002-05-25\n"
     ]
    },
    {
     "name": "stderr",
     "output_type": "stream",
     "text": [
      "/dev/shm/pbs.2915978.datarmor0/ipykernel_14604/2749567160.py:5: DeprecationWarning: dropping variables using `drop` is deprecated; use drop_vars.\n",
      "  snap_wpbp = wpbp.sel(time_counter=time).drop((\"time_centered\",\"nav_lon\",\"nav_lat\"))\n"
     ]
    },
    {
     "name": "stdout",
     "output_type": "stream",
     "text": [
      "Stored\n",
      "162 0002-05-26\n"
     ]
    },
    {
     "name": "stderr",
     "output_type": "stream",
     "text": [
      "/dev/shm/pbs.2915978.datarmor0/ipykernel_14604/2749567160.py:5: DeprecationWarning: dropping variables using `drop` is deprecated; use drop_vars.\n",
      "  snap_wpbp = wpbp.sel(time_counter=time).drop((\"time_centered\",\"nav_lon\",\"nav_lat\"))\n"
     ]
    },
    {
     "name": "stdout",
     "output_type": "stream",
     "text": [
      "Stored\n",
      "163 0002-05-27\n"
     ]
    },
    {
     "name": "stderr",
     "output_type": "stream",
     "text": [
      "/dev/shm/pbs.2915978.datarmor0/ipykernel_14604/2749567160.py:5: DeprecationWarning: dropping variables using `drop` is deprecated; use drop_vars.\n",
      "  snap_wpbp = wpbp.sel(time_counter=time).drop((\"time_centered\",\"nav_lon\",\"nav_lat\"))\n"
     ]
    },
    {
     "name": "stdout",
     "output_type": "stream",
     "text": [
      "Stored\n",
      "164 0002-05-28\n"
     ]
    },
    {
     "name": "stderr",
     "output_type": "stream",
     "text": [
      "/dev/shm/pbs.2915978.datarmor0/ipykernel_14604/2749567160.py:5: DeprecationWarning: dropping variables using `drop` is deprecated; use drop_vars.\n",
      "  snap_wpbp = wpbp.sel(time_counter=time).drop((\"time_centered\",\"nav_lon\",\"nav_lat\"))\n"
     ]
    },
    {
     "name": "stdout",
     "output_type": "stream",
     "text": [
      "Stored\n",
      "165 0002-05-29\n"
     ]
    },
    {
     "name": "stderr",
     "output_type": "stream",
     "text": [
      "/dev/shm/pbs.2915978.datarmor0/ipykernel_14604/2749567160.py:5: DeprecationWarning: dropping variables using `drop` is deprecated; use drop_vars.\n",
      "  snap_wpbp = wpbp.sel(time_counter=time).drop((\"time_centered\",\"nav_lon\",\"nav_lat\"))\n"
     ]
    },
    {
     "name": "stdout",
     "output_type": "stream",
     "text": [
      "Stored\n",
      "166 0002-05-30\n"
     ]
    },
    {
     "name": "stderr",
     "output_type": "stream",
     "text": [
      "/dev/shm/pbs.2915978.datarmor0/ipykernel_14604/2749567160.py:5: DeprecationWarning: dropping variables using `drop` is deprecated; use drop_vars.\n",
      "  snap_wpbp = wpbp.sel(time_counter=time).drop((\"time_centered\",\"nav_lon\",\"nav_lat\"))\n"
     ]
    },
    {
     "name": "stdout",
     "output_type": "stream",
     "text": [
      "Stored\n",
      "167 0002-05-31\n"
     ]
    },
    {
     "name": "stderr",
     "output_type": "stream",
     "text": [
      "/dev/shm/pbs.2915978.datarmor0/ipykernel_14604/2749567160.py:5: DeprecationWarning: dropping variables using `drop` is deprecated; use drop_vars.\n",
      "  snap_wpbp = wpbp.sel(time_counter=time).drop((\"time_centered\",\"nav_lon\",\"nav_lat\"))\n"
     ]
    },
    {
     "name": "stdout",
     "output_type": "stream",
     "text": [
      "Stored\n",
      "168 0002-06-01\n"
     ]
    },
    {
     "name": "stderr",
     "output_type": "stream",
     "text": [
      "/dev/shm/pbs.2915978.datarmor0/ipykernel_14604/2749567160.py:5: DeprecationWarning: dropping variables using `drop` is deprecated; use drop_vars.\n",
      "  snap_wpbp = wpbp.sel(time_counter=time).drop((\"time_centered\",\"nav_lon\",\"nav_lat\"))\n"
     ]
    },
    {
     "name": "stdout",
     "output_type": "stream",
     "text": [
      "Stored\n",
      "169 0002-06-02\n"
     ]
    },
    {
     "name": "stderr",
     "output_type": "stream",
     "text": [
      "/dev/shm/pbs.2915978.datarmor0/ipykernel_14604/2749567160.py:5: DeprecationWarning: dropping variables using `drop` is deprecated; use drop_vars.\n",
      "  snap_wpbp = wpbp.sel(time_counter=time).drop((\"time_centered\",\"nav_lon\",\"nav_lat\"))\n"
     ]
    },
    {
     "name": "stdout",
     "output_type": "stream",
     "text": [
      "Stored\n",
      "170 0002-06-03\n"
     ]
    },
    {
     "name": "stderr",
     "output_type": "stream",
     "text": [
      "/dev/shm/pbs.2915978.datarmor0/ipykernel_14604/2749567160.py:5: DeprecationWarning: dropping variables using `drop` is deprecated; use drop_vars.\n",
      "  snap_wpbp = wpbp.sel(time_counter=time).drop((\"time_centered\",\"nav_lon\",\"nav_lat\"))\n"
     ]
    },
    {
     "name": "stdout",
     "output_type": "stream",
     "text": [
      "Stored\n",
      "171 0002-06-04\n"
     ]
    },
    {
     "name": "stderr",
     "output_type": "stream",
     "text": [
      "/dev/shm/pbs.2915978.datarmor0/ipykernel_14604/2749567160.py:5: DeprecationWarning: dropping variables using `drop` is deprecated; use drop_vars.\n",
      "  snap_wpbp = wpbp.sel(time_counter=time).drop((\"time_centered\",\"nav_lon\",\"nav_lat\"))\n"
     ]
    },
    {
     "name": "stdout",
     "output_type": "stream",
     "text": [
      "Stored\n",
      "172 0002-06-05\n"
     ]
    },
    {
     "name": "stderr",
     "output_type": "stream",
     "text": [
      "/dev/shm/pbs.2915978.datarmor0/ipykernel_14604/2749567160.py:5: DeprecationWarning: dropping variables using `drop` is deprecated; use drop_vars.\n",
      "  snap_wpbp = wpbp.sel(time_counter=time).drop((\"time_centered\",\"nav_lon\",\"nav_lat\"))\n"
     ]
    },
    {
     "name": "stdout",
     "output_type": "stream",
     "text": [
      "Stored\n",
      "173 0002-06-06\n"
     ]
    },
    {
     "name": "stderr",
     "output_type": "stream",
     "text": [
      "/dev/shm/pbs.2915978.datarmor0/ipykernel_14604/2749567160.py:5: DeprecationWarning: dropping variables using `drop` is deprecated; use drop_vars.\n",
      "  snap_wpbp = wpbp.sel(time_counter=time).drop((\"time_centered\",\"nav_lon\",\"nav_lat\"))\n"
     ]
    },
    {
     "name": "stdout",
     "output_type": "stream",
     "text": [
      "Stored\n",
      "174 0002-06-07\n"
     ]
    },
    {
     "name": "stderr",
     "output_type": "stream",
     "text": [
      "/dev/shm/pbs.2915978.datarmor0/ipykernel_14604/2749567160.py:5: DeprecationWarning: dropping variables using `drop` is deprecated; use drop_vars.\n",
      "  snap_wpbp = wpbp.sel(time_counter=time).drop((\"time_centered\",\"nav_lon\",\"nav_lat\"))\n"
     ]
    },
    {
     "name": "stdout",
     "output_type": "stream",
     "text": [
      "Stored\n",
      "175 0002-06-08\n"
     ]
    },
    {
     "name": "stderr",
     "output_type": "stream",
     "text": [
      "/dev/shm/pbs.2915978.datarmor0/ipykernel_14604/2749567160.py:5: DeprecationWarning: dropping variables using `drop` is deprecated; use drop_vars.\n",
      "  snap_wpbp = wpbp.sel(time_counter=time).drop((\"time_centered\",\"nav_lon\",\"nav_lat\"))\n"
     ]
    },
    {
     "name": "stdout",
     "output_type": "stream",
     "text": [
      "Stored\n",
      "176 0002-06-09\n"
     ]
    },
    {
     "name": "stderr",
     "output_type": "stream",
     "text": [
      "/dev/shm/pbs.2915978.datarmor0/ipykernel_14604/2749567160.py:5: DeprecationWarning: dropping variables using `drop` is deprecated; use drop_vars.\n",
      "  snap_wpbp = wpbp.sel(time_counter=time).drop((\"time_centered\",\"nav_lon\",\"nav_lat\"))\n"
     ]
    },
    {
     "name": "stdout",
     "output_type": "stream",
     "text": [
      "Stored\n",
      "177 0002-06-10\n"
     ]
    },
    {
     "name": "stderr",
     "output_type": "stream",
     "text": [
      "/dev/shm/pbs.2915978.datarmor0/ipykernel_14604/2749567160.py:5: DeprecationWarning: dropping variables using `drop` is deprecated; use drop_vars.\n",
      "  snap_wpbp = wpbp.sel(time_counter=time).drop((\"time_centered\",\"nav_lon\",\"nav_lat\"))\n"
     ]
    },
    {
     "name": "stdout",
     "output_type": "stream",
     "text": [
      "Stored\n",
      "178 0002-06-11\n"
     ]
    },
    {
     "name": "stderr",
     "output_type": "stream",
     "text": [
      "/dev/shm/pbs.2915978.datarmor0/ipykernel_14604/2749567160.py:5: DeprecationWarning: dropping variables using `drop` is deprecated; use drop_vars.\n",
      "  snap_wpbp = wpbp.sel(time_counter=time).drop((\"time_centered\",\"nav_lon\",\"nav_lat\"))\n"
     ]
    },
    {
     "name": "stdout",
     "output_type": "stream",
     "text": [
      "Stored\n",
      "179 0002-06-12\n"
     ]
    },
    {
     "name": "stderr",
     "output_type": "stream",
     "text": [
      "/dev/shm/pbs.2915978.datarmor0/ipykernel_14604/2749567160.py:5: DeprecationWarning: dropping variables using `drop` is deprecated; use drop_vars.\n",
      "  snap_wpbp = wpbp.sel(time_counter=time).drop((\"time_centered\",\"nav_lon\",\"nav_lat\"))\n"
     ]
    },
    {
     "name": "stdout",
     "output_type": "stream",
     "text": [
      "Stored\n",
      "180 0002-06-13\n"
     ]
    },
    {
     "name": "stderr",
     "output_type": "stream",
     "text": [
      "/dev/shm/pbs.2915978.datarmor0/ipykernel_14604/2749567160.py:5: DeprecationWarning: dropping variables using `drop` is deprecated; use drop_vars.\n",
      "  snap_wpbp = wpbp.sel(time_counter=time).drop((\"time_centered\",\"nav_lon\",\"nav_lat\"))\n"
     ]
    },
    {
     "name": "stdout",
     "output_type": "stream",
     "text": [
      "Stored\n",
      "181 0002-06-14\n"
     ]
    },
    {
     "name": "stderr",
     "output_type": "stream",
     "text": [
      "/dev/shm/pbs.2915978.datarmor0/ipykernel_14604/2749567160.py:5: DeprecationWarning: dropping variables using `drop` is deprecated; use drop_vars.\n",
      "  snap_wpbp = wpbp.sel(time_counter=time).drop((\"time_centered\",\"nav_lon\",\"nav_lat\"))\n"
     ]
    },
    {
     "name": "stdout",
     "output_type": "stream",
     "text": [
      "Stored\n",
      "182 0002-06-15\n"
     ]
    },
    {
     "name": "stderr",
     "output_type": "stream",
     "text": [
      "/dev/shm/pbs.2915978.datarmor0/ipykernel_14604/2749567160.py:5: DeprecationWarning: dropping variables using `drop` is deprecated; use drop_vars.\n",
      "  snap_wpbp = wpbp.sel(time_counter=time).drop((\"time_centered\",\"nav_lon\",\"nav_lat\"))\n"
     ]
    },
    {
     "name": "stdout",
     "output_type": "stream",
     "text": [
      "Stored\n",
      "183 0002-06-16\n"
     ]
    },
    {
     "name": "stderr",
     "output_type": "stream",
     "text": [
      "/dev/shm/pbs.2915978.datarmor0/ipykernel_14604/2749567160.py:5: DeprecationWarning: dropping variables using `drop` is deprecated; use drop_vars.\n",
      "  snap_wpbp = wpbp.sel(time_counter=time).drop((\"time_centered\",\"nav_lon\",\"nav_lat\"))\n"
     ]
    },
    {
     "name": "stdout",
     "output_type": "stream",
     "text": [
      "Stored\n",
      "184 0002-06-17\n"
     ]
    },
    {
     "name": "stderr",
     "output_type": "stream",
     "text": [
      "/dev/shm/pbs.2915978.datarmor0/ipykernel_14604/2749567160.py:5: DeprecationWarning: dropping variables using `drop` is deprecated; use drop_vars.\n",
      "  snap_wpbp = wpbp.sel(time_counter=time).drop((\"time_centered\",\"nav_lon\",\"nav_lat\"))\n"
     ]
    },
    {
     "name": "stdout",
     "output_type": "stream",
     "text": [
      "Stored\n",
      "185 0002-06-18\n"
     ]
    },
    {
     "name": "stderr",
     "output_type": "stream",
     "text": [
      "/dev/shm/pbs.2915978.datarmor0/ipykernel_14604/2749567160.py:5: DeprecationWarning: dropping variables using `drop` is deprecated; use drop_vars.\n",
      "  snap_wpbp = wpbp.sel(time_counter=time).drop((\"time_centered\",\"nav_lon\",\"nav_lat\"))\n"
     ]
    },
    {
     "name": "stdout",
     "output_type": "stream",
     "text": [
      "Stored\n",
      "186 0002-06-19\n"
     ]
    },
    {
     "name": "stderr",
     "output_type": "stream",
     "text": [
      "/dev/shm/pbs.2915978.datarmor0/ipykernel_14604/2749567160.py:5: DeprecationWarning: dropping variables using `drop` is deprecated; use drop_vars.\n",
      "  snap_wpbp = wpbp.sel(time_counter=time).drop((\"time_centered\",\"nav_lon\",\"nav_lat\"))\n"
     ]
    },
    {
     "name": "stdout",
     "output_type": "stream",
     "text": [
      "Stored\n",
      "187 0002-06-20\n"
     ]
    },
    {
     "name": "stderr",
     "output_type": "stream",
     "text": [
      "/dev/shm/pbs.2915978.datarmor0/ipykernel_14604/2749567160.py:5: DeprecationWarning: dropping variables using `drop` is deprecated; use drop_vars.\n",
      "  snap_wpbp = wpbp.sel(time_counter=time).drop((\"time_centered\",\"nav_lon\",\"nav_lat\"))\n"
     ]
    },
    {
     "name": "stdout",
     "output_type": "stream",
     "text": [
      "Stored\n",
      "188 0002-06-21\n"
     ]
    },
    {
     "name": "stderr",
     "output_type": "stream",
     "text": [
      "/dev/shm/pbs.2915978.datarmor0/ipykernel_14604/2749567160.py:5: DeprecationWarning: dropping variables using `drop` is deprecated; use drop_vars.\n",
      "  snap_wpbp = wpbp.sel(time_counter=time).drop((\"time_centered\",\"nav_lon\",\"nav_lat\"))\n"
     ]
    },
    {
     "name": "stdout",
     "output_type": "stream",
     "text": [
      "Stored\n",
      "189 0002-06-22\n"
     ]
    },
    {
     "name": "stderr",
     "output_type": "stream",
     "text": [
      "/dev/shm/pbs.2915978.datarmor0/ipykernel_14604/2749567160.py:5: DeprecationWarning: dropping variables using `drop` is deprecated; use drop_vars.\n",
      "  snap_wpbp = wpbp.sel(time_counter=time).drop((\"time_centered\",\"nav_lon\",\"nav_lat\"))\n"
     ]
    },
    {
     "name": "stdout",
     "output_type": "stream",
     "text": [
      "Stored\n",
      "190 0002-06-23\n"
     ]
    },
    {
     "name": "stderr",
     "output_type": "stream",
     "text": [
      "/dev/shm/pbs.2915978.datarmor0/ipykernel_14604/2749567160.py:5: DeprecationWarning: dropping variables using `drop` is deprecated; use drop_vars.\n",
      "  snap_wpbp = wpbp.sel(time_counter=time).drop((\"time_centered\",\"nav_lon\",\"nav_lat\"))\n"
     ]
    },
    {
     "name": "stdout",
     "output_type": "stream",
     "text": [
      "Stored\n",
      "191 0002-06-24\n"
     ]
    },
    {
     "name": "stderr",
     "output_type": "stream",
     "text": [
      "/dev/shm/pbs.2915978.datarmor0/ipykernel_14604/2749567160.py:5: DeprecationWarning: dropping variables using `drop` is deprecated; use drop_vars.\n",
      "  snap_wpbp = wpbp.sel(time_counter=time).drop((\"time_centered\",\"nav_lon\",\"nav_lat\"))\n"
     ]
    },
    {
     "name": "stdout",
     "output_type": "stream",
     "text": [
      "Stored\n",
      "192 0002-06-25\n"
     ]
    },
    {
     "name": "stderr",
     "output_type": "stream",
     "text": [
      "/dev/shm/pbs.2915978.datarmor0/ipykernel_14604/2749567160.py:5: DeprecationWarning: dropping variables using `drop` is deprecated; use drop_vars.\n",
      "  snap_wpbp = wpbp.sel(time_counter=time).drop((\"time_centered\",\"nav_lon\",\"nav_lat\"))\n"
     ]
    },
    {
     "name": "stdout",
     "output_type": "stream",
     "text": [
      "Stored\n",
      "193 0002-06-26\n"
     ]
    },
    {
     "name": "stderr",
     "output_type": "stream",
     "text": [
      "/dev/shm/pbs.2915978.datarmor0/ipykernel_14604/2749567160.py:5: DeprecationWarning: dropping variables using `drop` is deprecated; use drop_vars.\n",
      "  snap_wpbp = wpbp.sel(time_counter=time).drop((\"time_centered\",\"nav_lon\",\"nav_lat\"))\n"
     ]
    },
    {
     "name": "stdout",
     "output_type": "stream",
     "text": [
      "Stored\n",
      "194 0002-06-27\n"
     ]
    },
    {
     "name": "stderr",
     "output_type": "stream",
     "text": [
      "/dev/shm/pbs.2915978.datarmor0/ipykernel_14604/2749567160.py:5: DeprecationWarning: dropping variables using `drop` is deprecated; use drop_vars.\n",
      "  snap_wpbp = wpbp.sel(time_counter=time).drop((\"time_centered\",\"nav_lon\",\"nav_lat\"))\n"
     ]
    },
    {
     "name": "stdout",
     "output_type": "stream",
     "text": [
      "Stored\n",
      "195 0002-06-28\n"
     ]
    },
    {
     "name": "stderr",
     "output_type": "stream",
     "text": [
      "/dev/shm/pbs.2915978.datarmor0/ipykernel_14604/2749567160.py:5: DeprecationWarning: dropping variables using `drop` is deprecated; use drop_vars.\n",
      "  snap_wpbp = wpbp.sel(time_counter=time).drop((\"time_centered\",\"nav_lon\",\"nav_lat\"))\n"
     ]
    },
    {
     "name": "stdout",
     "output_type": "stream",
     "text": [
      "Stored\n",
      "196 0002-06-29\n"
     ]
    },
    {
     "name": "stderr",
     "output_type": "stream",
     "text": [
      "/dev/shm/pbs.2915978.datarmor0/ipykernel_14604/2749567160.py:5: DeprecationWarning: dropping variables using `drop` is deprecated; use drop_vars.\n",
      "  snap_wpbp = wpbp.sel(time_counter=time).drop((\"time_centered\",\"nav_lon\",\"nav_lat\"))\n"
     ]
    },
    {
     "name": "stdout",
     "output_type": "stream",
     "text": [
      "Stored\n",
      "197 0002-06-30\n"
     ]
    },
    {
     "name": "stderr",
     "output_type": "stream",
     "text": [
      "/dev/shm/pbs.2915978.datarmor0/ipykernel_14604/2749567160.py:5: DeprecationWarning: dropping variables using `drop` is deprecated; use drop_vars.\n",
      "  snap_wpbp = wpbp.sel(time_counter=time).drop((\"time_centered\",\"nav_lon\",\"nav_lat\"))\n"
     ]
    },
    {
     "name": "stdout",
     "output_type": "stream",
     "text": [
      "Stored\n",
      "198 0002-07-01\n"
     ]
    },
    {
     "name": "stderr",
     "output_type": "stream",
     "text": [
      "/dev/shm/pbs.2915978.datarmor0/ipykernel_14604/2749567160.py:5: DeprecationWarning: dropping variables using `drop` is deprecated; use drop_vars.\n",
      "  snap_wpbp = wpbp.sel(time_counter=time).drop((\"time_centered\",\"nav_lon\",\"nav_lat\"))\n"
     ]
    },
    {
     "name": "stdout",
     "output_type": "stream",
     "text": [
      "Stored\n",
      "199 0002-07-02\n"
     ]
    },
    {
     "name": "stderr",
     "output_type": "stream",
     "text": [
      "/dev/shm/pbs.2915978.datarmor0/ipykernel_14604/2749567160.py:5: DeprecationWarning: dropping variables using `drop` is deprecated; use drop_vars.\n",
      "  snap_wpbp = wpbp.sel(time_counter=time).drop((\"time_centered\",\"nav_lon\",\"nav_lat\"))\n"
     ]
    },
    {
     "name": "stdout",
     "output_type": "stream",
     "text": [
      "Stored\n",
      "200 0002-07-03\n"
     ]
    },
    {
     "name": "stderr",
     "output_type": "stream",
     "text": [
      "/dev/shm/pbs.2915978.datarmor0/ipykernel_14604/2749567160.py:5: DeprecationWarning: dropping variables using `drop` is deprecated; use drop_vars.\n",
      "  snap_wpbp = wpbp.sel(time_counter=time).drop((\"time_centered\",\"nav_lon\",\"nav_lat\"))\n"
     ]
    },
    {
     "name": "stdout",
     "output_type": "stream",
     "text": [
      "Stored\n",
      "201 0002-07-04\n"
     ]
    },
    {
     "name": "stderr",
     "output_type": "stream",
     "text": [
      "/dev/shm/pbs.2915978.datarmor0/ipykernel_14604/2749567160.py:5: DeprecationWarning: dropping variables using `drop` is deprecated; use drop_vars.\n",
      "  snap_wpbp = wpbp.sel(time_counter=time).drop((\"time_centered\",\"nav_lon\",\"nav_lat\"))\n"
     ]
    },
    {
     "name": "stdout",
     "output_type": "stream",
     "text": [
      "Stored\n",
      "202 0002-07-05\n"
     ]
    },
    {
     "name": "stderr",
     "output_type": "stream",
     "text": [
      "/dev/shm/pbs.2915978.datarmor0/ipykernel_14604/2749567160.py:5: DeprecationWarning: dropping variables using `drop` is deprecated; use drop_vars.\n",
      "  snap_wpbp = wpbp.sel(time_counter=time).drop((\"time_centered\",\"nav_lon\",\"nav_lat\"))\n"
     ]
    },
    {
     "name": "stdout",
     "output_type": "stream",
     "text": [
      "Stored\n",
      "203 0002-07-06\n"
     ]
    },
    {
     "name": "stderr",
     "output_type": "stream",
     "text": [
      "/dev/shm/pbs.2915978.datarmor0/ipykernel_14604/2749567160.py:5: DeprecationWarning: dropping variables using `drop` is deprecated; use drop_vars.\n",
      "  snap_wpbp = wpbp.sel(time_counter=time).drop((\"time_centered\",\"nav_lon\",\"nav_lat\"))\n"
     ]
    },
    {
     "name": "stdout",
     "output_type": "stream",
     "text": [
      "Stored\n",
      "204 0002-07-07\n"
     ]
    },
    {
     "name": "stderr",
     "output_type": "stream",
     "text": [
      "/dev/shm/pbs.2915978.datarmor0/ipykernel_14604/2749567160.py:5: DeprecationWarning: dropping variables using `drop` is deprecated; use drop_vars.\n",
      "  snap_wpbp = wpbp.sel(time_counter=time).drop((\"time_centered\",\"nav_lon\",\"nav_lat\"))\n"
     ]
    },
    {
     "name": "stdout",
     "output_type": "stream",
     "text": [
      "Stored\n",
      "205 0002-07-08\n"
     ]
    },
    {
     "name": "stderr",
     "output_type": "stream",
     "text": [
      "/dev/shm/pbs.2915978.datarmor0/ipykernel_14604/2749567160.py:5: DeprecationWarning: dropping variables using `drop` is deprecated; use drop_vars.\n",
      "  snap_wpbp = wpbp.sel(time_counter=time).drop((\"time_centered\",\"nav_lon\",\"nav_lat\"))\n"
     ]
    },
    {
     "name": "stdout",
     "output_type": "stream",
     "text": [
      "Stored\n",
      "206 0002-07-09\n"
     ]
    },
    {
     "name": "stderr",
     "output_type": "stream",
     "text": [
      "/dev/shm/pbs.2915978.datarmor0/ipykernel_14604/2749567160.py:5: DeprecationWarning: dropping variables using `drop` is deprecated; use drop_vars.\n",
      "  snap_wpbp = wpbp.sel(time_counter=time).drop((\"time_centered\",\"nav_lon\",\"nav_lat\"))\n"
     ]
    },
    {
     "name": "stdout",
     "output_type": "stream",
     "text": [
      "Stored\n",
      "207 0002-07-10\n"
     ]
    },
    {
     "name": "stderr",
     "output_type": "stream",
     "text": [
      "/dev/shm/pbs.2915978.datarmor0/ipykernel_14604/2749567160.py:5: DeprecationWarning: dropping variables using `drop` is deprecated; use drop_vars.\n",
      "  snap_wpbp = wpbp.sel(time_counter=time).drop((\"time_centered\",\"nav_lon\",\"nav_lat\"))\n"
     ]
    },
    {
     "name": "stdout",
     "output_type": "stream",
     "text": [
      "Stored\n",
      "208 0002-07-11\n"
     ]
    },
    {
     "name": "stderr",
     "output_type": "stream",
     "text": [
      "/dev/shm/pbs.2915978.datarmor0/ipykernel_14604/2749567160.py:5: DeprecationWarning: dropping variables using `drop` is deprecated; use drop_vars.\n",
      "  snap_wpbp = wpbp.sel(time_counter=time).drop((\"time_centered\",\"nav_lon\",\"nav_lat\"))\n"
     ]
    },
    {
     "name": "stdout",
     "output_type": "stream",
     "text": [
      "Stored\n",
      "209 0002-07-12\n"
     ]
    },
    {
     "name": "stderr",
     "output_type": "stream",
     "text": [
      "/dev/shm/pbs.2915978.datarmor0/ipykernel_14604/2749567160.py:5: DeprecationWarning: dropping variables using `drop` is deprecated; use drop_vars.\n",
      "  snap_wpbp = wpbp.sel(time_counter=time).drop((\"time_centered\",\"nav_lon\",\"nav_lat\"))\n"
     ]
    },
    {
     "name": "stdout",
     "output_type": "stream",
     "text": [
      "Stored\n",
      "210 0002-07-13\n"
     ]
    },
    {
     "name": "stderr",
     "output_type": "stream",
     "text": [
      "/dev/shm/pbs.2915978.datarmor0/ipykernel_14604/2749567160.py:5: DeprecationWarning: dropping variables using `drop` is deprecated; use drop_vars.\n",
      "  snap_wpbp = wpbp.sel(time_counter=time).drop((\"time_centered\",\"nav_lon\",\"nav_lat\"))\n"
     ]
    },
    {
     "name": "stdout",
     "output_type": "stream",
     "text": [
      "Stored\n",
      "211 0002-07-14\n"
     ]
    },
    {
     "name": "stderr",
     "output_type": "stream",
     "text": [
      "/dev/shm/pbs.2915978.datarmor0/ipykernel_14604/2749567160.py:5: DeprecationWarning: dropping variables using `drop` is deprecated; use drop_vars.\n",
      "  snap_wpbp = wpbp.sel(time_counter=time).drop((\"time_centered\",\"nav_lon\",\"nav_lat\"))\n"
     ]
    },
    {
     "name": "stdout",
     "output_type": "stream",
     "text": [
      "Stored\n",
      "212 0002-07-15\n"
     ]
    },
    {
     "name": "stderr",
     "output_type": "stream",
     "text": [
      "/dev/shm/pbs.2915978.datarmor0/ipykernel_14604/2749567160.py:5: DeprecationWarning: dropping variables using `drop` is deprecated; use drop_vars.\n",
      "  snap_wpbp = wpbp.sel(time_counter=time).drop((\"time_centered\",\"nav_lon\",\"nav_lat\"))\n"
     ]
    },
    {
     "name": "stdout",
     "output_type": "stream",
     "text": [
      "Stored\n",
      "213 0002-07-16\n"
     ]
    },
    {
     "name": "stderr",
     "output_type": "stream",
     "text": [
      "/dev/shm/pbs.2915978.datarmor0/ipykernel_14604/2749567160.py:5: DeprecationWarning: dropping variables using `drop` is deprecated; use drop_vars.\n",
      "  snap_wpbp = wpbp.sel(time_counter=time).drop((\"time_centered\",\"nav_lon\",\"nav_lat\"))\n"
     ]
    },
    {
     "name": "stdout",
     "output_type": "stream",
     "text": [
      "Stored\n",
      "214 0002-07-17\n"
     ]
    },
    {
     "name": "stderr",
     "output_type": "stream",
     "text": [
      "/dev/shm/pbs.2915978.datarmor0/ipykernel_14604/2749567160.py:5: DeprecationWarning: dropping variables using `drop` is deprecated; use drop_vars.\n",
      "  snap_wpbp = wpbp.sel(time_counter=time).drop((\"time_centered\",\"nav_lon\",\"nav_lat\"))\n"
     ]
    },
    {
     "name": "stdout",
     "output_type": "stream",
     "text": [
      "Stored\n",
      "215 0002-07-18\n"
     ]
    },
    {
     "name": "stderr",
     "output_type": "stream",
     "text": [
      "/dev/shm/pbs.2915978.datarmor0/ipykernel_14604/2749567160.py:5: DeprecationWarning: dropping variables using `drop` is deprecated; use drop_vars.\n",
      "  snap_wpbp = wpbp.sel(time_counter=time).drop((\"time_centered\",\"nav_lon\",\"nav_lat\"))\n"
     ]
    },
    {
     "name": "stdout",
     "output_type": "stream",
     "text": [
      "Stored\n",
      "216 0002-07-19\n"
     ]
    },
    {
     "name": "stderr",
     "output_type": "stream",
     "text": [
      "/dev/shm/pbs.2915978.datarmor0/ipykernel_14604/2749567160.py:5: DeprecationWarning: dropping variables using `drop` is deprecated; use drop_vars.\n",
      "  snap_wpbp = wpbp.sel(time_counter=time).drop((\"time_centered\",\"nav_lon\",\"nav_lat\"))\n"
     ]
    },
    {
     "name": "stdout",
     "output_type": "stream",
     "text": [
      "Stored\n",
      "217 0002-07-20\n"
     ]
    },
    {
     "name": "stderr",
     "output_type": "stream",
     "text": [
      "/dev/shm/pbs.2915978.datarmor0/ipykernel_14604/2749567160.py:5: DeprecationWarning: dropping variables using `drop` is deprecated; use drop_vars.\n",
      "  snap_wpbp = wpbp.sel(time_counter=time).drop((\"time_centered\",\"nav_lon\",\"nav_lat\"))\n"
     ]
    },
    {
     "name": "stdout",
     "output_type": "stream",
     "text": [
      "Stored\n",
      "218 0002-07-21\n"
     ]
    },
    {
     "name": "stderr",
     "output_type": "stream",
     "text": [
      "/dev/shm/pbs.2915978.datarmor0/ipykernel_14604/2749567160.py:5: DeprecationWarning: dropping variables using `drop` is deprecated; use drop_vars.\n",
      "  snap_wpbp = wpbp.sel(time_counter=time).drop((\"time_centered\",\"nav_lon\",\"nav_lat\"))\n"
     ]
    },
    {
     "name": "stdout",
     "output_type": "stream",
     "text": [
      "Stored\n",
      "219 0002-07-22\n"
     ]
    },
    {
     "name": "stderr",
     "output_type": "stream",
     "text": [
      "/dev/shm/pbs.2915978.datarmor0/ipykernel_14604/2749567160.py:5: DeprecationWarning: dropping variables using `drop` is deprecated; use drop_vars.\n",
      "  snap_wpbp = wpbp.sel(time_counter=time).drop((\"time_centered\",\"nav_lon\",\"nav_lat\"))\n"
     ]
    },
    {
     "name": "stdout",
     "output_type": "stream",
     "text": [
      "Stored\n",
      "220 0002-07-23\n"
     ]
    },
    {
     "name": "stderr",
     "output_type": "stream",
     "text": [
      "/dev/shm/pbs.2915978.datarmor0/ipykernel_14604/2749567160.py:5: DeprecationWarning: dropping variables using `drop` is deprecated; use drop_vars.\n",
      "  snap_wpbp = wpbp.sel(time_counter=time).drop((\"time_centered\",\"nav_lon\",\"nav_lat\"))\n"
     ]
    },
    {
     "name": "stdout",
     "output_type": "stream",
     "text": [
      "Stored\n",
      "221 0002-07-24\n"
     ]
    },
    {
     "name": "stderr",
     "output_type": "stream",
     "text": [
      "/dev/shm/pbs.2915978.datarmor0/ipykernel_14604/2749567160.py:5: DeprecationWarning: dropping variables using `drop` is deprecated; use drop_vars.\n",
      "  snap_wpbp = wpbp.sel(time_counter=time).drop((\"time_centered\",\"nav_lon\",\"nav_lat\"))\n"
     ]
    },
    {
     "name": "stdout",
     "output_type": "stream",
     "text": [
      "Stored\n",
      "222 0002-07-25\n"
     ]
    },
    {
     "name": "stderr",
     "output_type": "stream",
     "text": [
      "/dev/shm/pbs.2915978.datarmor0/ipykernel_14604/2749567160.py:5: DeprecationWarning: dropping variables using `drop` is deprecated; use drop_vars.\n",
      "  snap_wpbp = wpbp.sel(time_counter=time).drop((\"time_centered\",\"nav_lon\",\"nav_lat\"))\n"
     ]
    },
    {
     "name": "stdout",
     "output_type": "stream",
     "text": [
      "Stored\n",
      "223 0002-07-26\n"
     ]
    },
    {
     "name": "stderr",
     "output_type": "stream",
     "text": [
      "/dev/shm/pbs.2915978.datarmor0/ipykernel_14604/2749567160.py:5: DeprecationWarning: dropping variables using `drop` is deprecated; use drop_vars.\n",
      "  snap_wpbp = wpbp.sel(time_counter=time).drop((\"time_centered\",\"nav_lon\",\"nav_lat\"))\n"
     ]
    },
    {
     "name": "stdout",
     "output_type": "stream",
     "text": [
      "Stored\n",
      "224 0002-07-27\n"
     ]
    },
    {
     "name": "stderr",
     "output_type": "stream",
     "text": [
      "/dev/shm/pbs.2915978.datarmor0/ipykernel_14604/2749567160.py:5: DeprecationWarning: dropping variables using `drop` is deprecated; use drop_vars.\n",
      "  snap_wpbp = wpbp.sel(time_counter=time).drop((\"time_centered\",\"nav_lon\",\"nav_lat\"))\n"
     ]
    },
    {
     "name": "stdout",
     "output_type": "stream",
     "text": [
      "Stored\n",
      "225 0002-07-28\n"
     ]
    },
    {
     "name": "stderr",
     "output_type": "stream",
     "text": [
      "/dev/shm/pbs.2915978.datarmor0/ipykernel_14604/2749567160.py:5: DeprecationWarning: dropping variables using `drop` is deprecated; use drop_vars.\n",
      "  snap_wpbp = wpbp.sel(time_counter=time).drop((\"time_centered\",\"nav_lon\",\"nav_lat\"))\n"
     ]
    },
    {
     "name": "stdout",
     "output_type": "stream",
     "text": [
      "Stored\n",
      "226 0002-07-29\n"
     ]
    },
    {
     "name": "stderr",
     "output_type": "stream",
     "text": [
      "/dev/shm/pbs.2915978.datarmor0/ipykernel_14604/2749567160.py:5: DeprecationWarning: dropping variables using `drop` is deprecated; use drop_vars.\n",
      "  snap_wpbp = wpbp.sel(time_counter=time).drop((\"time_centered\",\"nav_lon\",\"nav_lat\"))\n"
     ]
    },
    {
     "name": "stdout",
     "output_type": "stream",
     "text": [
      "Stored\n",
      "227 0002-07-30\n"
     ]
    },
    {
     "name": "stderr",
     "output_type": "stream",
     "text": [
      "/dev/shm/pbs.2915978.datarmor0/ipykernel_14604/2749567160.py:5: DeprecationWarning: dropping variables using `drop` is deprecated; use drop_vars.\n",
      "  snap_wpbp = wpbp.sel(time_counter=time).drop((\"time_centered\",\"nav_lon\",\"nav_lat\"))\n"
     ]
    },
    {
     "name": "stdout",
     "output_type": "stream",
     "text": [
      "Stored\n",
      "228 0002-07-31\n"
     ]
    },
    {
     "name": "stderr",
     "output_type": "stream",
     "text": [
      "/dev/shm/pbs.2915978.datarmor0/ipykernel_14604/2749567160.py:5: DeprecationWarning: dropping variables using `drop` is deprecated; use drop_vars.\n",
      "  snap_wpbp = wpbp.sel(time_counter=time).drop((\"time_centered\",\"nav_lon\",\"nav_lat\"))\n"
     ]
    },
    {
     "name": "stdout",
     "output_type": "stream",
     "text": [
      "Stored\n",
      "229 0002-08-01\n"
     ]
    },
    {
     "name": "stderr",
     "output_type": "stream",
     "text": [
      "/dev/shm/pbs.2915978.datarmor0/ipykernel_14604/2749567160.py:5: DeprecationWarning: dropping variables using `drop` is deprecated; use drop_vars.\n",
      "  snap_wpbp = wpbp.sel(time_counter=time).drop((\"time_centered\",\"nav_lon\",\"nav_lat\"))\n"
     ]
    },
    {
     "name": "stdout",
     "output_type": "stream",
     "text": [
      "Stored\n",
      "230 0002-08-02\n"
     ]
    },
    {
     "name": "stderr",
     "output_type": "stream",
     "text": [
      "/dev/shm/pbs.2915978.datarmor0/ipykernel_14604/2749567160.py:5: DeprecationWarning: dropping variables using `drop` is deprecated; use drop_vars.\n",
      "  snap_wpbp = wpbp.sel(time_counter=time).drop((\"time_centered\",\"nav_lon\",\"nav_lat\"))\n"
     ]
    },
    {
     "name": "stdout",
     "output_type": "stream",
     "text": [
      "Stored\n",
      "231 0002-08-03\n"
     ]
    },
    {
     "name": "stderr",
     "output_type": "stream",
     "text": [
      "/dev/shm/pbs.2915978.datarmor0/ipykernel_14604/2749567160.py:5: DeprecationWarning: dropping variables using `drop` is deprecated; use drop_vars.\n",
      "  snap_wpbp = wpbp.sel(time_counter=time).drop((\"time_centered\",\"nav_lon\",\"nav_lat\"))\n"
     ]
    },
    {
     "name": "stdout",
     "output_type": "stream",
     "text": [
      "Stored\n",
      "232 0002-08-04\n"
     ]
    },
    {
     "name": "stderr",
     "output_type": "stream",
     "text": [
      "/dev/shm/pbs.2915978.datarmor0/ipykernel_14604/2749567160.py:5: DeprecationWarning: dropping variables using `drop` is deprecated; use drop_vars.\n",
      "  snap_wpbp = wpbp.sel(time_counter=time).drop((\"time_centered\",\"nav_lon\",\"nav_lat\"))\n"
     ]
    },
    {
     "name": "stdout",
     "output_type": "stream",
     "text": [
      "Stored\n",
      "233 0002-08-05\n"
     ]
    },
    {
     "name": "stderr",
     "output_type": "stream",
     "text": [
      "/dev/shm/pbs.2915978.datarmor0/ipykernel_14604/2749567160.py:5: DeprecationWarning: dropping variables using `drop` is deprecated; use drop_vars.\n",
      "  snap_wpbp = wpbp.sel(time_counter=time).drop((\"time_centered\",\"nav_lon\",\"nav_lat\"))\n"
     ]
    },
    {
     "name": "stdout",
     "output_type": "stream",
     "text": [
      "Stored\n",
      "234 0002-08-06\n"
     ]
    },
    {
     "name": "stderr",
     "output_type": "stream",
     "text": [
      "/dev/shm/pbs.2915978.datarmor0/ipykernel_14604/2749567160.py:5: DeprecationWarning: dropping variables using `drop` is deprecated; use drop_vars.\n",
      "  snap_wpbp = wpbp.sel(time_counter=time).drop((\"time_centered\",\"nav_lon\",\"nav_lat\"))\n"
     ]
    },
    {
     "name": "stdout",
     "output_type": "stream",
     "text": [
      "Stored\n",
      "235 0002-08-07\n"
     ]
    },
    {
     "name": "stderr",
     "output_type": "stream",
     "text": [
      "/dev/shm/pbs.2915978.datarmor0/ipykernel_14604/2749567160.py:5: DeprecationWarning: dropping variables using `drop` is deprecated; use drop_vars.\n",
      "  snap_wpbp = wpbp.sel(time_counter=time).drop((\"time_centered\",\"nav_lon\",\"nav_lat\"))\n"
     ]
    },
    {
     "name": "stdout",
     "output_type": "stream",
     "text": [
      "Stored\n",
      "236 0002-08-08\n"
     ]
    },
    {
     "name": "stderr",
     "output_type": "stream",
     "text": [
      "/dev/shm/pbs.2915978.datarmor0/ipykernel_14604/2749567160.py:5: DeprecationWarning: dropping variables using `drop` is deprecated; use drop_vars.\n",
      "  snap_wpbp = wpbp.sel(time_counter=time).drop((\"time_centered\",\"nav_lon\",\"nav_lat\"))\n"
     ]
    },
    {
     "name": "stdout",
     "output_type": "stream",
     "text": [
      "Stored\n",
      "237 0002-08-09\n"
     ]
    },
    {
     "name": "stderr",
     "output_type": "stream",
     "text": [
      "/dev/shm/pbs.2915978.datarmor0/ipykernel_14604/2749567160.py:5: DeprecationWarning: dropping variables using `drop` is deprecated; use drop_vars.\n",
      "  snap_wpbp = wpbp.sel(time_counter=time).drop((\"time_centered\",\"nav_lon\",\"nav_lat\"))\n"
     ]
    },
    {
     "name": "stdout",
     "output_type": "stream",
     "text": [
      "Stored\n",
      "238 0002-08-10\n"
     ]
    },
    {
     "name": "stderr",
     "output_type": "stream",
     "text": [
      "/dev/shm/pbs.2915978.datarmor0/ipykernel_14604/2749567160.py:5: DeprecationWarning: dropping variables using `drop` is deprecated; use drop_vars.\n",
      "  snap_wpbp = wpbp.sel(time_counter=time).drop((\"time_centered\",\"nav_lon\",\"nav_lat\"))\n"
     ]
    },
    {
     "name": "stdout",
     "output_type": "stream",
     "text": [
      "Stored\n",
      "239 0002-08-11\n"
     ]
    },
    {
     "name": "stderr",
     "output_type": "stream",
     "text": [
      "/dev/shm/pbs.2915978.datarmor0/ipykernel_14604/2749567160.py:5: DeprecationWarning: dropping variables using `drop` is deprecated; use drop_vars.\n",
      "  snap_wpbp = wpbp.sel(time_counter=time).drop((\"time_centered\",\"nav_lon\",\"nav_lat\"))\n"
     ]
    },
    {
     "name": "stdout",
     "output_type": "stream",
     "text": [
      "Stored\n",
      "240 0002-08-12\n"
     ]
    },
    {
     "name": "stderr",
     "output_type": "stream",
     "text": [
      "/dev/shm/pbs.2915978.datarmor0/ipykernel_14604/2749567160.py:5: DeprecationWarning: dropping variables using `drop` is deprecated; use drop_vars.\n",
      "  snap_wpbp = wpbp.sel(time_counter=time).drop((\"time_centered\",\"nav_lon\",\"nav_lat\"))\n"
     ]
    },
    {
     "name": "stdout",
     "output_type": "stream",
     "text": [
      "Stored\n",
      "241 0002-08-13\n"
     ]
    },
    {
     "name": "stderr",
     "output_type": "stream",
     "text": [
      "/dev/shm/pbs.2915978.datarmor0/ipykernel_14604/2749567160.py:5: DeprecationWarning: dropping variables using `drop` is deprecated; use drop_vars.\n",
      "  snap_wpbp = wpbp.sel(time_counter=time).drop((\"time_centered\",\"nav_lon\",\"nav_lat\"))\n"
     ]
    },
    {
     "name": "stdout",
     "output_type": "stream",
     "text": [
      "Stored\n",
      "242 0002-08-14\n"
     ]
    },
    {
     "name": "stderr",
     "output_type": "stream",
     "text": [
      "/dev/shm/pbs.2915978.datarmor0/ipykernel_14604/2749567160.py:5: DeprecationWarning: dropping variables using `drop` is deprecated; use drop_vars.\n",
      "  snap_wpbp = wpbp.sel(time_counter=time).drop((\"time_centered\",\"nav_lon\",\"nav_lat\"))\n"
     ]
    },
    {
     "name": "stdout",
     "output_type": "stream",
     "text": [
      "Stored\n",
      "243 0002-08-15\n"
     ]
    },
    {
     "name": "stderr",
     "output_type": "stream",
     "text": [
      "/dev/shm/pbs.2915978.datarmor0/ipykernel_14604/2749567160.py:5: DeprecationWarning: dropping variables using `drop` is deprecated; use drop_vars.\n",
      "  snap_wpbp = wpbp.sel(time_counter=time).drop((\"time_centered\",\"nav_lon\",\"nav_lat\"))\n"
     ]
    },
    {
     "name": "stdout",
     "output_type": "stream",
     "text": [
      "Stored\n",
      "244 0002-08-16\n"
     ]
    },
    {
     "name": "stderr",
     "output_type": "stream",
     "text": [
      "/dev/shm/pbs.2915978.datarmor0/ipykernel_14604/2749567160.py:5: DeprecationWarning: dropping variables using `drop` is deprecated; use drop_vars.\n",
      "  snap_wpbp = wpbp.sel(time_counter=time).drop((\"time_centered\",\"nav_lon\",\"nav_lat\"))\n"
     ]
    },
    {
     "name": "stdout",
     "output_type": "stream",
     "text": [
      "Stored\n",
      "245 0002-08-17\n"
     ]
    },
    {
     "name": "stderr",
     "output_type": "stream",
     "text": [
      "/dev/shm/pbs.2915978.datarmor0/ipykernel_14604/2749567160.py:5: DeprecationWarning: dropping variables using `drop` is deprecated; use drop_vars.\n",
      "  snap_wpbp = wpbp.sel(time_counter=time).drop((\"time_centered\",\"nav_lon\",\"nav_lat\"))\n"
     ]
    },
    {
     "name": "stdout",
     "output_type": "stream",
     "text": [
      "Stored\n",
      "246 0002-08-18\n"
     ]
    },
    {
     "name": "stderr",
     "output_type": "stream",
     "text": [
      "/dev/shm/pbs.2915978.datarmor0/ipykernel_14604/2749567160.py:5: DeprecationWarning: dropping variables using `drop` is deprecated; use drop_vars.\n",
      "  snap_wpbp = wpbp.sel(time_counter=time).drop((\"time_centered\",\"nav_lon\",\"nav_lat\"))\n"
     ]
    },
    {
     "name": "stdout",
     "output_type": "stream",
     "text": [
      "Stored\n",
      "247 0002-08-19\n"
     ]
    },
    {
     "name": "stderr",
     "output_type": "stream",
     "text": [
      "/dev/shm/pbs.2915978.datarmor0/ipykernel_14604/2749567160.py:5: DeprecationWarning: dropping variables using `drop` is deprecated; use drop_vars.\n",
      "  snap_wpbp = wpbp.sel(time_counter=time).drop((\"time_centered\",\"nav_lon\",\"nav_lat\"))\n"
     ]
    },
    {
     "name": "stdout",
     "output_type": "stream",
     "text": [
      "Stored\n",
      "248 0002-08-20\n"
     ]
    },
    {
     "name": "stderr",
     "output_type": "stream",
     "text": [
      "/dev/shm/pbs.2915978.datarmor0/ipykernel_14604/2749567160.py:5: DeprecationWarning: dropping variables using `drop` is deprecated; use drop_vars.\n",
      "  snap_wpbp = wpbp.sel(time_counter=time).drop((\"time_centered\",\"nav_lon\",\"nav_lat\"))\n"
     ]
    },
    {
     "name": "stdout",
     "output_type": "stream",
     "text": [
      "Stored\n",
      "249 0002-08-21\n"
     ]
    },
    {
     "name": "stderr",
     "output_type": "stream",
     "text": [
      "/dev/shm/pbs.2915978.datarmor0/ipykernel_14604/2749567160.py:5: DeprecationWarning: dropping variables using `drop` is deprecated; use drop_vars.\n",
      "  snap_wpbp = wpbp.sel(time_counter=time).drop((\"time_centered\",\"nav_lon\",\"nav_lat\"))\n"
     ]
    },
    {
     "name": "stdout",
     "output_type": "stream",
     "text": [
      "Stored\n",
      "250 0002-08-22\n"
     ]
    },
    {
     "name": "stderr",
     "output_type": "stream",
     "text": [
      "/dev/shm/pbs.2915978.datarmor0/ipykernel_14604/2749567160.py:5: DeprecationWarning: dropping variables using `drop` is deprecated; use drop_vars.\n",
      "  snap_wpbp = wpbp.sel(time_counter=time).drop((\"time_centered\",\"nav_lon\",\"nav_lat\"))\n"
     ]
    },
    {
     "name": "stdout",
     "output_type": "stream",
     "text": [
      "Stored\n",
      "251 0002-08-23\n"
     ]
    },
    {
     "name": "stderr",
     "output_type": "stream",
     "text": [
      "/dev/shm/pbs.2915978.datarmor0/ipykernel_14604/2749567160.py:5: DeprecationWarning: dropping variables using `drop` is deprecated; use drop_vars.\n",
      "  snap_wpbp = wpbp.sel(time_counter=time).drop((\"time_centered\",\"nav_lon\",\"nav_lat\"))\n"
     ]
    },
    {
     "name": "stdout",
     "output_type": "stream",
     "text": [
      "Stored\n",
      "252 0002-08-24\n"
     ]
    },
    {
     "name": "stderr",
     "output_type": "stream",
     "text": [
      "/dev/shm/pbs.2915978.datarmor0/ipykernel_14604/2749567160.py:5: DeprecationWarning: dropping variables using `drop` is deprecated; use drop_vars.\n",
      "  snap_wpbp = wpbp.sel(time_counter=time).drop((\"time_centered\",\"nav_lon\",\"nav_lat\"))\n"
     ]
    },
    {
     "name": "stdout",
     "output_type": "stream",
     "text": [
      "Stored\n",
      "253 0002-08-25\n"
     ]
    },
    {
     "name": "stderr",
     "output_type": "stream",
     "text": [
      "/dev/shm/pbs.2915978.datarmor0/ipykernel_14604/2749567160.py:5: DeprecationWarning: dropping variables using `drop` is deprecated; use drop_vars.\n",
      "  snap_wpbp = wpbp.sel(time_counter=time).drop((\"time_centered\",\"nav_lon\",\"nav_lat\"))\n"
     ]
    },
    {
     "name": "stdout",
     "output_type": "stream",
     "text": [
      "Stored\n",
      "254 0002-08-26\n"
     ]
    },
    {
     "name": "stderr",
     "output_type": "stream",
     "text": [
      "/dev/shm/pbs.2915978.datarmor0/ipykernel_14604/2749567160.py:5: DeprecationWarning: dropping variables using `drop` is deprecated; use drop_vars.\n",
      "  snap_wpbp = wpbp.sel(time_counter=time).drop((\"time_centered\",\"nav_lon\",\"nav_lat\"))\n"
     ]
    },
    {
     "name": "stdout",
     "output_type": "stream",
     "text": [
      "Stored\n",
      "255 0002-08-27\n"
     ]
    },
    {
     "name": "stderr",
     "output_type": "stream",
     "text": [
      "/dev/shm/pbs.2915978.datarmor0/ipykernel_14604/2749567160.py:5: DeprecationWarning: dropping variables using `drop` is deprecated; use drop_vars.\n",
      "  snap_wpbp = wpbp.sel(time_counter=time).drop((\"time_centered\",\"nav_lon\",\"nav_lat\"))\n"
     ]
    },
    {
     "name": "stdout",
     "output_type": "stream",
     "text": [
      "Stored\n",
      "256 0002-08-28\n"
     ]
    },
    {
     "name": "stderr",
     "output_type": "stream",
     "text": [
      "/dev/shm/pbs.2915978.datarmor0/ipykernel_14604/2749567160.py:5: DeprecationWarning: dropping variables using `drop` is deprecated; use drop_vars.\n",
      "  snap_wpbp = wpbp.sel(time_counter=time).drop((\"time_centered\",\"nav_lon\",\"nav_lat\"))\n"
     ]
    },
    {
     "name": "stdout",
     "output_type": "stream",
     "text": [
      "Stored\n",
      "257 0002-08-29\n"
     ]
    },
    {
     "name": "stderr",
     "output_type": "stream",
     "text": [
      "/dev/shm/pbs.2915978.datarmor0/ipykernel_14604/2749567160.py:5: DeprecationWarning: dropping variables using `drop` is deprecated; use drop_vars.\n",
      "  snap_wpbp = wpbp.sel(time_counter=time).drop((\"time_centered\",\"nav_lon\",\"nav_lat\"))\n"
     ]
    },
    {
     "name": "stdout",
     "output_type": "stream",
     "text": [
      "Stored\n",
      "258 0002-08-30\n"
     ]
    },
    {
     "name": "stderr",
     "output_type": "stream",
     "text": [
      "/dev/shm/pbs.2915978.datarmor0/ipykernel_14604/2749567160.py:5: DeprecationWarning: dropping variables using `drop` is deprecated; use drop_vars.\n",
      "  snap_wpbp = wpbp.sel(time_counter=time).drop((\"time_centered\",\"nav_lon\",\"nav_lat\"))\n"
     ]
    },
    {
     "name": "stdout",
     "output_type": "stream",
     "text": [
      "Stored\n",
      "259 0002-08-31\n"
     ]
    },
    {
     "name": "stderr",
     "output_type": "stream",
     "text": [
      "/dev/shm/pbs.2915978.datarmor0/ipykernel_14604/2749567160.py:5: DeprecationWarning: dropping variables using `drop` is deprecated; use drop_vars.\n",
      "  snap_wpbp = wpbp.sel(time_counter=time).drop((\"time_centered\",\"nav_lon\",\"nav_lat\"))\n"
     ]
    },
    {
     "name": "stdout",
     "output_type": "stream",
     "text": [
      "Stored\n",
      "260 0002-09-01\n"
     ]
    },
    {
     "name": "stderr",
     "output_type": "stream",
     "text": [
      "/dev/shm/pbs.2915978.datarmor0/ipykernel_14604/2749567160.py:5: DeprecationWarning: dropping variables using `drop` is deprecated; use drop_vars.\n",
      "  snap_wpbp = wpbp.sel(time_counter=time).drop((\"time_centered\",\"nav_lon\",\"nav_lat\"))\n"
     ]
    },
    {
     "name": "stdout",
     "output_type": "stream",
     "text": [
      "Stored\n",
      "261 0002-09-02\n"
     ]
    },
    {
     "name": "stderr",
     "output_type": "stream",
     "text": [
      "/dev/shm/pbs.2915978.datarmor0/ipykernel_14604/2749567160.py:5: DeprecationWarning: dropping variables using `drop` is deprecated; use drop_vars.\n",
      "  snap_wpbp = wpbp.sel(time_counter=time).drop((\"time_centered\",\"nav_lon\",\"nav_lat\"))\n"
     ]
    },
    {
     "name": "stdout",
     "output_type": "stream",
     "text": [
      "Stored\n",
      "262 0002-09-03\n"
     ]
    },
    {
     "name": "stderr",
     "output_type": "stream",
     "text": [
      "/dev/shm/pbs.2915978.datarmor0/ipykernel_14604/2749567160.py:5: DeprecationWarning: dropping variables using `drop` is deprecated; use drop_vars.\n",
      "  snap_wpbp = wpbp.sel(time_counter=time).drop((\"time_centered\",\"nav_lon\",\"nav_lat\"))\n"
     ]
    },
    {
     "name": "stdout",
     "output_type": "stream",
     "text": [
      "Stored\n",
      "263 0002-09-04\n"
     ]
    },
    {
     "name": "stderr",
     "output_type": "stream",
     "text": [
      "/dev/shm/pbs.2915978.datarmor0/ipykernel_14604/2749567160.py:5: DeprecationWarning: dropping variables using `drop` is deprecated; use drop_vars.\n",
      "  snap_wpbp = wpbp.sel(time_counter=time).drop((\"time_centered\",\"nav_lon\",\"nav_lat\"))\n"
     ]
    },
    {
     "name": "stdout",
     "output_type": "stream",
     "text": [
      "Stored\n",
      "264 0002-09-05\n"
     ]
    },
    {
     "name": "stderr",
     "output_type": "stream",
     "text": [
      "/dev/shm/pbs.2915978.datarmor0/ipykernel_14604/2749567160.py:5: DeprecationWarning: dropping variables using `drop` is deprecated; use drop_vars.\n",
      "  snap_wpbp = wpbp.sel(time_counter=time).drop((\"time_centered\",\"nav_lon\",\"nav_lat\"))\n"
     ]
    },
    {
     "name": "stdout",
     "output_type": "stream",
     "text": [
      "Stored\n",
      "265 0002-09-06\n"
     ]
    },
    {
     "name": "stderr",
     "output_type": "stream",
     "text": [
      "/dev/shm/pbs.2915978.datarmor0/ipykernel_14604/2749567160.py:5: DeprecationWarning: dropping variables using `drop` is deprecated; use drop_vars.\n",
      "  snap_wpbp = wpbp.sel(time_counter=time).drop((\"time_centered\",\"nav_lon\",\"nav_lat\"))\n"
     ]
    },
    {
     "name": "stdout",
     "output_type": "stream",
     "text": [
      "Stored\n",
      "266 0002-09-07\n"
     ]
    },
    {
     "name": "stderr",
     "output_type": "stream",
     "text": [
      "/dev/shm/pbs.2915978.datarmor0/ipykernel_14604/2749567160.py:5: DeprecationWarning: dropping variables using `drop` is deprecated; use drop_vars.\n",
      "  snap_wpbp = wpbp.sel(time_counter=time).drop((\"time_centered\",\"nav_lon\",\"nav_lat\"))\n"
     ]
    },
    {
     "name": "stdout",
     "output_type": "stream",
     "text": [
      "Stored\n",
      "267 0002-09-08\n"
     ]
    },
    {
     "name": "stderr",
     "output_type": "stream",
     "text": [
      "/dev/shm/pbs.2915978.datarmor0/ipykernel_14604/2749567160.py:5: DeprecationWarning: dropping variables using `drop` is deprecated; use drop_vars.\n",
      "  snap_wpbp = wpbp.sel(time_counter=time).drop((\"time_centered\",\"nav_lon\",\"nav_lat\"))\n"
     ]
    },
    {
     "name": "stdout",
     "output_type": "stream",
     "text": [
      "Stored\n",
      "268 0002-09-09\n"
     ]
    },
    {
     "name": "stderr",
     "output_type": "stream",
     "text": [
      "/dev/shm/pbs.2915978.datarmor0/ipykernel_14604/2749567160.py:5: DeprecationWarning: dropping variables using `drop` is deprecated; use drop_vars.\n",
      "  snap_wpbp = wpbp.sel(time_counter=time).drop((\"time_centered\",\"nav_lon\",\"nav_lat\"))\n"
     ]
    },
    {
     "name": "stdout",
     "output_type": "stream",
     "text": [
      "Stored\n",
      "269 0002-09-10\n"
     ]
    },
    {
     "name": "stderr",
     "output_type": "stream",
     "text": [
      "/dev/shm/pbs.2915978.datarmor0/ipykernel_14604/2749567160.py:5: DeprecationWarning: dropping variables using `drop` is deprecated; use drop_vars.\n",
      "  snap_wpbp = wpbp.sel(time_counter=time).drop((\"time_centered\",\"nav_lon\",\"nav_lat\"))\n"
     ]
    },
    {
     "name": "stdout",
     "output_type": "stream",
     "text": [
      "Stored\n",
      "270 0002-09-11\n"
     ]
    },
    {
     "name": "stderr",
     "output_type": "stream",
     "text": [
      "/dev/shm/pbs.2915978.datarmor0/ipykernel_14604/2749567160.py:5: DeprecationWarning: dropping variables using `drop` is deprecated; use drop_vars.\n",
      "  snap_wpbp = wpbp.sel(time_counter=time).drop((\"time_centered\",\"nav_lon\",\"nav_lat\"))\n"
     ]
    },
    {
     "name": "stdout",
     "output_type": "stream",
     "text": [
      "Stored\n",
      "271 0002-09-12\n"
     ]
    },
    {
     "name": "stderr",
     "output_type": "stream",
     "text": [
      "/dev/shm/pbs.2915978.datarmor0/ipykernel_14604/2749567160.py:5: DeprecationWarning: dropping variables using `drop` is deprecated; use drop_vars.\n",
      "  snap_wpbp = wpbp.sel(time_counter=time).drop((\"time_centered\",\"nav_lon\",\"nav_lat\"))\n"
     ]
    },
    {
     "name": "stdout",
     "output_type": "stream",
     "text": [
      "Stored\n",
      "272 0002-09-13\n"
     ]
    },
    {
     "name": "stderr",
     "output_type": "stream",
     "text": [
      "/dev/shm/pbs.2915978.datarmor0/ipykernel_14604/2749567160.py:5: DeprecationWarning: dropping variables using `drop` is deprecated; use drop_vars.\n",
      "  snap_wpbp = wpbp.sel(time_counter=time).drop((\"time_centered\",\"nav_lon\",\"nav_lat\"))\n"
     ]
    },
    {
     "name": "stdout",
     "output_type": "stream",
     "text": [
      "Stored\n",
      "273 0002-09-14\n"
     ]
    },
    {
     "name": "stderr",
     "output_type": "stream",
     "text": [
      "/dev/shm/pbs.2915978.datarmor0/ipykernel_14604/2749567160.py:5: DeprecationWarning: dropping variables using `drop` is deprecated; use drop_vars.\n",
      "  snap_wpbp = wpbp.sel(time_counter=time).drop((\"time_centered\",\"nav_lon\",\"nav_lat\"))\n"
     ]
    },
    {
     "name": "stdout",
     "output_type": "stream",
     "text": [
      "Stored\n",
      "274 0002-09-15\n"
     ]
    },
    {
     "name": "stderr",
     "output_type": "stream",
     "text": [
      "/dev/shm/pbs.2915978.datarmor0/ipykernel_14604/2749567160.py:5: DeprecationWarning: dropping variables using `drop` is deprecated; use drop_vars.\n",
      "  snap_wpbp = wpbp.sel(time_counter=time).drop((\"time_centered\",\"nav_lon\",\"nav_lat\"))\n"
     ]
    },
    {
     "name": "stdout",
     "output_type": "stream",
     "text": [
      "Stored\n",
      "275 0002-09-16\n"
     ]
    },
    {
     "name": "stderr",
     "output_type": "stream",
     "text": [
      "/dev/shm/pbs.2915978.datarmor0/ipykernel_14604/2749567160.py:5: DeprecationWarning: dropping variables using `drop` is deprecated; use drop_vars.\n",
      "  snap_wpbp = wpbp.sel(time_counter=time).drop((\"time_centered\",\"nav_lon\",\"nav_lat\"))\n"
     ]
    },
    {
     "name": "stdout",
     "output_type": "stream",
     "text": [
      "Stored\n",
      "276 0002-09-17\n"
     ]
    },
    {
     "name": "stderr",
     "output_type": "stream",
     "text": [
      "/dev/shm/pbs.2915978.datarmor0/ipykernel_14604/2749567160.py:5: DeprecationWarning: dropping variables using `drop` is deprecated; use drop_vars.\n",
      "  snap_wpbp = wpbp.sel(time_counter=time).drop((\"time_centered\",\"nav_lon\",\"nav_lat\"))\n"
     ]
    },
    {
     "name": "stdout",
     "output_type": "stream",
     "text": [
      "Stored\n",
      "277 0002-09-18\n"
     ]
    },
    {
     "name": "stderr",
     "output_type": "stream",
     "text": [
      "/dev/shm/pbs.2915978.datarmor0/ipykernel_14604/2749567160.py:5: DeprecationWarning: dropping variables using `drop` is deprecated; use drop_vars.\n",
      "  snap_wpbp = wpbp.sel(time_counter=time).drop((\"time_centered\",\"nav_lon\",\"nav_lat\"))\n"
     ]
    },
    {
     "name": "stdout",
     "output_type": "stream",
     "text": [
      "Stored\n",
      "278 0002-09-19\n"
     ]
    },
    {
     "name": "stderr",
     "output_type": "stream",
     "text": [
      "/dev/shm/pbs.2915978.datarmor0/ipykernel_14604/2749567160.py:5: DeprecationWarning: dropping variables using `drop` is deprecated; use drop_vars.\n",
      "  snap_wpbp = wpbp.sel(time_counter=time).drop((\"time_centered\",\"nav_lon\",\"nav_lat\"))\n"
     ]
    },
    {
     "name": "stdout",
     "output_type": "stream",
     "text": [
      "Stored\n",
      "279 0002-09-20\n"
     ]
    },
    {
     "name": "stderr",
     "output_type": "stream",
     "text": [
      "/dev/shm/pbs.2915978.datarmor0/ipykernel_14604/2749567160.py:5: DeprecationWarning: dropping variables using `drop` is deprecated; use drop_vars.\n",
      "  snap_wpbp = wpbp.sel(time_counter=time).drop((\"time_centered\",\"nav_lon\",\"nav_lat\"))\n"
     ]
    },
    {
     "name": "stdout",
     "output_type": "stream",
     "text": [
      "Stored\n",
      "280 0002-09-21\n"
     ]
    },
    {
     "name": "stderr",
     "output_type": "stream",
     "text": [
      "/dev/shm/pbs.2915978.datarmor0/ipykernel_14604/2749567160.py:5: DeprecationWarning: dropping variables using `drop` is deprecated; use drop_vars.\n",
      "  snap_wpbp = wpbp.sel(time_counter=time).drop((\"time_centered\",\"nav_lon\",\"nav_lat\"))\n"
     ]
    },
    {
     "name": "stdout",
     "output_type": "stream",
     "text": [
      "Stored\n",
      "281 0002-09-22\n"
     ]
    },
    {
     "name": "stderr",
     "output_type": "stream",
     "text": [
      "/dev/shm/pbs.2915978.datarmor0/ipykernel_14604/2749567160.py:5: DeprecationWarning: dropping variables using `drop` is deprecated; use drop_vars.\n",
      "  snap_wpbp = wpbp.sel(time_counter=time).drop((\"time_centered\",\"nav_lon\",\"nav_lat\"))\n"
     ]
    },
    {
     "name": "stdout",
     "output_type": "stream",
     "text": [
      "Stored\n",
      "282 0002-09-23\n"
     ]
    },
    {
     "name": "stderr",
     "output_type": "stream",
     "text": [
      "/dev/shm/pbs.2915978.datarmor0/ipykernel_14604/2749567160.py:5: DeprecationWarning: dropping variables using `drop` is deprecated; use drop_vars.\n",
      "  snap_wpbp = wpbp.sel(time_counter=time).drop((\"time_centered\",\"nav_lon\",\"nav_lat\"))\n"
     ]
    },
    {
     "name": "stdout",
     "output_type": "stream",
     "text": [
      "Stored\n",
      "283 0002-09-24\n"
     ]
    },
    {
     "name": "stderr",
     "output_type": "stream",
     "text": [
      "/dev/shm/pbs.2915978.datarmor0/ipykernel_14604/2749567160.py:5: DeprecationWarning: dropping variables using `drop` is deprecated; use drop_vars.\n",
      "  snap_wpbp = wpbp.sel(time_counter=time).drop((\"time_centered\",\"nav_lon\",\"nav_lat\"))\n"
     ]
    },
    {
     "name": "stdout",
     "output_type": "stream",
     "text": [
      "Stored\n",
      "284 0002-09-25\n"
     ]
    },
    {
     "name": "stderr",
     "output_type": "stream",
     "text": [
      "/dev/shm/pbs.2915978.datarmor0/ipykernel_14604/2749567160.py:5: DeprecationWarning: dropping variables using `drop` is deprecated; use drop_vars.\n",
      "  snap_wpbp = wpbp.sel(time_counter=time).drop((\"time_centered\",\"nav_lon\",\"nav_lat\"))\n"
     ]
    },
    {
     "name": "stdout",
     "output_type": "stream",
     "text": [
      "Stored\n",
      "285 0002-09-26\n"
     ]
    },
    {
     "name": "stderr",
     "output_type": "stream",
     "text": [
      "/dev/shm/pbs.2915978.datarmor0/ipykernel_14604/2749567160.py:5: DeprecationWarning: dropping variables using `drop` is deprecated; use drop_vars.\n",
      "  snap_wpbp = wpbp.sel(time_counter=time).drop((\"time_centered\",\"nav_lon\",\"nav_lat\"))\n"
     ]
    },
    {
     "name": "stdout",
     "output_type": "stream",
     "text": [
      "Stored\n",
      "286 0002-09-27\n"
     ]
    },
    {
     "name": "stderr",
     "output_type": "stream",
     "text": [
      "/dev/shm/pbs.2915978.datarmor0/ipykernel_14604/2749567160.py:5: DeprecationWarning: dropping variables using `drop` is deprecated; use drop_vars.\n",
      "  snap_wpbp = wpbp.sel(time_counter=time).drop((\"time_centered\",\"nav_lon\",\"nav_lat\"))\n"
     ]
    },
    {
     "name": "stdout",
     "output_type": "stream",
     "text": [
      "Stored\n",
      "287 0002-09-28\n"
     ]
    },
    {
     "name": "stderr",
     "output_type": "stream",
     "text": [
      "/dev/shm/pbs.2915978.datarmor0/ipykernel_14604/2749567160.py:5: DeprecationWarning: dropping variables using `drop` is deprecated; use drop_vars.\n",
      "  snap_wpbp = wpbp.sel(time_counter=time).drop((\"time_centered\",\"nav_lon\",\"nav_lat\"))\n"
     ]
    },
    {
     "name": "stdout",
     "output_type": "stream",
     "text": [
      "Stored\n",
      "288 0002-09-29\n"
     ]
    },
    {
     "name": "stderr",
     "output_type": "stream",
     "text": [
      "/dev/shm/pbs.2915978.datarmor0/ipykernel_14604/2749567160.py:5: DeprecationWarning: dropping variables using `drop` is deprecated; use drop_vars.\n",
      "  snap_wpbp = wpbp.sel(time_counter=time).drop((\"time_centered\",\"nav_lon\",\"nav_lat\"))\n"
     ]
    },
    {
     "name": "stdout",
     "output_type": "stream",
     "text": [
      "Stored\n",
      "289 0002-09-30\n"
     ]
    },
    {
     "name": "stderr",
     "output_type": "stream",
     "text": [
      "/dev/shm/pbs.2915978.datarmor0/ipykernel_14604/2749567160.py:5: DeprecationWarning: dropping variables using `drop` is deprecated; use drop_vars.\n",
      "  snap_wpbp = wpbp.sel(time_counter=time).drop((\"time_centered\",\"nav_lon\",\"nav_lat\"))\n"
     ]
    },
    {
     "name": "stdout",
     "output_type": "stream",
     "text": [
      "Stored\n",
      "290 0002-10-01\n"
     ]
    },
    {
     "name": "stderr",
     "output_type": "stream",
     "text": [
      "/dev/shm/pbs.2915978.datarmor0/ipykernel_14604/2749567160.py:5: DeprecationWarning: dropping variables using `drop` is deprecated; use drop_vars.\n",
      "  snap_wpbp = wpbp.sel(time_counter=time).drop((\"time_centered\",\"nav_lon\",\"nav_lat\"))\n"
     ]
    },
    {
     "name": "stdout",
     "output_type": "stream",
     "text": [
      "Stored\n",
      "291 0002-10-02\n"
     ]
    },
    {
     "name": "stderr",
     "output_type": "stream",
     "text": [
      "/dev/shm/pbs.2915978.datarmor0/ipykernel_14604/2749567160.py:5: DeprecationWarning: dropping variables using `drop` is deprecated; use drop_vars.\n",
      "  snap_wpbp = wpbp.sel(time_counter=time).drop((\"time_centered\",\"nav_lon\",\"nav_lat\"))\n"
     ]
    },
    {
     "name": "stdout",
     "output_type": "stream",
     "text": [
      "Stored\n",
      "292 0002-10-03\n"
     ]
    },
    {
     "name": "stderr",
     "output_type": "stream",
     "text": [
      "/dev/shm/pbs.2915978.datarmor0/ipykernel_14604/2749567160.py:5: DeprecationWarning: dropping variables using `drop` is deprecated; use drop_vars.\n",
      "  snap_wpbp = wpbp.sel(time_counter=time).drop((\"time_centered\",\"nav_lon\",\"nav_lat\"))\n"
     ]
    },
    {
     "name": "stdout",
     "output_type": "stream",
     "text": [
      "Stored\n",
      "293 0002-10-04\n"
     ]
    },
    {
     "name": "stderr",
     "output_type": "stream",
     "text": [
      "/dev/shm/pbs.2915978.datarmor0/ipykernel_14604/2749567160.py:5: DeprecationWarning: dropping variables using `drop` is deprecated; use drop_vars.\n",
      "  snap_wpbp = wpbp.sel(time_counter=time).drop((\"time_centered\",\"nav_lon\",\"nav_lat\"))\n"
     ]
    },
    {
     "name": "stdout",
     "output_type": "stream",
     "text": [
      "Stored\n",
      "294 0002-10-05\n"
     ]
    },
    {
     "name": "stderr",
     "output_type": "stream",
     "text": [
      "/dev/shm/pbs.2915978.datarmor0/ipykernel_14604/2749567160.py:5: DeprecationWarning: dropping variables using `drop` is deprecated; use drop_vars.\n",
      "  snap_wpbp = wpbp.sel(time_counter=time).drop((\"time_centered\",\"nav_lon\",\"nav_lat\"))\n"
     ]
    },
    {
     "name": "stdout",
     "output_type": "stream",
     "text": [
      "Stored\n",
      "295 0002-10-06\n"
     ]
    },
    {
     "name": "stderr",
     "output_type": "stream",
     "text": [
      "/dev/shm/pbs.2915978.datarmor0/ipykernel_14604/2749567160.py:5: DeprecationWarning: dropping variables using `drop` is deprecated; use drop_vars.\n",
      "  snap_wpbp = wpbp.sel(time_counter=time).drop((\"time_centered\",\"nav_lon\",\"nav_lat\"))\n"
     ]
    },
    {
     "name": "stdout",
     "output_type": "stream",
     "text": [
      "Stored\n",
      "296 0002-10-07\n"
     ]
    },
    {
     "name": "stderr",
     "output_type": "stream",
     "text": [
      "/dev/shm/pbs.2915978.datarmor0/ipykernel_14604/2749567160.py:5: DeprecationWarning: dropping variables using `drop` is deprecated; use drop_vars.\n",
      "  snap_wpbp = wpbp.sel(time_counter=time).drop((\"time_centered\",\"nav_lon\",\"nav_lat\"))\n"
     ]
    },
    {
     "name": "stdout",
     "output_type": "stream",
     "text": [
      "Stored\n",
      "297 0002-10-08\n"
     ]
    },
    {
     "name": "stderr",
     "output_type": "stream",
     "text": [
      "/dev/shm/pbs.2915978.datarmor0/ipykernel_14604/2749567160.py:5: DeprecationWarning: dropping variables using `drop` is deprecated; use drop_vars.\n",
      "  snap_wpbp = wpbp.sel(time_counter=time).drop((\"time_centered\",\"nav_lon\",\"nav_lat\"))\n"
     ]
    },
    {
     "name": "stdout",
     "output_type": "stream",
     "text": [
      "Stored\n",
      "298 0002-10-09\n"
     ]
    },
    {
     "name": "stderr",
     "output_type": "stream",
     "text": [
      "/dev/shm/pbs.2915978.datarmor0/ipykernel_14604/2749567160.py:5: DeprecationWarning: dropping variables using `drop` is deprecated; use drop_vars.\n",
      "  snap_wpbp = wpbp.sel(time_counter=time).drop((\"time_centered\",\"nav_lon\",\"nav_lat\"))\n"
     ]
    },
    {
     "name": "stdout",
     "output_type": "stream",
     "text": [
      "Stored\n",
      "299 0002-10-10\n"
     ]
    },
    {
     "name": "stderr",
     "output_type": "stream",
     "text": [
      "/dev/shm/pbs.2915978.datarmor0/ipykernel_14604/2749567160.py:5: DeprecationWarning: dropping variables using `drop` is deprecated; use drop_vars.\n",
      "  snap_wpbp = wpbp.sel(time_counter=time).drop((\"time_centered\",\"nav_lon\",\"nav_lat\"))\n"
     ]
    },
    {
     "name": "stdout",
     "output_type": "stream",
     "text": [
      "Stored\n",
      "300 0002-10-11\n"
     ]
    },
    {
     "name": "stderr",
     "output_type": "stream",
     "text": [
      "/dev/shm/pbs.2915978.datarmor0/ipykernel_14604/2749567160.py:5: DeprecationWarning: dropping variables using `drop` is deprecated; use drop_vars.\n",
      "  snap_wpbp = wpbp.sel(time_counter=time).drop((\"time_centered\",\"nav_lon\",\"nav_lat\"))\n"
     ]
    },
    {
     "name": "stdout",
     "output_type": "stream",
     "text": [
      "Stored\n",
      "301 0002-10-12\n"
     ]
    },
    {
     "name": "stderr",
     "output_type": "stream",
     "text": [
      "/dev/shm/pbs.2915978.datarmor0/ipykernel_14604/2749567160.py:5: DeprecationWarning: dropping variables using `drop` is deprecated; use drop_vars.\n",
      "  snap_wpbp = wpbp.sel(time_counter=time).drop((\"time_centered\",\"nav_lon\",\"nav_lat\"))\n"
     ]
    },
    {
     "name": "stdout",
     "output_type": "stream",
     "text": [
      "Stored\n",
      "302 0002-10-13\n"
     ]
    },
    {
     "name": "stderr",
     "output_type": "stream",
     "text": [
      "/dev/shm/pbs.2915978.datarmor0/ipykernel_14604/2749567160.py:5: DeprecationWarning: dropping variables using `drop` is deprecated; use drop_vars.\n",
      "  snap_wpbp = wpbp.sel(time_counter=time).drop((\"time_centered\",\"nav_lon\",\"nav_lat\"))\n"
     ]
    },
    {
     "name": "stdout",
     "output_type": "stream",
     "text": [
      "Stored\n",
      "303 0002-10-14\n"
     ]
    },
    {
     "name": "stderr",
     "output_type": "stream",
     "text": [
      "/dev/shm/pbs.2915978.datarmor0/ipykernel_14604/2749567160.py:5: DeprecationWarning: dropping variables using `drop` is deprecated; use drop_vars.\n",
      "  snap_wpbp = wpbp.sel(time_counter=time).drop((\"time_centered\",\"nav_lon\",\"nav_lat\"))\n"
     ]
    },
    {
     "name": "stdout",
     "output_type": "stream",
     "text": [
      "Stored\n",
      "304 0002-10-15\n"
     ]
    },
    {
     "name": "stderr",
     "output_type": "stream",
     "text": [
      "/dev/shm/pbs.2915978.datarmor0/ipykernel_14604/2749567160.py:5: DeprecationWarning: dropping variables using `drop` is deprecated; use drop_vars.\n",
      "  snap_wpbp = wpbp.sel(time_counter=time).drop((\"time_centered\",\"nav_lon\",\"nav_lat\"))\n"
     ]
    },
    {
     "name": "stdout",
     "output_type": "stream",
     "text": [
      "Stored\n",
      "305 0002-10-16\n"
     ]
    },
    {
     "name": "stderr",
     "output_type": "stream",
     "text": [
      "/dev/shm/pbs.2915978.datarmor0/ipykernel_14604/2749567160.py:5: DeprecationWarning: dropping variables using `drop` is deprecated; use drop_vars.\n",
      "  snap_wpbp = wpbp.sel(time_counter=time).drop((\"time_centered\",\"nav_lon\",\"nav_lat\"))\n"
     ]
    },
    {
     "name": "stdout",
     "output_type": "stream",
     "text": [
      "Stored\n",
      "306 0002-10-17\n"
     ]
    },
    {
     "name": "stderr",
     "output_type": "stream",
     "text": [
      "/dev/shm/pbs.2915978.datarmor0/ipykernel_14604/2749567160.py:5: DeprecationWarning: dropping variables using `drop` is deprecated; use drop_vars.\n",
      "  snap_wpbp = wpbp.sel(time_counter=time).drop((\"time_centered\",\"nav_lon\",\"nav_lat\"))\n"
     ]
    },
    {
     "name": "stdout",
     "output_type": "stream",
     "text": [
      "Stored\n",
      "307 0002-10-18\n"
     ]
    },
    {
     "name": "stderr",
     "output_type": "stream",
     "text": [
      "/dev/shm/pbs.2915978.datarmor0/ipykernel_14604/2749567160.py:5: DeprecationWarning: dropping variables using `drop` is deprecated; use drop_vars.\n",
      "  snap_wpbp = wpbp.sel(time_counter=time).drop((\"time_centered\",\"nav_lon\",\"nav_lat\"))\n"
     ]
    },
    {
     "name": "stdout",
     "output_type": "stream",
     "text": [
      "Stored\n",
      "308 0002-10-19\n"
     ]
    },
    {
     "name": "stderr",
     "output_type": "stream",
     "text": [
      "/dev/shm/pbs.2915978.datarmor0/ipykernel_14604/2749567160.py:5: DeprecationWarning: dropping variables using `drop` is deprecated; use drop_vars.\n",
      "  snap_wpbp = wpbp.sel(time_counter=time).drop((\"time_centered\",\"nav_lon\",\"nav_lat\"))\n"
     ]
    },
    {
     "name": "stdout",
     "output_type": "stream",
     "text": [
      "Stored\n",
      "309 0002-10-20\n"
     ]
    },
    {
     "name": "stderr",
     "output_type": "stream",
     "text": [
      "/dev/shm/pbs.2915978.datarmor0/ipykernel_14604/2749567160.py:5: DeprecationWarning: dropping variables using `drop` is deprecated; use drop_vars.\n",
      "  snap_wpbp = wpbp.sel(time_counter=time).drop((\"time_centered\",\"nav_lon\",\"nav_lat\"))\n"
     ]
    },
    {
     "name": "stdout",
     "output_type": "stream",
     "text": [
      "Stored\n",
      "310 0002-10-21\n"
     ]
    },
    {
     "name": "stderr",
     "output_type": "stream",
     "text": [
      "/dev/shm/pbs.2915978.datarmor0/ipykernel_14604/2749567160.py:5: DeprecationWarning: dropping variables using `drop` is deprecated; use drop_vars.\n",
      "  snap_wpbp = wpbp.sel(time_counter=time).drop((\"time_centered\",\"nav_lon\",\"nav_lat\"))\n"
     ]
    },
    {
     "name": "stdout",
     "output_type": "stream",
     "text": [
      "Stored\n",
      "311 0002-10-22\n"
     ]
    },
    {
     "name": "stderr",
     "output_type": "stream",
     "text": [
      "/dev/shm/pbs.2915978.datarmor0/ipykernel_14604/2749567160.py:5: DeprecationWarning: dropping variables using `drop` is deprecated; use drop_vars.\n",
      "  snap_wpbp = wpbp.sel(time_counter=time).drop((\"time_centered\",\"nav_lon\",\"nav_lat\"))\n"
     ]
    },
    {
     "name": "stdout",
     "output_type": "stream",
     "text": [
      "Stored\n",
      "312 0002-10-23\n"
     ]
    },
    {
     "name": "stderr",
     "output_type": "stream",
     "text": [
      "/dev/shm/pbs.2915978.datarmor0/ipykernel_14604/2749567160.py:5: DeprecationWarning: dropping variables using `drop` is deprecated; use drop_vars.\n",
      "  snap_wpbp = wpbp.sel(time_counter=time).drop((\"time_centered\",\"nav_lon\",\"nav_lat\"))\n"
     ]
    },
    {
     "name": "stdout",
     "output_type": "stream",
     "text": [
      "Stored\n",
      "313 0002-10-24\n"
     ]
    },
    {
     "name": "stderr",
     "output_type": "stream",
     "text": [
      "/dev/shm/pbs.2915978.datarmor0/ipykernel_14604/2749567160.py:5: DeprecationWarning: dropping variables using `drop` is deprecated; use drop_vars.\n",
      "  snap_wpbp = wpbp.sel(time_counter=time).drop((\"time_centered\",\"nav_lon\",\"nav_lat\"))\n"
     ]
    },
    {
     "name": "stdout",
     "output_type": "stream",
     "text": [
      "Stored\n",
      "314 0002-10-25\n"
     ]
    },
    {
     "name": "stderr",
     "output_type": "stream",
     "text": [
      "/dev/shm/pbs.2915978.datarmor0/ipykernel_14604/2749567160.py:5: DeprecationWarning: dropping variables using `drop` is deprecated; use drop_vars.\n",
      "  snap_wpbp = wpbp.sel(time_counter=time).drop((\"time_centered\",\"nav_lon\",\"nav_lat\"))\n"
     ]
    },
    {
     "name": "stdout",
     "output_type": "stream",
     "text": [
      "Stored\n",
      "315 0002-10-26\n"
     ]
    },
    {
     "name": "stderr",
     "output_type": "stream",
     "text": [
      "/dev/shm/pbs.2915978.datarmor0/ipykernel_14604/2749567160.py:5: DeprecationWarning: dropping variables using `drop` is deprecated; use drop_vars.\n",
      "  snap_wpbp = wpbp.sel(time_counter=time).drop((\"time_centered\",\"nav_lon\",\"nav_lat\"))\n"
     ]
    },
    {
     "name": "stdout",
     "output_type": "stream",
     "text": [
      "Stored\n",
      "316 0002-10-27\n"
     ]
    },
    {
     "name": "stderr",
     "output_type": "stream",
     "text": [
      "/dev/shm/pbs.2915978.datarmor0/ipykernel_14604/2749567160.py:5: DeprecationWarning: dropping variables using `drop` is deprecated; use drop_vars.\n",
      "  snap_wpbp = wpbp.sel(time_counter=time).drop((\"time_centered\",\"nav_lon\",\"nav_lat\"))\n"
     ]
    },
    {
     "name": "stdout",
     "output_type": "stream",
     "text": [
      "Stored\n",
      "317 0002-10-28\n"
     ]
    },
    {
     "name": "stderr",
     "output_type": "stream",
     "text": [
      "/dev/shm/pbs.2915978.datarmor0/ipykernel_14604/2749567160.py:5: DeprecationWarning: dropping variables using `drop` is deprecated; use drop_vars.\n",
      "  snap_wpbp = wpbp.sel(time_counter=time).drop((\"time_centered\",\"nav_lon\",\"nav_lat\"))\n"
     ]
    },
    {
     "name": "stdout",
     "output_type": "stream",
     "text": [
      "Stored\n",
      "318 0002-10-29\n"
     ]
    },
    {
     "name": "stderr",
     "output_type": "stream",
     "text": [
      "/dev/shm/pbs.2915978.datarmor0/ipykernel_14604/2749567160.py:5: DeprecationWarning: dropping variables using `drop` is deprecated; use drop_vars.\n",
      "  snap_wpbp = wpbp.sel(time_counter=time).drop((\"time_centered\",\"nav_lon\",\"nav_lat\"))\n"
     ]
    },
    {
     "name": "stdout",
     "output_type": "stream",
     "text": [
      "Stored\n",
      "319 0002-10-30\n"
     ]
    },
    {
     "name": "stderr",
     "output_type": "stream",
     "text": [
      "/dev/shm/pbs.2915978.datarmor0/ipykernel_14604/2749567160.py:5: DeprecationWarning: dropping variables using `drop` is deprecated; use drop_vars.\n",
      "  snap_wpbp = wpbp.sel(time_counter=time).drop((\"time_centered\",\"nav_lon\",\"nav_lat\"))\n"
     ]
    },
    {
     "name": "stdout",
     "output_type": "stream",
     "text": [
      "Stored\n",
      "320 0002-10-31\n"
     ]
    },
    {
     "name": "stderr",
     "output_type": "stream",
     "text": [
      "/dev/shm/pbs.2915978.datarmor0/ipykernel_14604/2749567160.py:5: DeprecationWarning: dropping variables using `drop` is deprecated; use drop_vars.\n",
      "  snap_wpbp = wpbp.sel(time_counter=time).drop((\"time_centered\",\"nav_lon\",\"nav_lat\"))\n"
     ]
    },
    {
     "name": "stdout",
     "output_type": "stream",
     "text": [
      "Stored\n",
      "321 0002-11-01\n"
     ]
    },
    {
     "name": "stderr",
     "output_type": "stream",
     "text": [
      "/dev/shm/pbs.2915978.datarmor0/ipykernel_14604/2749567160.py:5: DeprecationWarning: dropping variables using `drop` is deprecated; use drop_vars.\n",
      "  snap_wpbp = wpbp.sel(time_counter=time).drop((\"time_centered\",\"nav_lon\",\"nav_lat\"))\n"
     ]
    },
    {
     "name": "stdout",
     "output_type": "stream",
     "text": [
      "Stored\n",
      "322 0002-11-02\n"
     ]
    },
    {
     "name": "stderr",
     "output_type": "stream",
     "text": [
      "/dev/shm/pbs.2915978.datarmor0/ipykernel_14604/2749567160.py:5: DeprecationWarning: dropping variables using `drop` is deprecated; use drop_vars.\n",
      "  snap_wpbp = wpbp.sel(time_counter=time).drop((\"time_centered\",\"nav_lon\",\"nav_lat\"))\n"
     ]
    },
    {
     "name": "stdout",
     "output_type": "stream",
     "text": [
      "Stored\n",
      "323 0002-11-03\n"
     ]
    },
    {
     "name": "stderr",
     "output_type": "stream",
     "text": [
      "/dev/shm/pbs.2915978.datarmor0/ipykernel_14604/2749567160.py:5: DeprecationWarning: dropping variables using `drop` is deprecated; use drop_vars.\n",
      "  snap_wpbp = wpbp.sel(time_counter=time).drop((\"time_centered\",\"nav_lon\",\"nav_lat\"))\n"
     ]
    },
    {
     "name": "stdout",
     "output_type": "stream",
     "text": [
      "Stored\n",
      "324 0002-11-04\n"
     ]
    },
    {
     "name": "stderr",
     "output_type": "stream",
     "text": [
      "/dev/shm/pbs.2915978.datarmor0/ipykernel_14604/2749567160.py:5: DeprecationWarning: dropping variables using `drop` is deprecated; use drop_vars.\n",
      "  snap_wpbp = wpbp.sel(time_counter=time).drop((\"time_centered\",\"nav_lon\",\"nav_lat\"))\n"
     ]
    },
    {
     "name": "stdout",
     "output_type": "stream",
     "text": [
      "Stored\n",
      "325 0002-11-05\n"
     ]
    },
    {
     "name": "stderr",
     "output_type": "stream",
     "text": [
      "/dev/shm/pbs.2915978.datarmor0/ipykernel_14604/2749567160.py:5: DeprecationWarning: dropping variables using `drop` is deprecated; use drop_vars.\n",
      "  snap_wpbp = wpbp.sel(time_counter=time).drop((\"time_centered\",\"nav_lon\",\"nav_lat\"))\n"
     ]
    },
    {
     "name": "stdout",
     "output_type": "stream",
     "text": [
      "Stored\n",
      "326 0002-11-06\n"
     ]
    },
    {
     "name": "stderr",
     "output_type": "stream",
     "text": [
      "/dev/shm/pbs.2915978.datarmor0/ipykernel_14604/2749567160.py:5: DeprecationWarning: dropping variables using `drop` is deprecated; use drop_vars.\n",
      "  snap_wpbp = wpbp.sel(time_counter=time).drop((\"time_centered\",\"nav_lon\",\"nav_lat\"))\n"
     ]
    },
    {
     "name": "stdout",
     "output_type": "stream",
     "text": [
      "Stored\n",
      "327 0002-11-07\n"
     ]
    },
    {
     "name": "stderr",
     "output_type": "stream",
     "text": [
      "/dev/shm/pbs.2915978.datarmor0/ipykernel_14604/2749567160.py:5: DeprecationWarning: dropping variables using `drop` is deprecated; use drop_vars.\n",
      "  snap_wpbp = wpbp.sel(time_counter=time).drop((\"time_centered\",\"nav_lon\",\"nav_lat\"))\n"
     ]
    },
    {
     "name": "stdout",
     "output_type": "stream",
     "text": [
      "Stored\n",
      "328 0002-11-08\n"
     ]
    },
    {
     "name": "stderr",
     "output_type": "stream",
     "text": [
      "/dev/shm/pbs.2915978.datarmor0/ipykernel_14604/2749567160.py:5: DeprecationWarning: dropping variables using `drop` is deprecated; use drop_vars.\n",
      "  snap_wpbp = wpbp.sel(time_counter=time).drop((\"time_centered\",\"nav_lon\",\"nav_lat\"))\n"
     ]
    },
    {
     "name": "stdout",
     "output_type": "stream",
     "text": [
      "Stored\n",
      "329 0002-11-09\n"
     ]
    },
    {
     "name": "stderr",
     "output_type": "stream",
     "text": [
      "/dev/shm/pbs.2915978.datarmor0/ipykernel_14604/2749567160.py:5: DeprecationWarning: dropping variables using `drop` is deprecated; use drop_vars.\n",
      "  snap_wpbp = wpbp.sel(time_counter=time).drop((\"time_centered\",\"nav_lon\",\"nav_lat\"))\n"
     ]
    },
    {
     "name": "stdout",
     "output_type": "stream",
     "text": [
      "Stored\n",
      "330 0002-11-10\n"
     ]
    },
    {
     "name": "stderr",
     "output_type": "stream",
     "text": [
      "/dev/shm/pbs.2915978.datarmor0/ipykernel_14604/2749567160.py:5: DeprecationWarning: dropping variables using `drop` is deprecated; use drop_vars.\n",
      "  snap_wpbp = wpbp.sel(time_counter=time).drop((\"time_centered\",\"nav_lon\",\"nav_lat\"))\n"
     ]
    },
    {
     "name": "stdout",
     "output_type": "stream",
     "text": [
      "Stored\n",
      "331 0002-11-11\n"
     ]
    },
    {
     "name": "stderr",
     "output_type": "stream",
     "text": [
      "/dev/shm/pbs.2915978.datarmor0/ipykernel_14604/2749567160.py:5: DeprecationWarning: dropping variables using `drop` is deprecated; use drop_vars.\n",
      "  snap_wpbp = wpbp.sel(time_counter=time).drop((\"time_centered\",\"nav_lon\",\"nav_lat\"))\n"
     ]
    },
    {
     "name": "stdout",
     "output_type": "stream",
     "text": [
      "Stored\n",
      "332 0002-11-12\n"
     ]
    },
    {
     "name": "stderr",
     "output_type": "stream",
     "text": [
      "/dev/shm/pbs.2915978.datarmor0/ipykernel_14604/2749567160.py:5: DeprecationWarning: dropping variables using `drop` is deprecated; use drop_vars.\n",
      "  snap_wpbp = wpbp.sel(time_counter=time).drop((\"time_centered\",\"nav_lon\",\"nav_lat\"))\n"
     ]
    },
    {
     "name": "stdout",
     "output_type": "stream",
     "text": [
      "Stored\n",
      "333 0002-11-13\n"
     ]
    },
    {
     "name": "stderr",
     "output_type": "stream",
     "text": [
      "/dev/shm/pbs.2915978.datarmor0/ipykernel_14604/2749567160.py:5: DeprecationWarning: dropping variables using `drop` is deprecated; use drop_vars.\n",
      "  snap_wpbp = wpbp.sel(time_counter=time).drop((\"time_centered\",\"nav_lon\",\"nav_lat\"))\n"
     ]
    },
    {
     "name": "stdout",
     "output_type": "stream",
     "text": [
      "Stored\n",
      "334 0002-11-14\n"
     ]
    },
    {
     "name": "stderr",
     "output_type": "stream",
     "text": [
      "/dev/shm/pbs.2915978.datarmor0/ipykernel_14604/2749567160.py:5: DeprecationWarning: dropping variables using `drop` is deprecated; use drop_vars.\n",
      "  snap_wpbp = wpbp.sel(time_counter=time).drop((\"time_centered\",\"nav_lon\",\"nav_lat\"))\n"
     ]
    },
    {
     "name": "stdout",
     "output_type": "stream",
     "text": [
      "Stored\n",
      "335 0002-11-15\n"
     ]
    },
    {
     "name": "stderr",
     "output_type": "stream",
     "text": [
      "/dev/shm/pbs.2915978.datarmor0/ipykernel_14604/2749567160.py:5: DeprecationWarning: dropping variables using `drop` is deprecated; use drop_vars.\n",
      "  snap_wpbp = wpbp.sel(time_counter=time).drop((\"time_centered\",\"nav_lon\",\"nav_lat\"))\n"
     ]
    },
    {
     "name": "stdout",
     "output_type": "stream",
     "text": [
      "Stored\n",
      "336 0002-11-16\n"
     ]
    },
    {
     "name": "stderr",
     "output_type": "stream",
     "text": [
      "/dev/shm/pbs.2915978.datarmor0/ipykernel_14604/2749567160.py:5: DeprecationWarning: dropping variables using `drop` is deprecated; use drop_vars.\n",
      "  snap_wpbp = wpbp.sel(time_counter=time).drop((\"time_centered\",\"nav_lon\",\"nav_lat\"))\n"
     ]
    },
    {
     "name": "stdout",
     "output_type": "stream",
     "text": [
      "Stored\n",
      "337 0002-11-17\n"
     ]
    },
    {
     "name": "stderr",
     "output_type": "stream",
     "text": [
      "/dev/shm/pbs.2915978.datarmor0/ipykernel_14604/2749567160.py:5: DeprecationWarning: dropping variables using `drop` is deprecated; use drop_vars.\n",
      "  snap_wpbp = wpbp.sel(time_counter=time).drop((\"time_centered\",\"nav_lon\",\"nav_lat\"))\n"
     ]
    },
    {
     "name": "stdout",
     "output_type": "stream",
     "text": [
      "Stored\n",
      "338 0002-11-18\n"
     ]
    },
    {
     "name": "stderr",
     "output_type": "stream",
     "text": [
      "/dev/shm/pbs.2915978.datarmor0/ipykernel_14604/2749567160.py:5: DeprecationWarning: dropping variables using `drop` is deprecated; use drop_vars.\n",
      "  snap_wpbp = wpbp.sel(time_counter=time).drop((\"time_centered\",\"nav_lon\",\"nav_lat\"))\n"
     ]
    },
    {
     "name": "stdout",
     "output_type": "stream",
     "text": [
      "Stored\n",
      "339 0002-11-19\n"
     ]
    },
    {
     "name": "stderr",
     "output_type": "stream",
     "text": [
      "/dev/shm/pbs.2915978.datarmor0/ipykernel_14604/2749567160.py:5: DeprecationWarning: dropping variables using `drop` is deprecated; use drop_vars.\n",
      "  snap_wpbp = wpbp.sel(time_counter=time).drop((\"time_centered\",\"nav_lon\",\"nav_lat\"))\n"
     ]
    },
    {
     "name": "stdout",
     "output_type": "stream",
     "text": [
      "Stored\n",
      "340 0002-11-20\n"
     ]
    },
    {
     "name": "stderr",
     "output_type": "stream",
     "text": [
      "/dev/shm/pbs.2915978.datarmor0/ipykernel_14604/2749567160.py:5: DeprecationWarning: dropping variables using `drop` is deprecated; use drop_vars.\n",
      "  snap_wpbp = wpbp.sel(time_counter=time).drop((\"time_centered\",\"nav_lon\",\"nav_lat\"))\n"
     ]
    },
    {
     "name": "stdout",
     "output_type": "stream",
     "text": [
      "Stored\n",
      "341 0002-11-21\n"
     ]
    },
    {
     "name": "stderr",
     "output_type": "stream",
     "text": [
      "/dev/shm/pbs.2915978.datarmor0/ipykernel_14604/2749567160.py:5: DeprecationWarning: dropping variables using `drop` is deprecated; use drop_vars.\n",
      "  snap_wpbp = wpbp.sel(time_counter=time).drop((\"time_centered\",\"nav_lon\",\"nav_lat\"))\n"
     ]
    },
    {
     "name": "stdout",
     "output_type": "stream",
     "text": [
      "Stored\n",
      "342 0002-11-22\n"
     ]
    },
    {
     "name": "stderr",
     "output_type": "stream",
     "text": [
      "/dev/shm/pbs.2915978.datarmor0/ipykernel_14604/2749567160.py:5: DeprecationWarning: dropping variables using `drop` is deprecated; use drop_vars.\n",
      "  snap_wpbp = wpbp.sel(time_counter=time).drop((\"time_centered\",\"nav_lon\",\"nav_lat\"))\n"
     ]
    },
    {
     "name": "stdout",
     "output_type": "stream",
     "text": [
      "Stored\n",
      "343 0002-11-23\n"
     ]
    },
    {
     "name": "stderr",
     "output_type": "stream",
     "text": [
      "/dev/shm/pbs.2915978.datarmor0/ipykernel_14604/2749567160.py:5: DeprecationWarning: dropping variables using `drop` is deprecated; use drop_vars.\n",
      "  snap_wpbp = wpbp.sel(time_counter=time).drop((\"time_centered\",\"nav_lon\",\"nav_lat\"))\n"
     ]
    },
    {
     "name": "stdout",
     "output_type": "stream",
     "text": [
      "Stored\n",
      "344 0002-11-24\n"
     ]
    },
    {
     "name": "stderr",
     "output_type": "stream",
     "text": [
      "/dev/shm/pbs.2915978.datarmor0/ipykernel_14604/2749567160.py:5: DeprecationWarning: dropping variables using `drop` is deprecated; use drop_vars.\n",
      "  snap_wpbp = wpbp.sel(time_counter=time).drop((\"time_centered\",\"nav_lon\",\"nav_lat\"))\n"
     ]
    },
    {
     "name": "stdout",
     "output_type": "stream",
     "text": [
      "Stored\n",
      "345 0002-11-25\n"
     ]
    },
    {
     "name": "stderr",
     "output_type": "stream",
     "text": [
      "/dev/shm/pbs.2915978.datarmor0/ipykernel_14604/2749567160.py:5: DeprecationWarning: dropping variables using `drop` is deprecated; use drop_vars.\n",
      "  snap_wpbp = wpbp.sel(time_counter=time).drop((\"time_centered\",\"nav_lon\",\"nav_lat\"))\n"
     ]
    },
    {
     "name": "stdout",
     "output_type": "stream",
     "text": [
      "Stored\n",
      "346 0002-11-26\n"
     ]
    },
    {
     "name": "stderr",
     "output_type": "stream",
     "text": [
      "/dev/shm/pbs.2915978.datarmor0/ipykernel_14604/2749567160.py:5: DeprecationWarning: dropping variables using `drop` is deprecated; use drop_vars.\n",
      "  snap_wpbp = wpbp.sel(time_counter=time).drop((\"time_centered\",\"nav_lon\",\"nav_lat\"))\n"
     ]
    },
    {
     "name": "stdout",
     "output_type": "stream",
     "text": [
      "Stored\n",
      "347 0002-11-27\n"
     ]
    },
    {
     "name": "stderr",
     "output_type": "stream",
     "text": [
      "/dev/shm/pbs.2915978.datarmor0/ipykernel_14604/2749567160.py:5: DeprecationWarning: dropping variables using `drop` is deprecated; use drop_vars.\n",
      "  snap_wpbp = wpbp.sel(time_counter=time).drop((\"time_centered\",\"nav_lon\",\"nav_lat\"))\n"
     ]
    },
    {
     "name": "stdout",
     "output_type": "stream",
     "text": [
      "Stored\n",
      "348 0002-11-28\n"
     ]
    },
    {
     "name": "stderr",
     "output_type": "stream",
     "text": [
      "/dev/shm/pbs.2915978.datarmor0/ipykernel_14604/2749567160.py:5: DeprecationWarning: dropping variables using `drop` is deprecated; use drop_vars.\n",
      "  snap_wpbp = wpbp.sel(time_counter=time).drop((\"time_centered\",\"nav_lon\",\"nav_lat\"))\n"
     ]
    },
    {
     "name": "stdout",
     "output_type": "stream",
     "text": [
      "Stored\n",
      "349 0002-11-29\n"
     ]
    },
    {
     "name": "stderr",
     "output_type": "stream",
     "text": [
      "/dev/shm/pbs.2915978.datarmor0/ipykernel_14604/2749567160.py:5: DeprecationWarning: dropping variables using `drop` is deprecated; use drop_vars.\n",
      "  snap_wpbp = wpbp.sel(time_counter=time).drop((\"time_centered\",\"nav_lon\",\"nav_lat\"))\n"
     ]
    },
    {
     "name": "stdout",
     "output_type": "stream",
     "text": [
      "Stored\n",
      "350 0002-11-30\n"
     ]
    },
    {
     "name": "stderr",
     "output_type": "stream",
     "text": [
      "/dev/shm/pbs.2915978.datarmor0/ipykernel_14604/2749567160.py:5: DeprecationWarning: dropping variables using `drop` is deprecated; use drop_vars.\n",
      "  snap_wpbp = wpbp.sel(time_counter=time).drop((\"time_centered\",\"nav_lon\",\"nav_lat\"))\n"
     ]
    },
    {
     "name": "stdout",
     "output_type": "stream",
     "text": [
      "Stored\n",
      "351 0002-12-01\n"
     ]
    },
    {
     "name": "stderr",
     "output_type": "stream",
     "text": [
      "/dev/shm/pbs.2915978.datarmor0/ipykernel_14604/2749567160.py:5: DeprecationWarning: dropping variables using `drop` is deprecated; use drop_vars.\n",
      "  snap_wpbp = wpbp.sel(time_counter=time).drop((\"time_centered\",\"nav_lon\",\"nav_lat\"))\n"
     ]
    },
    {
     "name": "stdout",
     "output_type": "stream",
     "text": [
      "Stored\n",
      "352 0002-12-02\n"
     ]
    },
    {
     "name": "stderr",
     "output_type": "stream",
     "text": [
      "/dev/shm/pbs.2915978.datarmor0/ipykernel_14604/2749567160.py:5: DeprecationWarning: dropping variables using `drop` is deprecated; use drop_vars.\n",
      "  snap_wpbp = wpbp.sel(time_counter=time).drop((\"time_centered\",\"nav_lon\",\"nav_lat\"))\n"
     ]
    },
    {
     "name": "stdout",
     "output_type": "stream",
     "text": [
      "Stored\n",
      "353 0002-12-03\n"
     ]
    },
    {
     "name": "stderr",
     "output_type": "stream",
     "text": [
      "/dev/shm/pbs.2915978.datarmor0/ipykernel_14604/2749567160.py:5: DeprecationWarning: dropping variables using `drop` is deprecated; use drop_vars.\n",
      "  snap_wpbp = wpbp.sel(time_counter=time).drop((\"time_centered\",\"nav_lon\",\"nav_lat\"))\n"
     ]
    },
    {
     "name": "stdout",
     "output_type": "stream",
     "text": [
      "Stored\n",
      "354 0002-12-04\n"
     ]
    },
    {
     "name": "stderr",
     "output_type": "stream",
     "text": [
      "/dev/shm/pbs.2915978.datarmor0/ipykernel_14604/2749567160.py:5: DeprecationWarning: dropping variables using `drop` is deprecated; use drop_vars.\n",
      "  snap_wpbp = wpbp.sel(time_counter=time).drop((\"time_centered\",\"nav_lon\",\"nav_lat\"))\n"
     ]
    },
    {
     "name": "stdout",
     "output_type": "stream",
     "text": [
      "Stored\n",
      "355 0002-12-05\n"
     ]
    },
    {
     "name": "stderr",
     "output_type": "stream",
     "text": [
      "/dev/shm/pbs.2915978.datarmor0/ipykernel_14604/2749567160.py:5: DeprecationWarning: dropping variables using `drop` is deprecated; use drop_vars.\n",
      "  snap_wpbp = wpbp.sel(time_counter=time).drop((\"time_centered\",\"nav_lon\",\"nav_lat\"))\n"
     ]
    },
    {
     "name": "stdout",
     "output_type": "stream",
     "text": [
      "Stored\n",
      "356 0002-12-06\n"
     ]
    },
    {
     "name": "stderr",
     "output_type": "stream",
     "text": [
      "/dev/shm/pbs.2915978.datarmor0/ipykernel_14604/2749567160.py:5: DeprecationWarning: dropping variables using `drop` is deprecated; use drop_vars.\n",
      "  snap_wpbp = wpbp.sel(time_counter=time).drop((\"time_centered\",\"nav_lon\",\"nav_lat\"))\n"
     ]
    },
    {
     "name": "stdout",
     "output_type": "stream",
     "text": [
      "Stored\n",
      "357 0002-12-07\n"
     ]
    },
    {
     "name": "stderr",
     "output_type": "stream",
     "text": [
      "/dev/shm/pbs.2915978.datarmor0/ipykernel_14604/2749567160.py:5: DeprecationWarning: dropping variables using `drop` is deprecated; use drop_vars.\n",
      "  snap_wpbp = wpbp.sel(time_counter=time).drop((\"time_centered\",\"nav_lon\",\"nav_lat\"))\n"
     ]
    },
    {
     "name": "stdout",
     "output_type": "stream",
     "text": [
      "Stored\n",
      "358 0002-12-08\n"
     ]
    },
    {
     "name": "stderr",
     "output_type": "stream",
     "text": [
      "/dev/shm/pbs.2915978.datarmor0/ipykernel_14604/2749567160.py:5: DeprecationWarning: dropping variables using `drop` is deprecated; use drop_vars.\n",
      "  snap_wpbp = wpbp.sel(time_counter=time).drop((\"time_centered\",\"nav_lon\",\"nav_lat\"))\n"
     ]
    },
    {
     "name": "stdout",
     "output_type": "stream",
     "text": [
      "Stored\n",
      "359 0002-12-09\n"
     ]
    },
    {
     "name": "stderr",
     "output_type": "stream",
     "text": [
      "/dev/shm/pbs.2915978.datarmor0/ipykernel_14604/2749567160.py:5: DeprecationWarning: dropping variables using `drop` is deprecated; use drop_vars.\n",
      "  snap_wpbp = wpbp.sel(time_counter=time).drop((\"time_centered\",\"nav_lon\",\"nav_lat\"))\n"
     ]
    },
    {
     "name": "stdout",
     "output_type": "stream",
     "text": [
      "Stored\n",
      "360 0002-12-10\n"
     ]
    },
    {
     "name": "stderr",
     "output_type": "stream",
     "text": [
      "/dev/shm/pbs.2915978.datarmor0/ipykernel_14604/2749567160.py:5: DeprecationWarning: dropping variables using `drop` is deprecated; use drop_vars.\n",
      "  snap_wpbp = wpbp.sel(time_counter=time).drop((\"time_centered\",\"nav_lon\",\"nav_lat\"))\n"
     ]
    },
    {
     "name": "stdout",
     "output_type": "stream",
     "text": [
      "Stored\n",
      "361 0002-12-11\n"
     ]
    },
    {
     "name": "stderr",
     "output_type": "stream",
     "text": [
      "/dev/shm/pbs.2915978.datarmor0/ipykernel_14604/2749567160.py:5: DeprecationWarning: dropping variables using `drop` is deprecated; use drop_vars.\n",
      "  snap_wpbp = wpbp.sel(time_counter=time).drop((\"time_centered\",\"nav_lon\",\"nav_lat\"))\n"
     ]
    },
    {
     "name": "stdout",
     "output_type": "stream",
     "text": [
      "Stored\n",
      "362 0002-12-12\n"
     ]
    },
    {
     "name": "stderr",
     "output_type": "stream",
     "text": [
      "/dev/shm/pbs.2915978.datarmor0/ipykernel_14604/2749567160.py:5: DeprecationWarning: dropping variables using `drop` is deprecated; use drop_vars.\n",
      "  snap_wpbp = wpbp.sel(time_counter=time).drop((\"time_centered\",\"nav_lon\",\"nav_lat\"))\n"
     ]
    },
    {
     "name": "stdout",
     "output_type": "stream",
     "text": [
      "Stored\n",
      "363 0002-12-13\n"
     ]
    },
    {
     "name": "stderr",
     "output_type": "stream",
     "text": [
      "/dev/shm/pbs.2915978.datarmor0/ipykernel_14604/2749567160.py:5: DeprecationWarning: dropping variables using `drop` is deprecated; use drop_vars.\n",
      "  snap_wpbp = wpbp.sel(time_counter=time).drop((\"time_centered\",\"nav_lon\",\"nav_lat\"))\n"
     ]
    },
    {
     "name": "stdout",
     "output_type": "stream",
     "text": [
      "Stored\n",
      "364 0002-12-14\n"
     ]
    },
    {
     "name": "stderr",
     "output_type": "stream",
     "text": [
      "/dev/shm/pbs.2915978.datarmor0/ipykernel_14604/2749567160.py:5: DeprecationWarning: dropping variables using `drop` is deprecated; use drop_vars.\n",
      "  snap_wpbp = wpbp.sel(time_counter=time).drop((\"time_centered\",\"nav_lon\",\"nav_lat\"))\n"
     ]
    },
    {
     "name": "stdout",
     "output_type": "stream",
     "text": [
      "Stored\n",
      "365 0002-12-15\n"
     ]
    },
    {
     "name": "stderr",
     "output_type": "stream",
     "text": [
      "/dev/shm/pbs.2915978.datarmor0/ipykernel_14604/2749567160.py:5: DeprecationWarning: dropping variables using `drop` is deprecated; use drop_vars.\n",
      "  snap_wpbp = wpbp.sel(time_counter=time).drop((\"time_centered\",\"nav_lon\",\"nav_lat\"))\n"
     ]
    },
    {
     "name": "stdout",
     "output_type": "stream",
     "text": [
      "Stored\n",
      "366 0002-12-16\n"
     ]
    },
    {
     "name": "stderr",
     "output_type": "stream",
     "text": [
      "/dev/shm/pbs.2915978.datarmor0/ipykernel_14604/2749567160.py:5: DeprecationWarning: dropping variables using `drop` is deprecated; use drop_vars.\n",
      "  snap_wpbp = wpbp.sel(time_counter=time).drop((\"time_centered\",\"nav_lon\",\"nav_lat\"))\n"
     ]
    },
    {
     "name": "stdout",
     "output_type": "stream",
     "text": [
      "Stored\n",
      "367 0002-12-17\n"
     ]
    },
    {
     "name": "stderr",
     "output_type": "stream",
     "text": [
      "/dev/shm/pbs.2915978.datarmor0/ipykernel_14604/2749567160.py:5: DeprecationWarning: dropping variables using `drop` is deprecated; use drop_vars.\n",
      "  snap_wpbp = wpbp.sel(time_counter=time).drop((\"time_centered\",\"nav_lon\",\"nav_lat\"))\n"
     ]
    },
    {
     "name": "stdout",
     "output_type": "stream",
     "text": [
      "Stored\n",
      "368 0002-12-18\n"
     ]
    },
    {
     "name": "stderr",
     "output_type": "stream",
     "text": [
      "/dev/shm/pbs.2915978.datarmor0/ipykernel_14604/2749567160.py:5: DeprecationWarning: dropping variables using `drop` is deprecated; use drop_vars.\n",
      "  snap_wpbp = wpbp.sel(time_counter=time).drop((\"time_centered\",\"nav_lon\",\"nav_lat\"))\n"
     ]
    },
    {
     "name": "stdout",
     "output_type": "stream",
     "text": [
      "Stored\n",
      "369 0002-12-19\n"
     ]
    },
    {
     "name": "stderr",
     "output_type": "stream",
     "text": [
      "/dev/shm/pbs.2915978.datarmor0/ipykernel_14604/2749567160.py:5: DeprecationWarning: dropping variables using `drop` is deprecated; use drop_vars.\n",
      "  snap_wpbp = wpbp.sel(time_counter=time).drop((\"time_centered\",\"nav_lon\",\"nav_lat\"))\n"
     ]
    }
   ],
   "source": [
    "counter=0\n",
    "for time in wpbp.time_counter:\n",
    "    str_time = str(time.values)[0:10]\n",
    "    print(counter, str_time)\n",
    "    snap_wpbp = wpbp.sel(time_counter=time).drop((\"time_centered\",\"nav_lon\",\"nav_lat\"))\n",
    "    snap_wpbp.to_netcdf(wpbp_folder+\"wpbp_corrected_{0}.nc\".format(str_time.replace(\"-\",\"_\")))\n",
    "    print(\"Stored\")\n",
    "    counter+=1"
   ]
  },
  {
   "cell_type": "code",
   "execution_count": null,
   "id": "d34de536",
   "metadata": {},
   "outputs": [],
   "source": []
  }
 ],
 "metadata": {
  "kernelspec": {
   "display_name": "jupyter-lab",
   "language": "python",
   "name": "jupyter-lab"
  },
  "language_info": {
   "codemirror_mode": {
    "name": "ipython",
    "version": 3
   },
   "file_extension": ".py",
   "mimetype": "text/x-python",
   "name": "python",
   "nbconvert_exporter": "python",
   "pygments_lexer": "ipython3",
   "version": "3.10.12"
  }
 },
 "nbformat": 4,
 "nbformat_minor": 5
}
